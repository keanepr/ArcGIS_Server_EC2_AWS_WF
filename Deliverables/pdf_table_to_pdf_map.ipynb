{
 "cells": [
  {
   "cell_type": "markdown",
   "metadata": {},
   "source": [
    "# PDF Table to Pandas Data Frame to PDF Map"
   ]
  },
  {
   "cell_type": "markdown",
   "metadata": {
    "toc": true
   },
   "source": [
    "<h1>Table of Contents<span class=\"tocSkip\"></span></h1>\n",
    "<div class=\"toc\"><ul class=\"toc-item\"><li><span><a href=\"#Step-1.-Install-tabula-py\" data-toc-modified-id=\"Step-1.-Install-tabula-py-1\">Step 1. Install tabula-py</a></span></li><li><span><a href=\"#Step-2.-Read-table-from-PDF\" data-toc-modified-id=\"Step-2.-Read-table-from-PDF-2\">Step 2. Read table from PDF</a></span></li><li><span><a href=\"#Step-3.-Process-the-table-contents\" data-toc-modified-id=\"Step-3.-Process-the-table-contents-3\">Step 3. Process the table contents</a></span></li><li><span><a href=\"#Step-4.-Merge-two-tables\" data-toc-modified-id=\"Step-4.-Merge-two-tables-4\">Step 4. Merge two tables</a></span></li><li><span><a href=\"#Step-5.-Draw-the-top-20-impacted-counties\" data-toc-modified-id=\"Step-5.-Draw-the-top-20-impacted-counties-5\">Step 5. Draw the top 20 impacted counties</a></span></li><li><span><a href=\"#Step-6.-Export-to-PDF\" data-toc-modified-id=\"Step-6.-Export-to-PDF-6\">Step 6. Export to PDF</a></span></li><li><span><a href=\"#References\" data-toc-modified-id=\"References-7\">References</a></span></li></ul></div>"
   ]
  },
  {
   "cell_type": "markdown",
   "metadata": {},
   "source": [
    "Often PDF files can contain useful information presented in a tabular form. If such data contains location information, it would be much more insightful if presented as a cartographic map. Thus this sample shows how Pandas can be used to extract data from a table within a PDF file (in this case, a PDF accessible from `California Department of Forestry & Fire Protection (CAL FIRE)` website) and how it can be then brought into the GIS for further analysis and visualization."
   ]
  },
  {
   "cell_type": "markdown",
   "metadata": {},
   "source": [
    "## Step 1. Install tabula-py\n",
    "\n",
    "**Note**: to run this sample, you need a few extra libraries in your conda environment. If you don't have the libraries, install them by running the following commands from cmd.exe or your shell\n",
    "\n",
    "```\n",
    "pip install lxml\n",
    "pip install html5lib\n",
    "pip install tabula-py==1.4.3\n",
    "```\n",
    "\n",
    "<a href=\"https://pypi.org/project/tabula-py/\">`tabula-py`</a> can read table of PDF and convert into panda's `DataFrame`. In order to have tabula-py work on your environment, please make sure you have Java 7 or 8 on your machine before installing <a href=\"https://github.com/chezou/tabula-py\">tabula-py</a>. "
   ]
  },
  {
   "cell_type": "code",
   "execution_count": 1,
   "metadata": {},
   "outputs": [],
   "source": [
    "import pandas as pd\n",
    "import numpy as np\n",
    "import requests"
   ]
  },
  {
   "cell_type": "markdown",
   "metadata": {},
   "source": [
    "## Step 2. Read table from PDF\n",
    "\n",
    "**California Department of Forestry & Fire Protection (CAL FIRE)** provides statistics and reports that are tracked on a weekly basis and also snapshots of the number of fires and acres burned. These are preliminary numbers taken from the Computer Aided Dispatch system, and will likely change as dispatched wildfires may end up being other types of fires or false alarms <a href=\"#References\"> [1]</a>.\n",
    "\n",
    "The table of **Number of Fires and Acres** can be fetched from the web page and parsed as a Pandas data frame (as following):"
   ]
  },
  {
   "cell_type": "code",
   "execution_count": 2,
   "metadata": {},
   "outputs": [
    {
     "data": {
      "text/html": [
       "<div>\n",
       "<style scoped>\n",
       "    .dataframe tbody tr th:only-of-type {\n",
       "        vertical-align: middle;\n",
       "    }\n",
       "\n",
       "    .dataframe tbody tr th {\n",
       "        vertical-align: top;\n",
       "    }\n",
       "\n",
       "    .dataframe thead th {\n",
       "        text-align: right;\n",
       "    }\n",
       "</style>\n",
       "<table border=\"1\" class=\"dataframe\">\n",
       "  <thead>\n",
       "    <tr style=\"text-align: right;\">\n",
       "      <th></th>\n",
       "      <th>INTERVAL</th>\n",
       "      <th>WILDLAND FIRES</th>\n",
       "      <th>ACRES</th>\n",
       "    </tr>\n",
       "  </thead>\n",
       "  <tbody>\n",
       "    <tr>\n",
       "      <th>0</th>\n",
       "      <td>2023 Combined YTD (CALFIRE &amp; US Forest Service)</td>\n",
       "      <td>340</td>\n",
       "      <td>110</td>\n",
       "    </tr>\n",
       "    <tr>\n",
       "      <th>1</th>\n",
       "      <td>2022 Combined YTD (CALFIRE &amp; US Forest Service)</td>\n",
       "      <td>1210</td>\n",
       "      <td>6195</td>\n",
       "    </tr>\n",
       "    <tr>\n",
       "      <th>2</th>\n",
       "      <td>5-Year Average (same interval)</td>\n",
       "      <td>842</td>\n",
       "      <td>2563</td>\n",
       "    </tr>\n",
       "  </tbody>\n",
       "</table>\n",
       "</div>"
      ],
      "text/plain": [
       "                                          INTERVAL  WILDLAND FIRES  ACRES\n",
       "0  2023 Combined YTD (CALFIRE & US Forest Service)             340    110\n",
       "1  2022 Combined YTD (CALFIRE & US Forest Service)            1210   6195\n",
       "2                   5-Year Average (same interval)             842   2563"
      ]
     },
     "execution_count": 2,
     "metadata": {},
     "output_type": "execute_result"
    }
   ],
   "source": [
    "url = requests.get(\"https://www.fire.ca.gov/our-impact/statistics/\")\n",
    "df = pd.read_html(url.text)[1]\n",
    "df.head()"
   ]
  },
  {
   "cell_type": "markdown",
   "metadata": {},
   "source": [
    "Also **CAL FIRE** provides statistically summarizing reports for historic wildfires in California, e.g. **Top 20 largest**, **Top 20 most destructive**, and **top 20 deadliest**, URLs of which are kept in a list below:"
   ]
  },
  {
   "cell_type": "code",
   "execution_count": 3,
   "metadata": {},
   "outputs": [],
   "source": [
    "pdf_url_list = [\"https://34c031f8-c9fd-4018-8c5a-4159cdff6b0d-cdn-endpoint.azureedge.net/-/media/calfire-website/our-impact/fire-statistics/featured-items/top20_acres.pdf\",\n",
    "                \"https://34c031f8-c9fd-4018-8c5a-4159cdff6b0d-cdn-endpoint.azureedge.net/-/media/calfire-website/our-impact/fire-statistics/featured-items/top20_destruction.pdf\",\n",
    "                \"https://34c031f8-c9fd-4018-8c5a-4159cdff6b0d-cdn-endpoint.azureedge.net/-/media/calfire-website/our-impact/fire-statistics/featured-items/top20_deadliest.pdf\"]"
   ]
  },
  {
   "cell_type": "markdown",
   "metadata": {},
   "source": [
    "Provided the url of the online PDF file, `tabula-py` can read the table from the pdf at the url."
   ]
  },
  {
   "cell_type": "markdown",
   "metadata": {},
   "source": [
    "If you run into an error with tabula and wrapper please refer to this [helpful guide](https://tabula-py.readthedocs.io/en/latest/getting_started.html#get-tabula-py-working-windows-10)"
   ]
  },
  {
   "cell_type": "code",
   "execution_count": 6,
   "metadata": {
    "scrolled": true
   },
   "outputs": [],
   "source": [
    "from tabula import wrapper\n",
    "df = wrapper.read_pdf(pdf_url_list[0])"
   ]
  },
  {
   "cell_type": "markdown",
   "metadata": {},
   "source": [
    "Alternatively, we can also download the online PDF file, and parse locally, such as:\n",
    "```\n",
    "import tabula\n",
    "from urllib.request import Request, urlopen\n",
    "\n",
    "f = open('./top20_acres.pdf', 'wb')\n",
    "url_request = Request(pdf_url_list[0], \n",
    "                      headers={\"User-Agent\": \"Mozilla/5.0\"})\n",
    "webpage = urlopen(url_request).read()\n",
    "f.write(webpage)\n",
    "f.close()\n",
    "\n",
    "#################################################\n",
    "\n",
    "df = tabula.read_pdf('top20_acres.pdf', stream=False, pages = \"all\", multiple_tables = True)\n",
    "```"
   ]
  },
  {
   "cell_type": "code",
   "execution_count": 7,
   "metadata": {
    "scrolled": true
   },
   "outputs": [
    {
     "data": {
      "text/html": [
       "<div>\n",
       "<style scoped>\n",
       "    .dataframe tbody tr th:only-of-type {\n",
       "        vertical-align: middle;\n",
       "    }\n",
       "\n",
       "    .dataframe tbody tr th {\n",
       "        vertical-align: top;\n",
       "    }\n",
       "\n",
       "    .dataframe thead th {\n",
       "        text-align: right;\n",
       "    }\n",
       "</style>\n",
       "<table border=\"1\" class=\"dataframe\">\n",
       "  <thead>\n",
       "    <tr style=\"text-align: right;\">\n",
       "      <th></th>\n",
       "      <th>FIRE NAME (CAUSE)</th>\n",
       "      <th>DATE</th>\n",
       "      <th>COUNTY</th>\n",
       "      <th>ACRES</th>\n",
       "      <th>STRUCTURES</th>\n",
       "      <th>DEATHS</th>\n",
       "    </tr>\n",
       "  </thead>\n",
       "  <tbody>\n",
       "    <tr>\n",
       "      <th>0</th>\n",
       "      <td>1\\rAUGUST COMPLEX (Lightning)</td>\n",
       "      <td>August 2020</td>\n",
       "      <td>Mendocino, Humboldt, Trinity,\\rTehama, Glenn, ...</td>\n",
       "      <td>1,032,648</td>\n",
       "      <td>935</td>\n",
       "      <td>1.0</td>\n",
       "    </tr>\n",
       "    <tr>\n",
       "      <th>1</th>\n",
       "      <td>2   DIXIE (Powerlines)</td>\n",
       "      <td>July 2021</td>\n",
       "      <td>Butte, Plumas, Lassen,  Shasta &amp; Tehama</td>\n",
       "      <td>963,309</td>\n",
       "      <td>1,311</td>\n",
       "      <td>1.0</td>\n",
       "    </tr>\n",
       "    <tr>\n",
       "      <th>2</th>\n",
       "      <td>3MENDOCINO COMPLEX\\r(Human Related)</td>\n",
       "      <td>July 2018</td>\n",
       "      <td>Colusa, Lake, Mendocino &amp; Glenn</td>\n",
       "      <td>459,123</td>\n",
       "      <td>280</td>\n",
       "      <td>1.0</td>\n",
       "    </tr>\n",
       "    <tr>\n",
       "      <th>3</th>\n",
       "      <td>4SCU LIGHTNING COMPLEX\\r(Lightning)</td>\n",
       "      <td>August 2020</td>\n",
       "      <td>Stanislaus, Santa Clara, Alameda, Contra\\rCost...</td>\n",
       "      <td>396,625</td>\n",
       "      <td>225</td>\n",
       "      <td>0.0</td>\n",
       "    </tr>\n",
       "    <tr>\n",
       "      <th>4</th>\n",
       "      <td>5\\rCREEK (Undetermined)</td>\n",
       "      <td>September 2020</td>\n",
       "      <td>Fresno &amp; Madera</td>\n",
       "      <td>379,895</td>\n",
       "      <td>858</td>\n",
       "      <td>0.0</td>\n",
       "    </tr>\n",
       "  </tbody>\n",
       "</table>\n",
       "</div>"
      ],
      "text/plain": [
       "                     FIRE NAME (CAUSE)            DATE  \\\n",
       "0        1\\rAUGUST COMPLEX (Lightning)     August 2020   \n",
       "1               2   DIXIE (Powerlines)       July 2021   \n",
       "2  3MENDOCINO COMPLEX\\r(Human Related)       July 2018   \n",
       "3  4SCU LIGHTNING COMPLEX\\r(Lightning)     August 2020   \n",
       "4              5\\rCREEK (Undetermined)  September 2020   \n",
       "\n",
       "                                              COUNTY      ACRES STRUCTURES  \\\n",
       "0  Mendocino, Humboldt, Trinity,\\rTehama, Glenn, ...  1,032,648        935   \n",
       "1            Butte, Plumas, Lassen,  Shasta & Tehama    963,309      1,311   \n",
       "2                    Colusa, Lake, Mendocino & Glenn    459,123        280   \n",
       "3  Stanislaus, Santa Clara, Alameda, Contra\\rCost...    396,625        225   \n",
       "4                                    Fresno & Madera    379,895        858   \n",
       "\n",
       "   DEATHS  \n",
       "0     1.0  \n",
       "1     1.0  \n",
       "2     1.0  \n",
       "3     0.0  \n",
       "4     0.0  "
      ]
     },
     "execution_count": 7,
     "metadata": {},
     "output_type": "execute_result"
    }
   ],
   "source": [
    "# in order to print first 5 lines of Table\n",
    "df.head()"
   ]
  },
  {
   "cell_type": "markdown",
   "metadata": {},
   "source": [
    "## Step 3. Process the table contents\n",
    "\n",
    "Looking at each columns presented in the Pandas data frame, some are having composite information and would require further processing. For example, `FIRE NAME (CAUSE)` column contains a sequential ordering number, fire name, and cause in one string, and would need to be split into separate columns.\n",
    "\n",
    "Next, break the `FIRE NAME (CAUSE)` column into `ID`, `Fire Name` and `Cause` columns:"
   ]
  },
  {
   "cell_type": "code",
   "execution_count": 8,
   "metadata": {},
   "outputs": [],
   "source": [
    "# new data frame with split value columns \n",
    "new = df[\"FIRE NAME (CAUSE)\"].str.split(\"(\", n = 1, expand = True) \n",
    "  \n",
    "df[\"ID\"] = new[0].str[0]\n",
    "\n",
    "# making separate first name column from new data frame \n",
    "df[\"FIRE NAME\"]= new[0].str.replace('\\r', '').str[1:]\n",
    "\n",
    "# making separate last name column from new data frame \n",
    "df[\"CAUSE\"]= new[1].str[:-1]\n",
    "\n",
    "df = df.drop([\"FIRE NAME (CAUSE)\"], axis=1)\n",
    "\n",
    "df.drop(df.tail(1).index,inplace=True)"
   ]
  },
  {
   "cell_type": "code",
   "execution_count": 9,
   "metadata": {},
   "outputs": [
    {
     "data": {
      "text/html": [
       "<div>\n",
       "<style scoped>\n",
       "    .dataframe tbody tr th:only-of-type {\n",
       "        vertical-align: middle;\n",
       "    }\n",
       "\n",
       "    .dataframe tbody tr th {\n",
       "        vertical-align: top;\n",
       "    }\n",
       "\n",
       "    .dataframe thead th {\n",
       "        text-align: right;\n",
       "    }\n",
       "</style>\n",
       "<table border=\"1\" class=\"dataframe\">\n",
       "  <thead>\n",
       "    <tr style=\"text-align: right;\">\n",
       "      <th></th>\n",
       "      <th>DATE</th>\n",
       "      <th>COUNTY</th>\n",
       "      <th>ACRES</th>\n",
       "      <th>STRUCTURES</th>\n",
       "      <th>DEATHS</th>\n",
       "      <th>ID</th>\n",
       "      <th>FIRE NAME</th>\n",
       "      <th>CAUSE</th>\n",
       "    </tr>\n",
       "  </thead>\n",
       "  <tbody>\n",
       "    <tr>\n",
       "      <th>0</th>\n",
       "      <td>August 2020</td>\n",
       "      <td>Mendocino, Humboldt, Trinity,\\rTehama, Glenn, ...</td>\n",
       "      <td>1,032,648</td>\n",
       "      <td>935</td>\n",
       "      <td>1.0</td>\n",
       "      <td>1</td>\n",
       "      <td>AUGUST COMPLEX</td>\n",
       "      <td>Lightning</td>\n",
       "    </tr>\n",
       "    <tr>\n",
       "      <th>1</th>\n",
       "      <td>July 2021</td>\n",
       "      <td>Butte, Plumas, Lassen,  Shasta &amp; Tehama</td>\n",
       "      <td>963,309</td>\n",
       "      <td>1,311</td>\n",
       "      <td>1.0</td>\n",
       "      <td>2</td>\n",
       "      <td>DIXIE</td>\n",
       "      <td>Powerlines</td>\n",
       "    </tr>\n",
       "    <tr>\n",
       "      <th>2</th>\n",
       "      <td>July 2018</td>\n",
       "      <td>Colusa, Lake, Mendocino &amp; Glenn</td>\n",
       "      <td>459,123</td>\n",
       "      <td>280</td>\n",
       "      <td>1.0</td>\n",
       "      <td>3</td>\n",
       "      <td>MENDOCINO COMPLEX</td>\n",
       "      <td>Human Related</td>\n",
       "    </tr>\n",
       "    <tr>\n",
       "      <th>3</th>\n",
       "      <td>August 2020</td>\n",
       "      <td>Stanislaus, Santa Clara, Alameda, Contra\\rCost...</td>\n",
       "      <td>396,625</td>\n",
       "      <td>225</td>\n",
       "      <td>0.0</td>\n",
       "      <td>4</td>\n",
       "      <td>SCU LIGHTNING COMPLEX</td>\n",
       "      <td>Lightning</td>\n",
       "    </tr>\n",
       "    <tr>\n",
       "      <th>4</th>\n",
       "      <td>September 2020</td>\n",
       "      <td>Fresno &amp; Madera</td>\n",
       "      <td>379,895</td>\n",
       "      <td>858</td>\n",
       "      <td>0.0</td>\n",
       "      <td>5</td>\n",
       "      <td>CREEK</td>\n",
       "      <td>Undetermined</td>\n",
       "    </tr>\n",
       "  </tbody>\n",
       "</table>\n",
       "</div>"
      ],
      "text/plain": [
       "             DATE                                             COUNTY  \\\n",
       "0     August 2020  Mendocino, Humboldt, Trinity,\\rTehama, Glenn, ...   \n",
       "1       July 2021            Butte, Plumas, Lassen,  Shasta & Tehama   \n",
       "2       July 2018                    Colusa, Lake, Mendocino & Glenn   \n",
       "3     August 2020  Stanislaus, Santa Clara, Alameda, Contra\\rCost...   \n",
       "4  September 2020                                    Fresno & Madera   \n",
       "\n",
       "       ACRES STRUCTURES  DEATHS ID              FIRE NAME          CAUSE  \n",
       "0  1,032,648        935     1.0  1        AUGUST COMPLEX       Lightning  \n",
       "1    963,309      1,311     1.0  2                 DIXIE      Powerlines  \n",
       "2    459,123        280     1.0  3      MENDOCINO COMPLEX  Human Related  \n",
       "3    396,625        225     0.0  4  SCU LIGHTNING COMPLEX      Lightning  \n",
       "4    379,895        858     0.0  5                 CREEK    Undetermined  "
      ]
     },
     "execution_count": 9,
     "metadata": {},
     "output_type": "execute_result"
    }
   ],
   "source": [
    "df.head()"
   ]
  },
  {
   "cell_type": "markdown",
   "metadata": {},
   "source": [
    "Similar to `FIRE NAME (CAUSE)` column, the `ACRES` column also has composite information for some rows. For instance, when the fire happens in two states, e.g. CA and NV, you would see in the `ACRES` column - `271,911 CA /\\r43,666 NV  `, the actual impacted area is the sum of 271911 and 43666 acres, and some numeric extraction and summing need to be done here:"
   ]
  },
  {
   "cell_type": "code",
   "execution_count": 10,
   "metadata": {},
   "outputs": [],
   "source": [
    "import re\n",
    "\n",
    "\"\"\"Used to extract numbers from composite string e.g. \"271,911 CA /\\r43,666 NV\" \n",
    "   and add the acres within two or more states\n",
    "\"\"\"\n",
    "def extract_and_sum(s):\n",
    "    tmp = map(int, re.sub(r'[ a-zA-Z,]+[ a-zA-Z,]+', '', s, re.I).replace(',','').split('/\\r'))\n",
    "    return sum(list(tmp))\n",
    "\n",
    "\"\"\"Used to turn numerics e.g. 273,911 to int without delimitors e.g. 273911\n",
    "\"\"\"\n",
    "def replace_and_reassign(s):\n",
    "    return int(s.replace(',',''))\n",
    "\n",
    "temp= df['ACRES'].apply(lambda x: extract_and_sum(x) if '\\r' in x else replace_and_reassign(x))"
   ]
  },
  {
   "cell_type": "code",
   "execution_count": 11,
   "metadata": {},
   "outputs": [
    {
     "data": {
      "text/html": [
       "<div>\n",
       "<style scoped>\n",
       "    .dataframe tbody tr th:only-of-type {\n",
       "        vertical-align: middle;\n",
       "    }\n",
       "\n",
       "    .dataframe tbody tr th {\n",
       "        vertical-align: top;\n",
       "    }\n",
       "\n",
       "    .dataframe thead th {\n",
       "        text-align: right;\n",
       "    }\n",
       "</style>\n",
       "<table border=\"1\" class=\"dataframe\">\n",
       "  <thead>\n",
       "    <tr style=\"text-align: right;\">\n",
       "      <th></th>\n",
       "      <th>DATE</th>\n",
       "      <th>COUNTY</th>\n",
       "      <th>ACRES</th>\n",
       "      <th>STRUCTURES</th>\n",
       "      <th>DEATHS</th>\n",
       "      <th>ID</th>\n",
       "      <th>FIRE NAME</th>\n",
       "      <th>CAUSE</th>\n",
       "    </tr>\n",
       "  </thead>\n",
       "  <tbody>\n",
       "    <tr>\n",
       "      <th>0</th>\n",
       "      <td>August 2020</td>\n",
       "      <td>Mendocino, Humboldt, Trinity,\\rTehama, Glenn, ...</td>\n",
       "      <td>1032648</td>\n",
       "      <td>935</td>\n",
       "      <td>1.0</td>\n",
       "      <td>1</td>\n",
       "      <td>AUGUST COMPLEX</td>\n",
       "      <td>Lightning</td>\n",
       "    </tr>\n",
       "    <tr>\n",
       "      <th>1</th>\n",
       "      <td>July 2021</td>\n",
       "      <td>Butte, Plumas, Lassen,  Shasta &amp; Tehama</td>\n",
       "      <td>963309</td>\n",
       "      <td>1,311</td>\n",
       "      <td>1.0</td>\n",
       "      <td>2</td>\n",
       "      <td>DIXIE</td>\n",
       "      <td>Powerlines</td>\n",
       "    </tr>\n",
       "    <tr>\n",
       "      <th>2</th>\n",
       "      <td>July 2018</td>\n",
       "      <td>Colusa, Lake, Mendocino &amp; Glenn</td>\n",
       "      <td>459123</td>\n",
       "      <td>280</td>\n",
       "      <td>1.0</td>\n",
       "      <td>3</td>\n",
       "      <td>MENDOCINO COMPLEX</td>\n",
       "      <td>Human Related</td>\n",
       "    </tr>\n",
       "    <tr>\n",
       "      <th>3</th>\n",
       "      <td>August 2020</td>\n",
       "      <td>Stanislaus, Santa Clara, Alameda, Contra\\rCost...</td>\n",
       "      <td>396625</td>\n",
       "      <td>225</td>\n",
       "      <td>0.0</td>\n",
       "      <td>4</td>\n",
       "      <td>SCU LIGHTNING COMPLEX</td>\n",
       "      <td>Lightning</td>\n",
       "    </tr>\n",
       "    <tr>\n",
       "      <th>4</th>\n",
       "      <td>September 2020</td>\n",
       "      <td>Fresno &amp; Madera</td>\n",
       "      <td>379895</td>\n",
       "      <td>858</td>\n",
       "      <td>0.0</td>\n",
       "      <td>5</td>\n",
       "      <td>CREEK</td>\n",
       "      <td>Undetermined</td>\n",
       "    </tr>\n",
       "  </tbody>\n",
       "</table>\n",
       "</div>"
      ],
      "text/plain": [
       "             DATE                                             COUNTY    ACRES  \\\n",
       "0     August 2020  Mendocino, Humboldt, Trinity,\\rTehama, Glenn, ...  1032648   \n",
       "1       July 2021            Butte, Plumas, Lassen,  Shasta & Tehama   963309   \n",
       "2       July 2018                    Colusa, Lake, Mendocino & Glenn   459123   \n",
       "3     August 2020  Stanislaus, Santa Clara, Alameda, Contra\\rCost...   396625   \n",
       "4  September 2020                                    Fresno & Madera   379895   \n",
       "\n",
       "  STRUCTURES  DEATHS ID              FIRE NAME          CAUSE  \n",
       "0        935     1.0  1        AUGUST COMPLEX       Lightning  \n",
       "1      1,311     1.0  2                 DIXIE      Powerlines  \n",
       "2        280     1.0  3      MENDOCINO COMPLEX  Human Related  \n",
       "3        225     0.0  4  SCU LIGHTNING COMPLEX      Lightning  \n",
       "4        858     0.0  5                 CREEK    Undetermined  "
      ]
     },
     "execution_count": 11,
     "metadata": {},
     "output_type": "execute_result"
    }
   ],
   "source": [
    "df['ACRES'] = temp\n",
    "df.head()"
   ]
  },
  {
   "cell_type": "markdown",
   "metadata": {},
   "source": [
    "Now we have cleaned up the `FIRE NAME (CAUSE)` and the `ACRES` columns, the last column that needs splitting is `COUNTY` which contains multiple impacted counties in California when the fire happens to multiple counties. Here, we will need to split a row of N counties to N rows with 1 county each.\n",
    "\n",
    "Since the delimiter can be `,` or `&`, we would need to do `explode_str` twice (then remove `\\r` and `County` from the column):"
   ]
  },
  {
   "cell_type": "code",
   "execution_count": 12,
   "metadata": {
    "scrolled": true
   },
   "outputs": [],
   "source": [
    "\"\"\"Using `numpy.arrange` in creating new rows as place holder to hold the splitted strings from df[col] based on `sep`;\n",
    "   then `iloc` and `assign` to place the splitted results into newly added rows\n",
    "\"\"\"\n",
    "def explode_str(df, col, sep):\n",
    "    s = df[col]\n",
    "    i = np.arange(len(s)).repeat(s.str.count(sep) + 1)\n",
    "    return df.iloc[i].assign(**{col: sep.join(s).split(sep)})\n",
    "\n",
    "new_df = explode_str(df, 'COUNTY', ',')"
   ]
  },
  {
   "cell_type": "code",
   "execution_count": 13,
   "metadata": {},
   "outputs": [],
   "source": [
    "new_df = explode_str(new_df, 'COUNTY', '&')"
   ]
  },
  {
   "cell_type": "code",
   "execution_count": 14,
   "metadata": {},
   "outputs": [],
   "source": [
    "new_df['COUNTY'] = new_df['COUNTY'].str.replace('\\r','')"
   ]
  },
  {
   "cell_type": "code",
   "execution_count": 15,
   "metadata": {},
   "outputs": [],
   "source": [
    "new_df['NAME'] = new_df['COUNTY'].str.replace(' County','')"
   ]
  },
  {
   "cell_type": "markdown",
   "metadata": {},
   "source": [
    "To reduce ambiguity, we are adding an additional column `STATE` to the DataFrame, so two counties with the same name (but in different states) will be cause confusions."
   ]
  },
  {
   "cell_type": "code",
   "execution_count": 16,
   "metadata": {},
   "outputs": [],
   "source": [
    "new_df['STATE'] = 'CA'"
   ]
  },
  {
   "cell_type": "code",
   "execution_count": 17,
   "metadata": {},
   "outputs": [
    {
     "data": {
      "text/html": [
       "<div>\n",
       "<style scoped>\n",
       "    .dataframe tbody tr th:only-of-type {\n",
       "        vertical-align: middle;\n",
       "    }\n",
       "\n",
       "    .dataframe tbody tr th {\n",
       "        vertical-align: top;\n",
       "    }\n",
       "\n",
       "    .dataframe thead th {\n",
       "        text-align: right;\n",
       "    }\n",
       "</style>\n",
       "<table border=\"1\" class=\"dataframe\">\n",
       "  <thead>\n",
       "    <tr style=\"text-align: right;\">\n",
       "      <th></th>\n",
       "      <th>DATE</th>\n",
       "      <th>COUNTY</th>\n",
       "      <th>ACRES</th>\n",
       "      <th>STRUCTURES</th>\n",
       "      <th>DEATHS</th>\n",
       "      <th>ID</th>\n",
       "      <th>FIRE NAME</th>\n",
       "      <th>CAUSE</th>\n",
       "      <th>NAME</th>\n",
       "      <th>STATE</th>\n",
       "    </tr>\n",
       "  </thead>\n",
       "  <tbody>\n",
       "    <tr>\n",
       "      <th>0</th>\n",
       "      <td>August 2020</td>\n",
       "      <td>Mendocino</td>\n",
       "      <td>1032648</td>\n",
       "      <td>935</td>\n",
       "      <td>1.0</td>\n",
       "      <td>1</td>\n",
       "      <td>AUGUST COMPLEX</td>\n",
       "      <td>Lightning</td>\n",
       "      <td>Mendocino</td>\n",
       "      <td>CA</td>\n",
       "    </tr>\n",
       "    <tr>\n",
       "      <th>0</th>\n",
       "      <td>August 2020</td>\n",
       "      <td>Humboldt</td>\n",
       "      <td>1032648</td>\n",
       "      <td>935</td>\n",
       "      <td>1.0</td>\n",
       "      <td>1</td>\n",
       "      <td>AUGUST COMPLEX</td>\n",
       "      <td>Lightning</td>\n",
       "      <td>Humboldt</td>\n",
       "      <td>CA</td>\n",
       "    </tr>\n",
       "    <tr>\n",
       "      <th>0</th>\n",
       "      <td>August 2020</td>\n",
       "      <td>Trinity</td>\n",
       "      <td>1032648</td>\n",
       "      <td>935</td>\n",
       "      <td>1.0</td>\n",
       "      <td>1</td>\n",
       "      <td>AUGUST COMPLEX</td>\n",
       "      <td>Lightning</td>\n",
       "      <td>Trinity</td>\n",
       "      <td>CA</td>\n",
       "    </tr>\n",
       "    <tr>\n",
       "      <th>0</th>\n",
       "      <td>August 2020</td>\n",
       "      <td>Tehama</td>\n",
       "      <td>1032648</td>\n",
       "      <td>935</td>\n",
       "      <td>1.0</td>\n",
       "      <td>1</td>\n",
       "      <td>AUGUST COMPLEX</td>\n",
       "      <td>Lightning</td>\n",
       "      <td>Tehama</td>\n",
       "      <td>CA</td>\n",
       "    </tr>\n",
       "    <tr>\n",
       "      <th>0</th>\n",
       "      <td>August 2020</td>\n",
       "      <td>Glenn</td>\n",
       "      <td>1032648</td>\n",
       "      <td>935</td>\n",
       "      <td>1.0</td>\n",
       "      <td>1</td>\n",
       "      <td>AUGUST COMPLEX</td>\n",
       "      <td>Lightning</td>\n",
       "      <td>Glenn</td>\n",
       "      <td>CA</td>\n",
       "    </tr>\n",
       "  </tbody>\n",
       "</table>\n",
       "</div>"
      ],
      "text/plain": [
       "          DATE     COUNTY    ACRES STRUCTURES  DEATHS ID        FIRE NAME  \\\n",
       "0  August 2020  Mendocino  1032648        935     1.0  1  AUGUST COMPLEX    \n",
       "0  August 2020   Humboldt  1032648        935     1.0  1  AUGUST COMPLEX    \n",
       "0  August 2020    Trinity  1032648        935     1.0  1  AUGUST COMPLEX    \n",
       "0  August 2020     Tehama  1032648        935     1.0  1  AUGUST COMPLEX    \n",
       "0  August 2020      Glenn  1032648        935     1.0  1  AUGUST COMPLEX    \n",
       "\n",
       "       CAUSE       NAME STATE  \n",
       "0  Lightning  Mendocino    CA  \n",
       "0  Lightning   Humboldt    CA  \n",
       "0  Lightning    Trinity    CA  \n",
       "0  Lightning     Tehama    CA  \n",
       "0  Lightning      Glenn    CA  "
      ]
     },
     "execution_count": 17,
     "metadata": {},
     "output_type": "execute_result"
    }
   ],
   "source": [
    "new_df.head()"
   ]
  },
  {
   "cell_type": "markdown",
   "metadata": {},
   "source": [
    "## Step 4. Merge two tables\n",
    "\n",
    "The DataFrame we have got so far contains fire statistics, and would need to be aggregated with shape or geometry data in order to be drawn or saved as Web Map item. In doing such, we will access an existing feature layer called `USA Counties`, and merge the geographic attributes of each counties in this feature layer (e.g. 'Shape_Area', 'Shape_Leng', 'Shape__Area', 'Shape__Length') into the fire statistics table.\n",
    "\n",
    "Before we can access the Feature Layer, let us connect to our GIS to geocode this data and present it as a map, either by specifying username and password, e.g. in `gis = GIS(\"https://www.arcgis.com\", \"your username\", \"your password\")` or via an existing profile:"
   ]
  },
  {
   "cell_type": "code",
   "execution_count": 26,
   "metadata": {},
   "outputs": [],
   "source": [
    "from arcgis.gis import GIS\n",
    "\n",
    "gis = GIS('home')"
   ]
  },
  {
   "cell_type": "code",
   "execution_count": 27,
   "metadata": {},
   "outputs": [
    {
     "data": {
      "text/html": [
       "<div class=\"item_container\" style=\"height: auto; overflow: hidden; border: 1px solid #cfcfcf; border-radius: 2px; background: #f6fafa; line-height: 1.21429em; padding: 10px;\">\n",
       "                    <div class=\"item_left\" style=\"width: 210px; float: left;\">\n",
       "                       <a href='https://geosaurus.maps.arcgis.com/home/item.html?id=48f9af87daa241c4b267c5931ad3b226' target='_blank'>\n",
       "                        <img src='data:image/png;base64,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' width='200' height='133' class=\"itemThumbnail\">\n",
       "                       </a>\n",
       "                    </div>\n",
       "\n",
       "                    <div class=\"item_right\"     style=\"float: none; width: auto; overflow: hidden;\">\n",
       "                        <a href='https://geosaurus.maps.arcgis.com/home/item.html?id=48f9af87daa241c4b267c5931ad3b226' target='_blank'><b>USA Counties</b>\n",
       "                        </a>\n",
       "                        <br/>USA Counties represents the counties of the United States in the 50 states and the District of Columbia.<img src='https://geosaurus.maps.arcgis.com/home/js/jsapi/esri/css/images/item_type_icons/featureshosted16.png' style=\"vertical-align:middle;\">Feature Layer Collection by esri_dm\n",
       "                        <br/>Last Modified: June 13, 2022\n",
       "                        <br/>0 comments, 253106464 views\n",
       "                    </div>\n",
       "                </div>\n",
       "                "
      ],
      "text/plain": [
       "<Item title:\"USA Counties\" type:Feature Layer Collection owner:esri_dm>"
      ]
     },
     "execution_count": 27,
     "metadata": {},
     "output_type": "execute_result"
    }
   ],
   "source": [
    "counties_item = gis.content.get('48f9af87daa241c4b267c5931ad3b226')\n",
    "counties_item"
   ]
  },
  {
   "cell_type": "code",
   "execution_count": 28,
   "metadata": {},
   "outputs": [
    {
     "data": {
      "text/plain": [
       "0      Alameda County\n",
       "1       Alpine County\n",
       "2       Amador County\n",
       "3        Butte County\n",
       "4    Calaveras County\n",
       "Name: NAME, dtype: string"
      ]
     },
     "execution_count": 28,
     "metadata": {},
     "output_type": "execute_result"
    }
   ],
   "source": [
    "counties_flayer = counties_item.layers[0]\n",
    "counties_fset = counties_flayer.query(\"STATE_NAME='California'\")\n",
    "counties_fset.sdf['NAME'].head()"
   ]
  },
  {
   "cell_type": "code",
   "execution_count": 29,
   "metadata": {},
   "outputs": [
    {
     "data": {
      "text/plain": [
       "Index(['FID', 'NAME', 'STATE_NAME', 'STATE_FIPS', 'CNTY_FIPS', 'FIPS',\n",
       "       'POPULATION', 'POP_SQMI', 'POP2010', 'POP10_SQMI', 'WHITE', 'BLACK',\n",
       "       'AMERI_ES', 'ASIAN', 'HAWN_PI', 'HISPANIC', 'OTHER', 'MULT_RACE',\n",
       "       'MALES', 'FEMALES', 'AGE_UNDER5', 'AGE_5_9', 'AGE_10_14', 'AGE_15_19',\n",
       "       'AGE_20_24', 'AGE_25_34', 'AGE_35_44', 'AGE_45_54', 'AGE_55_64',\n",
       "       'AGE_65_74', 'AGE_75_84', 'AGE_85_UP', 'MED_AGE', 'MED_AGE_M',\n",
       "       'MED_AGE_F', 'HOUSEHOLDS', 'AVE_HH_SZ', 'HSEHLD_1_M', 'HSEHLD_1_F',\n",
       "       'MARHH_CHD', 'MARHH_NO_C', 'MHH_CHILD', 'FHH_CHILD', 'FAMILIES',\n",
       "       'AVE_FAM_SZ', 'HSE_UNITS', 'VACANT', 'OWNER_OCC', 'RENTER_OCC',\n",
       "       'NO_FARMS12', 'AVE_SIZE12', 'CROP_ACR12', 'AVE_SALE12', 'SQMI',\n",
       "       'NO_FARMS17', 'AVE_SIZE17', 'CROP_ACR17', 'AVE_SALE17', 'Shape_Leng',\n",
       "       'Shape_Area', 'Shape__Area', 'Shape__Length', 'SHAPE'],\n",
       "      dtype='object')"
      ]
     },
     "execution_count": 29,
     "metadata": {},
     "output_type": "execute_result"
    }
   ],
   "source": [
    "counties_fset.sdf.columns"
   ]
  },
  {
   "cell_type": "code",
   "execution_count": 37,
   "metadata": {},
   "outputs": [],
   "source": [
    "county_df = counties_fset.sdf\n",
    "\n",
    "# new data frame with split value columns\n",
    "county_name = county_df[\"NAME\"].str.split(\" \", n = 1, expand = True)\n",
    " \n",
    "# making separate first name column from new data frame\n",
    "county_df[\"NAME\"]= county_name[0]\n",
    " \n",
    "# Dropping old Name columns\n",
    "#counties_fset.sdf.drop(columns =[\"NAME\"], inplace = True)"
   ]
  },
  {
   "cell_type": "code",
   "execution_count": 38,
   "metadata": {},
   "outputs": [
    {
     "data": {
      "text/plain": [
       "0      Alameda\n",
       "1       Alpine\n",
       "2       Amador\n",
       "3        Butte\n",
       "4    Calaveras\n",
       "Name: NAME, dtype: string"
      ]
     },
     "execution_count": 38,
     "metadata": {},
     "output_type": "execute_result"
    }
   ],
   "source": [
    "county_df['NAME'].head()"
   ]
  },
  {
   "cell_type": "code",
   "execution_count": 39,
   "metadata": {},
   "outputs": [
    {
     "data": {
      "text/html": [
       "<div>\n",
       "<style scoped>\n",
       "    .dataframe tbody tr th:only-of-type {\n",
       "        vertical-align: middle;\n",
       "    }\n",
       "\n",
       "    .dataframe tbody tr th {\n",
       "        vertical-align: top;\n",
       "    }\n",
       "\n",
       "    .dataframe thead th {\n",
       "        text-align: right;\n",
       "    }\n",
       "</style>\n",
       "<table border=\"1\" class=\"dataframe\">\n",
       "  <thead>\n",
       "    <tr style=\"text-align: right;\">\n",
       "      <th></th>\n",
       "      <th>NAME</th>\n",
       "      <th>POPULATION</th>\n",
       "      <th>POP_SQMI</th>\n",
       "      <th>SHAPE</th>\n",
       "      <th>SQMI</th>\n",
       "      <th>STATE_FIPS</th>\n",
       "      <th>STATE_NAME</th>\n",
       "      <th>Shape_Area</th>\n",
       "      <th>Shape_Leng</th>\n",
       "      <th>Shape__Area</th>\n",
       "      <th>Shape__Length</th>\n",
       "      <th>DATE</th>\n",
       "      <th>COUNTY</th>\n",
       "      <th>ACRES</th>\n",
       "      <th>STRUCTURES</th>\n",
       "      <th>DEATHS</th>\n",
       "      <th>ID</th>\n",
       "      <th>FIRE NAME</th>\n",
       "      <th>CAUSE</th>\n",
       "      <th>STATE</th>\n",
       "    </tr>\n",
       "  </thead>\n",
       "  <tbody>\n",
       "    <tr>\n",
       "      <th>0</th>\n",
       "      <td>Alpine</td>\n",
       "      <td>1109</td>\n",
       "      <td>1.5</td>\n",
       "      <td>{\"rings\": [[[-13347274.7354533, 4711759.132550...</td>\n",
       "      <td>743.19</td>\n",
       "      <td>06</td>\n",
       "      <td>California</td>\n",
       "      <td>0.199044</td>\n",
       "      <td>2.174211</td>\n",
       "      <td>3156006463.34766</td>\n",
       "      <td>275565.132608</td>\n",
       "      <td>August 2021</td>\n",
       "      <td>Alpine</td>\n",
       "      <td>221835</td>\n",
       "      <td>1,005</td>\n",
       "      <td>1.0</td>\n",
       "      <td>1</td>\n",
       "      <td>5CALDOR</td>\n",
       "      <td>Human Releated</td>\n",
       "      <td>CA</td>\n",
       "    </tr>\n",
       "    <tr>\n",
       "      <th>1</th>\n",
       "      <td>Butte</td>\n",
       "      <td>210520</td>\n",
       "      <td>125.5</td>\n",
       "      <td>{\"rings\": [[[-13514702.0771214, 4887275.447179...</td>\n",
       "      <td>1677.13</td>\n",
       "      <td>06</td>\n",
       "      <td>California</td>\n",
       "      <td>0.455942</td>\n",
       "      <td>4.205812</td>\n",
       "      <td>7340032590.01172</td>\n",
       "      <td>525974.550226</td>\n",
       "      <td>July 2021</td>\n",
       "      <td>Butte</td>\n",
       "      <td>963309</td>\n",
       "      <td>1,311</td>\n",
       "      <td>1.0</td>\n",
       "      <td>2</td>\n",
       "      <td>DIXIE</td>\n",
       "      <td>Powerlines</td>\n",
       "      <td>CA</td>\n",
       "    </tr>\n",
       "    <tr>\n",
       "      <th>2</th>\n",
       "      <td>Butte</td>\n",
       "      <td>210520</td>\n",
       "      <td>125.5</td>\n",
       "      <td>{\"rings\": [[[-13514702.0771214, 4887275.447179...</td>\n",
       "      <td>1677.13</td>\n",
       "      <td>06</td>\n",
       "      <td>California</td>\n",
       "      <td>0.455942</td>\n",
       "      <td>4.205812</td>\n",
       "      <td>7340032590.01172</td>\n",
       "      <td>525974.550226</td>\n",
       "      <td>August 2020</td>\n",
       "      <td>Butte</td>\n",
       "      <td>318935</td>\n",
       "      <td>2,352</td>\n",
       "      <td>15.0</td>\n",
       "      <td>7</td>\n",
       "      <td>NORTH COMPLEX</td>\n",
       "      <td>Lightning</td>\n",
       "      <td>CA</td>\n",
       "    </tr>\n",
       "    <tr>\n",
       "      <th>3</th>\n",
       "      <td>Colusa</td>\n",
       "      <td>22365</td>\n",
       "      <td>19.3</td>\n",
       "      <td>{\"rings\": [[[-13592839.1212537, 4781210.042935...</td>\n",
       "      <td>1156.36</td>\n",
       "      <td>06</td>\n",
       "      <td>California</td>\n",
       "      <td>0.312199</td>\n",
       "      <td>3.21312</td>\n",
       "      <td>4990775494.50781</td>\n",
       "      <td>386041.097903</td>\n",
       "      <td>July 2018</td>\n",
       "      <td>Colusa</td>\n",
       "      <td>459123</td>\n",
       "      <td>280</td>\n",
       "      <td>1.0</td>\n",
       "      <td>3</td>\n",
       "      <td>MENDOCINO COMPLEX</td>\n",
       "      <td>Human Related</td>\n",
       "      <td>CA</td>\n",
       "    </tr>\n",
       "    <tr>\n",
       "      <th>4</th>\n",
       "      <td>Lassen</td>\n",
       "      <td>32159</td>\n",
       "      <td>6.8</td>\n",
       "      <td>{\"rings\": [[[-13493147.7427554, 5039582.826952...</td>\n",
       "      <td>4720.12</td>\n",
       "      <td>06</td>\n",
       "      <td>California</td>\n",
       "      <td>1.302088</td>\n",
       "      <td>5.973928</td>\n",
       "      <td>21275574862.617199</td>\n",
       "      <td>776771.27369</td>\n",
       "      <td>August 2012</td>\n",
       "      <td>Lassen</td>\n",
       "      <td>315577</td>\n",
       "      <td>0</td>\n",
       "      <td>0.0</td>\n",
       "      <td>1</td>\n",
       "      <td>0RUSH</td>\n",
       "      <td>Lightning</td>\n",
       "      <td>CA</td>\n",
       "    </tr>\n",
       "  </tbody>\n",
       "</table>\n",
       "</div>"
      ],
      "text/plain": [
       "     NAME  POPULATION  POP_SQMI  \\\n",
       "0  Alpine        1109       1.5   \n",
       "1   Butte      210520     125.5   \n",
       "2   Butte      210520     125.5   \n",
       "3  Colusa       22365      19.3   \n",
       "4  Lassen       32159       6.8   \n",
       "\n",
       "                                               SHAPE     SQMI STATE_FIPS  \\\n",
       "0  {\"rings\": [[[-13347274.7354533, 4711759.132550...   743.19         06   \n",
       "1  {\"rings\": [[[-13514702.0771214, 4887275.447179...  1677.13         06   \n",
       "2  {\"rings\": [[[-13514702.0771214, 4887275.447179...  1677.13         06   \n",
       "3  {\"rings\": [[[-13592839.1212537, 4781210.042935...  1156.36         06   \n",
       "4  {\"rings\": [[[-13493147.7427554, 5039582.826952...  4720.12         06   \n",
       "\n",
       "   STATE_NAME  Shape_Area  Shape_Leng         Shape__Area  Shape__Length  \\\n",
       "0  California    0.199044    2.174211    3156006463.34766  275565.132608   \n",
       "1  California    0.455942    4.205812    7340032590.01172  525974.550226   \n",
       "2  California    0.455942    4.205812    7340032590.01172  525974.550226   \n",
       "3  California    0.312199     3.21312    4990775494.50781  386041.097903   \n",
       "4  California    1.302088    5.973928  21275574862.617199   776771.27369   \n",
       "\n",
       "          DATE  COUNTY   ACRES STRUCTURES  DEATHS ID          FIRE NAME  \\\n",
       "0  August 2021  Alpine  221835      1,005     1.0  1           5CALDOR    \n",
       "1    July 2021   Butte  963309      1,311     1.0  2             DIXIE    \n",
       "2  August 2020   Butte  318935      2,352    15.0  7     NORTH COMPLEX    \n",
       "3    July 2018  Colusa  459123        280     1.0  3  MENDOCINO COMPLEX   \n",
       "4  August 2012  Lassen  315577          0     0.0  1             0RUSH    \n",
       "\n",
       "            CAUSE STATE  \n",
       "0  Human Releated    CA  \n",
       "1      Powerlines    CA  \n",
       "2       Lightning    CA  \n",
       "3   Human Related    CA  \n",
       "4      Lightning     CA  "
      ]
     },
     "execution_count": 39,
     "metadata": {},
     "output_type": "execute_result"
    }
   ],
   "source": [
    "cols_2 = ['NAME', 'POPULATION', 'POP_SQMI',\n",
    "          'SHAPE', 'SQMI', 'STATE_FIPS', 'STATE_NAME', 'Shape_Area',\n",
    "          'Shape_Leng', 'Shape__Area', 'Shape__Length']\n",
    "overlap_rows = pd.merge(left = county_df[cols_2], right = new_df, how='inner',\n",
    "                        on = 'NAME')\n",
    "overlap_rows.head()"
   ]
  },
  {
   "cell_type": "markdown",
   "metadata": {},
   "source": [
    "## Step 5. Draw the top 20 impacted counties\n",
    "\n",
    "We now can draw the top 20 impacted counties, represented by the merged output DataFrame `overlap_rows`, with the API method `DataFrame.spatial.plot()`."
   ]
  },
  {
   "cell_type": "code",
   "execution_count": 44,
   "metadata": {},
   "outputs": [
    {
     "data": {
      "text/html": [
       "<img src=\"data:image/jpeg;base64,/9j/4AAQSkZJRgABAQEAeAB4AAD/4RD0RXhpZgAATU0AKgAAAAgABAE7AAIAAAAOAAAISodpAAQAAAABAAAIWJydAAEAAAAcAAAQ0OocAAcAAAgMAAAAPgAAAAAc6gAAAAgAAAAAAAAAAAAAAAAAAAAAAAAAAAAAAAAAAAAAAAAAAAAAAAAAAAAAAAAAAAAAAAAAAAAAAAAAAAAAAAAAAAAAAAAAAAAAAAAAAAAAAAAAAAAAAAAAAAAAAAAAAAAAAAAAAAAAAAAAAAAAAAAAAAAAAAAAAAAAAAAAAAAAAAAAAAAAAAAAAAAAAAAAAAAAAAAAAAAAAAAAAAAAAAAAAAAAAAAAAAAAAAAAAAAAAAAAAAAAAAAAAAAAAAAAAAAAAAAAAAAAAAAAAAAAAAAAAAAAAAAAAAAAAAAAAAAAAAAAAAAAAAAAAAAAAAAAAAAAAAAAAAAAAAAAAAAAAAAAAAAAAAAAAAAAAAAAAAAAAAAAAAAAAAAAAAAAAAAAAAAAAAAAAAAAAAAAAAAAAAAAAAAAAAAAAAAAAAAAAAAAAAAAAAAAAAAAAAAAAAAAAAAAAAAAAAAAAAAAAAAAAAAAAAAAAAAAAAAAAAAAAAAAAAAAAAAAAAAAAAAAAAAAAAAAAAAAAAAAAAAAAAAAAAAAAAAAAAAAAAAAAAAAAAAAAAAAAAAAAAAAAAAAAAAAAAAAAAAAAAAAAAAAAAAAAAAAAAAAAAAAAAAAAAAAAAAAAAAAAAAAAAAAAAAAAAAAAAAAAAAAAAAAAAAAAAAAAAAAAAAAAAAAAAAAAAAAAAAAAAAAAAAAAAAAAAAAAAAAAAAAAAAAAAAAAAAAAAAAAAAAAAAAAAAAAAAAAAAAAAAAAAAAAAAAAAAAAAAAAAAAAAAAAAAAAAAAAAAAAAAAAAAAAAAAAAAAAAAAAAAAAAAAAAAAAAAAAAAAAAAAAAAAAAAAAAAAAAAAAAAAAAAAAAAAAAAAAAAAAAAAAAAAAAAAAAAAAAAAAAAAAAAAAAAAAAAAAAAAAAAAAAAAAAAAAAAAAAAAAAAAAAAAAAAAAAAAAAAAAAAAAAAAAAAAAAAAAAAAAAAAAAAAAAAAAAAAAAAAAAAAAAAAAAAAAAAAAAAAAAAAAAAAAAAAAAAAAAAAAAAAAAAAAAAAAAAAAAAAAAAAAAAAAAAAAAAAAAAAAAAAAAAAAAAAAAAAAAAAAAAAAAAAAAAAAAAAAAAAAAAAAAAAAAAAAAAAAAAAAAAAAAAAAAAAAAAAAAAAAAAAAAAAAAAAAAAAAAAAAAAAAAAAAAAAAAAAAAAAAAAAAAAAAAAAAAAAAAAAAAAAAAAAAAAAAAAAAAAAAAAAAAAAAAAAAAAAAAAAAAAAAAAAAAAAAAAAAAAAAAAAAAAAAAAAAAAAAAAAAAAAAAAAAAAAAAAAAAAAAAAAAAAAAAAAAAAAAAAAAAAAAAAAAAAAAAAAAAAAAAAAAAAAAAAAAAAAAAAAAAAAAAAAAAAAAAAAAAAAAAAAAAAAAAAAAAAAAAAAAAAAAAAAAAAAAAAAAAAAAAAAAAAAAAAAAAAAAAAAAAAAAAAAAAAAAAAAAAAAAAAAAAAAAAAAAAAAAAAAAAAAAAAAAAAAAAAAAAAAAAAAAAAAAAAAAAAAAAAAAAAAAAAAAAAAAAAAAAAAAAAAAAAAAAAAAAAAAAAAAAAAAAAAAAAAAAAAAAAAAAAAAAAAAAAAAAAAAAAAAAAAAAAAAAAAAAAAAAAAAAAAAAAAAAAAAAAAAAAAAAAAAAAAAAAAAAAAAAAAAAAAAAAAAAAAAAAAAAAAAAAAAAAAAAAAAAAAAAAAAAAAAAAAAAAAAAAAAAAAAAAAAAAAAAAAAAAAAAAAAAAAAAAAAAAAAAAAAAAAAAAAAAAAAAAAAAAAAAAAAAAAAAAAAAAAAAAAAAAAAAAAAAAAAAAAAAAAAAAAAAAAAAAAAAAAAAAAAAAAAAAAAAAAAAAAAAAAAAAAAAAAAAAAAAAAAAAAAAAAAAAAAAAAAAAAAAAAAAAAAAAAAAAAAAAAAAAAAAAAAAAAAAAAAAAAAAAAAAAAAAAAAAAAAAAAAAAAAAAAAAAAAAAAAAAAAAAAAAAAAAAAAAAAAAAAAAAAAAAAAAAAAAAAAAAAAAAAAAAAAAAAAAAAAAAAAAAAAAAAAAAAAAAAAAAAAAAAAAAAAAAAAAAAAAAAAAAAAAAAAAAAAAAAAAAAAAAAAAAAAAAAAAAAAAAAAAAAAAAAAAAAAAAAAAAAAAAAAAAAAAAAAAAAAAAAAAAAAAAAAAAAAAAAAAAAAAAAAAAAAAAAAAAAAAAAAAAAAAAAAAAAAAAAAAAAAAAAAAAAAAAAAAAAAAAAAAAAAAAAAAAAAAAAAAAAAAAAAAAAAAAAAAAAAAAAAAAAAAAAAAAAAAAAAAAAAAAAAAAAAAAAAAAAAAAAAAAAAAAAAAAAAAAAAAAAAAAAAAAAAAAAAAAAAAAAAAAAAAAAAAAAAAAAAAAAAAAAAAAAAAAAAAAAAAAAAAAAAAAAAAAAAAAAAAAAAAAAAAAAAAAAAAAAAAAAAAAAAAAAAAAAAAAAAAAAAAAAAAAAAAAAAAAAAAAAAAAAAAAAAAAAAAAAAAAAAAAAAAAAAAAAAAAAAAAAAAAAAAAAAAAAAAAAAAAAAAAAAAAAAAAAAAAAAAAAAAAAAAAAAAAAAAAAAAAAAAAAAAAAAAAAAAAAAAAAAAAAAAAAAAAAAAAAAAAAAAAAAAAAAAAAAAAAAAAAAAAAAAAAAAAAAAAAAAAAAAAAAAAAAAAAAAAAAAAAAAAAAAAAAAAAAAAAAAAAAAAAAAAAAAAAAAAAAAAAAAAAAAAAAAAAAAAAAAAAAAAAAAAAAENodW5taW5nIFBlbmcAAAWQAwACAAAAFAAAEKaQBAACAAAAFAAAELqSkQACAAAAAzg1AACSkgACAAAAAzg1AADqHAAHAAAIDAAACJoAAAAAHOoAAAAIAAAAAAAAAAAAAAAAAAAAAAAAAAAAAAAAAAAAAAAAAAAAAAAAAAAAAAAAAAAAAAAAAAAAAAAAAAAAAAAAAAAAAAAAAAAAAAAAAAAAAAAAAAAAAAAAAAAAAAAAAAAAAAAAAAAAAAAAAAAAAAAAAAAAAAAAAAAAAAAAAAAAAAAAAAAAAAAAAAAAAAAAAAAAAAAAAAAAAAAAAAAAAAAAAAAAAAAAAAAAAAAAAAAAAAAAAAAAAAAAAAAAAAAAAAAAAAAAAAAAAAAAAAAAAAAAAAAAAAAAAAAAAAAAAAAAAAAAAAAAAAAAAAAAAAAAAAAAAAAAAAAAAAAAAAAAAAAAAAAAAAAAAAAAAAAAAAAAAAAAAAAAAAAAAAAAAAAAAAAAAAAAAAAAAAAAAAAAAAAAAAAAAAAAAAAAAAAAAAAAAAAAAAAAAAAAAAAAAAAAAAAAAAAAAAAAAAAAAAAAAAAAAAAAAAAAAAAAAAAAAAAAAAAAAAAAAAAAAAAAAAAAAAAAAAAAAAAAAAAAAAAAAAAAAAAAAAAAAAAAAAAAAAAAAAAAAAAAAAAAAAAAAAAAAAAAAAAAAAAAAAAAAAAAAAAAAAAAAAAAAAAAAAAAAAAAAAAAAAAAAAAAAAAAAAAAAAAAAAAAAAAAAAAAAAAAAAAAAAAAAAAAAAAAAAAAAAAAAAAAAAAAAAAAAAAAAAAAAAAAAAAAAAAAAAAAAAAAAAAAAAAAAAAAAAAAAAAAAAAAAAAAAAAAAAAAAAAAAAAAAAAAAAAAAAAAAAAAAAAAAAAAAAAAAAAAAAAAAAAAAAAAAAAAAAAAAAAAAAAAAAAAAAAAAAAAAAAAAAAAAAAAAAAAAAAAAAAAAAAAAAAAAAAAAAAAAAAAAAAAAAAAAAAAAAAAAAAAAAAAAAAAAAAAAAAAAAAAAAAAAAAAAAAAAAAAAAAAAAAAAAAAAAAAAAAAAAAAAAAAAAAAAAAAAAAAAAAAAAAAAAAAAAAAAAAAAAAAAAAAAAAAAAAAAAAAAAAAAAAAAAAAAAAAAAAAAAAAAAAAAAAAAAAAAAAAAAAAAAAAAAAAAAAAAAAAAAAAAAAAAAAAAAAAAAAAAAAAAAAAAAAAAAAAAAAAAAAAAAAAAAAAAAAAAAAAAAAAAAAAAAAAAAAAAAAAAAAAAAAAAAAAAAAAAAAAAAAAAAAAAAAAAAAAAAAAAAAAAAAAAAAAAAAAAAAAAAAAAAAAAAAAAAAAAAAAAAAAAAAAAAAAAAAAAAAAAAAAAAAAAAAAAAAAAAAAAAAAAAAAAAAAAAAAAAAAAAAAAAAAAAAAAAAAAAAAAAAAAAAAAAAAAAAAAAAAAAAAAAAAAAAAAAAAAAAAAAAAAAAAAAAAAAAAAAAAAAAAAAAAAAAAAAAAAAAAAAAAAAAAAAAAAAAAAAAAAAAAAAAAAAAAAAAAAAAAAAAAAAAAAAAAAAAAAAAAAAAAAAAAAAAAAAAAAAAAAAAAAAAAAAAAAAAAAAAAAAAAAAAAAAAAAAAAAAAAAAAAAAAAAAAAAAAAAAAAAAAAAAAAAAAAAAAAAAAAAAAAAAAAAAAAAAAAAAAAAAAAAAAAAAAAAAAAAAAAAAAAAAAAAAAAAAAAAAAAAAAAAAAAAAAAAAAAAAAAAAAAAAAAAAAAAAAAAAAAAAAAAAAAAAAAAAAAAAAAAAAAAAAAAAAAAAAAAAAAAAAAAAAAAAAAAAAAAAAAAAAAAAAAAAAAAAAAAAAAAAAAAAAAAAAAAAAAAAAAAAAAAAAAAAAAAAAAAAAAAAAAAAAAAAAAAAAAAAAAAAAAAAAAAAAAAAAAAAAAAAAAAAAAAAAAAAAAAAAAAAAAAAAAAAAAAAAAAAAAAAAAAAAAAAAAAAAAAAAAAAAAAAAAAAAAAAAAAAAAAAAAAAAAAAAAAAAAAAAAAAAAAAAAAAAAAAAAAAAAAAAAAAAAAAAAAAAAAAAAAAAAAAAAAAAAAAAAAAAAAAAAAAAAAAAAAAAAAAAAAAAAAAAAAAAAAAAAAAAAAAAAAAAAAAAAAAAAAAAAAAAAAAAAAAAAAAAAAAAAAAAAAAAAAAAAAAAAAAAAAAAAAAAAAAAAAAAAAAAAAAAAAAAAAAAAAAAAAAAAAAAAAAAAAAAAAAAAAAAAAAAAAAAAAAAAAAAAAAAAAAAAAAAAAAAAAAAAAAAAAAAAAAAAAAAAAAAAAAAAAAAAAAAAAAAAAAAAAAAAAAAAAAAAAAAAAAAAAAAAAAAAAAAAAAAAAAAAAAAAAAAAAAAAAAAAAAAAAAAAAAAAAAAAAAAAAAAAAAAAAAAAAAAAAAAAAAAAAAAAAAAAAAAAAAAAAAAAAAAAAAAAAAAAAAAAAAAAAAAAAAAAAAAAAAAAAAAAAAAAAAAAAAAAAAAAAAAAAAAAAAAAAAAAAAAAAAAAAAAAAAAAAAAAAAAAAAAAAAAAAAAAAAAAAAAAAAAAAAAAAAAAAAAAAAAAAAAAAAAAAAAAAAAAAAAAAAAAAAAAAAAAAAAAAAAAAAAAAAAAAAAAAAAAAAAAAAAAAAAAAAAAAAAAAAAAAAAAAAAAAAAAAAAAAAAAAAAAAAAAAAAAAAAAAAAAAAAAAAAAAAAAAAAAAAAAAAAAAAAAAAAAAAAAAAAAAAAAAAAAAAAAAAAAAAAAAAAAAAAAAAAAAAAAAAAAAAAAAAAAAAAAAAAAAAAAAAAAAAAAAAAAAAAAAAAAAAAAAAAAAAAAAAAAAAAAAAAAAAAAAAAAAAAyMDIzOjA0OjExIDE1OjU1OjQ3ADIwMjM6MDQ6MTEgMTU6NTU6NDcAAABDAGgAdQBuAG0AaQBuAGcAIABQAGUAbgBnAAAA/+ELIGh0dHA6Ly9ucy5hZG9iZS5jb20veGFwLzEuMC8APD94cGFja2V0IGJlZ2luPSfvu78nIGlkPSdXNU0wTXBDZWhpSHpyZVN6TlRjemtjOWQnPz4NCjx4OnhtcG1ldGEgeG1sbnM6eD0iYWRvYmU6bnM6bWV0YS8iPjxyZGY6UkRGIHhtbG5zOnJkZj0iaHR0cDovL3d3dy53My5vcmcvMTk5OS8wMi8yMi1yZGYtc3ludGF4LW5zIyI+PHJkZjpEZXNjcmlwdGlvbiByZGY6YWJvdXQ9InV1aWQ6ZmFmNWJkZDUtYmEzZC0xMWRhLWFkMzEtZDMzZDc1MTgyZjFiIiB4bWxuczpkYz0iaHR0cDovL3B1cmwub3JnL2RjL2VsZW1lbnRzLzEuMS8iLz48cmRmOkRlc2NyaXB0aW9uIHJkZjphYm91dD0idXVpZDpmYWY1YmRkNS1iYTNkLTExZGEtYWQzMS1kMzNkNzUxODJmMWIiIHhtbG5zOnhtcD0iaHR0cDovL25zLmFkb2JlLmNvbS94YXAvMS4wLyI+PHhtcDpDcmVhdGVEYXRlPjIwMjMtMDQtMTFUMTU6NTU6NDcuODU0PC94bXA6Q3JlYXRlRGF0ZT48L3JkZjpEZXNjcmlwdGlvbj48cmRmOkRlc2NyaXB0aW9uIHJkZjphYm91dD0idXVpZDpmYWY1YmRkNS1iYTNkLTExZGEtYWQzMS1kMzNkNzUxODJmMWIiIHhtbG5zOmRjPSJodHRwOi8vcHVybC5vcmcvZGMvZWxlbWVudHMvMS4xLyI+PGRjOmNyZWF0b3I+PHJkZjpTZXEgeG1sbnM6cmRmPSJodHRwOi8vd3d3LnczLm9yZy8xOTk5LzAyLzIyLXJkZi1zeW50YXgtbnMjIj48cmRmOmxpPkNodW5taW5nIFBlbmc8L3JkZjpsaT48L3JkZjpTZXE+DQoJCQk8L2RjOmNyZWF0b3I+PC9yZGY6RGVzY3JpcHRpb24+PC9yZGY6UkRGPjwveDp4bXBtZXRhPg0KICAgICAgICAgICAgICAgICAgICAgICAgICAgICAgICAgICAgICAgICAgICAgICAgICAgICAgICAgICAgICAgICAgICAgICAgICAgICAgICAgICAgICAgICAgICAgICAgICAgIAogICAgICAgICAgICAgICAgICAgICAgICAgICAgICAgICAgICAgICAgICAgICAgICAgICAgICAgICAgICAgICAgICAgICAgICAgICAgICAgICAgICAgICAgICAgICAgICAgICAgCiAgICAgICAgICAgICAgICAgICAgICAgICAgICAgICAgICAgICAgICAgICAgICAgICAgICAgICAgICAgICAgICAgICAgICAgICAgICAgICAgICAgICAgICAgICAgICAgICAgICAKICAgICAgICAgICAgICAgICAgICAgICAgICAgICAgICAgICAgICAgICAgICAgICAgICAgICAgICAgICAgICAgICAgICAgICAgICAgICAgICAgICAgICAgICAgICAgICAgICAgIAogICAgICAgICAgICAgICAgICAgICAgICAgICAgICAgICAgICAgICAgICAgICAgICAgICAgICAgICAgICAgICAgICAgICAgICAgICAgICAgICAgICAgICAgICAgICAgICAgICAgCiAgICAgICAgICAgICAgICAgICAgICAgICAgICAgICAgICAgICAgICAgICAgICAgICAgICAgICAgICAgICAgICAgICAgICAgICAgICAgICAgICAgICAgICAgICAgICAgICAgICAKICAgICAgICAgICAgICAgICAgICAgICAgICAgICAgICAgICAgICAgICAgICAgICAgICAgICAgICAgICAgICAgICAgICAgICAgICAgICAgICAgICAgICAgICAgICAgICAgICAgIAogICAgICAgICAgICAgICAgICAgICAgICAgICAgICAgICAgICAgICAgICAgICAgICAgICAgICAgICAgICAgICAgICAgICAgICAgICAgICAgICAgICAgICAgICAgICAgICAgICAgCiAgICAgICAgICAgICAgICAgICAgICAgICAgICAgICAgICAgICAgICAgICAgICAgICAgICAgICAgICAgICAgICAgICAgICAgICAgICAgICAgICAgICAgICAgICAgICAgICAgICAKICAgICAgICAgICAgICAgICAgICAgICAgICAgICAgICAgICAgICAgICAgICAgICAgICAgICAgICAgICAgICAgICAgICAgICAgICAgICAgICAgICAgICAgICAgICAgICAgICAgIAogICAgICAgICAgICAgICAgICAgICAgICAgICAgICAgICAgICAgICAgICAgICAgICAgICAgICAgICAgICAgICAgICAgICAgICAgICAgICAgICAgICAgICAgICAgICAgICAgICAgCiAgICAgICAgICAgICAgICAgICAgICAgICAgICAgICAgICAgICAgICAgICAgICAgICAgICAgICAgICAgICAgICAgICAgICAgICAgICAgICAgICAgICAgICAgICAgICAgICAgICAKICAgICAgICAgICAgICAgICAgICAgICAgICAgICAgICAgICAgICAgICAgICAgICAgICAgICAgICAgICAgICAgICAgICAgICAgICAgICAgICAgICAgICAgICAgICAgICAgICAgIAogICAgICAgICAgICAgICAgICAgICAgICAgICAgICAgICAgICAgICAgICAgICAgICAgICAgICAgICAgICAgICAgICAgICAgICAgICAgICAgICAgICAgICAgICAgICAgICAgICAgCiAgICAgICAgICAgICAgICAgICAgICAgICAgICAgICAgICAgICAgICAgICAgICAgICAgICAgICAgICAgICAgICAgICAgICAgICAgICAgICAgICAgICAgICAgICAgICAgICAgICAKICAgICAgICAgICAgICAgICAgICAgICAgICAgICAgICAgICAgICAgICAgICAgICAgICAgICAgICAgICAgICAgICAgICAgICAgICAgICAgICAgICAgICAgICAgICAgICAgICAgIAogICAgICAgICAgICAgICAgICAgICAgICAgICAgICAgICAgICAgICAgICAgICAgICAgICAgICAgICAgICAgICAgICAgICAgICAgICAgICAgICAgICAgICAgICAgICAgICAgICAgCiAgICAgICAgICAgICAgICAgICAgICAgICAgICAgICAgICAgICAgICAgICAgICAgICAgICAgICAgICAgICAgICAgICAgICAgICAgICAgICAgICAgICAgICAgICAgICAgICAgICAKICAgICAgICAgICAgICAgICAgICAgICAgICAgICAgICAgICAgICAgICAgICAgICAgICAgICAgICAgICAgICAgICAgICAgICAgICAgICAgICAgICAgICAgICAgICAgICAgICAgIAogICAgICAgICAgICAgICAgICAgICAgICAgICAgICAgICAgICAgICAgICAgICAgICAgICAgICAgICAgICAgICAgICAgICAgICAgICAgICAgICAgICAgICAgICAgICAgICAgICAgCiAgICAgICAgICAgICAgICAgICAgICAgICAgICA8P3hwYWNrZXQgZW5kPSd3Jz8+/9sAQwAHBQUGBQQHBgUGCAcHCAoRCwoJCQoVDxAMERgVGhkYFRgXGx4nIRsdJR0XGCIuIiUoKSssKxogLzMvKjInKisq/9sAQwEHCAgKCQoUCwsUKhwYHCoqKioqKioqKioqKioqKioqKioqKioqKioqKioqKioqKioqKioqKioqKioqKioqKioq/8AAEQgC3gRZAwEiAAIRAQMRAf/EAB8AAAEFAQEBAQEBAAAAAAAAAAABAgMEBQYHCAkKC//EALUQAAIBAwMCBAMFBQQEAAABfQECAwAEEQUSITFBBhNRYQcicRQygZGhCCNCscEVUtHwJDNicoIJChYXGBkaJSYnKCkqNDU2Nzg5OkNERUZHSElKU1RVVldYWVpjZGVmZ2hpanN0dXZ3eHl6g4SFhoeIiYqSk5SVlpeYmZqio6Slpqeoqaqys7S1tre4ubrCw8TFxsfIycrS09TV1tfY2drh4uPk5ebn6Onq8fLz9PX29/j5+v/EAB8BAAMBAQEBAQEBAQEAAAAAAAABAgMEBQYHCAkKC//EALURAAIBAgQEAwQHBQQEAAECdwABAgMRBAUhMQYSQVEHYXETIjKBCBRCkaGxwQkjM1LwFWJy0QoWJDThJfEXGBkaJicoKSo1Njc4OTpDREVGR0hJSlNUVVZXWFlaY2RlZmdoaWpzdHV2d3h5eoKDhIWGh4iJipKTlJWWl5iZmqKjpKWmp6ipqrKztLW2t7i5usLDxMXGx8jJytLT1NXW19jZ2uLj5OXm5+jp6vLz9PX29/j5+v/aAAwDAQACEQMRAD8A9Q1LxNq9vqt3DDd7Y453RR5SHADEDtVb/hK9b/5/f/ISf4VT1j/kOX3/AF8yf+hGqde3GlT5V7qPn51qnM/ef3mx/wAJXrf/AD+/+Qk/wo/4SvW/+f3/AMhJ/hWPRVeyp/yr7ifbVf5n95sf8JXrf/P7/wCQk/wo/wCEr1v/AJ/f/ISf4Vj0Ueyp/wAq+4PbVf5n95sf8JXrf/P7/wCQk/wo/wCEr1v/AJ/f/ISf4Vj0Ueyp/wAq+4PbVf5n95sf8JXrf/P7/wCQk/wo/wCEr1v/AJ/f/ISf4Vj0Ueyp/wAq+4PbVf5n95sf8JXrf/P7/wCQk/wo/wCEr1v/AJ/f/ISf4Vj0Ueyp/wAq+4PbVf5n95sf8JXrf/P7/wCQk/wo/wCEr1v/AJ/f/ISf4Vj0Ueyp/wAq+4PbVf5n95sf8JXrf/P7/wCQk/wo/wCEr1v/AJ/f/ISf4Vj0Ueyp/wAq+4PbVf5n95sf8JXrf/P7/wCQk/wo/wCEr1v/AJ/f/ISf4Vj0Ueyp/wAq+4PbVf5n95sf8JXrf/P7/wCQk/wo/wCEr1v/AJ/f/ISf4Vj0Ueyp/wAq+4PbVf5n95sf8JXrf/P7/wCQk/wo/wCEr1v/AJ/f/ISf4Vj0Ueyp/wAq+4PbVf5n95sf8JXrf/P7/wCQk/wo/wCEr1v/AJ/f/ISf4Vj0Ueyp/wAq+4PbVf5n95sf8JXrf/P7/wCQk/wo/wCEr1v/AJ/f/ISf4Vj0Ueyp/wAq+4PbVf5n95sf8JXrf/P7/wCQk/wo/wCEr1v/AJ/f/ISf4Vj0Ueyp/wAq+4PbVf5n95sf8JXrf/P7/wCQk/wo/wCEr1v/AJ/f/ISf4Vj0Ueyp/wAq+4PbVf5n95sf8JXrf/P7/wCQk/wo/wCEr1v/AJ/f/ISf4Vj0Ueyp/wAq+4PbVf5n95sf8JXrf/P7/wCQk/wo/wCEr1v/AJ/f/ISf4Vj0Ueyp/wAq+4PbVf5n95sf8JXrf/P7/wCQk/wo/wCEr1v/AJ/f/ISf4Vj0Ueyp/wAq+4PbVP5n95sDxZrQPN5n/tkn+FWR4s1WQDy5ucHdlF+UevTmuerR0i1F3NIrHauw5YHFcuKow9m5JWN6Nao52bZctfEWvSAma92hgSP3UeB2Hb8efWrC+JtSRGDXMss4i3bFiTaMEjOcd/6VjXMKQrKEeTIPl+ZIx5GB+Hr0pbjUGg0giH9xvKgsoVi6jOe2emOa8NyZ6kWzTtfEuty3C+bdx4bOUVF4Axk5x15/nU914pvYred1uyBEHIPlr8wA+nXNc/paRwJLezzCNQi/Ke4ySM/WuT8UeMrO2hmku3S0t5WJ2k5LYI6D8qtXY48zZ0Fx8YZbaV4ri9hikwuEdowR6np3qmPjFMJ/MOuQFcg+V+6249M7c18xa5qLatrd1eM24SSEocY+Xt+lZ9aHRyI+sE+M05kLNqlnswcgNHx+lOj+MxRjv1aCQehMQ/kK+TaKA5EfWNx8Z5ZA4g1S0hz907kJH5io7L4xTxTBrzXILhP7g8lf5LXylRQHIj62l+NQYERahapzkNvQnHp0qh/wvZoL9bVtTs5GccFkH8xgA18sUUrD5UfXP/C64hyL63J24wZY8Z9elN/4XTH5AT+0Lffg/Pvj6/TFfJFFFkHKfXVt8a4Iv9ffQTcd5I1/kKlPxvst2RPBj089P8K+QKKXKv6Y+U+vm+N1nvYrcwgEcKZk4/Sui8N+N7nxGzR27lSsfmCT5SHGfp718P19e/CaKJNHM7DDiCKMewK5/oKiorQbX5itqdymsX6XzxSSlk2Ag7F4OenSpjql8HOZflxn7q/4VU1CdLaMykNgEDgVVsNQW5uvKWNsFSQxrFKo483QjmV+U1P7WvCoPn49ig/wqNdUvydzXeOMBRGuCe3aopYxsJbA5xRMoWMBQD0zUKcu5VhF1TVpGl2XYGM7cRp6cdvWoNY8RalZmKOC4AYqNzBFOT+VKqBs/eVT0I9KwNVUrdc9COG9RXbg/fq2lscuKm4U/dNyy8R6q+mXE7zLK8ZHVVGB+Aqa01vURYSzz3ZlKjODEq4/DFU7AQRaFl1IMpyfmIz+VY1ta6heSPGZdyebumKHmQDjHPT8KjEStUaiOjzOCbOsg1bU52RjLsGBuTYv+FWZdWuY5kUz7d4+UbRyfyqCBFjjAAKk8mq99H5l3a5Y/u9zbB/F6Vy88u52WRel1W8+0JEkxBxk/IP8KSPVrwyMGmyBnjYP8KrNt+0Fyp3BQSN33c0iIY24b5mzg0c8u5SSLh1G/LDbNjuRtX/CmNqd8WAW4x6/Iv8AhVfH2eHLNliuSTVRY3Y+YzEN2p88u47IuXGq6pFGqxXHmSHkkoo/pSRa3ebnD3YYqOV2KMHv2qj9quGZVNvuDHbu3Yogsniw0hHmsTyRgGq5pdw5UaB1jUP7Ha4a5WOQruHyLxnt0qvoWs6vfrcXE9xugL7IAUQZ28FuB3INF1Ym9tUhkO2IuC23sB2qS0MqW7KqIg3lIQoPyoDjmp5pdyWkadxqNzEq/vuW4A2jk/lVWfWrmKObMwWRE3AMF/LOPaq2pyxiDfCFLxsMNnkH8azIdPe7tWhml3IzmR1JySx6fy6Cjnl3CyNS01jU7qNJRPwyghdi9/w+tTyanqQ6TEDIBbYv+FQWkcdvAIYj9wjJ9OP/ANdReU1zOvmyFgh4UjHNLnl3CyLVnqepGV1lufNwc/6tRgfgKvG9u2XCzYOOu0f4VmsUgkVUyWkbABNXoxjGcdM0ueV9x2RXj1u7YuzS4hQ4MmwYz+VWDqd1t+WbJ/3Rx+lVGuFkMiw5IV9pA7nP6UyJkeN2eMwkN65z+NPnl3FZFv8AtW62nE2cf7I/wpV1S8OP3h5/2R/hVVdvRfzpwLdu1HPLuOyLn9oXQABm5/3R/hTG1K6RtrTdeh2jj26VAT36mmg+YvzL370c8u4WRbTULtlz53Oem0f4U77fdY/1vP8Auj/Cq/Gz5eMUz5gAXbKn0pc8u4rIsrf3hdgZu/A2jj9Kf9vuwQpfn12iqUXMjc570XjHEYDSKCfmVPTFHPPuJpEr6vcecsX2gq/dVQHPt0qT+0btFHmT/N3+Uf4VR3RxSgQRbTtyxPX8zUU5KzzNI4ZVXoDyfl9qanLuFkXrbVbyZ5QJ9yo2M7F9AcdKnfULtVyZf/HR/hWVYTmHT4Q6bIyDnccEfMcH3qZ545UTB++21fz/APrU+aXcNDRN7d9punX5R/hT0vbnHzS5/wCAj/CspbxF1OaEsT8qZXPQnNST3SQxyEN8yqeh70c0+4lYszazLCzqZQTGMtgCqT6xqX2i3b7RtidiCojX5uOvIrNsIjOqh9ytM3mFXPJwe9X7qPcxYkbIVyo9T6Uc0u47IuDVrwN/rd248DaPx7U+DUb92cvLxk4G1en5Vm2TmVy56LyBWgrLGnIB4o55dyrIsJf3XeXPGfuj/CqEWr6hNHu+0BAkhWQ7F9eO3pij7QoDKjAv/LiqcUbNNJEzMUUbmwv3m60ueXcVkW49U1RrRmS5DybiBujUY59hVuG71BLRvPuS8gG7IjXj8MVBBGqrv2gEjnNRfbjNDII18psH5pOgx/8Aro55dwsgXVdUNiZjdKCuWIZF5HPoPpVyyv757SJ5bjzGYZJ2KP6Vk2IM881rOC0ZUMWA457CrsU8SWykEJg7VDNgj0o55dxWRf8Att0X2LN8wHI2rn+VAvrnaczcj/ZH+FczqHiKz028l8pvNuGADhOenoelU9O8TBYdrWkqqxYne24+3FU3LuLQ6C+1LVvtG22ufLUJz+7U8/iKs2d9qAgxc3O+Tsdij+QrOsZ5p491xjeTkgdB7VoxYjJwBUOcu5VkPm1G8jH+uI5/uD/CpnvrkQ5WXnbkfKOv5VFKd2O3PNVrm4+dYIl+cnk57etLnl3CyHWerXzRD7RNly237gH9Pam3OpapDIo89AGPHyrn6dKanULjbwOvaqmpXEv2hhbqjsmM7lZsH2x3p88u4rI059TvUtFkSZd5HQqOv5VHHq12LYyS3ZHlruYmNef0qqR5mluuN0oU8Lxhqist01isc6bZWUAp14pOcu4WRt/bbryywl3cH+Ef4VDd6tPawR5mLSOwUAqMn36U23lM8UbKuwOOh7VnarexLeqnlySrEjMxx8iY9T604Tk3uTLYjn8TXySwqLgq0pK48tSox3ziqcni7VHjcRXOCkm3f5and+lUrcC4nkmfexjQGNQOFzxkjp0psVrFJpk5jO1lkZif7wrroy/eLm2OSq5crsbumeIdRktZJLucuSdqYjUfyFacmq3S2xcylSBk/IP8Kx9JhaPSY5GkG1mLBehqxcMZsDplSOnuKnET/ePl2N8On7Nc25dsNUvp7bfLN16fIB/Skk1W+N5lbnZDGSGXy1O48d8UsEflwopOAOap3MyuyMkmNzYCgc/jXNzy7m1kW7nVrxtPuJIbrypIwyqdinLY46imyarfpBH/AKTiQqM/IvPr2qBlE0UayL8jMDgDoc96fLCrvGc42mnzy7golsaje4/14P8AwEf4VFNqWoMmI7oxsehEanH5iqwkH/LLPsSKtKCU5796qM5dyuVCxajqHlrvn3HHJ2Lz+lSLqV33lz7bR/hVWSNkHcrSKCpJB4HanzS7j5UWJNTvgflmwP8AcH+FCanesw3TYXv8i/4VGIyykk9+lMZdi5z+FHNLuPlRdbUrnHyS/mo/wph1O72FFk/edmKjH8qqq3zDPNRW7mRpGPI3HFHNLuLlRoC+vUhBa43M3Q7Bx+lV5NauYnCNc89wEU/0qF5FYlVUk4xnnP51VtbOGDcwRg0hy5LE81PPLuFkaiatdyIGEmM9PlH+FPOpXgXJl+nyj/CqiBVAG08etSH5ip6Cnzy7hZGrpF3Nded5z7tu3HAGOvpWjis3Rl2mcf7v9a0666bvExlueU6x/wAhy+/6+ZP/AEI1Tq5rH/Icvv8Ar5k/9CNU6+ih8KPmZ/EzrNB8K2Oq6LBeTzXCySFshGUDhiO6+1aP/CC6b/z8Xf8A32v/AMTVnwd/yKdp9ZP/AEY1bleTUrVFNpPqezSoUnCLcehzX/CC6b/z8Xf/AH2v/wATR/wgum/8/F3/AN9r/wDE1tLf7tafT/L5W3WfzN3XLFcY/CrdR7er3NPq9L+U4nXvCtjpWiz3kE1w0kZXAdlI5YDsvvXJ16N4x/5FO7+sf/oxa85r0cLOU4NyfU8vGQjCaUVbQ1fDmlwaxqr2ty8iIsJkBjIByGUdwfWri2/g9hlNWvGGSMrGSOOOvl0eBv8AkZJf+vRv/Q0q7o/ia10jw3p1kI5rrUJoXeG1gUFnw5HcgDrnntmubE1ZxqWizqwtGnOneSKEUPgya6W3j1m6MrSLEFKkfMxwoOY+Mk1vf8ILpv8Az8Xf/fa//E1j3F3p8OjWto97bSapJqlm9yquNzObhCQPXH44rqpb/ULd4jPZQCOSZIyy3JJG5gM42e9c/t6vc6vq9L+Uzf8AhBdN/wCfi7/77X/4muIvIlt9RuoIySkMzxqW6kKxHP5V65Xk2p/8hvUP+vuX/wBDNdmFqTnJ8zOHGUoQinFWK1FFFd55oUUUUAFFFFABRRRQAUUUUAFFFFABRRRQAUUUUAFFFFABRRRQAUUUUAFXbKMtGzLIQRjIHpVKlVsEHnGexrDEU3ODRrSkozuWrqNWTLnO0nCOCwJz1x6D0oe6S1093dY2kmPlqUTAAPpnoOOaR7rMe0Ps3Pt3Fc46UydIrq+mmJ81YgNqoP4SOPpzmvnZRadmevGV1dEOsyYtPsnl4WaJirJlflTBHBznkj9a+d/ilM7eIIIiX2JACAfu5J6ivoa+22emyz3JkaaRSqquMR57ewJA9elfOHxJvlu/FRiRcfZoxGTnqev9a0hsdNE5GiiiqOgKKKKACiiigAooooAKKKKACiiigAr62+EeoRPpapF84kto3VweOBjH618k19NfAoZ0G1x/z6t/6MNZ1NYMT3PV78JLCInXeGOSAcVHp9ssNrjf5gBIVsY2+1SyMpzkAlf0pQCsPzcd8AVzRnJR5SXFc1xZSduAR6DIz+NNgjIjBmbcR3p6nOM4zQyFxg8A1mUG4FTt6Hr7ViX0D38ywwx8pxv9q1zgfu+gGMkUqSBeUVRuNbU5um+ZGVSCmrMiigEdqtpjfsXBboM1V0nyYLu7a227fM257DHXH41Z1eaRdLnWzYecRjHv2qHQrQWWl28b8llDHvljyf1pSlzPmY6cbaGpIQkYY8nHQVTjdpNSkdF3bUEZOfunJOPyNWXfzJnCkMI8AKehJGeais5AFbhTljkg981FkbdRgRonnmLKPMGFHvSQBsGSZt2DxgYp1yTLIqcD6UNhIQuCTnsM0FBNCJpgqsc4zjPaoZSIkkJm2CPJ9cgc4qQRAq0h3Bh70MsW4tMC6KGOwdBxzQIr2sTJClzLI0ksxygA4Ve2RTL27aTU4rOFWJjw0pHOM9qsmaR7WKY5ifbkJjj8ah0mDy5JpJcmWSQncfY8VQGpAmXAcqTjO0d6oedcDWBbmHZCFyHz3qxf6nbaVaG4f94SNkewZ3H096xtLW+l1hZNQIE4iLbQeAp6cetSxGteIrMrMjOCSQpHU+2Ki0dGjmkjkbd/F09e1XLw3CwskYUuRwT69qpQFotRjQr8zJyQeBipEWZmNsrhF2b26kdWqlBdrumkXcVU4Zj2/wAmr2oQQXQjaZ5ECNnCnqf8mq0MVrNJJawBysZ+cn+I9aBha25luYJyvlKmWC8nJII/rWm5ZIH8tN7Yxtz1oiXHTntim3lytpG0jAsIxlgp5I9PrQBl+ZI940axtb7cFxt+9n3FOdJUtbgM+12fJ/OoNNu4b2d7mFpCznLCVcBcentUkVy92G+QeScc5yT/AJNMEWEYpGB95j3qcZVQSeaYmI1/vE9KcuWOeMUDHc9u9OJAXmmrjncefSnMM9OlIBQdwwvB9fSongmbbmcKOhO3t/8AqqZB8xPtQ+QjNwTj5QfWgRFEN0p2JsReM4+9TL1yHCpufjaSvVQatwqdoGMNjkdqxHml1i6cpA8NurABmBDH16GmIvxyF4myjyIGxnvTYbKNJpDGqqTktwep59fenPcRWsfkRgMIsZDNk47n3NRws9xMQVKI/wAynuR7+9NCuEtyqSQRMQSWCKf+enHP0Gc1XlnSa7m2xNHb2jhdwbOXwD/7MKsXgZUjECpvCtt3DofWorq12wNtABlXMmOVyO/+fQUk9RbmY91DZ3N6/lLKZJkQAS8lsMS34cce9S6cJJY2fDDzc7mIz1qK5tYp7hY1VtsPLsoA3Z6k8H2x+NbMcGyBVgBVfUjoKtsaiRW0TweZNvzzgMT0GMVBqOoIoih2ScNudtvFWLtwlp5DB/mIPytjoc0y2iSZzNKvmbRxkdfwpWRZNap9n013UYYruII5ApZrofY9wPJBcuB0A/xppmurlnhMQCMcl84AX6VG8/2yANECsBHAYYOO2aTJ1JLOIZY/eZmJORVtF2sWXI7Nmo7SPy03sQQBgAdSaVpWNw6LgKGG71PFIZLdTCC1dm5yvyj1rMhf7RGc42iIAZXHXvVi6eSR08xF2KepPOPpS2tuoxgkoOFz0/KgAVvsjQoFbyo1O9wOOnXNZcccOqW74ikAfJLsOMZ45q9r7Ttp8NvDws8oEpQ4IUAk/wAqdAIQY4ULAYyOMce9AupAuj2aR4+zqT/OpBpsS4KRqCvIzV8bTIVHIApjSYjcpzzjNLUdhlnAEXK9TjA9asrG0TM7ZO7kCsbVbiRNNLxs8eXwMH7w/wAKzLXW7q1J5MmeDubNd9PBSqw5kcdXFxpz5WdTIyRxl5Ww0h4BpkVtIbo3MpDDbhFxjB9f5flXMza1dTTrJ8qleAAOtddBOPsyPIPmEYYgDNY1sLOitTSliI1b8pUM3mao6YGURQcnIzzS3GY5E4aR5D83HHtio12CTzowRJM2DkYpJJPP1URRq/ysC5zxXKdDRJaDZdtCSWdhubjgGpZ0W2uUZA2+Q4YZ7VYVEVmcJhmOCQOTWPrd3JY3MMz48kHa2DyM/wD16W5DZswjbEueRjkdK5nxNeXUsstnbbiiqPMVE5JPTJ9K6eLDwqwwQwzWHrl400zWenownJ3F2GECjqM1cNyJPQow26x6Y/ltIsnmM7gEHcQcYHoParmiQbPMjnU7Cc4I68A1HFAzSxrCwaMr5jcZPJz1qxc3ogkhRFwDnHOSfwqtWQvMuyOhYLEANq9PSlt4w0vnKFAxwMfrVa3QkKz4LyZ6jGR3q1Ncx20axKcyMMIqjgDNSzo0Ww9wpwJGZsngD9aiaKPcwXIboD1P1/KpiFhQE5dlB4HU81FmR2Lnkkcpn+tIBG2r5TAsCx/PFN3SMwUA4Ufe96fJzcR5/hGAPSnyDOdpHXn3plDI1Zc7lI46kU5SccnA9afIowMNwT2pi56dR70xkoJ2cng9MioS5V/m6UrTbWC9AOOaaWBIznk1QD85PDYpjrlsfqacpCngZxxSEnc7d8dD0oAQ4jRnboozmo7dfs9iGlYL3JP508kuhGee4Heq6TefpBkfgMh/HrQBLFK+0uwO3qBSecW2ALg9x60+MhoVGONvFNEXzFZSFXqMdaloB6SK/X5T6UvmrnGelMCZyN3GMdOaX5VTAB+p70AbOituWY/7v9a1KydDORP/AMB/rWtXbS+BGE/iPKdY/wCQ5ff9fMn/AKEap1c1j/kOX3/XzJ/6Eap19HD4UfMz+Jno3g7/AJFO0+sn/oxqv302pxyKNOsra4Qj5jNdNEQfYCNs1Q8Hf8inafWT/wBGNW5XiVf4j9WfQUf4cfRHKJc65/wl8xGmWPm/YUBT7e23b5jc58rr7Y/Gt+xl1GQv/aVnbW4GNnk3LS7vXOUXH60xbGUeIpL8snlNarCBk7twdj+XNX6zWy/rqzR7v+uiMPxj/wAind/WP/0Ytec16N4x/wCRTu/rH/6MWvOa9TB/w36nj47+IvQ6HwN/yMkv/Xo3/oaU8eHfEtp9geCPSo209ZVE5u3DOrhuv7rjBIPfpTPA3/IyS/8AXo3/AKGld5PbpcKqy5Kq27aDw31rlxf8U7MH/COHsdA1W70rTIGstEZLe5gma9huGaRhHKrnAMY5OMda1/E2qaZZTxLPqgtZxIjsgieXIU7uVUHHSrGhXFtbWsEXl3UcrAIyG2kC5z1+7j8a4e0ngi0B76/Tz9VuJAQ1w37mJpDje3oFJ59K5TsPSNJu7O7sw1hcGdQfmLZDZ75BwQfwrzTU/wDkN6h/19y/+hmuj0gXGneI9LtBJBOLqOWR57eQsJExlSeB/F35rnNT/wCQ3qH/AF9y/wDoZruwXxM87H/CitRRRXpnkhRRRQAUUUUAFFFFABRRRQAUUUUAFFFFABRRRQAUUUUAFFFFABRRRQAUfpRRQBNHL5aMSrFFQ4CrnLHv+WKIrZLK0Z1lHmSR52tjnHOD+dPtSqqzScheQKhltnvvMdv9GcnEbYBLD1x7f1r53Eq1Rnr0XeCKGpLLdWojkUMVTzppFbGxj0Ujv6fjXg/xO0JdO1SPUFZg12zB4yuNpUD+ea+jnsra2SFCyMsrgsCmS7ddxOfbpXknxWt5NT02RLC2mu5Wugy+VEWOBnJ4HArOPY7KT1seJUVavNNvtPKi/s57Yt93zYyufpmqtWdQUUUUAFFFFABRSlSv3gR9RSUAFFFFABRRRQAV9K/BB2TQrIqP+Xds+37w181V9L/A7/kX7bAyfsrYz/10NRP4WRLY9cVVjeSTKkt1I57UnJQdSSec+lQxlVLeYx3E+hwaWe5jjcIsg3gZIriJuP3Yk+Y4HRcjrTlkJdsHIA6DtUPz3Fyi4IUfeGODVmKCNI2BYEngHn8qC01YqMqQSmZSSWwNu7IJ9qmQHzFAXBX5mxUi28MThlQA9Bnmp9keVZW5x93pzSbuBQ1NSlu8oeNBt6FMsah0gyPbOjx7PJfYEPp9c1YvLf7Q+JJjsAyYwOv41BpkoMs9n5hZ1Ylm24BI49O9X0CO5fVRFu46gkgd6q2kmZCEQRgjcR6VffK2ocKGYKeM9Ky7dPLDSlzluAPSkaW1LWwefgZx13U53WIF+GwOgP60xH3sVJySCOaqIjOCuCRnBUHp+NAx8crz/u5Nys6kkj0qfaIUjOMneML3x0pluQ+VjwP8PSq91e+XeNBCryyeWcbSOD6U7AXjGkzAY3gckDuKp6hdR292xIYRpExb39h71ds7ZrS1X59jFcAsM4JrmbpryfWYv3jO0jZCmPovp6UWJLMkP9p6hawJGI7O0A2g9WbH6Yqw87QeJkW3jDNIgErHg4HGfpWpplkot3ibmUn5m65qZNDW3vGuwxLFcfMe3Wna6Ae2F4Pz54HtVGQv/aCJGoA2gfXk1PetIl5bRoCEYsWPqakJX7QM8leM+hqbWGTIu1iGfP8ATis3Tdi3Enl5bc2XfPfNaDqzLkfz61Xtolt0IX5W6kY60mBcGSuQM4P51zusO8U8SyiNFlm3AqSxYgcZGOPzro4XDDJ6da5rUw9zrFuFlOyM72yO56fShIllhdNU2I4baE5VT1HpVnTbfybTMu0sDnyweV9BVy2XEK7Rjj161Vnic4Cfu+ckj1NK4xsV0vlgyRtvct8o7VMrfNsV8NjJXHSmFPL8mJBzuJOTnI71ZaECZp3bLEAAAdKYDVQKuTkn3pxHQ549KE4Bz8xz6UvzFTgc44FIBy5KnBxQCPMIbhduc+tDvHb2++UgHbnHvUD/AOkz7Xj/ANH8rk7uCT2oAfORLbzRQSKHZCA2/GDiltkEduIvM8wkDhaqrFELZ/syiDdkLxnPoanCPbWp2jDBezAY96fURmX0qQaysK+W8k7AyEtynoMY9K1AxWNiit09OlY1tbQ/2xNcNGS7Of3pOd57mtdzu4Zto9Qf50AQASNCHaTZk5x6ipYfmiDc5C4x7VXaMPLnk7TgE1ajxFa+ZIdvP50DsQiCNCyjkcg579MVYUtGRswxxgKScVR3O148oztbGz/Gri/Ojx9dyEHmkMrXbRy3Sq67nA/h5X86If3RCxggZxye9QSBreNECsfm5fcBj0PX8KsOu2Mys23HJI55qkwTI9Tmkj0+UR5Jc+WMHpnv+FQ2VmyokO7gDLGppbV7l4QrYjjbcxz1Para4gy6rk9SP6U7jGtJskEOOBjPHXiqao4unZCcSSgnHfjH9KtWxmuZzJKNntTnYLdLEqhDncCDyfekT1Gag0ikKu0bwdu3lvr/AJ9Kl087rbDMSw7HvVK5Zzc+aF8xkG0HNXLdPKhbBxvOfpRYY3UjI8kEVvIAQS798jBGP1pLdSrgA+YQeT7VFPY3kiyC1cpJIMeYcZA9Kv6ZpD2NqizSmaQD5mPenyi2ZDcDC+XGSGfqfSltbJ0yzOdvRU7CtG1tmE7vIg56d6kuIxE4boM5x6VXI7XFfU5rXLdhHgfLFGvyr6muY/DB74rqbyaW9uXiKF493y4IrmriIw3Dxt1U4r2ctndOJ42YRtK5Lp6xPfRrOMoTz/Su1T5oNxO0lOQB0FcCDggjg561rweIbiKBUKqzA43H0qsdh6lVpxIweIhSupGxFMv9oh2bbF5YVBJwQc8n+VRalrcENwEgXLfxOuCDVcw/abFdQLb5ZZCqq7cLkc4/KsCaJoZ2RgQQeM1yYTDQnNqe514rESjFOB2FlqMEto9y8zMMngjpimarZwXtqHmj3ocOQB6c/lXIrI6KVViN3XFdjorTDRx56ln5xk9qzxWDVJcyYYfEuo+Vk1pPuhh25Ma8ZrJ1AiO8uNzsgbAKqSdxI78cVYhuhNZWcNoFlO4K6jjjuTUd0JrryFVhncDMw6ZXjBrz0rHW9SWygCWrzIgQ7VHA+9gc4qmlr9o1UyyuFSJCACOjEnI/LFbGYre1O3naTjjpVKJsL5btiRgXclA2M1SegWVywCnAhOOgJ65xUhijW4ErJyq8tUMS7P8AVjcWPU8Ej1q4RvQrntg4PSp6mxAzuSDGrSB2I3PxsX/9eKbI4SIIoY7uQB2P51LiRNkW4FUQls1TC53HCowxubrwfrTAsWy7lDyF1OCSCM5/wqVUUR8HAJ4zTI8iJgrbg5xk/wCFPVGLYPYdaSKHldvG7IA5+tMQM/3mAA5pHBOMH60q/wB0HgDP1qtBjiiNjKggng1GxHmYByBSnLHoR/dApNpwWB70wF2l1zjG04+tRyr8hZzv9qdublSc/wBKZPKURSi7y3H096AKklzczytBYQmPKkG4cYC/QVYit0t7Fbcr5iYx+JpImM8LMyEMz4GSe3/6qsuypbtIwwAOnPWkK4qr+7LhsAdFpkrCOJSWAZj3GailucMyqwVFxkf3vX6UpUu6yMcIo4X3NIY85+0bMEjA5z7USJvkCYxt6k0oUlywzuY8+1SSNsG1V3HufWgDT0ZlLTqv8O3P61qVlaJwbjOM/LkD8a1a7afwIwn8R5TrH/Icvv8Ar5k/9CNU6uax/wAhy+/6+ZP/AEI1Tr6OHwo+Zn8TPQvCFzBH4WtFkmjVgZMhnAI/eNW19stv+fmH/vsVk+Dv+RTtPrJ/6MatyvEq/wASXqe/R/hx9EQ/bLb/AJ+Yf++xR9stv+fmH/vsVNRWZqc/4vuYJPC12sc0bMTHgK4JP7xa89r0bxj/AMind/WP/wBGLXnNepg/4b9Tx8d/EXobfhC8trHXpJb24ht4zbMoeZwgJ3Jxk/Su2/4SLRf+gxYf+BSf415YyK4wwz9ab5EX9xfyq6uGVSXNcmjinShy2PVf+Ei0X/oMWH/gUn+Nc/PBoi6hNd6V4ksLJrj/AF0bSRyoxznIUtwa4ryIv7i/lR5EX9xfyrL6ku5r9fl/Kd7oX/CPaJCn/E+s7qdIlhE0lygIQdABngVxt/IkurX0kTK6PcysrKchgXOCDVTyI/7i/lTwABgVtRoKk27nPXxDrJJoWiiiuk5QooooAKKKKACiiigAooooAKKKKACiiigAooooAKKKKACiiigAooooAKPrRRjNLYdizAF2oDlSz5DY4+lNc/v/ACQJFQvxMg3D356H0wPQ1IzqbOKOQqcMWZTwMCprczXXMaKiw9IxwC3PevnsRJSqNnrUVaKRkahtluLe8tWcCAkbG7scDkdgAD+dZEVsk7RxRQNLPJK/3c8AZAJ9Bkj8q17gT/YZ3igjuGafYZWOAjY5A+lKlulvHaWzy24uZGBncHLEAE8/oK57s21R5h8WNImi8PyRgK7WsyyOQQcLgg/qRxXitfTXjLRIbq2mtZNojvIiAFBGPRvzrwbWfBOsaLC088Ky269ZYmyFHqR2rdaq52U3dHPUUV0vg/wsviO4le4uBDbWxBk9WB9+3Sgs5oDJwK9G8PeD7bRNNl1nxQiHywskUatnaOvPYknHFXlvPAvh+6ae0ET3dvkLs3Od3sTxn3rh/Enim98R3AM58qBMhIUJx16n1NAtWemPqGjeJ/DVzfX8CpYxllSSYDcvA5Hoc+leMybBK/lklNx2k9cdq9K8FGHWfA13okV0kV0S+4FckKx647+ntVUfCe5JAGpxEk4AEZ5NMSaR57RXpH/CmtU3bftR3Yzj7O2aRfg5qTNtW7ycZwIGpD5kecUV6G/wkvI32PqMat/dMRBqQfBzUiuRd5HqIGoDmR5xX0t8EHSPw5bNI4RRatyf+uhrzEfBrVCSBdZI6/6O1es/DnQp9A0wWl4rslrbks5jKhvm3d6ifwsmTTR6hB5e3d1yOpNQNaxmGSZ0MzKN2VPJA7CuNb4h2tvOI5kjQLyqNKAfbrTz8TdLNuYsqM9xcJXN7OSCMG+h10VwoZYLaQKyAM6yMN30xS+YftA3jyzvyRkfKPwNcTD8RNIikMjiKWQ/xtOu6lPxD0YS70jiGeDm4XpRySG4S7HdtKctI2f3Zyqj+KraoA5bBw3IHpxXnj/EvTXiVf3QKkEf6QvY8VM/xR0xl42B8dftK4pOnK5dpW2Ot1Cdbf5s/NgkAd6xNORrTxSYFZmRzmR2ydzFeQD0wDWMPiPpBZ2cRs7JtDfaF4qlJ440tlQo8aTKAGlE65bnLH8arklaxHLK97HpTCRcxoy7yMIWPA+tMjlidXWRcbRyQvHU81yemePbK/kjtokMjEhS6yq2M+uK2rbzGkukjO9WIwCcg+1TKLW5prcswyxyHeu7YOM+tPcQp8pmUAsTtzgmpHxZW4+UeYRgADgVWgtklkxcKHd+TmlYtbDJ5EhiaRJV3qoCqnv/ADpbOGK2kM0incwBGOp7U69tkiRI7eJUYEE9BgZ9/ak1O4W3Nu+4Mx6DPbpTEWJ7ht00jTxKAm2Jd3f3rMsLUWs4uEDM0rcu56n2z2qTUtN+1Kk7uyIvJAHU9vwq/o1rHNJGrEuqDcAf507AaWnwSLdSzbQI5FHzep7VbuJC4AHBPHNSlNkaqBgYwDWbqd0LS1nmALFEO0dKt6Iz3M/U7jy5GuZz5cNmMhg2ck9ePyqroFyb0PI7EhmJzjvWc9hcajpscLOyiRxJKDzu9q6TT7OLT7VY15IHWsuhRO/zKqKc5NQ3E6JciHq+3OB2qeA5kPoarXLoupABCZNuPYCoGTq2EyBjnmscWXn6ibi3OIS+Wznk1rXDpDp1xJLnYkRY478VV0f99p6naVGMgE84ouJl6NNqgDOaq26sS+RkbsZ96szSCC0kmxnYpxz1qtasbDRPtF0TuWLcxI609wJ3dIWRWxubODTZrjBRFUtu564/M1nWpa7WC5nchgoIA96s6hLbCMLclmj7ov8AFTAktZVuGZ0dCu7GUcN+NQSagGk8q3BMjdCOg96zoRfyxSR2dgmnWJON5OWOfatKy00WzEgZ+UAZPJxQ9AFFpJLv85ydwxknA/CpBLDapuG59g4Cgtk9O1O35kIyxZR0x8v507ytzAxyFQvUeuRSAyY7i6umQKhRSSS2McfStrKpbs87qqheS2MfrUcVv5c7F5N2egA6Cqv2hNTnkiSIGBP+WhPX6UdRFVbgXF1E0WGUDG5SAD+H1q3N9x/pzk4oWNQ7PGAAT124p0OJWZs7kJxyOuKBpDIomWZjJjA5xntTp3E21CfkU8joB9f1pLq5hSQKrAZ4I3Ac0QuvcEnNAyvNL5kq29qhVUYFmJ/StFQEyeOtVo1KSk4U7mzjHQVYDA9fqBSAr3MxiQKIXkeRwQ+PlQDnrTImN3bhnAMf3jjv6VbkeJYHefOwKcj146VXtZSli0qIEQISiYwAKYh87eSFjgA3NzjHapFYMucZyeKhhEkt4ZG6kYAB6CpyhhVQvSmCFnbyrORx97oABnmsvS4P3xmlz5h+8M5xx2qTVihhXcgZ+obupq1ZJsgUscsw6UAtSb7NHEjFfuqMnIogYTR8cZ6cVFq04h0i4kfpt55xiq2gzJcBZQSIwvp0HamkM2YlLXSbnGFH3fWtCYGO3JRdxAJwO/HSq4jhLCTPOOKsS7vsb7CA2w856e9dFOKckmYzdlc5aTxJqL3DraWLkLwRsJIq+usC7hEdzbT2zkYaSRCFU/Ws/wAOl4rfUbiWQCLnLk8gjvW1oRe+0xbmeIoJSdqN6e9dVbki+TlOWipyXNzGFqEAtbJ5bfv1kB4P0rnJ5vOKsRhwAD74Fej6rZ/adMmjRB93gYrho9Gup7qNTbvEjD7xHp1NdGDlClB30OfGQnUklHUzDRV7U7BLGfZHKHqjXqQnGcbo8qpBwfLI29JjN3ZOs7ny7f8A1ajrvPf8s1TtrKTUr0rDv2fxM3am6fqDWJkUZ2yDBI6imeZcRfv4WZUzgENz+NeeqU41m49Tv9pCVJKXQuy6Jc215GtsDMwO4sF+Xit+5tZ7mxETHbJ2Knbj6ViaPql9JdCFF88tk4bqK6k7iq7h8zdcdjXnY51L8szswqhbmgjlbe3fTb0w3s8YDqGiK8EN3z6UlzNdQTK92Eht4f4fMH70np9frTvEEOnJqMEkrZmeVQy5y3TOAOwrUjngkijE1s0hjUAFIywB/CuHodSv1KIkmWJpZiyszl3LZA9gPbFWppNuHUYZkzz0NF5ePCpMygN5gWME9eO4qtG811Mu3L+Vu81zwcZOBSe4I0IFJm3nICjvVhMRw4TGWPPNQxBlhBkGCQCxY5P0qUESwswGTxjPSg23EuHkMbpCQGIBDHofWq0iCYx8g+ZxjqMd8YqyXjeMRpyFHcd6bIdrLH0GMAjsfakA5Nrzqsf3IxtB9fWns2X2x4BNFvH5fGNp9PT3pbdRI5YDlj97NEnYLkqQCOMeY+SPeoyAmcAn3p7SEsx6ocbSaY7ZBI5xxSjd6jRXd5Gk2pnp19KeqsqYY96l4CeY+VXHzVDExkBL/LuJwBWiHcJBkHeMrjnFUP3xkNvFt8xed2egq9JNGLgQA72wScfyqjp7SQ6hP5qKQwJDA8jnpW8EmmZVJNNIuBltlSN/NbABZ9hIzUofdkAnbnOSDinOfMjZdzLweRTFcbmE3yjA4Pp61zt3NCrPBH80ZO0dTipfLLtGAw8uM5x6nHFRmWMkzom+MjKnPBqw2YiqM2SBjnjNAx6DyyAx9KqPLvlJcng8BRVuYlVyQc+9VvKOQWGQO9NAbOgYP2hgCM7eo571sVk6FwkuDn7v9a1q7Kfwoxn8R5TrH/Icvv8Ar5k/9CNU6uax/wAhy+/6+ZP/AEI1Tr6OHwo+Zn8TPRvB3/Ip2n1k/wDRjVuVh+Dv+RTtPrJ/6Mar99pUGoSK8015GVGALe7lhB+oRgDXiVf4j9WfQUf4cfRF2isj/hG7P/n61T/waXH/AMXVux0yHTy5hlupN+M/aLqSbH03scfhWZoZ/jH/AJFO7+sf/oxa85r0bxj/AMind/WP/wBGLXnNepg/4b9Tx8d/EXoFFFFdpwBRRRQAUUUUAFFFFABRRRQAUUUUAFFFFABRRRQAUUUUAFFFFABRRRQAUUUUAFFFFABRRRQAU6Ngsik+tNo7H3qZK8WOLs0W5nV1ImcRpngscA/41WMzRzSeWWcH5ggY/OfXH0x+taM0CRLaho9pZNzVTvLsSNGixEyISC44O33NfMz+JntRvYrvDG0IjMghjlIKBx97BHB/M1dLWdlNJJFG95O21GKDAXn9BxVC6lihWF5IfNmVXWMkbxHyPmwe/aqlzqUUNusV1E8lwWDsHO5ceuD0OKlK+xaTbM3xi1y0119l2mYwEwndnLY45+teQeGPHEsVzc2Xiu4aSFwVzIgO09CpwOleleLfEdvp2m3F7tWGJATDDgcuRwPfmvnqeZ7i4knlOZJHLsfUk5NbrRHXBaHf2vhfwbq0jwabq8onP3FZh+gIGa2vDGix6PFf+H72Ni9xlhcohCyxkYxu7Ec8e9eTW8zW1zFPHw8bh1+oOa70fFe58wE6XFt28jzTnPrnFMppnIa/pR0XXbmxO7bG/wAjMOWXsaza0dd1mfXtWkvrpVRmAVUXoqjoKseFLC31PxNaWl6nmQux3LkjPHqKQ+h6J8P/AAzpqaTaatGC94yM5lLkBeoK46V7H4ca+SCOaVBJEikQKqhQSf4ifbH61zumaBCILe0tWaL5VCRxx/KifWuxhk+wwyW1qskot1BG+TCcdwD0zzwPQVjN3djnlK7KUE9zIt95LN9qkkCli2VXjJz69MAU27uVe2+x27TlWXbI2dqAnqCOxqvpon+wzzyT/Zi2+WNAxIJJ647Ht+JqWxsjHYW8LEEXUzSeZ91uh/I5pWMmSabpNkyw+bA7yMd0kpf5VH+GKl1C7eW8CWqCEryEGMCtGYiOCRreEMUXBjLYVsDqTUOn6YtjLNc3EcVyxQlmH16CoYzUs540kijK7nnXJbrj3JqXULQf2deFnOBE2wY68Uya0LxgRzNCSB8yjJQeg9KS5mcaPOC7SDyWG4/TpWfXQ3jtqfLXjj/kaJf+uafyrnq6Tx1E6eJGdlIWSNSp9cDBrm6VT42fZ4T/AHeHogooorM6gooooAKKKKAPQPhUN2pTr0zJGP1NfRdraJYI4tyRx1PU187/AAk/5DEmRn97F/M19FSFCViySSMnmt/so+Xxv+8y+X5DEbKyCR+XfgHtVv8AdW8JmJ2qByarx2xTnjPIyRmq9wykzvNLL5cShGCsRk/QfWlc4yKK+eXULklkxs+Q4xkYzVXWJ1vPJdxJHEMIHJwC1NtLb7Uwe2dw8h2eaOGC4P8A+r8al1Cz+0XlhZqskjiTOzPygY6mhagdDZ2//ErWbYcMu3FR6IGGrTLtOzbkMa2ktylituOGCYqhommy2DTPdcFsDcWzn/CtUtSObQ07thDGX79qwbxGurd4SSPMHLHkVpahcq8exOcH1rGuZ3DDZuAA6D+LtUT30CKYy2ljhi2rgAEjPrjipY5xPM0Svu8v7341TwI7iJGJLSHBHTAzk1rfZo7V2aNFG45baKRY6GMgj/OKryozXQY8kii8uJ4rYi0jEkjEdTjA70yFJ23yO+GPRc9KjQRYk+a3dJVwMcj1xUFsXC4OOecDsKJorh7R47ecq8o272P3Qepq5DD5Fuodi2wDczdzSeoiF4TdBUJwgOW96yNWS41acWdswWyRR5mOrH61rQy+bbkxHd1Uc9TUNtClrGEH+s43ADvQtAHWlklraRwoMhFAH0qdIlUrnJOeAfWl3Mi8ZI9c05RxyetS2MgK3CNK1zOggwSEjHI/Gq0ck0znMmIAu4Kp/nUmoL9vVrSHzFQnLyA8AelS28IEewA4IxzVbiK8TM5eQqSm0qqj+dTwOY1CnHmbcgHjiplYRKWBCqo65qrDuZvOZ+X559KAKd1e4vJI4iI5iVVZMZA9at2EBhtwiZBA27sZqq0Mc2pSSlRiPIwO5x1q9MwjthH/AAgfMd2MUAUkknn1CUswePIC49AMZrQd0trYuFLbVwOO+KrwYgtyypkscDHGBUWpXQKm0iyxYYYj+GgZVijMuJLjBdhk46VfeQQ2qLHHlmY4IqG2t2FusjjBUck96tJHuZME8LzxQxixowYbxwe/arSQAKWwOB1ojA3cfdx09Kh1e5W10W7kk+RRERnuCeB+poWpDepG0sUsyRIytuBbPYAUl2Y/srKfmBBAVT19qo6HAI9LR3ALbANx5JFJqvzxbItyHk+Yo+7gcEUDRetgyL8jYJHBFQTzuLplVmYKMHirVihW3h3DBwM+9Z7vu19ra3fhQGm9+OAKYi9DAvyyS9jVK3vmu9Ynjjx5UbbRgVfn3LAyJnO3j3rN0QBEVgpWQFt+09TmnuP0H+LDEmiC1cjzbpwiA+3U1qaXax2WmR7ASGGMHua5q80+71zxYJCzCC3UKqnkc9T7f/WrsjAba1jj5wBjNWkSV1kuX1SGKNf3YU72x09Ko+KdUMVkLa3uMSMcOAe1M/tyODVPs8JklmLhCEUkE+hPpWd4g0a7S5kvFi/dthmC8lSa7sIoyqanLjJSjD3Szo1k/wDwiuoF43KzIcBRywxXX2GDp8BA/gFc/wCGp/8AiQt9qnHlglRk8rW5pgjTT4khk85UGN5GM1VZP2jYqDTppFiWVYwc9cdKxp5vOmKt1x+lXL2ZVLEjAUdc1jW0wuw8wHGcDiuGpN3sdUY9TndZkLsNygOGbkemTisvt7V0er6VJcTloVVCo4QH7w9f6fhXPlTFJtYYZTyD2r3sFODpJR6Hg4yM1VbYzH40oLH5RyG4xT5SZG8wrgHgYHFRg4OQcY5zXZq0zkWjLCm40+4SUh42HIJ4yK7O1v4rqNTFIpcryoPOa5fUJFnsbdw7NtXG5u/rWfHK8LbonZW9QcV5tWisVDmW6O6FV4edujOl8QW0a2Ju47aKW4hOQSM4XvUy3P2vSllRPlK/dQdOKpCWLUtHZrppA0Yw5ViAfc460ui3QRDlsRNIV34249FArwpwdOXKz1YzUtShawXUhXzfMhaRwE87jIJziti9lj0yFY1PytnaoHTHJJP401ibzWRGVPlW43kvzubsOfzpLh/tF55hPmxRAoQy/KD/AF7UupbHJFLPMXlkOwD5yx+/3GPTrV9pEXahAA549TWRavI91vYtJCrMAzNjfjHb05/SrFvFPJdme6QwxJjy4uueTk0ik7bmqvOMc9wKcUQKuR82D+dVZr1I03r8xzwAMcVXu7thKjBSUOPunNCi7ilJElzdiN4kRs72ClfrTo7y3Vy7MEI9axpblPtwU9B8w9u9RuT5UszjIZtyt6ir5FYwdRm9LexDYobeMEnaaarSzw73gZU37gobBAFYUDJDchrhj5UPHA6npXQm+giiUltpIAwTnk1Li1sa06ia1K0+pXEgaCC0dWH3S3P41JArQRorq24H5sjvViO8T5jK2FHbdkn8Kpx6i0yyzPDJDGh2qp6v74/GizNU0PMeZGPRpDn0IqGCP/ics6qQgjwzH1p1wqCHzZJWjZjhRsyyk+9VbWOa2aWa4uDsdgoQ/Mzc/pXRTS5W2Z1Je8kjXEyGJyMPwcbTWNBcahqGos6ARwnGUYZYgVZkvbSGEoJDFKyNtcR4NNtrqCzjd/tW4EABjyxPoTXPZmt02XIYmRT5y+xZTxj6VClxbbnEEu4bvmw2TmoX1WJrKSOSVZCAEDbiGc/0qM/ZLBGeWzWKLdiNk+cv7mgZobR/rCue3NKQPKPfnFMgbfAH6AjOCMdadIzbVEY+UDJbPWgZq6AflnG4EjbwO3WtisjQgN1yV5ztyQPrWvXbT+BGM/iPKdY/5Dl9/wBfMn/oRqnVzWP+Q5ff9fMn/oRqnX0cPhR8zP4mejeDv+RTtPrJ/wCjGrcrzGw8VavpVjHZ2cdm0Me7aZY2LcsSejD1qx/wnWv/APPHTv8Av0//AMXXmTw1RzbR6tPFUowSb6Ho1Fec/wDCda//AM8dO/79P/8AF0f8J1r/APzx07/v0/8A8XU/VavY0+uUu51XjH/kU7v6x/8Aoxa85rUv/FWr6rYyWd5HZrDJt3GKNg3DAjqx9Ky67sNTlTg1I87FVI1Jpx7BRRRXScgUUUUAFFFFABRRRQAUUUUAFFFFABRRRQAUUUUAFFFFABRRRQAUUUUAFFFFABRRRQAUUUUAFS2ybp1JUsqnLAVFWjp3+j5lbcGxwSOKwxFRQp3ZtRjzVLFu7uBcxxyvb7VGBhxyw9qzziNXCAIspzI8z53DsAKsTXDuTk7dq8Owzg1URozdhS7NlwvK8g47e1fOO19D1kPaMsGV4o5ZoSNs2wZUeorkNf04XNqxu3eQXiusnOMA8cH6V2s5aK8SRHhRdpV0LcuMHHHbpXN6nbz/ANm+bLEjAtvEgY/KCQAAKcHZmkXaR8za5eXsuoS2l5eT3KWsjRx+a2cAHH9KzKv65/yMGof9fMn/AKEaoVsdgUUUUDCvSfhTocVzNLqRkDzh/ISPH3M4+bP44rgdM06bVtShsrbaJZmwpY4Ar6T8DeGIUhjt7YCGO1QElCF57sSaTdlciTsjrhHc2caWdnuCJbqJLjyww6nIyRkfh6VBNZxTabCI2cpBKCVGf3h7AfnSX7zuttbW02YpBs3OWLOxPJOCOPwq/HCXheCXcWhOWZegYdh+dYxtu2crb6GdqMssDW+nxTeZKzlrn5eY1xyDj6iporC6v2JEyxxkAo7p0A4C/wBauw2kCRHCyr5/+sKjLsfcntV+2gQIolJKkgqq5OPriplJDUWyylmn2Ly4yiKV+Zxgg49arQvGlysKyRsCMCNBj8zTL7UPsTCP5ljboGGN1ZmmGRXYyI48z5t7/eB9AOmKSjcbnY6JZEMkpieN/Ldg2DnvwKZFDugEbHYP4lPIz6VmSR/Z7V7eJQGkBd/Lbv8A571q25EsWS+4YXOOdvGetZvQpM+ZviaoTWLdVGAA4H/fVcTXb/E//kNQfR//AEKuIoq/Gz7LAf7tD+uoUUUVkdwUUUUAFFFFAHoXwmbZq0rHtJH/ADNfQs8kTKhLMHj+4T6mvnr4TY/taXPTzI/5mvfoUC6k0kuwkH5FBJx71s/hR8rjv95l8vyNGSQoiInzNjJJqghaATtJ8zyuThcHjjnBq1Leo27ZgoBlmPp3qlo0dxqkrXyqiwqzLFycsO/tSSOPUniuo/7VFtGTlFBLHqeK3tPSI3RZEyyjlyOa5Oa3v7fXomjtlZ5j5K7m4zgtnP0BFdIlz/ZsCW+Q9zIcsfQ96uKsxXubcsyQLvc844HrWVd3plXCZVe4qleTyLaAXMpE825QV6D/ACKhml8lYE5LyHH/ANerlLsChYsBlT5mKqq9Sx4qGK5juGaQY8sNxg9R61C8yvdLC0DsoGWJGF/+vRCixoSSxQtkADGB1xis2WNtxCupedsZ2HIO4kYJrTEvmzv5sowo3MB2FZTNcG43OiIrLxzyoycVPLcxRRsnWYpnHdvQGhJtaCk0txXvRcXQjgA2qT8wPUf5NX4I8qzP0FZOnacLaXzWLb3GMeladxL+58teAfvEVmIbDdQTTSJEQ4jxkg9DVbVr4w2V3hCY44/mGOX46A9qi0uA2txKGQRrJ82AO/1qzfwLLsB2iNnBfKklsduvT60LcCpp0zQ20bXBWN2Xd5QH3Bjjn1p+m/abmNbu6ZsyfNsx09qq6ZE97qs9zO6mEL8qEYRfarFzeXFxOsFgvl2y5EkvRifQe1PqBotJyVYY57U4EgfLz6CkWKQsCwGzy+fr60yJxuYB85+6aloZIy4g3Nxk9uKibJXhsPjILHpTdSuvItDLIDsTliO34ViQzXWvFkhR7exYYaQjDn2HpTQFu1he7txbtLutg5eR1P8ArCD936ZrVSBVfdGOemTzgVHFFHbwqkK7UjAHHSpkfZG7tg7R0NDAzreJk8yW6kClm3OduAB6U6ZVukGM7Sc7SO/rUc9zJcXEUWAoKFmI6A9Birywl4/k52/LmgRDcf6NaD5/mA+Tb3PrVeys2bLHjPLHHfNWmtUaV57piI4hwAeOKR7l5YY47YBTKM5IxxQAyQS3UyCOTbBGSGVR96ryN0AOBjBOKZDbiKJUJPHU+pqyoRFyeO3NTuJsjcFYywcKByWIzWJfQXt/amI30ZhkyXVox9zBx79cVZ8RalHYadkZeWZ/KjQcZJ7/AEqO2hkttCkjmIaTyyCT/ePH8zWmyEP0SRX05F5ZU+UE+3err2/zfMOO3vVTTUaKxhQ4DD7xA61NcSutu8hb7g3HnoBUlouNHtUHH0xWNp0G/Vr2Qrt/eEYz1I7mteKYm1xk5YcetU9PhWC6nVXLBWwWPJY9/wBaYi48bbMKASR35xWXpbO0zhtqmOQggAAYzxWvKuPnyQMZYCsGG5SO4YRR48xizNnvnj9MUIa3NlJkt7lyAATyaQ3z6ldpb2rllJIkdRwuPeqX9mS6jcG4aZo4tyghOpAzx+tdNaWsVpGI4UCj6c10wjciU0ippOjW2j25SAbndizyNyWOa0fLV4yrjIbrxTsbqULjvWy00Rk9dzGPh2Jb6OaFykSvvaLsWrWYBIyenHapM9qilJ2kcHjvTnNtaijBLYxrhPMdgSfm4yDUFrEkEzwoOFIPPuM1YkVxKRx+FMdRBBJKxwcZJ/CuBvU6Chqd2YVjdBkZIbA6CsDXYtl/vCkK6Aj3966LRit3bMbxQSWyD6VDrmki8zLG+0xKAo7HmuzBVY0qvNLY48XTlUpcq3MCcbtDt2UAbZWB45PHWs+t240m5h0RNoLMrt5mDkAHH+FYkcbSSBUG5jwK9rDzjyyle6ueRiINSjFrUlWcvbrAzAANwT2zVqDRp5nIGQMgA7evvWhZ6LHbos11JiTbnZkVvxoUjXI5A4xivPxGNjC8KJ2UcHKSvUKhigtdINvJh3Ef3AvLke1cxb3kVy7ReUyMzgCPBwNp+97V2EtusoLMPmwcEcYrnoZLXTbqRHhZj5hIIXop5yew9cV5HPKerO+UVDRE+nHzLGWWbgmVj8xzjnpn1HSpNCuXnaUGNo4UztzTBGl04t4JWRGYSbARjnk1fEIhk3odsaDaAOhJ7YoCK6kL3ii4hEW0qzsGI5JOBzUM+sWkcyr5wmkL42xsSVGDk4qs9k1pdG6ndBu6Y9RnIFVobWR9Tlmhi+zpNGAFQD3yc4z3FXGzIk3cuC/BWS4iXaCPlUjB6jqDVeK8kTjBZU+eYcZPp9BnFC2ohDBmXaEUnccsoB6n1zxUMk433My7pFaSNiCR8oXnpjpxWiSJavuST7jYXDwhS08rKIwOZGIwBntirElpG8cGDujjjLNtOd5FRS3y29rFPaQxHfIZQJgTgnjIAIqWaYpDbW6KdzAKeOef6VpoPkTD7IluipLcRpJgPKGHLsRTLja0sUVtKJGRAZMNgZz1NRzXayWxeMrKJ5mCOyMffA56DtmqdndLc2lxBICXSTDuBnZg525+lDsHKkaFwWlmJV0kCbRhSD3pPN3YUwqZVOQxHH+eKp6dcI128ggjCQ/Mu3gO3arVxfI9kCVRZS4QEZ+fv61DsLltqmWGnnlQq8wUyAfN1wB3HbvTbe5tLWJrjBkcHblmOTWUZxIzG4OBtGQp27cdqSOGa8kj8pD5YlDcDGcdvpWd7CTcjQkvluLkiGEBkTdhQCSPQmrQmjEcDyRbBIgYrt+6c4FQ2umtHeXMlxykykbQeF9qtCNjciaJd+4ABH6DA4A9KnmTNoxkmLc2NpfJv2gFgDvRtrY/Cq8NpPpYDwvJNG3JTIOPzqGS9hicWQ2lt4U5BBBz1BzV22up4bhLW6RZCI1DtnjPpSNb3YPqPnThEYAYOQMfLVs/6kSXAwo4Rf61HDpltFIzqgOTu5PIPp9Knc+YQ0gBxwNvTFI0Rq6FL5jXG1QqAJj9a16ydCAxPgY5Xt9a1q7aXwIxlueU6x/yHL7/AK+ZP/QjVOrmsf8AIcvv+vmT/wBCNU6+jh8KPmZ/EwqW2tbi8k8u1hkmf0Rc4q7oWjvrOoeUCVhQbpXHYeg9zXpNnZW9hbrBaRLGi9h39ye5rnrYhU9FqzpoYV1VzPRHnX/CLazs3fYWx/vrn8s1nXNrcWcnl3UMkL+jrjNeoy6pbRaxBpjvi5niaVF9lI/x/Q1LeWVvf27QXcSyI3Y9vcHsa544yV/eR1SwMbe6zySitLXdHfRtQ8oktC43ROe49D7is2vQjJSV0eXKLi+VhRRRVEhRRRQAUUUUAFFFFABRRRQAUUUUAFFFFABRRRQAUUUUAFFFFABRRRQAUUUUAFFFFABRRRQBLbQm4nVOAM8mupk03zNOCwurlRwFbtXP2ibbV5cScMASgBOPap7TUWgMUkbSokkmAjAZ9u9eBmFSUp8qPVwkFGHMyG8umhlETQZYnATPI9zTbaKS/lYNtgigIIcxnLP+fbj86mv7uK5YrKSpkydyodwAJB6VWRpolAinlliBAKoAWY/j+Fce6Om1mOuPD8cbNdjzJp2BVyWHA7444rM1wldNeMA7AF2jOdvI6nvWtawYdZpEuvM5bbuBC57EZ/ziqfiGMpokuERUMisGBJLc9MdvXvRHctLZnybrn/Iwah/18yf+hGqFX9c/5GDUP+vmT/0I1QroOsKKK09G8P6hrlwsdjbu6bsPLj5UHfJPH4UDE8PwXk+u2o02NpJ1kDgKccA85PYV9L+HbxYYrmG4iLpIi5CH5gc44P41y3hXwPa6Zar9jiTzI0Iku5BhnyeRx/Ku60zRN8cCwqHZv3jsw7dh+FROSSsYzd9EbtjYxNNHcRndwCpk5P0rYjgjjjLiL73X396z7ax+zpHGJWJUk5Pvgf0rWR1C7SM4HWuKTFFaDIyi7NigZ6cUkgSGVY2fEh52KOtTSlUUeVyNvfjFU59QgtQJLy4t4w427i4yaIq49iK5t4ZZONwZWDAnHFZN5LJYyFbd/NQ5Lbozkf8AAs/0p994n0lZI4RPmNRyyAnP4ikXxToqrgXLbSMENCxP8q2Sl2M2rkdlGqyPJMWmMpBMsZwBz0ArYkmt7HS5fs4IYRMQAcEEAgZrG/4SDQUDsZieu3ZG2f5YqF9VtbuwcW778xsXYjByR0NNxfUSujwDx9dyXHiHypMYijGD3O7k5rl67bxT4b1TUtdkubO3EkTIoDGRRyB7msV/B2uRxs7WYwoycSof61nUjJybsfY4WvQjQhHmS07mHRSkYOD1pKxPRCiiigAooooA9B+FH/IUm/66R/zNe8OXF6yfJvYZAVMFSffPPFeDfCrd/aU+zG7fHjP4173pdo0tz5xcmQkFsnIxjtXR9lHy+N/3mfy/IstoDXKpCJCse0BscZFbE0sOm2BSFQscQwAB+X41byqQbz6Y4rn9Znk8+OFV2x8FueTz6UbHH1NZCsiRXL8ylcgf3Qf61ntN52psSGCRjapYdTV2NiYwP51mST+bfysfl2tsVc9cd6LiS1LCRJcXhmmdsLwFPYVCqebqhYsTtXjH8HtT1REdpWcgPgN3JFVNFuXhthPdIWmmclxjoTSGalwVt9pY/NIcBfWkKb43SOQBkIzj1IzWHJJJf60wlkJ8pyu1egx6HPWtyO02wsIfvMdxJNJgZro63MJkddz5yqg5b8z+lWre1Z7zDAZBJdm98Y4/D1qSXyYJi7AvIOAF7GrtuuJGdhycdKcZcpE48xBc3UMEywglpWONobJX3NTgqkJcjJxjaT1rnI4pX8VXbzbQq5VdpJP8PWtbUDN9jaOIA56v0IHfA5qGtRg8hn1sKuSqoMAHr7VauIlngeKZ2VSMEr1HvVKxVYrc3TRlNoIyzfM2Pb/69LZXyyhFGfmY5yOaQE9qsFvZzSSqsUIXc6t29aq2V9FeyeZblTH2A+6KPEjKumCLcyvOwQHHGfpRpFgILWOKJQFVQBgUwLGpXojxETmMod6r1H49qz9IvnnUD7OUAbHJzj0q5dWO8SnOHkXacGnWNkLS3REO9x95vWgZbYRtxIo56g9KZdTrY2DvDGHdVyo6DNSyJHEhkmbao5qve3ESWheQhUV/nBHLAen44pCZShe+uzE1ywjQ4JCjgVpswVgAN+RgiqUDte7Xx5asOBmtIvHCMysoGOhPJoYGaYbgF/s8QVuNryDIx3/KpoJfstqIyruF+VAT8z+9Mku2msZJtzRqxKoP0p8PnNYq6YDg7gcZ4oAqyfaL9jFMDHGpzhT97/GrhVYEBJ+6AigcAUyyWUQu9wQJANowc/jzTX+a4SEEsNu5j/KhgXkO1d0nAB+tZeoTXF5OkZspEtlb5pony34CtRSuCcEj0rB1nXZbaxlWO3cPMSsXygex7/r+lOCJZlWrza14njaZleKzJVQDkcdz711koBjKsOSPzrM8Kad5Wnq6qfNl5Zj1I961JBtmKH1obuxx2I0UhwpGBjIApt/tisGMnKMQHPoueSaFV2umldsKBhQKp6yk92kUKHEBcGTH3iB0xSGy89zDa2JnY/JjEYHBJNZmhvcST3DyIUQnjJyc+tI0c01xHF8zR4GMjnP9BiteCFYUCrxnrTBXLEkgjG8nhVye3b1rmbeYuwkEYfcSwYHgAk/ma6C5mS3t3Z43kGMYjGTj6Vh2SlFkMmIwX4DEZx2GKIgtzodISSVJQZFByMAL0rdAOBnriucs5hDOqRttLdRW5FMCuC2T3rppz0sROPvXLA6UFgDUZY9BSYO7mtOYgc3LDnFQS85O7hRmpTVfObjyic5BP4VEk2NFAsWlz0qprEzx6d8q7i8ir+FaVxbojKybsZrC12cpcW4OWjBOFUZJbtXM1Y1LtkCsYwoXPb2p2pzCDSp5GBOB0Xue1PtlPlBn64qrrQWLR7oK5ywyAWxzUrVkyYmlM8+nIJyrMy5YZ4NOtdFtrWZpUBLMc/Mc7fpVbR7jzLFMbVO0E89K1I7mJo3bzF2o23J6E1SqTXuxZEowlrIwtbd49QjcQymPaYzt+Uc9T+Va9tKzwrgDaBgE1g6zdzXN0YmePaG/d9QOQQM9c1r2TJ5caFuVXJx6ioasrFR11LuMjB79xXM6oUur24tzeSRvv2osSbSvqCSDmuhuriO3szKzrn+FSeprkb2+12CzuJp2gjMgxEsaFmOT1NVTsiJq5NLdQaVcIlzMEmXauM8kY71btLiXWIJpoiSofYFDbeh6jrWPLaJFJb28ha4mZfNeVmG0nAGM/WustbKGGwjSACAkbvk7k805PUUCHVbNr3T4lZ2iEfJ5yOPfFc9GZv3kaSsFzhZP4vdf/r+1dHK0yLLbvIrkjcrDkj/PNUnMMU0Xm7duzJcDLA59KcdCJWuZN1dNFpcu+GS3MipDGHYFwN4yWPT9KNQKw2LiCRApiZV7ZOMZJqS7vTfRXFutj5sOcrKq/NxyOCPX3qBp5msYlS1WXauPIkGAG3Dg/wA60UkLlbJboCbS1t4mBldeW6soxgYGfWqqXdzcyo7gpKjjaxPDEfw0XVs7ahbBYvJnZcsycbMe3cVa/sQ3F4sUrN5CZZZA/wA278uKHISi3sUItVns7XyYwrmJ227M4yTx+lR75W1VhZzR75ly+5DhWxyetdFaaJa2Nn5YJdt2Sz8k9qcbSC3kZ4oMSScZUc1DmX7OTOcupQrCOznYTAfvDnqe/GOlTMsj7LdrjaNvm5EfPOBxzx0Nb506J7hZiuCOo29alSzAmaRIh82MnHQCp5gjR11ZzktqLWZNpAYsNhk+beO5P61oWrzNcFbVWRn6I7c49elaN5vm1KEQIixxZU/7RP8A9bNXbe0eOQTYj3bSODn6c0uY0VNR2K1lBMqtJPclgG5AXj6Y9abLqcCz7IEkcqNzOoq2j+TGz3DADOSe3Ws9r6zlvWgtvNYj7ziMAAfiRmnZGttBrXMcl0kHkoY4od5cjLf/AFqWwktry1ku7ZWRpCdgkPPWpNStpZ5YktbQbGXMsrHoPTaOp/GpFs2tX2WqDbt2Kp7Edge35c0E2LsFwmwLvVjwMgYxSzMEUHqGyAo4P51Rit71ctMiNtZsKnVR2xnrx9KrmSSOTmKZTNnh14XHXv1qQ1Op8P8ACzrhht243fj3rYrn/C7M7XTOGyyxnkcfxcV0FdtL4EZy3PKdY/5Dl9/18yf+hGqdXNY/5Dl9/wBfMn/oRqnX0kPhR81P4meg+CrZYtAEwHzTyMxPsDtx+h/OuhrnfBF0s2g+QD81vIykexO4H9T+VdFXi1r+0lc96hb2Ubdjw3XfFr/8LO/taFi0NnMIkAPWNeG/PLfnXuEUqTQpLE25HUMpHcHpXBXnhrSBJfaa2m25vbi7UQSmP5hHL8xbP+yBJ/3yK72KNIYUiiUKiKFUDsBWRsYHjW2WXQDMR80EisD7E7cfqPyrz6vQPG90sOg+QT81xIqgewO4n9B+def162Ev7M8XG29rp2Ciiius4gooooAKKKKACiiigAooooAKKKKACiiigAooooAKKKKACiiigAooooAKKKKACiiigAooooAtWqySwyxxy7WAyq4+8fSmtLeCRIzbrt2YKBgdp/vc89aiiuBbbpChfA+6D1q3E016gnkRIS65QEhh0wehOMH1rwMbBqrex62HlenYqTyNbSERTSTXGeEjX5hnk9cAde5qXzibFpXtZI5S58zYQNo/yaabdorxIo4iAU3vJ5gJcjgkeg4qCVAGO37Q0Up3Flbfuz6Y6Dj9K5Ddk9rciRhBb3jTOAWfr1B5H6iotfmd9FlMsBR5SCM/wgMOf5fnVoWDNPFhNiKp7gEsO5745/lVPXriRtAELID8wberBhjI6ke/ahfEjSJ8o65/yMGof9fMn/oRqhV/XP8AkYNQ/wCvmT/0I1Qrc6y5pOnPq2rW9jEwRp327iM4Hc/lX0L4U8PWOk6THAZYxBbjO2SUK8p6k4718+6HqI0nW7W+aPzFgfcUzjIxj+tfRnw41DSfFl/Ewhae3lLIVkBUowGazq1FTpym+hMk3obK6yJHSPStIJj27SgBbf8AlVy08Yw2FjIgsGjvFOFXPydfzH0r0SxsLbTbUW1lEIolJIUeppZNPs5ZvNltIHk/vtGCfzr5l55T5n+709dTT2XmcBBY+L9YkW9G23XHyLIQoI+nX86lvI/Gtm8f7tJ89DAgbH1r0KiuT+26/NfljbtYr2SPOm8PeML9l+1XIjSX7+ZR8gPsP6Vft/htaCP/AEy+mlfPVAFH5HNdtRWNTOMXPRNR9ENU4o5O0+HmkW8paZprgYxtkYAfpV8eDdCEjv8AYV+bPBJwPpW7RXJLHYqbu6j+8rlj2Ocm8FaOlrP9msgZmjYR7mJw2OP1rz2zuW0lJre+tZFO/kFMc+hzXstcT8RNTtDpi2Czq1z5gZo1OSoxnn0r1srx1aVX2U7y5vN6GdSCtcyorCG4jSe1tUmjuGXDHHyjoeKzfFeni001mVdqhto+UDPyt6fSt3Q7KddARYJI8SoGXKnKnGSKoeJzJd6WYDHt8oq+3B5GCD/OvrYwk9UcPPaaR8yS/wCuf/eNTWun3l6GNnazThepjQtj8q6q98A3C3XmQzK0TyjKbcMqk8n3xXpPhHwta24t4QFW1LHKl/mY4JJI64461zKk/tH1lfM6VOCdPVnhtzpl9Zxh7u0nhQnAaSMqM/jVWvpTV/CEN43k26R4lfasLncpGM5J7V5R4t8CGxMh06Hy5IC3nRluoHORmk6el4k4bNIVXy1FZ/gcFRRRWJ7J6F8JmCatKzdBJGT+te96PI6tbySrs86R8c9VB4/SvA/hOpfVZlXkmSMfqa9+IKzQQlQrRPuBYgYWulfCj5fGv/aZ/L8jeublYIufm25bHrXNXVzJe3wlEQHmIArg5yAf/r1oXd3EWVjNGXUbQNwxhu314pDbxrKJPvOqkIoPA/D1pbnFZInurlla2jC7A77Tu54wfT3rNgdrnWLiUnEUbeUi44GO/rSWrSXPiApdniGHIXHQk/4VrRxxo8p8sxouSzY9O9AyK/u4rCxMojLyY4Ueo/kPeobSVp1klki2RA/KD/EPWoteuVRbO1ibMk8qhlC5ymeea6G4hiW0Taq529qYGFpFsrW63TIFe4JkYAYwTzWq84gtmdRkqM1FPKsFuXYEADA2jv6Vj3AlvIfnfG5zhV44qGBYiu90hYDMjncR+n9K1oX2qWIIxyeM4qnYaaIIwzjJOOasXF+tsp+U53AAY6/5xU9RMxLaVptVupAH8vf8pcEY6diK3kTMCnOefzrH1a6EF1a+YQhmQuybwucFcDH41u2Dg2RaRfcDFVYFsUtVgeTTJApYELu4wOnOP0qLR0QrvHIbBye1JrN1fQQ/uUjkiYhSRnKknH070ujRmysCzq77yPl9MmpYjN8RzyXuvWNlnbbxtvY46t2rorecrb+WqfNjgisGxgfWb2O+mIAUEKB2rYmna2kl2RFguAoHJNUBGHzqJQyDYsfIx/FV2MAAtnjqTWRFNsdtxUu8nAxjb9a1GlEMJP8AEASF/vcVPUZjazffalCQHPlSjzCQQAvGeoFV7zN1qSmXcQqkqAMjk+v4Ukxury1Uvwsk4baOv0+lWxG01xsO4hCGyBgD0AoEkXrSMLtxxgelTm0jlYySKTjvnOBSxoQobhVHXPes/UL6UW0TQ4EhZgqgn0Of0oBi3V1BJNDbwBWC8tzyK0Ym2QjYMk/kKxrK28lc4BdiCzCteFWKDgYx+dIVihdSzLdtGzoyueoPI9sVLAgEhkz8zYzmopmYTbNkYfJJxztHarUC5UMe9BRYMjIkjqm5gOBnFcvqJutW8SafDNbhLeFTIRndnPX+Qrp2OIyFiaTJxgVgadfvqmpXRQrH9mJjRAuD7/yqopkO1zo7acQDEYycYAAqGTliW6g5x70iZHI+8wzVXUr+Kyh+cFpWwFVRnJJxS8iySJ834hVgMoWbjgc9KbcSb9qwJuznLZ4qaBwkBbZlwmSCQD+dZays975KIyKF69Rn8OtFxdTSt1G45OSvHSm3NwsUyxL94ruJ9OaQbkfjB47VXmDPdSvBIquBht/SmxvcuxSF+BjI9qxpbKVNSnaUfuncPGPwrTtA0Mcatknbk571EyO969zM+1WG1UJ4VR/XOaQ+okULGSNjkEHJ/D/9dascrrg5BBOMVTklAiym3LYAwelS4ZNrvIgQLl2zjFNPUDZRvlyTjmpUckHPNZ+mahDfxhoyrc9Qa0+E4FdEXcxkJkAZ/Oo8RqxkA7USjI4qhNeCKQrtLD2ocrDSuWrjAjYL0rnC6vqUuZA4H3VPAHHat/7TFNbkFsZ6g1mXNrDnEcZ+XvWMykTKTtGMY7Vn6zafa7YbUDyKcqCeOlWFmZBgRkjOKsqgIyeM+prFXBnL6BBcRMYpbdYUA5Ctnmtu6tkawliWIMuMiMHGTVaC4CahcwOoG1/kPr61pADbkmmK10cVqF1LYNAsjmWQZEkS9I8njn2rorS1eWw/dyNG8i53DrUOoaPFcXSSyuDGmBjOADnP41tW67FVR0UcU27glymZNNa2EcMV3hm6qSM4pLyUz2yXtsyvCB8wx1Hp0rM1q5WWe5ik+ZomUq3sR0qzoF0n2J4JGVdp7kc5rs+rL2HtInFKty1vZyMLTWlu7t579JI4CD5SkAhsHgevHWultZob2BvLbEkf31DenTr7Vha7IlleS3EcwafCxxxbcBSep9CKng8yziH2iVftEqqSFTDBfcVyO7V2a6rYuwztNKpfLMrEkAj5V9KIpzLcN5cQSJRxux89NtlEd7K04wJ1JLA8cDHBqOaRyMwMpgj2ryecjsapJtXBW6lhbx7eNnuWKDdkLH6dOv40+Se3jukRsEy8jB5OepNQpZm4XfL8hH8G7g1PLp6PIr7TvChRU3NYx7EWqRSQyRizibfjDOpHI/GrttE5jUkAkg7qjuI5JCVIV9q/IScFT70zyYwoWR2hycqA4wTU2bL2LwgQq29eM568/SopY0SZMYAHPT2pd7qypw2e5NPkhDSYLMuB1IqdihyLn7zDawzn3pyAKWDA4PAx6U/5dm0svA4Paojuj3P/AKxQM4UZoWrBJMqpHskYr65Bq3HNHbokUpyTwPc1EpPl+YV2qeoI5PpQkUdwyOy5OM7W7GteW6KdmStDFKWD4dABww981W1A6RFAq6mFSMnCnaST7DHNX0jCcbepzRIIpGAdEYjuRnFJKxNmYsOqs9wtvb6fJHbbSRJIeCPbnP54q9Dbbrj7VPLuH/LMHgL+VWnSLadwBFZupWs978iOYUPBVTjikTYnuJbiEgrMknOPLLAHJPbNMM5k2bwyiNgcEZyaqppW0KC78Nkls88e9XIYWjm9Uxxzmgdjd0WTzElBBUjbwe3WtSsvReRMf93+taldtL4EZy3PKdY/5Dl9/wBfMn/oRqnVzWP+Q5ff9fMn/oRqnX0kPhR8zP4mX9F1iXRNRFwil4XG2aMfxL6j3FelWOoWupWq3FlMssbenUH0I7GvJqWGSW2m820mkt5P70TFSfrjrXPWw6qO63OnD4p0lyvVHq0mm20urQ6i6ZuIY2jQ+xx/9f8AM06+1C1021a4vZlijX16k+gHc15t/wAJHr2zZ/asm3/rmmfz25qhNJLczebdzSXEn96VixH0z0rmjg5X95nVLHRt7qL2taxLreom4dSkKDbDGf4V9T7mqFFFejGKirI8uUnOXMwoooqiQooooAKKKKACiiigAooooAKKKKACiiigAooooAKKKKACiiigAooooAKKKKACiiigAooooAKRS0ZzFnBOGAPHqaWis6lNVVZlwm4O6HJdM2cxskSny+VK4z0HP1qy25EMUClUjAUuDgevHvzUKzxQ2jh48tnIcdhVmORJI1Em4q4yVB6j/Jr5+vSlSk10PVp1FNXLNoixoCzrLM0bYlJLMexA+hx+dY+sMqeGGQq2QyorPwSc5OB+FaZmWSONY4UMkfY8ADtx+dZniFg2kO0ZLZbDcdDuHHt0rCO6OmLPlHXP+Rg1D/r5k/8AQjVCu61P4c63d6rdXERttkszOuZMHBOfSqv/AArLXvW1/wC/p/wroOu6OPr2/wCBl01pb28kZ5/tAqfoQo/rXAf8Ky171tf+/p/wru/hxo2o+FJ2OqFHhE6Sokb56Hn+QrOpHmpyjbdMTaPqKioLK8iv7GG6tzmOZAy5qevzNpxdmdQUUUUgCiiigAoorD13xVYaHJ5Fwzm4aMsqqucema0pUp1pclNXYm0tyHWPGmnaRcT2riSS5iA+RV4yRkDP415zqLXd9df23fWrLbXUvDKPlOOMD8q6vwJpMWoi71fUUS4eWUqBIoIz1JwfrUfjx57rWLHRrbbHF5YcDOFySQPyC/rX1GCVLDYr6vSV5fab9NbfMwldxuyzaRZtBDaXWxmAKR4zs/wpBeRzT3BmV5HRAhK9Ac85PT0rL0Zby6t7qOaRZIY2VHZBhfl6r9OlXTbXcjPHc3VmkYYbEOVUccD3Ne3tscjiRPo2nXcpjkAjmkfCcHAI65q/bafDpNtPIIfmZfJRiANo9eeuTgVCkD2FofsgIm7yM2ckd/Yc/rSSmGWVDeStIuwbwj/KAR3H4UtbjeiJtJVbiSb7TtIgYCX5/ut26U7XvDv9sREx7VlQZVgPvH0NIlvBYJFDAxMDyAJGh9SPmPqa10+aU7HYg5yM8EjpUtuLui47HgHiL4aP9skkRHsn3fONm5M+2OlefatpNzo960Fypxk7JMcOPUV9f3JtbgSW00IkXA35X5fpmvDfib4e+SZbSNmNu3mRjb8xQ9R+H9KdlNOy1PZweOqRnGnN3WxkfCL/AJDb/wDXWL+Zr6Qe1gleWRVySmCTweO1fN3wmYxazKSDlZY8j8TX0XPfTiBI3RV85iBg9FPGTTvaCM8d/vMvl+RiX4SC0QeWrPJzuB/WodKumS+VZJCFbgknpVnU7eG3byUTMQGFb09qz7FFe+jSQgDODntXq4ZQnQkup87iXONeMuhd0Ip/ak2ZTLLJlnb/AIFxW7cB/tKhSyR7vm5+8AOn51l6TFFFqdxJEMK5yoPXH+RU00pbUvkQKVJBx+fNeU9Lo9ePRjRaxjWELN5kuwkEnkZ4rdRt8QVj0rJM7S3o2rhQMZq55uDgdxSKK+uSQRWAEjYYuNmPWqdnmMxYDvngemKTU5llnWN1BEY+UepNaGmq6yESQsCoyCelNr3dCHKzsabofJXYdpxXPhGm1eVGuJJEjPRjwa07u/mkYw6eqySAYJ7IcVFp+mzW9pm4O+ViS/FZwTtqBnXOmPf6tHcSvlY+AMdP84rokXKBU+6B19aigQtNsxhVA59aoar4ihsbk2cW1pVXc5LYC1SEJrd0kVxa2oO0uxdj2AAx+dFvJNcW7mLKqSdh9qzrGdte1o37xstrbR7ItwxvY9T9K6O2AHHAH8qLAkQ2FuLKyVDwzjJ9qw7e/klNzL5gKGZsbj0WtG4vfP182yKf3aAM2eoNXBZRRrtMYAU8+9RcCjpoS5BkZQ2TkE59Kuapcixs1kKksx2LtUnk1bGyIDZ8oxwPWsO4i/tXVVklJNvbZVR6sep/pR5gS6eh+yefMCQp4yOorRUpDCXZMDGTjt61HcRCSCMAkLGwfC8ZxVXUpZJLdEh4y4zx94elO4yve31xPBAsarGsgPfn8vpRFp5dI2kB+UADnpWsLZHRFkH3QNxqncXjNKY7dMbTjJ/nQIljjRcKq5OaXUbloNNleI7SB1Pf6UqLhiWP3euaraizm2jghGXupApzzgdT+lA2T6dpkqWocsSQuSzDlvrTwrrMI+MD5iR71pQPs05gTgrxzWBFcO2s3AcgjK7Qvsoz+tDRKLt/dfYrGWfLAIhY7VLHpXO+E4XaOS4kzukYvn/erc1CxOo2bQ/L8x/iFFokcO21jKtJGoVgoqoysrESV5IfK8qSMzfJD91SfWoJdodG27mzhGIzzjrS30qz3SQRSAleg7ZpLiZITHDnL4yFHUc4qDRFiziIjKSHcWySazL3y9PuppCpDMAIye+Blv0rZhHC+lctr0E2oeI0sHkyAQXCgjCHtmqSBnQW5E8IbH3l601bcKHCtyTkt3q5CixmOIjHGPwqHfG95LEn/LM4P1pAyncq0aOEywfanXkDuakuojszuwFHPtRdrHFctJKeTgqAewGKkkkaWEKgzkdaBxehCLcOybvm9MVZuIUa3eOXc6uNoAWmWmXABX7p5b0qxe5FhIYuqjPNAmylYObW9+zQpsjjwAVrq43LRhjXEaTbKsqSgEySkM3NdwMKi/St4ESENYGo3DW17HFs4mfap9a6MEMDjmqGoW8bbZWAJQdT2onG6uEdyg0OVJAx9aTzTHGASTlgvNOiuAy+obpx2p5jwwOc8ZFczNBFUDkcCkikEisBxj1FSIcZL8jNQQ3BdSMFG5OGHb1pEmdb2Rk1K4uCdwL4X26VoEruI7gCobQ+W7xmVGIbIx1x71OR+8Ldm45oH0ILt8RRptb53AyBUssnlw4QkMVwMCqGp3/lTrDHuZ1RjtUZySCB+tSJd5aALndsGWz8ufSm1dCvfQxbqyafVntl+T+JyT19zWnpnh6GLE1w3mdwBwKlvNLa8kmkEgjd49ocfrV6K4htI4IXO1nGEGeTgZrsqYmcqap0zjjQXM5yMjX/AA3b3bG/3eUYwCcDIOP5Vnfboru3kuVTy0A2nuWPr+AI/WjxFK2qag1rNMEiVAyxqcHPvVpJxpuniK0sJnfIUbx97tmuXlsrM00erHS2MoYlZHOGG1scDI6DH0qKK0mshK86L5TEZ3Hk80+e9b9yjECaRiGRz91fX+dNmnQTItufOOweW2cIhzz9etawq8q5TOUVJ37FmS5cTCGGzVuMlpXwFHXp17UQXt3PMvlQwgHcFIkB3Ng8Y/WqlxFdXF6Wu5l8pht8qE4ZvqewqaztbgXUk9wNkMatHbxIMtyMde9S0tzeLZeQzME8+aJd2MbBkk5x/OpEtQs4Zt0jA/eYYCCqX2l31EeX88gZVGwZCjoT9R3q4gSOUWkLFmwWkYjp7mldpFkzRxPEBt2t/fHWp8qAAcscclqhAHmBjub2znFI5JyOgJwKjluaWTJbiNWGBGrj0NRrOsahMBOwAPSmdcg5475qKR4gAGPB4z61UYjJ8hzlVy2CB6URRtBHtD7nJzyKjjAhbauD61MWXbkqOPahXCwwecd29jnvxjApApPznoeakDiQbSO+DSNNEjDLc/3RzVMBskb7VycbjnrSlWNw+TyADgjkcVHMJJIjMNscI5JPXb6inxW8cUhdFO4nLM5ycfWsySF5neRVjVtvAyozt9SfT8atpEjZYjdx+ApFYTeZ95FU4GOM+9VZpnaJ1RD8wPy554OP6UEs2dBmSZZ9i7cbc/rWvWJ4bDCKbdjPy9B9a267aXwIze55TrH/ACHL7/r5k/8AQjVOrmsf8hy+/wCvmT/0I1Tr6SHwo+an8TCiiiqICiiigAooooAKKKKACiiigAooooAKKKKACiiigAooooAKKKKACiiigAooooAKKKKACiiigAooooAKKKKACiiigAooooAMVIkzIG+62cDk4wPao6AoZlDY6ggmubEUVVg+5tRnyyLccUPmOyLt3EY2Ngn8fwqYStcwTW4QswYbd8mRjOc56Z4pVEKs24LxkKcAZ9elQQ2kU6hdmEzvbfITubcB+PBNfOtWdj2IvqSWNpbx+cl5EinfuOMyMB2we3NTy3NtAJEito2Fupw0seWBx19zTALix1EyKiRW7SLvYvhuTj+XbpU9na2tzqd4s+4ruwG3nrjr61m3Y2Mm+1VkhuTaWqIrIW85uHJPH4Vm61BKlhZi4git5pz8+Gzgdsk/qa7O8tLCZWMsQYxyApIeM8cEf3vxrn9W0yTVN2+dmlXbsd8Ac9RtH860hJB1O80azOn6LaWjMrGKIKWXoTV6vJZLPUpZpfP1d2kj2gfvW+Yeg9x6VctBrVvI9vpmsvsDfMJBkqcd85r5qrktSTc/aK78mdSrLY9OorhEtvFbwrINdjAYZGVH/wATQlr4sc864i8gcoP/AImsP7Erfzx/H/IftUd3XKan41+x6xJp9lYSXrxj5jGc89+AKqjTPFxOBrsf/fI/+Jrn9U07WvDupR6xJOJn3gySxcDPo3HQ104bJ1GT9q1LTRXe4pVOx0MnjTVDEwi8PXQfHylkYgH8qqeHtL1DWfEz6zrdl5ce3hXXA3YwPlNdboet2+u2H2m2VkAbayt1BrSrzp4pUFOlCkoSej1bZfLfVsbHGkUYSJFRB0VRgCvOvH5ktvE1tdFG8o24QMMgZ3NkZ/GvR6q6jYQanYS2lyMxyLgkdR7isMDilhq6qSV11+Y5R5lY4aytoINHjbTJlVZcOy7cE+pJHNOtQs2vStfsm1UXYMA8c5J9DWJeWd74S1J4pkaS3fPlyDgOPr29xVyKyFxCJbi6be6g7oBtUr6Z69zX3UZQnFTg7pnnzTT1NyTWbK3umhnUMZDuG1cmoLu0t7y6PkPIGIB4H3xmmQx2tvaxw2odIlYoEABYnqTk8ntzRvYLFKX8sIxIJ5Bba3yjH0oZKfctR6eqzrcLaLbLHkNKoCkcYq4LuNMKSsoWRVJx0HqapSLLqGn+QXILEMVYD5sc1eS1tbCLaxkd5mGQGJOe30FZvzNYsr3d1Hc2oCTIpY7v3mSAo9vWsnxLaQXemNO6DzreLIZDjAyOMeldPHYWlzDEZIVbCYX2HtWN42ubSy01oljYy3KbEIPQAg5PrRTd5aGjjpc8e8E7h471TywC32pMA9zk17zcyXJCoqghU+c54H4V4T4Milj8Y6hcvG6RSXabGZSN2Cele5LdFrgGJMbwWldu3HAFXJaI7K7vU+S/JGK9ut2q3EcCy4kO0AkZPQ/XoKmuNLubdPtKDEo52r2FatjmKNAFVd+5wAOgqYo7K8kkpkYKQhfjA9/yq6dR03dbHJUpqaM/ScbDM6kmTqPYdv8A61Tz75PLEYMA35IHVuDxUNjfKVZJDtwSQNuM+9SIXjtnaFi0qZYSP29T+AqHJSldGsU4xsxLRFjvHi3eZIuGPtnpUU73ck6RrHtycEk9qi0iVpLqWRclMbNzfzFaEkhEymQY2jt3pFimwt7aMSS7pJOo4zUsXn38jffjt1AxuOGc9+OwqW0uvMzleM8HpVwfOucjJ6gDFCIfmMtraK2UiNdpJySO9StJjnP+fSmSzpEyK3VzgYFDyKiOzHaqKXZvQChpoLpor310lhas+7DHgDrngn+lct4f8Px6uzajf5kgkPyxE8MeTkiojA/irWGkjlZbdWzuUbSV6f1NdjbQppumxWNmoEcfAzyaNELfUXyIo4vJgRVGRgKMdOlMYbNqqeXOKl2+XljyT+tVmvFEz7wFEfc1Mh3Gx2ot5ml4DMuWbuau5Rn5G7PaqS3JkhaW4XYmQUAHJFWjkrj+IjDYqBFW9dyp3Nsij5LL1HpT7ePy4URANvUt655zWfOby8untopBHAp2tgckVqkSpGqw9RgFuOB60xEN63l2ThDhmITOaS2VHdHlTIHIB5rNvNTVLsWMNuZ9h3NIT/H/AF7Ve0yaSVC8irySBkdPwoGXb64WKMOiDDEK3bFV7aI75HlAKsSy5PAXFVtWuQbm2tVdTyXYZ5zjpUsszJaEIoYshGD9KGFmQy35nbyotr4l2uQeAKknbdq0QkOUjjLKDzzVOGJoo0kXaJApIXHGfr1p8EDHUBNOxaXZzgnApMNeps/aFePAHBOTxis2+MNtq0UrMF3xhFwOrZq9b7wDjk1lXQa58VW0Ib93DEXYY/izxTTugNFZ9meo9B/erKM0iPcJAhjYkIr55J6k/qK25tluDI2OOmazIg8uoD5iIVjGFx0Yk5/pSAWCCKwt5Luc/wCrXOTzyaLSAy/6RIcljkEjoPT9at3dmk9nJHIcJjLc/lS2wRoEC/dCgUwW4Tv9nZCMnjpj9ayNEs2Oo3GoXBZ5JWwFY/dX0xVpZGutaPlSO8cI2sM/KP8AGnRzC0vhBNJua5LPHx0HpRrYXUuzzrDbzXLfwqT9KzdFs2gRpG/10jF5Wz1Y81bvIkk0yUTFxGFO9U6sKr29ztt3AXHJUAc/SgZRurn+0PEq2tshKxACSYnjHpW+wVVwuPlrK0Gwa3QSugDyfOx65Nat3IkCEnlidi5HegFoCJgAdieKo+I57m10v/RY0dmYId7YGME/0qVLtMwiaRVmYgYGMEDr/OuO8SatNrV9FBFL5dukzKgQAZK45P51UV3Ivqb/AIWEs1uss5JYE/hz0rsI3DZz/DXPaRALWxjRctxktV1riTeu045xTi7Mu1y7PqaWzomcFyRz2xzTZbuO5tYyTxIM59RWRqbn+0tPjcnyGLBwe5x3rUltoxCigYRANoHpTu7WJtqZeoQPBbu9sTkLgAngfStKPmOPd97YOlZ1xcSNIioygMxB7njtVx5PJgLE52rn61m0WAldA+zPy+vHNYtulz9qLS+ZlmHO89Ov9T+VW2vpmu4lVP3bL8wPPOauyOqgsRgr0AGM1NgKU9sVcTRsVZWBAX+Lg/Kfb/AVFJO0kWd+wxuCyrxntj361eQmdcjjswqCS0AG1Txuyx68f0oJaJYkD5z1ZcH0rPt12ap9hDg7FBLgetalsFSMkdM96oWpC3bXEWQJCEQEdBnr9aaCxell/eraxfMSQpY9h3rI1e9hk1NDLJlbTJOfU8GtDThunuHkG4rIcn3rm7jzdW1yecorQWo/diRcDg8nHfJpqxjNMl0OCI3E18LctI+WwRxz0/KrxeZLjM0jbwQ/DY6kgL+lMileKaJY92JpC/0zyf1zxV25jjt3LxKzvvGee9AmnYr74vttsJrOETSnaZNgLHrkfypothaakPKBUsp4B/QDoPpT5fM3eYBlI38wZAzuA6fT2qSYzM1vLmOMMuT8mcn+nWn0Gtdxk91bR3MbSrlsZdccZHQUrahHKTGJGSYZKjccZx+lR31zazXKI8e4Jy5HAB9cip4LO1lSTIZI5OAz8Fvx64pFa9ClbkSM8EUptiMlpoCM467R7CrsF1bWluYWeYuQDLI2ctVFtPgUFx8mX+V4O1StBLFhwY/Lc8sQQwH4c1T1BabloajbyMGSbhxwVX7oqwGt49geTJIOO/4moZbeG0hKvJLOSFGcDPApsCmXDM+yMgj54wG4HWlY0RK88RYKrDPXg9qZZmO8kc4bYvTK8VVuZdPV0aNWeYqQpViB+IHFattCVs9shAdz91cjAx/9eqWhQiqGcleVQ4zjqacVJI9M8024Vls40txtJcDr+v6VJvV5mUAgr1yKQEXkrMoPIJOG56UsEcMEQeNPmyMMR82M+tLHHi3aNxgyZJOasKvzHgYwOlTcNiKR441ZpjhD260y1lWaAOoZQ/AyMEio54VaRAJFU5wMorH9RS3CLHbySl2wF5wcUEX1JA43OqnIxVWVpDd/M/y4wFzx65NMgmit7Tz5Pl3HgbskilE6yTQvtX96eQDjj1NIVze0IfLKQcghcfrWtWVomf3/ADlTtI4+tatdtL4EQ9zynWP+Q5ff9fMn/oRqnVzWP+Q5ff8AXzJ/6Eap19JD4UfNT+JhRRRVEBRRRQAUUUUAFFFFABRRRQAUUUUAFFFFABRRRQAUUUUAFFFFABRRRQAUUUUAFFFFABRRRQAUUUUAFFFFABRRRQAUUUUAFH09aKB/+qi12BLlYoomSQq5OAMAk9z2qTzJriMeRICEcHCqNx56e1C2wkt4naRl+c5GPvD0FMz9nukkijiIQ7gWJUD346mvmq6Smz2aV+VXNjUQjWiytGC0YyPl34bGBx06mlt7ezuGt5rqIQymPLDLKcZ6nB9KDc2lxF5zT7kUqT5TYBcHjt69qq3E0l/JdHaiI6AxnfgqB7nqM9uK5WdaaJ57VWkR7a4NuxUeXuO9Qc9hUbwvFcL5T4WNvnxg9ewq7DqcQWQXcAjbdtDEcH6VlajLpnmqqTuSTs/0c5BHv7+9CuJlaW3jnBNhbLbN5hkWeRi+M9SMnkk5ojlZ2uLa1laJ3dd0i7SW4AOcjjkE/jViSGUvbxyPDHaxAELtLSkjpkjHBqkVhTW4hbTTSyJJh04VOgJ46nr603sCvc66ONYY4d+5vLUqpPc8VdjBDc4NVGkM0i+ThgFG0n7pPf8ApVsDC9jk9jXPJWN1sTIBgjGPesHx1cS2vhtxC2PMkWNzjqpByP0rfTaGAPFc7410q41jS43sX3tC5JiH8fHb3FFO3Org9ix4EsmtPDETueZ2MgGMYHT+ldLXmtr4n1/S7zT9PvFhjjPloEdACEzjnnjivSq+UzLD1aVZzqW9670N4NNaBRRSEhVJY4AGST2rzDQoa1pMWtaXLZynaWGVfGdp7GvMoLmfQtRl03UQXETbUOM7TnqPY10L/EO5aeZbXSlljjYjcJT0/KueS2utauJdS1OQsd2ArHkgdh9OlfY5Th8Th1KNZWi/zOStKDRs2byzXjFmbewJJAB8tT1HTGTx+VQ2t9C1xaQW1mI/meTly3QkA4B461Yvre8nsootOVbVM4Zpm+Zhx2HWlXTIoLfyIrox8FWljxvLHnGT0HFewchaluDZ3BLIXkkJcBMgltp4/wA8VNp0zTXSCcEM/wAzK3Y+mRWTb6VEWR0v7sygEKWkXp3PI+taHmkwhEkJeNgVcjBJHQdMc1DWhS0OjMgiwNhEYX7w7Vla1pFvq6o15uIj5jGcAA9Rmpor0zxrKyqxUDHPBzVa9mM8zwKTsVAcA8k9MVCXK7o2U7lew8K6bCyXUUDeYgJA3kj2bmtVoIxEDJKUVRnjrz1NZ0Z1GG0a0sVRpo418xpO2QDgfnT7Szv3AF5JwoAwB1Iobb1ZvFqxZtF3NJePld5EZz/dXkD9Sfxp66pZW9vcNNOrIvznPcdsUl2xtbIIkLyO5IUKMZ9zWedLVpY/7SxJM4yI4x8iKPWmtRlPSrlbu8S5O1Y3yVj9cngnv/StbU4bi4hlgs3jiMylHYj7oIwcCllt4raASWUMPmNgZxjipYroRW5EnzuB070/QvoQy+XpOlxxwgkquGYevrVm2gd4N1wd34U2Forxl3546DtV9i33VHT8qL23E9CvGhBO1cIOQan3oiknORyOaACQd/ygcDjqaBD5sZydq9yetJSVyW7ozhqLSaknlRBmU7W5q5qkLT6LcxgEeYnUHGBTYbaOS4zjCggAgcmqfijU3h09raz/ANZKpTcGwU/Dv1rapNNJIxppptsfoCRRaerwYK4CgjvjpWs/7qIykfQeprJ8PQiDSIYo87VHOfWr2p3MNpZvLIxDqp2AHknHFZGrehR13WJrG3iMex5WJUp3PHGPoadomnP5J1DUMb3Hyx5Py/maxNItxqt4bycP8p4Vjnn1rrIkJX5zsRR0JoaQWRFqEsUVoC6gneMDPQ0JIPNyuCNuWPaq7SRagoaL5oweD6n1pk8qW/yLyzDGKgEhukIVjmdiC0kzHjsMnFaTliCsRVXKnBboD61QthMFUAKB1YjvT75ZXkijjAVWBBYfe/KgDN0qw+z7vMdpX80l2IxuP+FbAAty8kgVI1xgDuc4zWfC8dtdeWoZo417Hq2aqX8+p6jqBt0WOK3Ry2SPmPAwD7cn8qdhtFhvs82ru0SDdCSA2Op9c1dClsZ9OKitrRY06kkgFverRxn5eBg8UWKWxDsKgHb0556VJ5kMM8bP96Q4pogM08cjMflH3R0NSSrF9rQAZMfzfSkS2XWYbgFA5GMise3jaLxXKzjAYA5J++MYyPpWmrBee9YkYN34x+0eYWSGLYqgcDnnJ9c5pR0EXdduNl1bW7KzoWLsB0GOlSWId97ue/CnsKtyKks28rkjgE81CuUmlZjkO2VA7cdP0oYEWpDfZ+UB8zEA4NFuAsIRTkDj6VPIy+WS/HYVV3xxzlEJJ3AH8qAJEFvp1nI0YEYBySxJySeaxbKebVtfW7ZcRRKRGMcAGtLWXaPRZfLA3EqPm7DcAfxxUmn2yW9jHtb7yU76CW5Zkby7GVlyp2kg9f51g+GmUW32dpWmlA8yTdwRu55rVvlknC2UR2+YpZnzyBWVpBRNYvo4HaQKwQu7g5xxxgD+tV0FfU3ARaRxKilm+6MfzqpcwyeZ5pkLAEsVwOTWlFGz9TjjP0qjeSJtY7wcdlPTFJot6szC8FxEzz2zK+cAk/MDziqmk+HoluEYhzsyTvbPX/8AVV8xNdXCNsVIgoYHPJY56/hitezTylJbA9SO9LYLEiRLEgWMYGPWoZpIYmVpOT9aW+d/k2HCk84qo1mbhVCksVPehDINZee6urCO2+6ZgzPjPFb80ylVQNyBTYLLydMJUK0q5AJ7VSQs7SqxICnAzVvSxKIZ7XMyzbtuAcr/AHgTn+dS4WS3Matu4pk8hUknJwO9Z329m1a3jHEZjywCHr9c1PUtI1jGsIHHIHBxVklXhBJySOnpT/s6XMMT7iB1NRzhMcDAHcUNWJGoMLhRgD9aYq+Zu8px9cdKkUYHU0MjPGyx4ywxnpUdQIZbq3hmS3ZwZTjCgfrSRQsrfMeFU5AHU+tU7exFrfGSQtNcSnLu3RABwBV1QIY5JZASYwTjPXHNOxNxbJk2yYHzFySPesfVLg2upLGyKLVkIfHByTjtWvapHa2JklJAALMf/rVh6vbfabMzGSQlRvfkAHngDj9KFYiRdCfY42aLEaIgWKMnPJ+vNJPbTHT1b5AxfMjE47AfnxV42/2yCI9RwelSXCrBarGCNucEtz3zSTu9AlsZF+Buii8xgxT5SOhP09arLdy3F1FbJvyI8Ag4wehP+fWpNXP727lhJEkUQwQvfvVGyuEs831yDvkxHGnoSOp/KtWtDBN3LaaVcCRo5Z0aIr0EeCo+o/rmrV9poneJvtMjBABs4CgD2xUkF1LNbq0afOwAbngDNaTorx9Occ471mdSWhiJplwsaPBcldn3Qy9Dnk8etJItzBFK8rHzW4XeRhvfjFa4K+YMKSB1+tR3Ucc6+S/JOcbRzTV0KUdDLsrxZWBum3yhgy4yArYwc461faZECJKFlMg2qMEZNYeo2n2K4tI7UlmQYlA+nX/69Q31xNKYLg3Mi5jOSmFH588+1UYxk72Zc06eG91Ce3WF4PseGZlI7np7/jXS/wB04O719R6/pXK+GUj0azuHnLOlw+d5GWY4H5frW/FciSATqGwQAFLZP/1j0pM3uWXi3BF3EANu6/59aWOQSu/zfKDtHsR1quZXt7NS/PXkdc0sP7u0XeB5hO4ke9JjuTgDOSNwxjrSSHy1PlnGOTUQlPyldp9ATyajllYxbmPzg7vpj1pWIctBhaM3QnRMvgZyfX2qnqd3BLIIh0JA3FsAH+tJc3ctsDMPLbuRv5I78d6o6VCZoftciCSWY5Ib7oUeg7enemjO7toWLhxdxRxnbKEkYB1ONu08fX0q2t3EJ2AGJGA/eNyMAcgAdOc1lyWa3CxAiSLzHMoEeQTznB9PyqvM08MywBMDazokXzMp6kH35psnVM77w/IskUxRty/Lg/nWxXK+CCrQXbpHKiMUwJPxrqq7KXwIo8p1j/kOX3/XzJ/6Eap1c1j/AJDl9/18yf8AoRqnX0cPhR83P4mFFFFUQFFFFABRRRQAUUUUAFFFFABRRRQAUUUUAFFFFABRRRQAUUUUAFFFFABRRRQAUUUUAFFFFABRRRQAUUUUAFFFFABRRRQAUfyoozj/AApdxo0n2jyVUkKF5x1qvMVlUYkCqzABdvA7k/pRIN8CsCgOOST05p4jA3M+WGMjC8Dj+VfMzvzu57EPhVh0Vl51sv2Z0H7wDYTgHnJ7ema2JY4ra3iMuGJdVC++fWsRImSVDFOM5woYEBfUj8M1K/2m9MUfmGVVnVm+boM9aykbx2EvpJHt5jJ+/lmGI1RfmANM0nQY7O3UTLsldt5Tfkr6duvrWutsomuYkbZLy8T7fuCqM9wllrSRyICgXBm2nOcdwM9am5Y3VTbaRpZurmJJbtpW27XIK5JIB/DrXLweJLW0nZ0t1hZgSdrDJc9+enFdHr1o19oUxt0RWRt5y3LAHt+HNeI+JtOuYr5rrLSRyHqB9w+lKcuWnzWuerlmCp42v7Gc+Xt5vsexJ4906K1WNI5dykYO5f8AGp4viJpqLgwS5HQ7l6fnXzyVdRlgw+opMn1rjeJj/L+J9UuFI9K34f8ABPoS/wDiRbtbONNjaKY42tKVIHr3rn7L4o3lzeGMXETiJsupiCh+fWvG8n1oHXij6zFbRNY8K0lF81V36abfjqe9C/tfFXjmwkiR44SQCGwSduT2+lepV4t4I0nWLSAS6KIzJbJteSTBAJ64zXZK/jp87ZLUgd/krkzLA1sTOLi0kl1f/APiG4U5SjF3V9H3O3rmfHGpR2vhuWNZcSzkIoRufeufbSfGFzcs1xemJXJ3sJeAO+AKnh8EWyFGvr2a4kU7mGMKR+Of51hhsoVKrGdSadtbImVS60KOgacyaU6yJ5ZkAdn74PQfl/OrttB50QEKORESeQAAAegP1zWnK1w8sdtFFsCNlyWAwMnj8sU8W2MRL5dvEPmLR5Y9TxX0PNdnG431MhrOWWRWmnjtnBDgLl22+hzj2qN20yTUDCGkl28t0CH2Hqc4rUvozhI3QTeYCjF2wdp5+vYVBA8Fqrw2lqsnznAOBg45560XJsFt9ln2yzbF3x4dX4wOmAPpz1qYNGWjh/eXUUeG3JwvHQU+KKwtmabAJCnaGHyAdT7jv1qO48sxxZ1Arboy7wse3lj6jrSLVgeV4JxFFGwVU3RrGowR+fJqxGkTkzNF+86Z6E+hNZrSRXlx5sJliZQfMOQm1PatzT5I9quclXG7c/G4dvoahstRILaLybq/uEaV5nwGYj5cAdveo9O1J7q8JYvHGByHGD0+tNvNc0+Nt0DPNNu8vy1Bxn6n0qjas8uo3AiJ8iMB2Y9Zc8Y/PI/CnJaWHF67nSShZIVnQ7uMJ3Az/wDqqhdTWlhbyTNkzuSiq38Z9vbmn6neG2hhtYQsfmkY2kZRB1OKo2ulNfSNdXEkhxlIRKc4Hrx2JxSRsiGOW61EN58HlxAgIoYnbx646VPFayWcMksj7kGAQOWHOKvCSW3gki2Ro2dkfOctjqaLC3K2bi5uVZpvvHBOD+VWmaPYgsS6TPLEBtIwoPetS0meeVmDKUVtv1pkcVvBbNHC+5++R096bprrbyOH6H7qinOzdjOMXa7NGUDYHwD9KrSzkIxAZh6AVLc3Efk71OFxz7VBKphkWTfmPbk/WsYxaepSIpJXiJyNsarkDuTWFLDLeTM0pDbm5J6/Stq5tRqDpMszCNVx5aj7xpNNtwY3HG6NsHnvV6XGSWz/AGWy2dCcBQBWfqMwnKKw3KZ9uf8AgJrWmjl+YR7S23Iz/Caz7TSXXy/OkLlWLHHQk0mJom06yTT7JhEnDOMhR6n3qvqd689qlvCS4ckSMPTpV7zfNt5wqKEjJXnnd+VY7yyQw29uYwjO2Pl5JHXmgnqaunwKsARQVCDtVfP2nVHUDKRnAOOp71oWxWKEBCd+Pm4qqswj1DYdoLjjbSaLLqxKpVATgVj6pqximVIlbzGbZGf4sdCcVoX1y1vasir5kzg/KDjC9zk47VymjTrq+v3V5FDtjRvLRiSchQB3oS0IvrY37SNlXe5JZhkZH6U6KJ47gNJt3yZLEe3/AOurQQhgO+OgprsDfLGRwsfB9c//AKqZZNAu/Bxjd/Kqb38bXzwQrnyzsJ9+9WLhZGtf3DMr5GGHbmsnyxa6oYvmZpBvaTIwTnp/9elcjW5sRDueneonlRJ5pZAUBwqnGck+v0qeMbY97dBVDUPMubq1jRdqCTc2Oj9sUimV7K9uWs3kvpMtIW2+UOR7Yq5pEO203yDEmSGK9Ce/61PBapHLygAA6Zp0h2ry2Bg80BYIp8yyLx8hwD+FLJJFCokP3iPzplnDgZJ2ljk/jzUV49vNBFIB5g8woCP1P04oAb/x9SY8xgByV/E/4VOkcaNuySQM4IyRUUbxtemGIDCqAzKO/wDk1bnGy2mKkAbCA34UhGZcbrmQKy/JKpyMZzT7G4DXQsV3EwRAu+O5PApYWEltHvOCozu9P/11ZsfJ81zCMkEbmAxk+lAkSxNvkn3EFU+RSBgj1rnNMIt/EE1vHH+7QFNxGA5B61uXNxFa2l7JlZWjyzIDj8M1yttfA+JoBGd3mqAqqPu+v/66vZE9Tu5YtsalDncOee9YTW8Y84zlQ+7PynGDjNbOfLjLMGOB90Hk1l6hcQ+STeR+SpIALc7ie3FJajbtqR2jpIFBDbic7Ceg7VtLADAQvAPUVyei3sM+qv8AZ/KJkxyjEkgEjnI9q64YUEbs+1Fi07ozLx5PIcxkLsI2+9WNOBLrv4B6mpJrcSxbSflU5I9aZHcRhhtOcj5QO9NIDYkAjs9q9zXMyzLbag5eRMMflVWzW3cXscVrukbbHGNxNcm0R1A+bNEsTMwLBTzxVz1JS1NmULJbq/UEY4NZqbBcCMA57D1rQhUx2SxgYVRhamh08JKjnBYjJ9qi3U02J4mfywNpC46U8J8h3Dj0ocscqOgPBp8ZbGGHB6Gs6lzMr4yKmjUBd2eB1qORQpJz1ps8my2OCNuPmz0IoQGTqGowPq1vHBK7M4OfLORxzWmZoosLJxuHBNc8rb9ZsfJVXUb+VXA+n5VvXJjjWFJCp3nDZGcj0FXo3qK+gtywltvLYoQfvBjtDfj2rF1PeP3UTlnkXCxnkEk9c47VfsZRcWImCq5HILdAKqLJ9p8QQblP7xS+OgXHT86TVtidXqzcs0kitIklbLKoDEdzVLULkozNOoCJjaD396tXt5FalIWd9zj+GNiB9SBWJrsc7W8Yj+cvnLueFHaqpqyuRJ30M9J57nT7+aLauZ9iIeRnAOTUN3dTtHFDHCs0pfe0g4xgcdjjrVuzgnt9DWOFBL5jtIzKMHIxzzUuni+eUT3aJCAWCJwSVOMcj6U2wjDqXNLMxtIjPgvjkZzj68CtUKFjOOhpkKAJwoLdT71KG3KNoAArLdm/QhPDKq7jk8gCooplDuRzt4BGKXUJHgt26qW48wjO33wKZHGiW3HJP3uO/etbFLYp39o9wDOzAHruCZYeo69MVz95bFn8mAsInUvFxjDHkseuM596668eOGz2ucE4AwOW9qz4bSJbXzU3AlCChGdvqM+3SpsZuCbuZ1jczCNnKA+WVG6Jy4YdOPlGTx04+tbMUtubCT7M4BVslSRuz74qIq1ro3kaVEHeRdzc4/KofNjTyo47cRrIVDQhPmPXLE+mfeiwnoaEjHy44tytKwAJB7Hr/KpUiR96jjgck9ccVhm4eS++ZfLBIKMgyxOGxn2GD/31TBdyywRxrJc/LnzGXBbGeh9velYjmTLuoX8aRlLYFpVbahI4Dev0qG7vJ/s7s3lyHZtOE6Hv9Rimx2wGEt5vmQ5CspyOc4z3qS3gNwSZFZVB++wxuBPIxQkXy3KlqrXKPdPtbKkBGj5I/PirbxvZWC29usgkCgCQrnHPQY/nWmkATIVABj86lRHXbwHTGAc0bF8qSMnybq3giE0zLNOdjbeQq+pP0/WqT2awzrb2zNDCST5ki5LMevQ9O3WulkVJj5ZO18Y6dPxrNvLIRybLnbJbcEscht2OB/8AXo5kZyjcueBIpkOoNKY9jNGECZzxuznPTtXXVg+GF2xzgxqhAUZDZLD5sVvV20vgRGx5TrH/ACHL7/r5k/8AQjVOrmsf8hy+/wCvmT/0I1Tr6OHwo+bn8TCiiiqICiiigAooooAKKKKACiiigAooooAKKKKACiiigAooooAKKKKACiiigAooooAKKKKACiiigAooooAKKKKACiiigAooooAKPrRRQHQs28gWFuMsDnp2qVJWcjaMox+9npVWD/XrxnnGP0qYyx2tw8TSoChwQXHy+9eFjabjPmR6eHleJajLM25IjtU5JZgMf1qZ7jy5GefygigbzjFV7aVb+NSWBYHBVGHzYbPai9gV7ho7hGZNhDfw8YyBXntnbE2blQkMjeY2FJY4H9azIrUXt59rErLMVUKpOMDHpVwXEdzpscnBh6PtfcV9ORSKVMMksMbhmGERhjn0xUxV5WNHtcry747ecztC6R5yOme2T3rCk0Cw1OZZrSdDvwXRTj64BrQijkjkc3cLkSA4DDqcVMNOilsopYZgkkf3iFwAM9Pr71tUpypvQzp1ObyOE8QaFFDYhZ/mSUuArAZTbjuO/NeUsNrsB2OK928V6XJPaQNArSw7XD4HTOOfevGNY0w6XeCLfvV13LxjAz0rixkXKKmfe8K4mKc6EpavVL8zPpV+8PrSUV5p94e/+AZiXvbWJ8SyoCoxnp3547131pC8WS5yCOn/ANavnPwp4hkhMdqkssVwAdsiufmHpXv2gavHq+nwXCO27GyRWHRgOa9Wo1Uj7SPU/HMZg6mCrOjUXp5ruaRG5vl+YKxIHSmCMM5aQDLDHTipGCxu2D3wOaik3KcKSwPbFZo4im6RoXwqgg5JHf8AyKgmmEagdSQSi/3sf/rq1IC8hVkYdsetU2iDzfMANg556itUZsoSxp5rXM5eI4y75yFz6e/FUbiNriRIYCsFqmG2sTvk445HTn1rTuVeS4SGFw1xtPXoq9yfxx+tZk2ppZefFJdpc3bIQI0Azv6DAHPvitkjMfLFDcL9jlaSNcYKo/3vbjmmwWtppdyzQCSa4iXCwu2UBI+XPqSakjWfSo/MlsriWV4lZmVN23jpgfjk1HF9oWKHaUS4uXLiXbwcD7wzxgD+VAaovMzoWgmEcjSJtbamNrHtn09qqXF7FLaiG2JZCu/ecgsM8dakh09opkngEjSqOGlyQV9RVOeyWEsI42VFXgscljWlGMZVEpE1m1TbQyBm8+LaBkMMcVp/bPK1ZbWHy/MIzLuBwE3E/nyazLPm8jHJy3brWjaOl14mvbKGN3Kxp8wXATjJBPvmuzMLRaUTnwLcldmtFo8T3AuC+/cBy392rZlENnI8KqhUEKG6UOpCEIRGWIGeucVVvZk2yxyhnV1Y/JxjA7/nXlaHqvRFK6uFS0hzJmWdhyvdj14+mambzfJP2XaJEO0NIMhT6+9ULdoYLa1mVV8yVwir12DBrc0phGslvjJXLbm7570O6Vy09CpZWcttDMbmUzyyDJIOB+Aqa2+1c/uArMMglgQv1/8ArVfmiwhY9QMkDvVZpw8xjHGMAt2NCbauVdtFCzMk2rMtxIrcfcQHAP41p3LH7OUkwpqo4itbdmhALscqO5NSRP8AaoR9pRkycZar1Adp7CCFoi6kjp+NGlrtV9hLPvLPj19KJIILbk8MeASetZthd29pHKrsyMZGLFjz26fmKQi7LPIl1c3TAxxkKoGc525/qw/Kp4Lgx24P3vr3JrPE6nT1yDtZyFBPJHXNWCryJ/dVV9e1AWJILhIVYt8rE42AHnNVrW0c3jzMd0jknLfwj2qSxtfNSWRvmH8PPersAHUDOPT1qWTsMvLy30+JTckjd7daqaa66jdz3RwRGxQHGAKqahGNS1RoTOwjjBVkB5ya2IYI7a2WOEBfTaO/r70bk9TK8XXdraaYn2g4ll+RAQcn1HHSk8Paf9msIvIj2R9SW6ms+0hbxF4ue4mO6G0JhVQOCw4Lfic12VxCEREC5HoKoa3K7YCMzKV4OWPQVmxu0t+7DaUVFXg5x+NacvlIv711B6bS3UfSsCC7N3qUkEJjzEcfLkYU+o9eKTBbmxOXm8mOPIXd84HcYqhBZrHdSSxn7jiNiTnHPatJclgR24NUr6V/tHlW5TCYkkLdgOcfU0rA9GW9Ru4rK1RZDtZiMfLVdpd8kewbdgJB+tRXwFzLHKclVHGcEZ60qAgDoeeaLFRWhouHHzDmqkwMs2McDDZ96kuLoQx5X5jjIQdTVaORpJ2xuVQCDuHOT/nFIE7k4lke8W3jGFWPe7k4zkkY/Sqljp7WbPGm5kWUnaXBwD15/DpV23YJI6gZkXHPr706QskMxhmXzG+bkdB9Pwp2CWhXtY38+SWbCs3GP5VPOxeBo1O0ngk1myNeeZCSgEeSWO7ntz/n1q2Zm85Y8bj95iB09BUsS1J/KgFrvmJVI0JYj0HNQadcRzRgxII0Zvuip5mHkyPLjYozjoKydHkMmpXJiVlt9/7vOMHI7EU9LC6lq+gjj8+W5m2pMu0qEzhfX61m6D5dxO02EMsIMXmBcDA9PeugvAxtJGXJCjn5ap6dFh5GSLyV3EbSME+9F9A6mjcXCw227PIGVHcmuWvpNQaFPIhjeTkkOQQSe/Xiuiu2LbE2sEUZaUsAB+dUIHhkkJC4fpyeoz1qldag7N2ZmeGLG5iuTLPDHHgckHg11hZVySdvHHvVaBFUEBSqmrDp5vUgbRkUr3LtbYqXEskoeG1YqAcEn071WUi3uI3Zzsc7Ihg5z6GrcNvJGrMcnJ64qKW0iu7hHEm6SGUEAHhcdeKoRY1C8jsrEmRd5IAwRnrWPaXBmb5crH/DvBz+NX326lZGIkeauQM9VbtVWx0+VZo4mf5c4x3zSWoLuXijG3AUMTjv2rSgyqAuhJAq01gI4R5HXHPvVO4cQ2zPL8oQZYmrcWg5kxCVzyeT6dqQsY0AHJ9TVS0maWd93CqAB/tHGT/OrMkYkHGQBz171mwIdzNJhjz1NTuoaMjrx09ah6SgKuferAbHyk5J44HSs+omUvKW3/emLbg/LsGcVQec6p/Z0yny08zc2exzV3VZF+yyIpZZdjFCPu8DPJrP03EOgJKqs0p+dc8ZI9vStLaamd7s0NOiQWbCNMR7jsHtUiW6JdG4lyMHIIGMYGMVHpU7SRApjbnj3q9NgRysF3DBGz1qI3uW9jBS9t5dan8iaa4ZWII5Krj/AOvVSa0lur6ZppmS3DfJjOCc9MVpW7WiiNFt1V3iLhQMEDHP45rNgtGkkZ5JsvEOI9/Kjt9Pxra9kYItRmS302VBNGjxSFlDHCtwOp/HpU2hxzvbNJcSRyiVyyleg9h7cVjy3MBkkt7iIq6bS0ZGc9cV1ES28VqrIpAUdBUS7G0RWKhsR87eo9KjzNKjtA/lgcK+Mj34oQtLJhsA4wSOx9KS8VXgSEhwxdchMg9Rz9KaVka2sV55L541iiVWlbgykjav1H+RUlvELO3WPJYIOWLdagnF3bQy/ZV3MPm2leW9hVeK/NxcFnt5IkGQpb+IDrTBGiknmaemxc85ywzt/wDr1jXnkzkpDIxWZlyhU/L68etbaRkwyxfLzkKc8VS0zQ/sbMbiQyOz7hyTjjAx9KQiwUjijt4t4h2qEHyhiw/p+NQyGNbQvCm/Z1Lfx49xz7UoW301nd4gvO4ktuJJP+eKhubxi6Its4XJLHHRuw/Wgzkr6GUPMgvI1zunw+6IDgA4OMn0xUtraGJt8kzh5V+6o4qyZI4reTYOY327+uRzn9TSWunpNH5kUki4ypIOP0osTGmkSpbzKjRxq3JDZJ/P8q0IIgsYXkhTxn1p1vaPFahFcsQOp71IMAnPAA+YmixtHYjefY4GT5pJUL6UqeesxZwiguAiFhwO/tU1vH8okAwW+Zg3UGnKEG7C4OeSR1NLQljwyu+0jBFNlhzw43CoJnZlynGDk54z7U+KXfFubjJxzWdgL2gQiB7pQxblTz261s1m6QEBm2urH5chT061pV30fgRlLc8p1j/kOX3/AF8yf+hGqdXNY/5Dl9/18yf+hGqdfSQ+FHzM/iYUUUVRAUUUUAFFFFABRRRQAUUUUAFFFFABRRRQAUUUUAFFFFABRRRQAUUUUAFFFFABRRRQAUUUUAFFFFABRRRQAUUUUAFFFFABRRRQBb0ySCK+R7nO0dMetJciP7XLL5yhMlmVm4xVWnM5ZFUoH7YPOa8zG0JS/eRZ24aqorlZYgmDRpImBG5AXjn8K1HvN0KrJGrmLl1JwX//AF9Kx7ZGkjKsVbLZ2BcAen5f0q7bxBgrF2kJG11Y/KfavGluelF6FqykEJxNasqSKcowC49senvV37P5DBIty7SQqsvCfjUMrtEqIqj5iSSBkAelRSRSOYZhM0ZmHzgL0A96xaNbtl6+ie7sniWUwGTq2MkJ3NUrS2+zuI1k+0REc5PT0zTII2t451uZnuYcgoZG3bQf4QPSqVtdub4rFA8aSDOX4AxwOO3TP41qpSSsyWlzXNhEQKUIUuM52jgeleaa/wCCDqV7II9s+xjtkSRQ3POME16PMsuHaRfl2ZLg4JrxjxF4rg0TV444FcPM+SVbGxCcZzSik0+bY7cLKtGqpUG1LyLafC25eISLFKUPQ+Yv+NSj4R3xXIt5cf8AXVP8a9F8GXq6joMkUsm6W3YFCeSVIyK6mCTzYUb+93rKcYRduVHes4zD/n6zxyw+F+p6fdCeK1kZgMfNImOfxr2DR9Oh0rTobWNNpRQWI/ibHJq22DgqQT6GnxtgHv71Dl7vKlZHFXxFXET560rsa2HXJBHHWm7WXBY5A6c0pGJMDlTyaXJRCD9QKhGJDNEskfzn5s5yKoXQeGDEG55Twme9X5Dwc9PQd6y7iUfadpb93EA2c87jnitoJy2M5WRTksZTJIXuGjaSPb8vJHTr9P61GIILP93aglI1BOByW6bifxq/EXliBB+Zh/Fxx3/pVGV42u2SNGIKEOUHPWrT1M5IRJv9FaKCJJi/LgD72aa1qY5zcXFwm/lY4gfurjkj8KR4b1LdJ7SNUBHy7259On606O6srYDzTLdui4I2HBJ9fetGSrsvWs6/J5GxFK4w/wDD6j3qvrLJJabpJEt0bG4txuPXiojrVrDsiPmMpG5I1jJ5/wAKhvJbu8eIxxIy/d2zLhV46YqVdPmNLJx5WO0mzDXCTo+5EAbG3kg+lZ+keIY7LxjetqKGETN5ec/cI4GalvNaTRrG6tVdftoOBsBGNwycegGa+efF3ju8g8ULHpkv7qzciTP/AC1f+IH2rplJ1tZk0aSp6RPrqdQ+1o1BDfxKc596huAsds0kh2hVJJPevIfh38WLfUYUtpGJ8tRvjb78Qz1B7rzXo+ravbyaSyPcHE4J8yLsnqPfNcrpuDOjcqaBCLqP7TPi5/fNhs/d69PzrZiKrrqIAFQrtGRw1VvDLQ3Ontb2ykQx4Kll65qzLEtvcwzsNxibAG3kk8dfTmpu3oWti7dHzGdA3GMcdqzLuWQyIEgZfKXexPQ+1XLi6ELB1jyMnO3nNMeNb63lWcNGpwVI6jFVHRWKWw6ymi1CBZkAILEEf3SKmuZY0UAgAKcEH1rnPD+pWtiXs1lD/PleckeufxrZvj5twFIHlP8ANuHUmr5WkmJST0K2qw/apIW7A9u+avDQbVkWRl3Mo5qsjSyXEgMYWCP7rE89KupcFrdX/hxkn2qdCinLp6yXa3BYCKFCAg7kkc/pSxxG4UjDBXOBirjtHNDhGO2kh+RhgkBBkUMRXMQ07SJEQSPyT7mm6c7yR5PyZHAPanX8/wDpCK7ZbGTg8Ci0jGMIP9YecnrUMVtCO0toU1CRocNnlsH71S63NLbWawwB98oIBRcleOaRVl+2GOH5x5Y8zceh/Gqmpxu88bXMz/Z4AWl2nHt+tVFGbuQeFrM2dq8wzFLPIznf97BYkfpW8biV5DzuPbJ4rmfDN0tzf6hHGz+VHITEGGML0AHtXTRZVdxwfUE0K9ytLFLUS6WbDaCWB3NnlfpVHR4NoeRvkMjE/N1J4/z+NOutQF/O0BUoqSeWfRs//qrTgjQKq4GR0waT3GguZV0+yaeTJ6YAPJJOMD86yNOhkbzTICWlJLE5yf8AIqzrs67ltXWPMmDGWHQjqas2Ckr0zgAE4oEt9SOaFpLiC2RcIoycHkk8UiSq1zKiY+Rscf1qrFLLNqF4VJUlvKU+nuKW0tmszCZV2YTc5J5JpXHG9y082ZXVPmwdoPpVaJHtp44GJzkbnPrtBqeCLMzMq4y2cUlxGP7RR5X2hYidmeSc+lFi9ETwnfqjP90KmCe2c0/VImSwnkt5Nsu3GQOT/nmoLG4aff8AKMAYB9ar6xBfXMe23kKKVMezPBz/APqpiktCK1kimEeJEkfb8xzknp19P/rVdcLDsdiwZjgc1TtLRbD7PBI2JcgsoHHIOOfwNTcXd5HtTJViTkcADj+ZFSyYmr5W6LDcqVOeOoxWTb3Bl1kwx26xxqMbM8k+uK2PNSKBnmYIiDkkcVj2bRu81zCm9pCWUt39qOgnuW9RZPs8iuxRFwzkHGF75qHTLoXVussasqscrv6kVBqXlRB1jZhLcLswBgfX61Yso/LhQEcDoT2o6Aty9dP5duzZ28HkHpXK2Us1vCXjjZ5N5LibhivQdfcGuoujG9o7vxsXI56H1rlUmvrTz7mSPDKqDeW5xnPJ/Gqi9LEu9zpreYyRAykDHAwc0+WQRqufvOcKKq6eTOokbvySKt3JEUfmbcuTtQetKJqtSYSsvy5+U9RVZrTy3aWFeSD061F9oYbZH2gsQqjOCQO9S3dyRCBEcvnH3ulUBlWEhiaZHZTObkZOcHBIrYVgt9kZD7sAepqjb28Yumk2jkqckd/Wpol83UGmLkhSRtFCF0Oqd9sJJ+U44rmdTmNwzWqttKsu8t0IxmtJndYvmc7QT1PArBnm+0XKiFcFmO9wME7TgfyqpyuQo2NGABY1x6VMp79qhto3RMSHJzkA9hU4AeMkHisGyxiR5mD9s8Cp3IQsRgA0wJgA+nNVdSuFjjLSMCqfM68fhSS1uZyfYyNU+eYlJZGVgV2q/wAucfdI96Za3vkxFJgMt8sSq2ADjtVeRGuriKRpuGBfbjOOOvPfFX9K0sz3H266wM8RrtAIHrxVtiimakGy1sw+3aduQD2qK7kuEkZgQY0Ufc6k1NKVG3c5I3YwTSSK7wOASgIwTjjNCHJmParLLcPHcsfNYFyB1RD0U/zNRBItKuVigt5JZZBu3AZ98n2rahVlUTTYJVfL+91Of1rMmtp7vV32u0MKKGKocB+cc+1GpMbD7Kylu5DPqEUfzAEEDpVyaeMzNApAWIAkr3J7Us7sixpGyqo4Zh1x6UlrAZrhuMIpyVpxNoongXy4WkHPG4e9NeEbo5jw2fxGRj+tOvryC12IzEMTwFGff+lRCRpmbeNq5+Qn6VRRaG3qDknjNZF+iSXEcG4I7/dKHGMdasyzKoAAIJ4/+vVCxjk1DWDdSxBYY49qZOSTmgZuxNtX7vBPIpruxkJ+XHoetPLLHFtI2gHgLUM0oDIRhs9sVQrErjzYyrbScYANUzp5XA37SOSVNT78E4BUZ4HqanRiYsOcEjg1IWKK6fAsWFHy9DnvUscKRJheS36UsjsE4JJ559qEZWXIYYUcmgLEsf3SCQD25qIxs+RDtIPB3VFdTmNAyhRkgIG6tk4pWaeOAElQcE7Q2ATQK5bVWKEk59MVXZ32LvjyQcZIqhrGpw2ypBJLJHPKAQYVyRVX+3zaSJZQxy3kgXPHJyPU1LRjJtGxM3+jk5VSx2/NVZNQgN0ImcBtuMA9TWXcawbyRkiWYcgGNEJIbHNFvpUkd2bi4ZkU4KxqcFuBy2Py/CkQpSbOv0B9z3C4GQqNkdwd2P5Vs1jeHZBLHOVGApC8dDjPT862a7aXwIctzynWP+Q5ff8AXzJ/6Eap1c1j/kOX3/XzJ/6Eap19HD4UfNT+JhRRRVEBRRRQAUUUUAFFFFABRRRQAUUUUAFFFFABRRRQAUUUUAFFFFABRRRQAUUUUAFFFFABRRRQAUUUUAFFFFABRRRQAUUUUAFFFFABQODRRS9Q16Fq3lUswmYkY6EZ/nU0cctxEsa48jcBtIG38u9UASCCDgjpWhYXahwjDIZs5Y14+Mw/L70T0cPVv7rLJjdLmNZHKQ7GQqh2j6DFWbaZJ7bADMknzLG3G0D3qjeC4kuN7vuMYG0ZGCfYVCLoQPEhd5QPuyFQBj0ryd0ehfXQ0L6yaO2+0xuVUqGGxQWBxjn1x0rI1HUrnRLhLyY+azKAmGIyvuOlddIN1uk0ZDLsw6qK5DxXp93qFmhjGUi3MIgxZipwM/hj9aKdm7M0tqcL4l+LMDq0Ebgqxw8dvzu+rH+leQ6rqMmqanLdyE/OflB/hHYVqeKvDT6FMsqy+ZFM5GGGGU9cGueqakpfCz63A4ehCHtKWt+p7Z8MvFhhgt5C4YYENyrYJx2Ne3WrRNb5gOUOcc18f+FdTl03XIQhXy7h1ik3dgSOfwr6i8EXXnaEilmYxMVOT0oqe9DmPEx2H9hW02ep0qjChlwKMknB4HoD1pxCMo9fTNICCduMjtjiuc4hAcKdvynoCaV2Gf8AaGKaeFwOPb0ppDFevNNARy7MZzlh14qjBpaRvJM7li7ZXjpWiqcnC8t1NKQoJRueK0jUlHYmUEzNk2h8P8yk8ZHeq8lwkUbBflXdgkcndmrc8SRzQtzhCdvOfwqtFaFWZ2UIpzgA8k+vtVp9WZtWK/mvKpjQSyZU7d6jA9DgelMzLKRAwfb3UyHJq8FgjIeMNFMRtypIAHfIzj8TVdkaKb9wQzju2B+OR3q07kyj2JEu2uo2jjJQD5QCMjHc46UyRJY9Nmuo22sikqFAO7jqc9frUDyx7kRJt5Jz5UZIy2OmfSq/2+KLT5I0YcxPvBlG1ODxzzkdOKaTGj53+Jniq/j1BtMt5mUSxbrhzyz5PTP4V5pXXfEz/kcX/wCuCf1rka6jpWxo6DcXlvrVv/Z9y1vLI4j3qexPQ+or6n8GafNc7jcp5sBG3nuR1IFfJtnctZ3sNygBaJw4B74NfVPww19dQuLN42zBPC7KP7pO3I/8dqKl+Rie538inTY4EsosiSULJk9BtNTPJutXkwC2PlBNSXsZnhAjYoy55/AjP61RsiXhaNgrEDb5jAHpXLsrlcwPcG3bYrjzCMqOvNXwFlgY5BUpyc+1YXkQNqgnSZGWJfmHG38a1bZDPG0alVhwVAXuKY76HCwxCGdkIjLYGdmTgdsmuuilhgsoZ5AxVU7euPSsnUvKh1T7Na2jtiJAdoJUDHr34rq7W3hfT0iIDDZjJH8q65VYzoxh2OanTlGrKfRmeLyC5VURtxI+cZ+7x3p6bfs0kLOsKqMKytyR7VTv9MW2tp/7ODRvIcE5zknqeagh0KZM+fcBv7pIxg4xXMdexoq6b1tIJTv2h2I5yPf86lj3s77+FHyjHGarWdoNOG/nYF5Pqcjn+dWYZB9sZWJIY8CpYEc1oqwvjJLHJJqa3ZLdVJHTnPpUtw6oo3EVUZz5JZQCTnApDI4ZpF1W5mmyEKjb3yPWseSP7cs3nfaTHs8xlyVDMfYH1rUV50DqylmkHzsDyR6VVLOMZEi7iE4OcL6UakcrF8O20cV5OYEMSJgBfqMk/ma6G6mtYraQ3EnlqFy2OtZ2nwPHLK8pJ81htHcbQB198ZqTUZDI6QyQ5hwWYk8E9vei4PYxIoYoV+1w48y4YksQM7ewxW9BJ5UHmPztUt06VSjs4ItpSMK7HOas3t5FYae7yMBJjEa98+uKQdDK1Jpr/VIT8ojhj3Edzn/6+K37TZHZhmO3jljxj3rGghaGzN1ITPIzb2duO3+RTtRuS2nrDdRt5UmEC4I3k9D9Bn9KCUyV7q3S78uPG2QbwQeWPfNPv4vNlQlslsZGen4VRsdNnn1j7fKdiBAkcWPTvWwsMX2xnIBccdfu07FxFiCxDOQoXqawpLoz6q0uWMhHysQcFSOP0rRvbhkd0dFaMjAXNVtLhnv72ZpF2xltsa4+6o4/pTGy9pFq0Vvy2SxyTir7/IpbByOQcdK0oLKKOHCjBArL1GZY1SHcS7ZbC9TjHFD0Jcrk1to1rq2nRzTvIC7liUIGcEj04q9HoVrEoCNIAOg+X/Cn6H/yB4v95+n++av10qEWldGV3czZ9BtLlVWYylUYMo3YwRyDTIfD1tCxKzTknuzA/wBK1aKr2cewrsxj4YszM0pluCzHPLA4+nFWRotsowGkx6ZH+FaFFHs49g5mZ76NbyRlHaQqeoOCP5VUuvCtnd20sMs9ztlxuIZe3/AcVt0Uezj2C7M220O2tYFijkl2qMckc/pTn0a2d1ZmkyowOR/hWhRRyR7D5mZFx4btbmaKSSacGIcAFcH6/LUg0G1BBDy8Et1HJxj0rToo5I9g5mZv9hW3aSYfiP8ACli0S2h+40gI6HI/wrRoo5I9g5mUpNLhkj2GSTGMcEf4UxdGt1bdvkJ9SR/hWhRRyR7BzMpf2XFuyZJT7Ej/AAo/syL/AJ6SfmP8Ku0UvZw7C5mUm0uJsfvJOOnT/Cq0nhuynQLcGSbBzl9v9BWtRT9nDsIxpPDNpJIX864XI2kKVwRjH92raaVDGgVJJgF6fMP8KvUUezj2HdlA6PAxyXkPOeo/wp39lQkY8yTHcZHP6Vdoo5I9hGRN4ctpwBLcXJAbcMMo5/KnvoFu4AM9wBt28MvP6VqUUckewbGUvh61VgfNnJA2jLDgenSpV0aGNSIpZkJ/iBUn9RWhRRyR7FczMe38NWsF5JdGa4lnkABkkZSQB6fLxVh9Ghfd++mBYckEf4VoUUckewczMlvDtq2C0s5YdGJXI/Sn2ugWlnbrDbtKqL2yP8K06KOSPYOaRnHRbYj78v8A30P8KBoturZV5QfqP8K0aKfJHsHPLuUzpkJxueQ4+n+FMfR4HUjzJQD6Ef4Vfoo5I9g5pGcdEtzjMk3HuP8ACo18PWiy+YHmJ/3hj+VatFHJHsHPLuYsnhaxm1BLyd5pZIxiMOVKp9BtqSbQYZLWSOW5uXRs7gSo3D04UcVrU2T/AFbfQ0csewczMEaNbBXCtKN7bid3P06dPaoLfw3aWnm/ZZJoTLncUKj9MYrTuLiK1t3nuHEcaDLMe1UdJ1y21cSCHMciE5jfqVzw3+eh/Alckewr3M2/shpslukE0jCUEOZWHIGMDIHvTLtJI7XekCyTA4VN2FH1q14kjV3tGb+Hfjk9fl9P61l3E0sqlhOViB2Mqn5jwOc1yzSU7Ii9jofCr7kud7q0o2b1XovXA/nXQVyXgULi/McRiVmQgMck/eGeee1dbXTT+FDTujynWP8AkOX3/XzJ/wChGqdXNY/5Dl9/18yf+hGqdfRw+FHzk/iYUUUVRAUUUUAFFFFABRRRQAUUUUAFFFFABRRRQAUUUUAFFFFABRRRQAUUUUAFFFFABRRRQAUUUUAFFFFABRRRQAUUUUAFFFFABRRRQAUUUUAFAO08DpRRSla1mNNrVFiGFZ02CV4pFywkzk/hV6GJY2SFz8u7OXxz7Y7VQs3VLuMyHam75vpXQWNvaXLLJFIxOeMnP14rwMdS9lLRaHq4Wpzxs9zYiXbEyKikYzjFUb62WDExk8o9io5A7itG3Hl/K7ZZVwMGiaITDdKgcgEcDpXkKWp6TSseQeOPDsdzFK8kStbXROwBslWx1z+teBXELW9xJDICrIxUg19cXOnyanpd9ZywKmw5QovXuK+d/iDpK21zFexRlS5KTYXjcOhJ9f8ACumXvwv2PWyrEck/ZS6nMaNs/tyx83Gz7Qm7d0xuFfUfgGSA6dNEjFn3AyAj7vPFeC+EfCFprWmrNcCSWaZykao23b2/OvcfA2gajo0n77KQGEJsdtzMQRjP60uW1N3DMq0KlRKO60O62gA4AGKc3zEkcEdjTguBzyc0kpbbuGODyPSuU8sZwfmJoxtbP5e9IfnZgP4T09fepSf4UweeKVwAo27gDHc+lI6h0zt6HrTyxUEuegqNXZmIUcY70X1Arhgy7XwG64xmqd+HRgVbEeM428VflR1y2C3tjFUZnS5QxqxLA4Cj/GtY33M5lNpZWx5hWGMsF3dWc9MD061Umi+1/wDHzLJHliAiYBOP5VIIFa5LXMisq8BCpwjexzye3brVoJnAhO2VsLnaOP8AD9a2uQZVrp8QV3iaS6ZSQY3faqjvjAzn8azNUk0ayjeOS0jM+D5YjYnbkf561p3eoz6ba3F3cLFtP7tYkbOSfU4H8q8B+JnjS5F59is7h0umIknljbGB2XitoK+o4xuXPF/hK28SXG+zuI4tTjQblZuGTtkdvrXCQeAtdm1Q2T23lYGTM5+QD6jrWJFqV7Dem7iupVuCcmQOdx/GugvviJrt7ZpbrJHb4GHkhUhn/Enj8MVub2aJb34cara2kk0U9rdGM4aOFju/UV7F8LtJk0GC2tif30cMkkh3cKxBP868s+Hnie5XUU0eeNJIrhnfzTneGxnk9xx+tfQHhfSLa4t55pXZ1jjDEIcYyeh/Kon8InfY7S0v1jtYpLy4j+cAZ24JJXJrC0uaNjdW1vM0nzEBtvc56CtHVLWB7e3xuAwCgDABcjGenPBqjo8CprEsgQpDCp2Nkkue7fzrnfYQ3+xJIIVgXCrIwMu3njuc9q3IctYeVBhBjZkdQvt70yUSXO0eWVTPBD/fPoeOBUsUQMjKm5gCBkVJrdWMieIjUEhS1fyo12o5fIHGAAByfxrStJXijS3kGx1UDAOce1OlMC+cEPzRjnnqT05rMsGa51RQtx5qQAgtt+83T17UkwRpXgEbqxlxk52561SutVaJihgJCp94HOam1GCO2YyztHGig/vWJLH1AX/69MtbzTzbyASg7FBcdce1UVdC2Uz3trJDOu1lb7vf/PSnx6fNDIZpLhiEHCY4X3zWbol7JqF089vDsiBIHP3sVLqGpak8j2gtlQSDJYNniiwEkuLxtqucZBOO9SrFIWCOQDjtVfw/D5DSGclyxyv+zV2RnN+di/JjlqQ0ET7lbsQeM9TTrWxAJLsWG4nn3pu7ffBRjagOavKTk54+lMbY1pTArbQDtXIz61Qhha7LGcZ+bqc9OtLdXim5jhjRgpBYkirMBzEpUVJFiS4t0NuzJGNwwoYkjH61l6hBEb4NsUPIpVDuOdoIz1/Crly7BvLCjdtJAzWdO02Xmmm3OrKuzb9xe4B79qCepplB9lW25JkZeMdMEHOfTiqmseZP5EZfbtmyV29QPetO3X94M5B281hapKEvG2up+cMOCWAyB0oG0bqcKvl8scZ9qorNHBcSCM7yXLMSetXIFJhDDOSBg1lTIYWihtoGdNxaSRj0pljL9xDA8zMBLMmYwe3vW1oFsYYUM3zMRyT2rIKvcX0DBA0SRgFyODn2retyc4BxgU1ZA9UacsvlLlTu3cDNYmqsiQM7TRwOoyZGXOKus7uS4APGFz29a5W/vpJdca3JWaJF2tkYCt1xj1wRzQ9TK1jr/C0iS+HIHjJKl5cFup/eNWvWZ4dAGgwBRtG58D/gbVp11x+FGb3Of8V+KH8PLZW9hpz6rqmoSmK0sklWLzNo3MxduFAHf6fWs6y8eXF34e1G5bw7fDV9PuPss2kwkTN5pAK4deNmCCXIwOevGX/EPxFrWg6PAvhzSby+uruQxma1tTcG0XvJsH3m54BIBPU8YOT4a1J9I8F3dxpPhbxDczpciS+XVIvJu7ssP3kqDJ3kDoox0wKa2f8AXb+r/wDBB9P67/1/SNXQ/HUtxeajZeKtI/4R28sIFuZBLeRzReSxwGMgwAcg8H/9UHgjxvNrvh6717xBeaJZaf5uIRDc/NbrkjbOzHAY/LjGM56c1g+BNBhfV9Z/s3wxfaR4YurRY5bDWYfnnuQSdwRyx27TjkkE/SsqLwtNp/gPwjd3Hhia+tbK4km1bSYbQedOzblSRoyAXK8cHqD6VX/A/N/5f8NcW7t6/l/X/BO6Xxdf3eta3baHZ22sR2dnbXFkkE4T7SZN2f3pJXGFyDiq+i+N9evPGVv4f13wl/ZMk1s9z5g1OO4KovGSqLwCxxyRWV8PLX7J4s8T6pB4YvdA025gt5Le3ltShbaH3YRcgNn+Ac8j1rW8H6bqtxaaz4lv4Wtda1gsLaG6Ug2sKZEMbDqOfmPHfpmlt939f15Bv+H6f18yxeePoYfiDZeF7Wxa5EzGO4vBJtSCTYXCYwdzbRkjIxkVd1rxV/Z3iXS9A0+0F/qN+S7p5uxbeBfvSsQp78Adz3rziDwt8QdF1Xw3CYNCufJvpp2uoVuHLSOjb5J2x3BIBGOcDpTPFPhxT4s8QS+IPCmu63eX7htJvdMZjFCoTagYhgEKt3YH1xjqbW/rtp/XRdx7t2/rfX+uvkeh+JvF13pGrWuj6Doj65q1xE1wbZblIFjhU4Ls7ZHLHAHfn8dDwt4ii8UaDFqUVvJasXeKa3lILRSIxVlJHXkdfTHTpXEeJdc8XaJ4c0LRE0/V7m6mtE/tPVNNtDdSQ4GGVP4TISPvE8dQCcY1tJ0y+1DwRYW3g261HwgtvKwddT01JZ5RzksrnqzHdu700t/66/kK+3Qn8SeNtW0W9uxp/hK81Cw0+MSXl88626KuNx8sOP3uBnOO/FXdc8bWej+D7bXY4Jblr5Y/sNn9yS4kkAKJ3weeeuMHrXJ/EYrrJm0bWvBGtapNChOl3+n5eIu643uVIEZDDkMG4Gehqn4s0HUJ5/Dd9410XUPEVlb6aYLq20nJkS7YDc5VGUlSBjIOMj3AMrb5/wCf/DeWm4+v9eX9b+h6mL37NpQvNXMFjsiD3G6YGOHjn5yBwPUgVzqeM0n8WyWdg0GoaWukG/WWyBmklcSlCqFSQ3TGAM571wx8Oaz/AMK8h3aPfz6Tb62L2PQrhy9wbADiIgnOQfm8s59OTV3wtBNH4+1TWvD/AIIvNHtX0Yrb2tzALQXEyv8AdOMrGTjH0G7vVdf67X/P8ULZfd+f+X4M6LSfHupXHiKw0zX/AArdaKmqrI2nyyXKSNJsXcQ8Y5jO3sc4PHvXZyyxwQvNO6xxxqWd2OAoHJJNeVaNDLqfxNsta0PwnrGg3L+adbudSQrFMhUfIm4ncdwGCu3pkgg8a/iHwj411Hw7daeniaz1Q3N0jsl5a/ZUWAZLRExZZgx2g9OAeeaT+Ff11/r7gVr/ANf1/X3afhLx9H4rk1gx6bPbW+nFGicku9zG6llcIFyMgAgck5FVdO8f6nLr2n2eueErvR7TVHaOxuZrlHkdgNwEkQ+aP5Qc5zg8e4y/B1n410/xn4ludV07S9jwQ4W1EsUc8iRYjWF3GNuOGJzg4xVCyjn1j4kabrGkeD9Y0PV/OJ1i8v1It3iCBGRGJIc5A2lQucZxjOGviXy/r+tu3QTvyt/1/X59z02fXNJttTj0251SyhvpceXayXCLK+emEJyc/SsLx546h8E6dHItk2o3kuWW1STZiNfvyM2DhRkduSQK83u/Cc7+INS07XNC1+9vL3UWmh1CwtLQxGJnBVjcyRl4ioH3d3YDjNafjfwr44b/AISa/tU0nUba/hECLiaS8SBSMRxqo2gk/MeuT+FTf3U/69C18Vv69T16J/NhSTGNyhsema4G++J9xaX91LH4bnm0GzvhY3GqC7QMsu4KcQ/eYbmHeti10vxZcf2Nc3Wv21gII1+32FrZCSO4IPQO53p8uB9a8u1jw5fzazqDS+FtYn8ZSamJ7HWoV/0NEV1MZLZ2ABFxhlJ9Tk8V/wAvEun/AAV+lyFdwv1/4DPSPEvjTV9GvLpdL8JXmp2dhD515evOttGi43Hy94/e4AOdvQ4HerOr+OrHTfCVrrVva3N49/AJrOzjQ+ZKNm/5sZCqByzHgD14zzHxGddWE2j694H1nVTEm7Tb3TCXjMjJjc5Ujy8Nxhg3AzjFdWltq3/CsmtdXHnaqdLZJliGS0nlkYAHU5446npUNtQbLVnNL+uhoaLrkWqeFbPXLhUsori1W5cPICsKldxyxxwB34q1p+p2GrWv2nSr23vYNxXzbaVZFyOoypIzXnmq6Fql38FdBtI9PmuHs0tJr7TCCklxFGAXiweQe+OvGOtW9J0271fS7mXwXYXHw/8AMuEZ3uNMiL3ICEEeQThADjnv+JrSVuaVuj/r+vIhX5Y36noVFNjVliRZH3uFAZsY3H1xTqkYUUUUAFFFFABRRRQAUUUUAFNk/wBW30NOpsn+rb6GgDNnt4blAlzDHKoOQsihgD681HFp9lBIJILSCN16MkSgj8QK5e9/5CFx/wBdW/nUFAHSaqN08AxuO1/l9fu1zV7bSoQ0DbSCSVxnPtmtXIFhYDcQSkuMHB+8OlOaFbu2/e5QdCob3+lcVX42Vyc0STwNL5v29mRVcGNWI7/ePP511tc74VgS1kvoYQojBQjA7nOcnv0FdFXTS+BERVlY8p1j/kOX3/XzJ/6Eap1c1j/kOX3/AF8yf+hGqdfRw+FHzk/iYUUUVRAUUUUAFFFFABRRRQAUUUUAFFFFABRRRQAUUUUAFFFFABRRRQAUUUUAFFFFABRRRQAUUUUAFFFFABRRRQAUUUUAFFFFABRRRQAUUUUAFFFFABWvoVw1uZGTbx94N6e1ZFa2lRpFCZZASZDsXj9a5cXZ0nF9Tow9/aKx0Ul9InVRuXBOB2qf7Qpt1YO2Sc84FY1jN/rElzuiJC57rmkuvKWQffeIKSMZ4yeelfLOFtLbHvRmbEkoRPOiTPPzdK8c8Wx2Gv310htjHbSMMxg4yQevHuM16hfX/wBj0mNrUhATgDr+vrXNwNELlmmgjkWRsuNgJP0rtwuFlKDqGU8UqdRdGcb4F0uPStVsrUMzRC5LJxkgE5Ar2sMFw2DwOAO/FZSi0tYlKWSwuFyj+WMkYqok17NeLdNDP5a/dVR/SsvZ+0euiRrUr+9dq7Z01sxlTcBt570k6gREM3B6bazk1ZLa3AlikBbk7gBiie7lnWKSIqE3A+XnJb8q5vYy5r9AdRbGiE9eM9ee1ORcsSuDjvmsv7bI10ed2z5XYKdue9acIGwYI29SQc5qZwcdxxlzD9y8hiARzmmq/mMduBj+L1phAB3b+GOcU7zAzYHyAfrUWsaGdLZ6i8p865Tys5wvXFG+C3i+yRn95jJx/DnoSayfGmv3mjtZraBFWTJdmGSQMcfrVuzu7LVrVbq0lUSOm05PK+xFdKu4pvYxcbO5E8bFY2jdTFuy5IORj2pJEkc+cXZdnzKuB0HvnvVu2gjgt3jDBOSzZP3jXL+MtZitbM20Eqgsv75s/dUc0RTk7BY4f4leM4tPt57i32fKSlvEzf6xv72BXzvcTy3VzJPO5eWRizse5NbXi7xE/iHWXlRm+yxHbApGMD1/GsGuzZWRtFWQUUUUyjU8NXdtY+JLK5vmdII5AzMnb3+lfTXhLxTp8Gi3Cv8AvoLhRJE6DdvP+efzr5Rrb0fxbqujLFFb3DG2jcMYW6Edx7Ub6Mlo+qFvoNTlhjW5lmvJCAsUbHCjvntnbu/Su1TyxDiEqWX5BheePWvm/wAH/FNbnW4oYoHsbl2/dneGVuDwc4+nevbdJ8SRy6b5iBvNMgU7mBILcZx1xk1zVKdtUSa88t7Hdp80XkHHQcj1rPaea8jzAzJbRqFzjb0PPA5J9Kp3DvHdO16zOzdkOMitvTLmC6hxChXbgMKfsZ8nM1oCqQcuW+o2wtUSzYxq2+QbsMc5z61Qsp10myRnVXu5ZXRQo4Yhj/8ArrbkISGQHG4Dlc4rNt7GSfUft1yMrGmIkxjGepxWZo9yjqkRvbyKzlU+bL8xXdkInck+pq3cabY2WlybI3ywGNmSSccVdFqN5dlyWYF29vSnQTec04YhV3YX2HrTuWVLYCysYwA29gAR6H/OadO5m+WIK0jJkYP4VlXV3b3V4baMSShTtypwAR3/AFrodPs4bOHbGh3svU0DK1uk0SAzbVZPQdB/WotTu4bZI4zKVeb7qqM554/Wmao13IyxRqFQnLE5qrY6VJfawlxO3yIMEH0oA3La2KqWYfO/JJqx9zrj3FOuJEjyCcYHTNRI/mxq7DGRQBl3kLx3TTKfnkXaM8gf4VbtmFvDFHKTuIJyBUV/bb7iNlI2r97nrVhk3qFxnA4pAVrq5WaTzBlCOBn+ID/9dMDlp2ScJl8PhewpZYlS7VWXjAzT5youiqrhsAZA60BYuwc7pFP3uM+grNv4TJfR7ocqzAZPQ4Oa1ogPLACgADoO9ZupyM0sJVwrswWNQe2ck/lmgTZfWVo1AzwO2OlZV4bu6u1htZVjiKkOWHOPXNXpJGVSVBLHjpmqNh8+oOHL4AAG8Yz9KBl6K3WNECknaMDNXowdgMm0c8e9RoBwM59zWfq93Na2ubeXMifcQActn1P8qbsRJhLrwhv7iIwviPhdoGDgA9SfesbTrKSW5kuJslpHJ5PIzRY28z2pdwsssrlyHb7u7rW1ZQNCowQccHAqRRR0uiLs0eFR2L/+hGr9Z+hSebo8T4xln4I/22rQrtj8KMnuYPinxbbeFILR7iw1C/kvJvJht9PhEsjNtLfdJHYHpVGbx7FD4J1DxFNoerWa2bbFtNQt/IllY7QuBk/KSwGfY8cVn/E6TSIl0iXxBf6tpVrDNI66jpsWfIcoVAZwGK5DEDCk57jrXEapatr3wh1a41WW91SwsdRRtFv78ss0sLOilm6FhhmALDnPQYADjrdf10/ENE1/Xc9M0XxVf33iCHRtX0UaZePp326RBdiby/3pQJkKAeAGznvj3rpJZY4IXmndY441LO7HAUDkkmvHPFWmeFNG8dWun+IIrmHw3b6AiNHC0zIv79tnmFCX25+o3bc9qjs7XxJqHw/jsfDmk3WqeH5tUkMME92tvLJp64KR7pOQjNkdCdox3p7rT+tbf15IVrPXy/K56X4S8Y6d4zsbq70iO5SG3nMBNwgXecAhlAJ+UhgRnB9qZpHjbStb8V6joGnieS405d0s+0eUxyFIU5ySCcHjqDXnmg33jKbSvGtvoXhpbLUJL392BfRN5EhWNWjHQZVPmDdM4GOKl8EnWNM+JkGmt4R/sqKLRlhdDqMcxjjEjN5xKj5iz8EDnJJpqza9P0uJ6J+v6/1/w51i/FHRW1tLH7FqotZLr7GmqmzP2Npc42iTOfvDb06+3NaWs+ONG0TxBp+iXEkk1/fzLEsUChvK3cBpMkbQfzPYV41BPENQtY0utTPitda89/CzQv8AYo/3hYlUxtACHfv3e/vXpvxAtoIL/wAMSwwRxyT+IbZpXRADIQjAFj3OABz2FKN2ot9Wv0/zHLRyS6J/r/kavifxvbeGNRtLF9J1bVLm7jeVItMthMyqpAJI3A/xCmz+M/L0nRb7+yL23/tXUEsvs9+vkTQbiw3MvP8AdyB3BHNc38SJ9AtvEtlN4i1rXNAC2bxw32nIVRyzgtH5iqzBvlBwAOO/OKxNXudWvPhf4Vl8RG/M39txASLGVupIB5m1toOQ5T056Hk0Rd1r3X5/5Da1fo/yv+Z7NRXi/h660uyvfEVz8NIdRm0CLSXaeOJpVzefw+UZQWD7epwe3B4rP8FSJB4oEng27jnk1PSroyPHb3Mccl0gVl3GeRvMYM33gFHzH1OFf8r/AJ/5fkL/ADt+X+Z7xXG3nxQ0Sy1qWxkttSe2t7gW1xqkdqWtIJeBsaTPByQOnUivOPh5a6dN4w0qS11SaHxGrM2rQDTrvzmwD5i3EjzFMFsfMFHzbeB0q7r/AI58K6pr1z4avLyDQvD1ndlr2KOzcyajMr5KgIhCJuGWY/M2O2Saq3vJf1/X6h0Z7ZRSDBUbemOKWkAUUUUAFFFFABRRRQAUUUUAFFFFABRRRQAUUUUAFFFFABRRRQAUUUUAFNk/1bfQ06myf6tvoaAOBvf+Qhcf9dW/nUFT3v8AyELj/rq386goA10IFhY7gCCJAT3HzDpUtu7FWJYKjD5VKjtUABNhYcZ+WX/0IVKYd467ffOK4qvxs1ivdNrRwo84qAN20nHfrWnWVoo2mdcggBcYP1rVropfAjN7nlOsf8hy+/6+ZP8A0I1Tq5rH/Icvv+vmT/0I1Tr6SHwo+an8TCiiiqICiiigAooooAKKKKACiiigAooooAKKKKACiiigAooooAKKKKACiiigAooooAKKKKACiiigAooooAKKKKACiiigAooooAKKKKACiiigAooooAKk86Ty1TdhV5AqOik4p7jTa2Jorl45N4fLKPl/wq7DezKM3YWGOUbm83AGAazKc0jPHsc7kPVT3rz8Rg1N80TrpYnl0ka+oXiXemo8MgdN5G1F9e9XtJtLaKzWRoxLJ97kciscTfaLYW8ERJznaBxUmlxzpqSKW2FQcg88elcvspRounezWp0qop1FO109DemvUlgBl/d4Ix8vX2q/bMzKHB+Vh29KzJESKbJUtExHXkLUsFwpkMUWFBbgg8CvHd2mmejG25ddo2k2SKpyM9RwKDbxIynYo2nIwOlZy21zDcSTsrSllzvzkKOwxVqwuWuVO/5ip2txzmpba2ZaSe6JZQXOIhgMeuPzqdItoY5+9gAH0FMQv5heMqYyMDnoalCEkGQ5xUtt7gkkyEqWLDaT9Kdt2kE8jvz0pzZDHae9JLLBBGGmkjRfVyAPzqehRwvxPKmGzfY+8I43/wAOOOPrXm3gHx44uUXcI7iPAkiJ4lUdx716h8SrmCbw/CsE0chEpJCMDj5DXyrHNJb3CywuUkRsqwPINdMZcsEn5no4PCxxMJp76WPrjUdX0/8AsgX0kqvG6kIgPLn0xXzp8R/E81mY9P067CySK32gKcsAexPatvSvEF3rPhyUWTxHU4lIWOQ4XPrivIdZTUE1ef8AthXW8ZsyB/8AOMV004qMbo4J05U5uMt0UaKfFDLcSrFBG8sjHCoikkn2ArttH+GV/dRpLqkgtRv+aHgtt9cjgVoK9jhqK9N1f4UbYfO0u4kQFCVSdeHPs1ckfAviQDP9luR7SJ/jQF0c/XRjwHrp0n7eLddmzzPL3/vMfT+ldV4P+Hlxa6kLrW4oZQE/dQA7vmPc9uPxr2u38MwfY4LRx/pdww2yg/JHgfc+pH8qTaW5Ll2Pl7w7dpo/iSyu7+D90kgLb1PyjpuHuOv4V9JaZ4ggfSI7dgrx7cxyRgZYZ3Dn64rL8d/D2C4094rlhKgbbHOFw0beo9u1cj4C0i/0S3u7PUVOFuB5TE5Vlx1FPRoT1PbYNMmurdZYnT5l2uCc4b0zWvpOmHTQZJeWxzzwPaoLGaO70l4bSSMvJGQhHAGRxWktxH5Yjkdc/d65yayliKnLydDKNGClz9TL+0STXT7WCl3OExyoBxV1kMIaV5XJK8nGBj+lOWCAXCZUPLzkjt71WvQSklt96R42JC+mawOlO5DBqdzdsgsYHdORllwPqTVmfdDDtmAEioGYqOGBJ9fpU9nNFbWvlqhDxgLtVcnkelYOpXU73TNcINvKsQCFVcnBJ6ZqkrhezJ4Ii8hNhCiZOXkYdR3/AB6VsQOyIAp3uOuKo6IVnt9qfKCuQTWklrHZr97JYEkk9OKFuaXsVrd5pIyboZIYgDHbNXklWEAABFqlKHe+jdf9S3GQPugDJJqtFdfbrkww8vk7Rn9aQr3G61dW0nlKrN5pmCpzgGprO5a5mkVQdiscH1ps+hAbZJJA7RZIQeuOtXETZGgVQgx6UAVbvzTMGkKhB0UdavRIAoc85HUVCyb3B6nsT2qb7WDCqDaDnBxQMhuD/pKKq53dTipVjHmgsOlDnC7yRnOBRGdynP3uufSp6gMu544Ld5CshC8gICSfwFY8LCTVPPlLpkDyo5Vw361qzpuUcnHbFRSQKV8x1Uuo++3YCkyeWzuWBw49W71n2HmQazK7K2ASq7u4FSxThwHDBlz1B4qrB5suuTzhdkKqAp9TTK3NxphteSQKgXlvQYrmm/4mbDahAVy6knsTWzfxu8AG8RxHO4H+KorW1WNcr1PT6U2LlQnli0thPN/EQgP1q5GgC8kDjJOelV9WiM1pEmxm/er0/h96h1VmNg1tA2HchWYD7q+tINjpvDknm6DC4OdzScj/AK6NWnWX4biEHh62iH8G4f8Aj5rUrtj8KOd7hRRRVCCiiigAooooAKKKKACiiigAooooAKKKKACiiigAooooAKKKKACiiigAooooAKKKKACiiigAooooAKKKKACiiigAooooAKbJ/q2+hp1Nk/1bfQ0AcDe/8hC4/wCurfzqCp73/kIXH/XVv51BQBrxAGysM/3Zf/QhUkiSS/df7nIGOp61QupvKstL6ZPm8Z6/MKnguA4H2ggo3DDOCvtXFV+NjU+hs+HbhZ2ucffXZuH51t1i6AlvE9xFbIFCqhOPctW1XTS+BCPKdY/5Dl9/18yf+hGqdXNY/wCQ5ff9fMn/AKEap19HD4UfNz+JhRRRVEBRRRQAUUUUAFFFFABRRRQAUUUUAFFFFABRRRQAUUUUAFFFFABRRRQAUUUUAFFFFABRRRQAUUUUAFFFFABRRRQAUUUUAFFFFABRRRQAUUUUAFFFFABRRRQDNnw+6qZ13AMVGBjk9ar6jMY77dBujbbjdnGaXSZRbiSXbywCqcVYntDqp8+Iqr7cbD6148pQjinzbHqR5pYdRjuW9Nvo76E28qnzAO/c1f8As5htmLSKGA/dluSK5qyD6fq0X2gGMg85rrGQvGShG4g7Tnua4MdThTqLkejOvCzlUpvmWqH204ljBRgxHDEevpSRwKr8seuTjvVG0triySRZZDIJHBAxyf8A61XJZWhkDFgI8YwBxXBa51c3cnCxqdu4Dbz1p2/5slsqTmsiC6guPNxskZCNzJkZzWb4o8YQ+H7JwrKs+zI3dIxjqafI5OyKTT2LPinxVb6JCYbXZJeMM4PSMep/wrxLxV8TGkuTGZjfSKeitiJfpjvzXLeLvGs+vzSJEzeXIxaV2+9Ic/oK5OtOZQVo79z28Llt1z1vu/zOvb4gXTxyKbOL5shTuPArkDyaKVVLsFUFmJwAByamUpS3PXpUKVG/IrXJbS7msbqO4tnKSRnINddImmePbNILo/ZtTiUYkA+9649R7VR0bwPqWqMhlU26ucKpXLn8K9b8JfCQRgSmL7KQ2DJOMyEdyB2rWnzQ1eiPJzCthpq28l2OZ8K+GbXR7W2sz5bTZIa5EQ3Ek/n6V6tYaTpmlxOv7ueUYDl1yRWqnhLSrO3QW0KNIG3CST5mpl/YRJtWbCeZgKy8NkDjnvVSqqS0Pn3e5UazttX09/MCmJS2wjnkHt/KubudChkZksLS4LhfmGd2z0J+p7V1nkpJBCY7n92MGRVkPzP3+gJpZpWkvLe3TzFjXJYGTYqDHYDrzmoUmtiTBsNFura1/eObRd+108gFyoA5z9TWrDaQxPhYrm5O7O7f8w4+8D1H4VVuJrWORzHLdXMiAb9zFiw9B6VftNcj3DYGaXGRCEIwfTOOetW9RRd2TtYN5b28PyrJEQ6zEvg9eR/WuTsdO0+x1G4S4Jl8rHlueOcdQPb19q6K+nuE+aRx5kgJkWMAYXGMZ/H9KxYJTZxS+bbkecNoJBOxemeOvXiqUrI0vY1LK6e4kEUHkxxxkM3l85OOx+laQgtDlceaA2Rg56etZ8IsbaylW4yhnk+b5SCyjHXHatMSWMcMcsCo9uzktIBwgA4NQ482w09RjaRbxyebb/uZnHJBzVST7TC9xJNL+92BQ47Ln+tXo5ZLl1ngBSDzjtZv+Wi9iPam3lxCkLySFXG08AVLi0aKxVsrf7YJx5rFJVGQPUDGf0pl/ZSWVuo+WRT3kJGCe5PfoMVY0gGH5jgs5zjFSao8s8cqsW2bdqRIoAB9SauG4Tj1Keg3Aa7aAlm+UkMwxvPc1sT3X2Usz/NgHZGg+YnHSsGzgY3SmW5ZSmCik53Fcg9frW6+L6BgMhh6HioejGtTD1PV7yWxKW1tNAZTtbdz8mOcenpVjwzpsdswuiChxxnt71PdWqsEjlwWXgKD61oW8floIsFlIxnNCKSsW5XVueQenBrLv9RiSaO2jJaQZzjtVi7uVsLUyOpkZR8sfcmsy0D3m+4k2gscjA6ZpjLEl6Y40RVzJjJ9qitJ5HuSJU3Y6HFOijLvyAZHPAHYdv0q75K20ZaTC+pNIZXuJLhpDhDIOMKB0qzD8twqSEAkfNTwwGNjbgQDmqkod7tZASABtx/nrQIsSMu3LHo3GadvAUnqMcgHmq00irhXxktwTUittTJ5HfigZRSRGuCiHHGcNzVtmMRjCj7zfN9Kr2aB2xjBzlh6Vcu9qqCOCvX0FBK0KV0TPchMkhRnbWlYIEhxcAiQ9KghiO4yMc89f5VckkWGENKeOgA9aQMcVYqePf61Ukt1eV4G4ldM5x1Gf/rVDNdzNKhgfCIpznuagtk3m5lllZiqEBiST07UC1Ot0Xb/AGTFsIK7nAI/3zV6sXwiix+F7VULEAyct1P7xq2q7Y/CjB7hVbUr6PTNNnvJgzJChbaoyznsoHqTgD3NWa53xHa6jq2o2Fhprx26QP8AbZZ7m1aaFihwkZAdMncd/DcbB61XkBdsdehm8PyanqIWxFsHF4jvuFuyEhwTgZAxwccjB71UTV/EM8YuoPDkX2NvmWOW/wBl2V/657NgY9QDIO2SpyBkz6HrjXGq6deXNtOus25ljuLayeKKC4jCgB1Lvww29xnYRjmtZfFgSMRXejaxHqA+VrWOwkkUv2CzAeVg/wB4uAAfm24IAIW61nWW1u7sNH0qyuVtIo3d7m/aEkvuwAqxOP4epIqA+Kb29k0uPQ9Mhmkv7WW5Zb27MHlCNkUrlI5MnL/TjrWfq/hq51rWdbnhfULO4NtbfZmjvJreORhvJRvLYBgeFJ5IDcGq2oR2Mt/4fuLjTNasNPj06eIQafBdI9u+6HEbfZxuAwrY/hOMjPBoW9n/AFo/6/rUWp0lzrGpWOn2/wBs061OpXdx9nt7aG8LRMdpbLSNGpUBVYnCk8cZJxV3TLjUZ45Rq1hFZyo2F8i586OQY6hiqt7EFR7ZrFkbRpPDCxyadrN7YCbDfaLe6kuIW6iQCX99wcYZASCcjABIn8K/aM3uw6gdL3r9i/tIP53T5/8AWfvNu7p5nPXHy7afcOx0NFFFIAooooAKKKKACiiigAooooAKKKKACiiigAooooAKKKKACiiigAooooAKKKKACiiigAooooAKbJ/q2+hp1Nk/1bfQ0AcDe/8AIQuP+urfzqCp73/kIXH/AF1b+dQUAXLqJJLHTWcAlVmxkf7QpsAkuiUZtyRjcOf4u39KvwosmnWat02y8jqPm9apy2otWLRPtOerMTn61xVfjYnHqbnhhXP2mWUnzG2KQT0xu/xNb1cv4MjmT7b50hkzs2s3XHzf411FdNL4EC2PKdY/5Dl9/wBfMn/oRqnVzWP+Q5ff9fMn/oRqnX0cPhR85P4mFFFFUQFFFFABRRRQAUUUUAFFFFABRRRQAUUUUAFFFFABRRRQAUUUUAFFFFABRRRQAUUUUAFFFFABRRRQAUUUUAFFFFABRRRQAUUUUAFFFFABRRRQAUUUUAFJ3zS0UwLNpM6usW47XYdOCK1JCumXTmLcFJBbc2QB6isIHawI7VtSQF7GOacLnGN2eT7142YU0mpLqelhJ6NGxJaw6hGryYY4+Vh1BptkL2JmjnQMAeGzxVGC9js4RGJAUU98k49fzrXt7iO4hWRGJ3CvIc5KPKz0oRi5cyGXUM87xeSV+VvnBPLDvWPMPKDQ+f8Au3XGFckfnyR+ddEM9vzrMu7SCHHmAFSRk9MH8KyjJWNZqxm7JLXeLbCvGpVfmOACOOuc/jXhnxIudSuVRGEsqsxaeTBPI4AJ9K95iWFnkjlGTkH5mzzjnkYry34hT6dFa332NzBG0ZUnP3nyc4zW8VeLRthJ8leLtfU8Sooq1p2n3Gp3yW1ou6Ru/ZR6mudan2cpKKu9je8P+CbzVyslyHhibBRVXLP9B2r17wt8JIrXEs0Qtgf4pPmlI/pWx8MtGubUC6u5MrHD5OWTBkPByK9FxuOfatJy9m+WJ8niMXVrNpvTsjL0nQNO0bLWcJ8xxtZ3OSa10Qfx96jAOOeKVmIyMk1hKTbuzj2HkBlAWMY96z7q3SWRc9FOR3Oa0Ff7vHzHrSMgLMo4OeWA61N7MHqc5Lbp9qKQKquDnA/w+tQtAhtXMhLyMcb888Ht6VuXVqkMEvlDDHksOp/GqRthNGydIsfMyjkcA1vGVzNxOYVZbCV5PPMt3O53K3UKOnSr8d7dTxs1osjogOGbgE5HSrK2kHEbk+bKcgEds9c1XvLVftzQiY2wO1UCE98np+Fa3M7WKUNkl9MZJ3kl8s5Z8nkk/d9xWnpfmT313PCh+zwp5UTMeHbPPH9aoiWK0uHgLMQ2EVy+AM8fia6KKyt7WxWMMyNGuF2nG4+v60rXLuZ9xqkMWnXBulffKNpCgHcTxxVCe5heNo7WCZWdPmWM5xn26ZNac2mpcBJJD8ycYY/KPWlh0544FEEkkJYsBuxtI9T6n3rWLBN7Fe1hmaK3+0MIo44crH5n3FXoT6nNZnheOfUNPkuZmMieeyqG7rmtDUrKTWLgWjXOTFH++SBNvToAe30pnh25ka9vYordbeGDEMaE8jHGfr/WnUXY1g7M0oTHHKcbmYcbfSp737OIMXDrD5mAMnv+NT+fFamMXGFduFPTPvUWoPGqiZ0Dhe4TdyfasE9dTVu6Mm5lkRWijiaFUyodjyw4JOfSp9HvIiZXSUbI+COenTOT7msC+S+vrsxZISdid7KQcdPXjrV69szaw2WlRHasg8y4m7gLgD8CcVT94lI6UWMMkhljPLKOTzikEdymYlk6nl++KzHtL+zsQljKf3jfNIx5UHg8eoqCa8nspgkUzyl0UtJIvAzwSAKTQ2MkuWVUtLpD5qkkJK+Xce57CtG3+0fZVCIgOOTjH6VQ0yxt1uHu7p/MkPVpDnOBz9K3o7mKaPdDhl7dqSKRVtbYW++SZt8zNycdPaqFzJqFxeKrHdECSAFHA9/WrEl2ZHwpXaG2kg9D0P61MNyQn5txPPPYUxkifuwu7JbHT0qOdjJL12hVwAO9NgkeeQEfMGOMirDRiNmZj94gcjvQBXEYyu/5sc81aiJYbcDb1zio/LLTjJ+UYzVpBtVgh4J9KLhzIz9LDwzz+YNzucksOlLrTtHbLCrhWlPzALlio7fSrUEL/bWckbGxx3GKybiKe6v5ZVZpELZBxwg9M0XEydU+0qoEjBUlyNp64qzftmxk3/NtXcuBnBHtTbW3MEKpvzgYzjrRdpdiENawqwwQzPnA9utICpazfaIY+MblzjuB0q75B+yOkeMMMk4qvbWLQqm9iZNvPpjPSrsLqr7M8dKY1sbPh2PydBt09C//AKGa06oaK/maTGxXb8zjH/AzV+uyPwo5nuFFFFUIKKie7t47hLeSeJJpBlI2cBmHsOpqWgAooooAKKKKACiiigAooooAKKKKACiiigAooooAKKKKACiiigAooooAKKKKACiiigAooooAKKKKACiiigAooooAKbJ/q2+hp1Nk/wBW30NAHA3v/IQuP+urfzqCp73/AJCFx/11b+dQUAbEJcWdhtIAxJn3+YYp8ijPKBgfUVTlBNjpwEqpxL8p/i+Yd60oVkaMecAeOprgrfGXHYt+H0ImunIxuCDjpxu/xrbrM0dQrT44+7x+daddVL4ERax5TrH/ACHL7/r5k/8AQjVOrmsf8hy+/wCvmT/0I1Tr6SHwo+bn8TCiiiqICiiigAooooAKKKKACiiigAooooAKKKKACiiigAooooAKKKKACiiigAooooAKKKKACiiigAooooAKKKKACiiigAooooAKKKKACiiigAooooAKKKKACiiigA/z9a1pZIns450TOxdrJk/L05rJzipElZImTPDDH0rjxlJ1Y6dDooVFTlqTySblkJj8sZAXcvX689Kt6bqVxBdRQ7P3UjEM7H7vfAqowZrZdrElRgDscd6ckU0tvHMhG1hwfQ5xXgSjrys9WEr6o6MapCZHj6ENtUt/FnpTrmETRqWyQrbvu+n41zlxcC2tuginIxhDuJGfp1NXdO1aN7dUaQJKxyCDkAelZShZXOhSu9RZkjwZY98m3jg/0rzLx74WNyrWm4CSQCaN3XGwntXsN9AJLItZhRIq4AAxn3rCms4Lxf8AiZxiVoAGEmfvHuKqEl1LhOVOalHofO83gDUo0BjmglO4AhSRgevNer/D/wCG0IskmZhHET+8kI+abHUD0FdvJoljeWW+LT0duSq9CPckdfpV3SLtIUFja2u1ovlA3Y4p20bprU6q2Pq1Y8lR6GuII4oUhgUKkSgIvoKfE+ZB5i8r0qXgNuPAwcjOaiwv2jcSQO3pXJr1Ocn+Vm2LweuaUjauTzx3prDBBXBI6fSgsRnd83HQVIBjEi1J1YgDj1qH+LPOe9NJBxsJzn0otcYlxC8sqNlQucEGqV3+6cqEyrn5mBxtHTn1q+smSQOnfjrTHt3VXUNv8w5Gf4fbFXewmYt/tjs3EbKjY2rgdaoR2YsJUErEysvLMd2Mf/rrcukCR/vhtAIIYgfMfSqsFuHikmnjZWkc7Axzlf6VrFmbRzNvAL3VCVdHCrlznaVVWB5z74/OtM6e1/fCa9V4YN4wkch+cZ6n0q/Le6Ukc8YcRsiBVUJ3/rWZFqTm1liMWwZ2bg53NnqcY4NaX0M+ptXcUMKAJgLt24Zumf51mtpsMkkMlvfzLKifKzNlQv8Au0XMxBCPB5cPLKzPktgcmm6YJbp3uIokECKFSTOdzZ6Y9BVR2NCTT4W03bEtvLeDcWe5VvmkPc49M9ql0qF4dQnnZgUeZhCAnU9/rzmpJrk2IkuDHuQMAdgxjJ6D1+tYttqqyXvnQyXQhaImOM/PvYn5gPTrWy1RRd8Q3A22kclwqy+acyL065HFars+paRmCTYzLjzF+naucvI47G3S6lgUzSARmPGfLxznPqQR2rU0rUdyxlQqQBCMep4xXPONmaR1Ft7JYPK85JlEZKqM5LDj5mP9Kq3VzG8l1PEQksg8hNwyNnUt+hroZmikj3yE4xgxAdPxrn5bTzyyviBIpNhQfNhSOnb2p7Fmno16uoaPGGJyoK5zkkA4rJv4IoNRe5DStHEMMuf0q4pXSo5I7TLpBByemXY9fwFTXsME+jSXT2+6ZI8lB1kOKALkaQNCjrHv4yAG65/Cs/Ub67FqkFpAkbSZDegH1qLSr3yLPyJBzF1UHO305pkl0+oXXlpbFI88uW5J9KRSJNPs9qsqPukxkljnrzW1FHGbfMSsGUYZWPNV7ewOnafLKp3zNlyT6ntUdozRx5diZG5PNJgNVZFyiJtyT8wOMZqubcxSxqHdi2WB6enetB+ELgZ749agZDcKqn5GK8jPIFIYW5MasQPMGT9045qzFdbMB0JPU4PSiJY7dQr4xjpVe5+YuqIy5BxjGCMUrEMa+oCW0mnWPd5asVTONxxjrVGE31ysUJjRYflLY4x6j3PvVy8jlbTStooG4gDjHP8A+ul09fJRQO3v1osNItRpJBt8w53Hn0FSrcnzJIN2YwRiob1Glljwec5z61IIk84ME2ZHzY7n1qyhLqQrtESb3KnHtVOwMjIrSfe6M3vVue78hH2hWdF3HnGBWbZ3jyyKEhCwk7iQeKQjstGx/ZMWBj5n/wDQzV6s3QP+QLF8xb55OT/10atKuyPwo5nuFFFFUI8z8d6edV+IWnWQlMJltABIBnaQ0hzj8KfHrnijwfhNWi/tTT14EwbLKP8Ae6j/AIEPxq14j/5Kzo//AF6j+ctdWQCCCMg9Qa+fzHMquDxEYxV4tbfN9TWEFJEeieKdK15B9huQJsZMEnyuPw7/AFGa2K4XWPA1hfv9o08nT7oHcGiHyk/Tt9Riq2meIvEGga5ZaP4gCXkN1IsUU4bLckDOe/J5yM134TMaGK0i7S7P+tSZQcT0OikcM0bBG2sQQGxnB9a4Lw7ZtaeJbGyj0JtP1C1gMmq34ljYXoIZQSysXcs4LgyAEbT716K3sR0ud9RXJ2sL6QPFLWbyzXCKJhJK295JPJzk/jgADAAAAAAApLDS7HSNW01NHijiN9YzG5MeM3JAjIlc/wAbZb755+c+tTfRv+uv+Q7bHW0VxnhjSLbSXj0u48N2elT3Njj7XYOokmChQ4d0VWVssCCCw77sikgW28I6hqs8Wk29giWLTxWmnsPLuVjb77fKoWT5lB4PB+82MLT0YulztKK5nwu+o2Nw+n69ZW8GoXStevPbXBmWdshXzlVKlcooHzDbgZOKZ4n0Gx1OeUCEXOsTxBbKSXn7Bj/lshx+7wSGJHLEKM8DB2A6miuA8RWSXGparqTWcdwmn+X5moSf8fFhsUO32cd+DuPKdT/rPui7q2nQ2viC51y98M2GowK8T/bZdjXEKqqgGNSpztOSRuU+m48UdgOyorlfEPh/RdS1yxiOk2D6hczCea7NtGZliiwSdxGeTsTrnDHHSrV5ZonjnTbsySvJJDOgV3ysagJwo6DJ5J6njnAAC6XDqdBRXBaj4m0K88WWj3WtafE2n35t4YJLtFdW2OJHKluOcIMjPXHDVp6hoNlca9HLZRCXWBdR3El/JzJaxBhmNW6qrKGUIODuYnuS1rYHo7f11OqorgPskY1wa0bOIRHVtg1b/l65k8rycf8APHd8ud3T/ln/AB1dg02LSfEpv7zwzYM1zfOqaopRrlGdiEJG3ITBC5D5Gfu4yaFrb+u3+YPS/wDXf/L8TsqK5Wbw/os3je1ey0mwhubTdfXVzFbRrKztlUUsBn5iXYnP8Az1roLjUYba9gtZEuWkuM7GjtZJEGP7zqpVP+BEUdA6lqiuf8Y2aXOirLJJLtgmicRK+EdvMTBYd8dh0zzjIBCapptlrfiiOy1m1hvLSKyaWO3nQOjOXAL7TwWUAAHqN59aV9bf11f6D6XOhorj/wCyE1zwjZS3Gm2usXEcZjj/ALQmbAQEgSLlWBkwAd3BP94U240/StZ0DTbi5ifWri509EsYLzH3tuTN32Nyu6TkjAA5OGfcVjsqK4/VDrMt7YaTa2kGqJptvFdXrXN0YPtEnIjAwrZO5GfBwMheetZvirxbomqaUbafVLS0hfT1vjDc3CxSTM65iQKTzjG447hOuTT6/wBf13FrY9CorgPEVpB4gvb69sLW31WKGxj8u6aQFrQkM/mWxzguQUPWMcL856L0evTCfw1EYpGMF3Lbxu4JUmKSRFbntlWP50h9Tcorn9FtLfSvEmpabpdvFa2C21vOsECBI0kZpVbCjgZCKSB35710FABRRRQAU2T/AFbfQ06myf6tvoaAOBvf+Qhcf9dW/nUFT3v/ACELj/rq386goAvSQecmknkbVm5zwPmWrV3duHMSny1jUENjJan2u0WVkzDJCyYA6/eFVp0uJ2bED4IwCxAwK46q99miWhreFi7pcPKdzkJk+v3v8a36xvDqlYpd67XwuVPbrWzXRS+BEPQ8p1j/AJDl9/18yf8AoRqnVzWP+Q5ff9fMn/oRqnX0cPhR81P4mFFFFUQFFFFABRRRQAUUUUAFFFFABRRRQAUUUUAFFFFABRRRQAUUUUAFFFFABRRRQAUUUUAFFFFABRRRQAUUUUAFFFFABRRRQAUUUUAFFFFABRRRQAUUUUAFFFFAwooooWgieG48vCSDzI/T0q/HcWNuAwd5GP8ADjhOOlZNFcdTB0qj5mdEMROKsbVuLbURLuTYQQMdwPWqOo6pothceWhYzxN8yxrlfzqjNLJFbzNE5jbYRuHbivL/ABtf/wBn6KbuK98i7hcPEu7mTnlSO4xXl18LGnOy2PVwsvaQ1PftE1H+1bdZ9yMjZxs6qfQ/SrMujxS3W6Vt8asSFIzg9q8d+GPxLt76UxBGjTI8+KTohP8AEp7ivabG+tr2MSWlzHPGDglDnB9686pBwd0di7MrSqLO2chC8mNqxqcZ9Bzim6bvIZ5Y0hlY5ZVOSPb6Vc1Gyhuowx+6H3Ejuaz7GP7PJPGFClWIUdcjAwc/XNRzO2gWXU1VBycr2pzBCw3D5QOPrVX7dFGuySRd5IUjoQeuKmSTeRtXj3NQ1YrcmXIAIbII6eopcgdOtMP3cgHfTiN2Mdcc1IDuGPPXFQAbTyKmwQw5Ax196bIQTjHX9KEIbtjZ1LDlemKlMiJn5vmJqvnDDHHpxRIuc5PPX8ae4xJrVZlSSdwfLbK4PAPqaqmxSVvknkLKCBg4Hvj1q4uCQzg9Me1PBzhX4yOCo6U9UKxy9zpgDtA5llAZXkkOOmQcGqzxRR29zOzt5fzGKMjBdsHjPUDjvWrqMRaaTY2zzvlDq/OfQfhk/hVS5gHlLEsEtwIxtYyKR143ehxW61Rk1ZmSl+iWtvYHy7iab5Gf5jtz1JOO1atx5umWJhtEikRhhdrYI96qzaXHdQvi+liiVShSJQAMdsn+tUJNDiljmt4byb/RyZJGC/OwPYVaehI+G7vLqA29rD9quiNxzyF7YyeBxV/StEhsrKW71KaSG6gHIU8QL1xxwcjFZpku9Nso7HRraePPyvcE7mLd+lW9Rm1K8QafC+9SoE0rDHzDqD6fjVJmiFvI2uNKmmuXVPMx9nQsN8pHOTj7vBA/CneGwWkjW4AJYFgvXviprK00iGaN7dxcSoHHMwlHHOcA8ZNZnhqfzdeuJ5H3MW2hVUhUQc8fiTRPZGkXqdZPdtb3aqlqCrnDtnJ46cfnXG3uqRNrh/eStNLId+R90Dp7V215C00iOjYA6kelcNq1ha6TqRkCfM0oOS2TtbOWPpUJ3NLG+JQ5FrJIWaUhyc5DY7f41a0fUzeXd4kKCSC1fbuzjccdOeKq3VnJFZobSAyySKNjYxnPqe3GajW2t9G0pLOCb7RcTuSwU/eJHOcdcUxkXhsTXEt1JdKFWMnK7sj86v20qTRgoRuJALJ0PtVSO2lWx1ONnSEzZJcfKMt2OegrPtbtbXVlsY33hCVOFO4nvx6CgDevNTfyH3yCOEHbtQDP15xn8M0+2khWFPNuGPHykpg49wKpX2kBFN0SZMAlVJGCcdz2qnZzIblAs4uJG+aUg/JHxwA3Q+n4UmI3W1C2WzkYSNnHynaeucVLp4ldXEpyVAyxHSoBBC+MgOB7g4p93NNb2brbIWYgjC9R+NSUSjywQrhnGSS7dVFUN9jc3UEFozOWfMpIKlV5PB+o6VNpU3n2MUjZbIJyT6cYpthGkd5L/Eys2zPpj/69MTJNUvYBCbeKTYFcb3UZ2+gHualieKCSMzPtEhwo29BUK2RVCI0y+cheoz60x2LTsZ9gKfLjOcH+lIEi/dzpbzKMgmTiP1x70yVpktozEATypYnjIFLb2KzFrl8b+2eoHpUdxApnMk7ssSJgKDn8aoZSs4XdH8xwSw+Yn0zmm6dF9qtZ1gcxnLFSfr2o0OZp/txYGNYyVXIz15H6GpNEfdC5YFVwwXtnnrQB1Xhldvh63UnJDSAn1PmNWrWfoRB0eIqMDdJ2x/G1aFdcfhRzPcKKKKoRwHiP/krOj/8AXqP5y11lZHijwSfEWqQ38WpNZSRRCL5Yt2QCTnO4Y+8ayf8AhWV5/wBDNP8A9+T/APHK8TMMrljKimpWsrbGkJ8qsdbXHeK/+Ry8M/8AX0v/AKMSpP8AhWV5/wBDNP8A9+T/APHKmsPhtJa6taXtzrcl19llWUI0JGSCDjJc46Vjgsnlha6qud7X6eQ5VOZWO6qC3sre1muJYI9sly/mSsWJLHAA69sADHSp6K+hMiGO0giuJ5kjxJcEGU5J3YGBx9Ko2PhvStO84W1sSs0ZiKTTPKqxn/lmiuSET/ZUBeBxwK1KKAMm28L6RbLcD7M9wLmLyZBeTyXGY/7g8xm2r/sjA6ccU6z8N6XZLchIJJ/tUflTNeXElyzx8/JmVmO3k/L05PHNalFAGVZ+G9NsIp0t1uczx+U0sl7NJKqf3VkZyyDuApGDzUdz4U0y6vpLx31GOaUKHMGqXMIYKMDKpIB09vX1rZooAyrvw1pV9eC5uYJGc7d6rcSLHNt6eYgYLJj/AGwaLjw3pd1qQvpoJDLvWRkFxIsTuv3XaINsZhgfMVJ+VfQY1aKAIFs4Fv3vQh+0SRrEzFiflUkgAdByx6deM9BSyWsMt1DcyJmaAMI2yflDYzx+AqaigCKa3iuGiaZdxhfzE5Iw2CM/kTWWvhXTU1B72N9Rjlkm891TVLlY2fOcmMSbce2MY4xitmijbUDL/wCEb0v+1Pt/kP53mebs8+TyfM/v+Vu2b++7bnPOc0kXhvS4NUF/HBJ5yu0iIbiRoo3bOWSItsVjk5IUH5m9TnVoo2Aggs4Le4uJokIkuXDysWJ3EKFHXoMAcDjqe5qeiigCG6tYb23aC6TfGxBK5I5BBHT3AqtqmiWOsCP7akwaLISSC4kgcA9V3xsrbTgZGcHA9BV+igDJvfDGk36xrLbvCI4hCPss8lvmMdI28tl3IMnCnIGTxzTbvwrpd5dLcMLy3kSFYF+x6hPbKEXO1dsbqMDJ7VsUUAZV74b03UBD9qS4LRR+UHju5Y3dP7rsrAyD2YnqfU1elsrabT2sXhUWzR+V5SfKAmMYGOgx6VPRQBl6j4b0vVbr7RewSNIUEcnlzyRrMgOQsiqwEi8n5XBHJ9TVmbTLW4juI542kiuUEckTyMU2gY4XOF69VA7elW6KOlgKem6TaaTC8dmsv7xtzyTzvNI5xjl3JY4AwMngVcoooAKKKKACmyf6tvoadTZP9W30NAHA3v8AyELj/rq386gqe9/5CFx/11b+dQUAdBYrv0+1X/Zk/wDQqgkW4LsI824B5OA24dutSWZZbGzKdlk49fmqzI4mhCjhupFclR+8zaOxb0QKnnoshdgF3EjvzWtWNoAUtcuMEkICR3xmtmt6fwIzlueU6x/yHL7/AK+ZP/QjVOrmsf8AIcvv+vmT/wBCNU6+jh8KPmZ/EwoooqiAooooAKKKKACiiigAooooAKKKKACiiigAooooAKKKKACiiigAooooAKKKKACiiigAooooAKKKKACiiigAooooAKKKKACiiigAooooAKKKKACiiigAooooAKKKKACiiorkuLWQxffCnH1pN2VxpXdiG+niNjOBIpwNvBzzXzh4+upLnxleLIciHbGg9BgH+ZNem+K/EyeG7AO0TvJOGWIr0DAd68Turqa9upLm6kMk0rbnc9zXiVqrqyuz6LDUVRjZMt6Jqs+j6tDdW8rRhWAkxzlc8jHevpfwZ4lt7RlnWXfaXSqwdensa+WK2fDes3+matbJaXTxRSSqsiZ+UgnniudpNWZ0NXPt6K8+12qy2ssbhumGBGKqGSPzj5jmNigXeo+XqSR9a5DwTqkVsk1vNL94gqjcg9uPfNdlK7GNw+1V6tznI/xrhlDllYm5Ud0bVrZX8tsyfeDD0PbrW1KxiQeUgx3OegrFtWtVnS6uSEc/dQkEL7irzQRX1vviuSkbc5XripaKRfRgyLzz1xTw2ckEVXtY/IiWJ3MjYyCxycVYHytxt5rNjZEXYOVxu96fy2B2pUUq3PX3oICk5bJJ4pCGMNnXsaU89vpTzkgk4phJxTEN5HenEk/w5/GjHNIwPTNMCk+5nZhEmFBCgoePXmoRbgSMu2SZm+cJ/DjGMVogYx3Oe/aiRdykphTgg44zx3pptMVjmpreC2WSSKfKhSTDnK59x1qCzu9k1zFcwrCZUXZhui9ASK0HiSWZFi2v5pAL7sbfce9Zt5atJr8zW0S3EsS5VGHAOfb0reLuZSjqW2WKDSzbafh5wuPmzuDHualSKWw2R3E7yTTOHdiuACByMjtisG81hbJ5JJJl85W8vy7b7xPRjWlp2oXOtRXAvIGihiXKyPy3J6H/AD0rRa7jVi/fJZRST74I4kZA/llcMSTzIfbt+FZEFvHpWqPPFhLeb5UyuM8dcdq0LlriTUIZpp4niZzFGqg85Ax9cHNVtYtN7Q3F4RHI/AknAyqp0Ax6ljWlrqyNY6M6GFs2qrIVG7gfN1Ncl4ls/OWfzFEjKQAiNgcA4ZvbnHuSK3LSRrtIZJR5bRAOFbg+n9al1wOtmWhiWYMVLD+8Ac81zrR6mjdyn4Q1MXlh9nuGy0Pyjmr9/ogkvI7qNgojcOARxWJZ3Ja4iuY/nZnwSOAO2Pwz+ddBFdEXKxOThiVwedwp8yGjMfdc6bFNLh7UxeaxAP7z61zPliGSP5wJpPnmkLAMwPP/ANau4uxBbWilzGoQAkKPlwPQVzMlpCNZkuy/nlizsB0UnoMUxnbxi3uLVIfLwCgUhh7Vy+p6E9rcgWrbU43IOM88H+n4Vv6VvGmwuckmNWLH1xVUX8GqXTW6v+9V9p2nOKAKC6hY2mInJWbbllx1q3Dm43bh8oYgAHg8VNfaUz/u8AEDHm46D0qK2jS3Qw52SqPmY9x60rDAQ+Vb7YkwB0VfrT7e38ti23BbrmnWBM1spRzJ1INThSSdowQO9IZRke6lV0t9sYkXasoPfpTYLFbc5mk3c7n9GPrUxtnCt5XUA7d3QGmQxXEjFJsEd/U07CLwljFuZBIMBclsdB61i3slxtaK3cOzZB5BwPX8at6jp5upEBmZI4+qDgN9agi0zy7kNEECjluOWoGaGnW8Wn6VzyerYHJIFZ+lSPOjXcyhRI5WNAOMZP8An8a07mP7Qvlodoxg89OKnNvHaabHGh3bQefWqEamgv5mjRMMffkHHs7CtGszw7H5WgwJ6F+v++1addUdkcz3CiiimIKK47xX42ufDmv29nFZx3ELwCWTkh+WYcHoMbc9K1dD8X6RrwC2lx5dwetvN8r/AIev4UAblFFFABRQeR1x71zVpDqdt4oNsNevb+CG0MtxHdx26qrMcRgGOJT/AAuTzxgcc0gOlorivDWtajdXkfnam94Z7F7iWK5hjijjkBTHkMoHmRfMQWBkH3fnyfmk8Kaxe3l9F9p1Sa8imsjPOLmCOFYpAV/1BVR5kXzN84Mi8Lhznmrf19/+QHY0Vzen6lqeoahfy28kZhltFl0+CZdqjlwrswBYhyAfZccZzl2nT3thrN1b6hqz6hbQ2omuJpoo41tpM52gooG0rlsNuZQASfmGUH9fl/mdFRWHoV/fXupXzXrMsLxQzW9u0YUwoxcAHvkhQTnoSR2rP1rUjb+Jniutfv8AS7SOGEqttaxvHlmcFpHaJ9i8KMkqPejrYOlzrKK5vxFb6klxDJpuvX0E11cRww2iR25iHdzloi+Aiu33u2BjIq1f3WoweJ9LiWaJLC4d42jVcvIRE7ZJPQAquAPfJ7UCbsbVFYGsapdLqdvb6dL5ccFxALt9gbd5jhRFz0OCWPcDb/eqLVjrFrqEV1Hqm0SXccNvpsUKMk0ZI3lyV37gu9sqwUBRkHByLX+vT/Mb0OkorjLnWNQXxRJGmpyL5d/FAtmIIzatEwTdvm2krL87EJvVjhcIQctOupH/AIS6eG98QX9sq3axQWi2sf2Zv3aEI0piJDMScDzAT2oWtv67f5g9DrKK5u8t9Sg8S2Edrr1/ItxM0stpJHb+VHAoywBEW/qUUfNn5s5OKtR3Wor4y+y3E0X2OS0kkihjXkbXjG5mPOTubgcAY69aFrb+thN2/ru7G1RXJ6fqe/xPJFe+IL9Ha6ljhsjaxrbMFJAQS+Vkvgbtvmbu+MV1lC1SY9nYKKKKACiiigAooooAKKKKACiiigAooooAKbJ/q2+hp1Nk/wBW30NAHA3v/IQuP+urfzqCp73/AJCFx/11b+dQUAdBpwH2OzJ/uyf+hVZngTYWYAcfnVWwcJYWh74kx/31U12HuBH8+1FbLAdx6VyVPiNo/CXNEwGuFWIRqu0D361rVmaPg+dj/Z/rWnW9P4EZy3PKdY/5Dl9/18yf+hGqdXNY/wCQ5ff9fMn/AKEap19HD4UfMz+JhRRRVEBRRRQAUUUUAFFFFABRRRQAUUUUAFFFFABRRRQAUUUUAFFFFABRRRQAUUUUAFFFFABRRRQAUUUUAFFFFABRRRQAUUUUAFFFFABRRRQAUUUUAFFFFABRRRQAUUUUAFFFFJ6oaPFPizYyCxtp1bMcEzRtz3PQ4/CvLK9/+Iujvq+k3dtbw+ZOdskQzt+YHr+Wa8CdGjkZJBtZSQwPYivn5rlk0fT0pc0ExtFFFSanpXhn4jTT6ta2moRxQQlQiyg4IcdCT719H+HtXh1bSUgLrJd7CJYyecevvXxNXpvw38dalHq1npsjFmQN5U4PzjAzg+owCKicOdWIaPpNrdNysYvMVMhYgvCEdz7Yq9aMk0YUDyWxtyn0rlLjxvbtEDHas0rEeYM4B45ok8X2sUEclpalijYZGbb1B9K5/Zy7E3sdnI4srM+WWmlA2AjqxotLqR1xMqq3QLnJzXO2/iG01Cxzbb4ZQQCgy5Az15/Hmti01CNrUyzLhc5ww6+lYyjbctO5rEucA0vzE5JFMinjmj3oc8U8EgnPIPtWQ2G07uuRSFCBnPBp+Nq/LgE0FBjr1oENIHBpmM5z68U/AGAOtSqMZAGPSi4iFY92c9u2Kintw+wlnO3nAYippCR3wfUVE4LIAx5ouBTuEQhQ5Kqvz9cHjsPSsNU+1XM/kz/Z/MYK8sQ5GfvKD6+9dSfJVcuiuqj7rHP4VRmtrZYipwirndg7cZHtW0GTIxp7aPTFK6dYK8qcDYcsSepJ7CrqxXTaY32sZLpuk8k5yepHPWsqWWGK8URanIN/LRKd7MewzzgU/V5LhLK1hgnMETMpfGBhcZ59ea6EZLcqx2zNq0TxStHFC4l8kvuKKPbt61pXLQXMebWPeYyRvMp2joTgetZkiSx3tnKjpEbg+TIkSbWlHqccVqqunQxwraO0bsACh5yBnOc/XrRdpmqaMfVb64toYbiwzO0xYyCMHCjjPX8Pyrq7CY3NjEzrjcg6jOeOtYfiVPsmmpdrl4wphiiB2qrNzu688A/nW/4Xgc6HbC8bc6oCc0mzZPQgudMgjZZ9qQKpyWVQBjr0rNtp97O0x5ix83fr2rpNQ8ogJcEFG+UA9Oayl061tFVc7gzbjuPXmoZW5y8trNeavJHNJIzOxMSucgKPY9q2ZRbadpkVtdSqt1Dt8zZ1fJ/qeaZYAxT/ANpXLF2YiOLcAMVr39rbXfl3UkIkZRnIAzn3qhjjMY7F4hMkUu3cNwPAPSuO0U3a65LKXCx20mMgY3jqTn6mukEq3WrMiMm1VBk3Hr7elYetO63x8qKO3sEcI+HAMzHnIHtnH4UCO6jkN1YrKPvdRjrWBqV3LZTStcRyTNKAiqG+Uf5ya09KlM2mqo5ZR1HH+RVee4Dz+TOnByAcZwR/k0AUvD8r2kstvKAsaouFz0ya3lCC4UoRgiuTFtNDeedBI0ozukU/x4+6Pwrd0xpjChnGZBkmpKLrXccMnlvEDnOGB6VBvMRDdC5qK92zoCflYHKt0BYd8CqAkka5tI9sklw+QQTxGMd6LsReS5SWafzd0YUfIXP3z6inCZJLhUgkAkkXdyORTLmHMbB0AZOVbaGKn1FQWTN9jExJE3TLrhio7cUakXaLxjEEbN7cD1560w3Sq6Rykbm6A+lVf7XgDhLiWIHkgZHP1989qq28ovpjLD9wyHcxGdwAHA9ADmldjTudrpH/ACC48f3n/wDQjV2qGhsG0iIjpuf/ANDNX67Y/CjCW7CiiiqEedeLv+SnaV/16D+clR6l4XsNQJkjX7NP1EkQxz7j/JqTxd/yU7Sv+vQfzkrVr814qxdfCZjTqUJOL5Vt6v7z08LCM6bUl1MK11/xN4Xwt8v9q2C/x5JZR/vdR+OR712Wh+LtJ18BbS48u4I5t5flf8PX8Kyq5jUrSC28a6DJbxLE0t3HvKDG794v+NelkXEtTG1o4XER9531Xkr6r/L7jKvhlCPNFnq9Ztto6x2+oR3UvntqErvM4BX5WG1VHJxhAo9yCeM1pVl2HiTS9Tu/s1nO7OwJjZ4JESYDqY3ZQsg90JGOa+3snocWq1KMPhq7mCxa1qiXttDbvbwJFbeS2112lpG3EM23jKhByTt6YWLw3dXL7df1FL+3jtntoo4Lc25KOAGLsHJZsADK7AMtx0xrWeq2OoS3UdlcLMbSTypiucK2MkZ6HHQ46EEHkEVX07xDpuqySJZTSMUTzAZIJIxIn99CygSL/tLkcjnkU3ruLYz4/B8djdz3ekahfQXLWvkQtc3lxdJE3OGKSSEMBnhT0x70+y8PXp02fTNcu7K7sJoyrJaWsttIxJyWaTz2JJ5yeCSetWtP8T6ZqUEk9u11Hbxxec091ZTW8WzruDyIqkY54PTmpdM16w1eWWKzeYSxKGaK4tpIH2nOGCyKpKnBG4ccGgClZeFotL1C7vtNvLvz57dYoxeXdxdIhG47iry/N1HHBGDgjJqTVNJ1XURJbx6vFDY3CBLiJrPdJjGGEb7wFyM/eV8ZrTtr23vGnFs/meRKYZCFIAcAEgE8HGcHGcHI6giqWo+JNL0q7W2vbh1kwrPsgkkWFScBpGVSI1JB5cgcH0NG9g2Jjpu7W4r55MpBbmGGEKRsLEFmznByFUDjjB55p15p/wBq1CwufM2fY5Wk27c790bJjOePvZ/Cq954k0uw1AWV1O6y/JvKwSPHFuOF8yRVKx5PTcRmifxFYQaqdOYXklwCobybCeVELdN0ioVX15Ix3oFoUdS8FabqE8k6zahbyzXKXEvlajcojMpUn5FkCgkKBkDjg9qcuj65Hrkt9Hq2nvE7BUSbTpHkji4/dq4nA5xktt5OM5wALN94n07Tbw294t+jKyqZF024eLLYx+8VCncc5q4+q2SatHpjXC/bZIzKsIBJCDucdPbOM4OM4NC02G1fcypvDl3JcSQR6miaVNc/aZbY22Zi27eVWXdgKWGSChOCQGHGJrrSNSvb5VuNVibTBOsxt/sg84lW3BPM3bdu4D+DdgY3d6v3Wp2dne2lpczBLi8Zlgj2klyoyeg4A9TgZIHUiq0niTS4tWGnPcP5/mCIsIJDEkhGQjShdiuQRhSwJyvHIyLpYH5k9vpxi1i71CWXzHnRIo12keUi5OOpySzMSeOw7ZpX0/drkWo+Zjy7Z4PL29dzK2c5/wBnp71X/wCEk0v+1v7N89/tHmeVu8iTyvMxnZ5u3Zvx/Duz7UQ+IrC41R9PgF48ySNGziwn8kMOo83Zs/8AHuvFC3Vv6/q4PXf+v6sQvo+pXGoxm+1WKfToZ/PjgFmFlLA5UNJuwVU8jCKeFyTznQuNLsLu9gvLqxtprq2z5E8kKs8Weu1iMr+FUv8AhJ9OGppYOt/HNJL5KNJptwkbPzwJCmw9DznBrXoW2gdQooooAKKKKACiiigAooooAKKKKACiiigApsn+rb6GnU2T/Vt9DQBwN7/yELj/AK6t/OoKnvf+Qhcf9dW/nUFAG5a/8eNkQM/LJ/6FU6sWbGfc1WtyRY2OM9JOn+8KsAehxntXLU+Jm8PhNXShhZD64/rWhWdpPHmjOcBf61o1vT+FGU/iPKdY/wCQ5ff9fMn/AKEap1c1j/kOX3/XzJ/6Eap19FD4UfMz+JhRRRVEBRRRQAUUUUAFFFFABRRRQAUUUUAFFFFABRRRQAUUUUAFFFFABRRRQAUUUUAFFFFABRRRQAUUUUAFFFFABRRRQAUUUUAFFFFABRRRQAUUUUAFFFFABRRRQAUUUUAFFFFAFe8tEu4SrABwPlbHIrznxd8ObK/SWaOJYLx8lZ4+FZv9of1r06mTRJNC0cgyCOa5q+HVT3lozsw+JlSdnsfJ2o6dc6Vfy2d9GY5ozgjsfceoqrXrvxL8Hz3ZW8s4991ANroi8yKehH0ryaaGW3maKeNo5EOGRhgivGaadme/GSkrojqa1up7K6S4tJWimjOVdTgioaKRRtap4u1vV41ju71xGo5SL5A31A69O9dz4O+IMclqbTW7hYZY0wJ24WRfQgd68sooFZH1H4WuJJtRh+ySFreYZcr0ZMda9EhggvLRUEgwM5Ar5k8BfED7Gttpd3I8DgFEud+Bjspr6E8N63b38kMZl8u4wA0ZXO7HUg1hWi3qiFozqIIPI5B7YwKtA8/WmRsAoLKVA4HvUmARnr71wlicjqfxox35pR8vTmpEYbSuO2akGNX6c9qcWb6mkIJZcDGOtJkhiTyMdqBDW+ZsEc+tGz+8c8cVIOgyKR8g5A4FAFXKSSfMg+/8wYA5x0qrrMAu9Na2DMpmUDKAGrpAHIwDkVUxNNeNG0TLHt27gf1rSKe6E/M5+6srXTdKVLNUDfc+TmRj06fzrIayMEcEN3P+8LkiASA/KOgOelb+oRLZqtnpMSyXByJJ88J3OT6/lWPcN9jhkn1OzieQybFcNhmA9vpzXStjne5cvI47vbeQzed5a4ijTj5jxgevfnmpRpCadZAPK5d0KHv3JwPz61Lo2fsss8sG6OKTNui9UXAxn35q1Lh1W4MuXLhQWHC+2PSlqWZut6W+oaLBHJM/lJIJH3dgFPH61qaBqayWa+RxEqfITznA4qnHmW4unuyohCARx5OGY5HP5VX8KLPFDLA6LG0bMAoPA5oN0b11I7Qp9pMaFmRg2f8AaBxUExW6vPLA2orZXJ7d/wAKqXiTQ2qiVBLLvUBgpAALD39Kti0WJcSSFmdTuYtj8KTNClrr+VoEYt1LBpQd2RxmrWl3bS6fGJG3uUG4++OareJHjGiyRICoiKsMDO0+/tUPhlyunxvKSXkO9yRjOfaqQ0a1nY2zsyLGqoDlxg5YnvmuL8SQtNr8saQxRxWeCP3hZunXB6n8K7i/guZIAbVmiw25ikgTj64NcVqtm39uFtsYaWMEyKSzZ9C3rx6UyOp1vhm5corYwCoHI7+lSaxdMus29t5IKtmQuDwmO36/pWbolwx8gK2Ezgg9a1Ndt51t2ntRCC2BIJATlfbFItld7f8A0gzRHcpTnB6nNTI728ZZOXKlsZ/SqEEl1GziQAAqOAuBnt9BTbwzrpvlJL5cjNvmYDPGR8o9M9KkdybUJ9kSzSyFFjG/bjPA5OK07GPddSzxnKSAFR/drJu5Uk0pYJR/r2WMj/ZPv61agvJre6KTosUbMFiweoxQJmjeGRMOibweqjg1nz3jxW7yuTbqgDBFALE+g9+1bTj92DHyGGQfWsq4gjZ18yP5gwYH3oFa6OPW2leaK4khEck7tIXEeSi56eme1bC+ILQW5jtrObd9xiV25HTirlxb3VzeIhbbABuwTgBs1AIlttcdJEZ45otyKcBQQecfnSM0nc6zwpu/4Rm13rtOX4Jzgb2x+lbFZfhtmbw/bl12nL8enztWpXbH4UZvcKKKKoR5345tNTTxlY6lYabcXscVsF/dRsw3bn4OAccMKpf2z4g/6Fe9/wC/Un/xNeo0V5eMynBY6aqYiHM0rbtafJmsK04K0WeXf2z4g/6Fe9/79Sf/ABNQRRa3q/ijR5p9DvLVLa5RmZ4nChd6kkkgY4FesUVnhsky/CVVWo07SXW79OrHKvUmrSYjoJI2RxlWBBHtXH6Jp+onxBDZzahDd6XoK7IWS18uRpShUI7byGKxtyVVRlh6EDsaK9jqY9DmVsyx8T2enosTNEkcKoNoUmDAxjpVez1XT9W1LTn0uUSrY2EwuxCu5rbIQCJ1XlXyp+TGfkPHFddRU8ujXf8A4P8AmO+xxnh/VorW4+z2evjXdPtbHdceRAshtGTaFVfKGcsN3yNuf5evao/7W8+61m78N6kuuyJp7vHcRhJhbPuJSFfLAVu528v8oyTlcdvRVPXcXSxxfhS/s7AvbWXiRdZ0i3tDLPeTNFi1kDZIaRFUZYFmIbLDbknmptf1/wAOyXN1ol1rGmWBuYwL6Sa5jjdo2XhRk5JZT17A+uK66inuwWmxwHiG6t47/Vke/S3uHEf2bSf+gthF28H5myfk/dlcbfn3Dirmr6klhrk5sPECw6nJLGU0ZolJujtVcYI3suAcOhCqQxOQpA7Oil2F6GLqO3UvEFnpnDRWuL65HBHBIiU/VwXB/wCmXvRewxx+LdLeONFeRLguyqAXIVBk+vAA/Ctqik9rD6nEXt5qcfiKKe78PajIzagI4JEltjH5Kq4XbmYNk5LHIHp2FWbrXfDuoaz/AGP/AGvplqsF6jTQm5jSWe4VwwQLnP3wCT1JGB3rrqKa0t/Xb/IHq7/11/zOAN1CNZEX21Tff2sG/sD0XzcfaMffzt/ebs+X/s7vmq5BqKW/iRLbS/EC3VxLeuJ9HMKho0ZiWcjHmIR1DMdjDAAywNdnRQtLf12/yB63/rv/AJmKNuqeLCeGg0hcdiPtEi/oVjP/AJF9q2qKKACiiigAooooAKKKKACiiigAooooAKKKKACmyf6tvoadTZP9W30NAHA3v/IQuP8Arq386gqe9/5CFx/11b+dQUAbVv8A8eVic4wsn/oQqZQA2c5JqmGZbXTQDgHzc/8AfQrRVFyCf51yVPjZ0Q+E0NHIPnYGOn9a0qz9LGPOx7f1rQrop/CjKfxHlOsf8hy+/wCvmT/0I1Tq5rH/ACHL7/r5k/8AQjVOvoofCj5ifxMKKKKogKKKKACiiigAooooAKKKKACiiigAooooAKKKKACiiigAooooAKKKKACiiigAooooAKKKKACiiigAooooAKKKKACiiigAooooAKKKKACiiigAooooAKKKKACiiigAooooAKKKKAK15ZxXEbM6bnVTjnmvBvilpfkavb6ggbFwmyT5eFZenPuD+lfQXXOK5vxR4ei1Oxmh8vMc6kPxnafUV5+LpX96K9T1MFXUXySZ8y0V6N/wp7UGJ2X6kf8AXBv8aX/hTmp8/wCmrx/0wb/GvMPX5kecUV6R/wAKa1T/AJ/B/wCA7f40v/CmNVPS7/8AJdv8aA5kebV3PhT4jXelSrDq0kk1uigRSIBvjI6c96guvhhr0Fw8cfkSqp4bftz+B6VD/wAK28Q/88oP+/woDRn0B4L+I6Xdqk0ly11aPkljzIjehr0yyv7bUbOKe2fcjjjNfJfhjwb4g0fXra4n2LbI+ZVSYcjBHTvX0R4CvUezktJIgAr/ACvzznnHtXNXpq3MhLc7XBBwpyMVJDICpHoaYgB46Z6UDiTBP5VxlkxYcU1nHGeKiPytnk/WpeTkkfSlYBd3BzTGkwvI5+tB9M1Gyj5qLAIx4Ofun9KVflX92F3/AO1wCKBjAyOKkH3Pk+lUQYd/cXlvuQRKHlHzZbCE+x6/pXPXUiajN51+I444Rk7CWGSP19K665iZjiZ44416hVLMx9T6Via5hI4kFv5q7lzwFDH1wPftW8djGS94li+yXmnxhppYo1wdiKFYnscg+lZwsILm88uaeTC8xiNuMepHv/Sp9FVCk63p2vFMQnlgkdBzn0zReFVs7iZZIYJNmC5POBnt+NO5qo9TQsIbO3sy7ZKSPyeWPH+TWSLu3sdbz9o2xEYEZXBOT1H51ZaSVLKK2tz58ssYKg4XanAz+OaoaskNrdJ9oBZo1A2+Uoz3J3Z4x+uKC0aWsat55is7I+YwkQOwHuMirklhfrPH5DweSSCyuDnj3qaOxEkMbxhQSFbOME/lWnHCzqFkIb2osamHqIxDNtMGQMHOe3TmqGkPmCU+b50wUEsF+X6CtDVbf7LbzXEqHaqMR8xxkjvUXheGS8SWW4aM4+UmI8EU0hXsXbi+K6XGYtx38MAAeO/WuZispL12vHid3Vylv5LYCp2J985rZnXzb2bTpocWxjCQnpuwOaz5iYbxILLdDDGdzANwx6dKAt1DTlmtriQvGxUDaZGx+mDWpqFm2o2EeJXjnjb5GB6/UVQ0rSLi5nlur5sZc7ff0rQudRhtLhEiQOYmw/PIP079aYzKtpr43j7I9zqRh5jjdjgn8yK0ryPeiRSyFGkKkkHqR1/Crn2BL6B5lXybhPmC7uGODwaxbua686COePbMspj2KeMY+9RYDRW1luraUIuDG4MYJ9OhqDWX3aSsrho5AykYHGT61pWt0kUqrGQwz8xHY4pL+OS6miiWAGLeGZifTmmBPZXZgtYw/wB0qOCc4zT5WVmP14qK5aOHYsmS7HgY4FUnvC14Io1LYwWZeMZ5/QGoA0FU7WyFYkHAPesS9vWOvCGKIG4SDIb+EFuo/DH61tT2qOgkj6hdox1FY4iW2u5Lp4TBJKdo3NknH6d6BM7HQRjRYM88v/6Ga0ay/De7+wIPMGG3Sf8AobVqV2R+FHO9woooqhBRWJq/i7S9D1SGx1F5I3mTzA4TKqMkDPfqD2rWtrqC8t1ntJo5om+68bBgfxFAEtFFFABRRVGx1L+0Ly8SGIfZraTyRPvz5kg++AMdFOBnPXcMDHIBeoqjp2o/2jLdGKLFtDKYY5t+fOZeHIHYBvlznkg8YwSljqZv0u5oLctbwyNHC6uCbgrwxAOABuBUEnnBPAwaAL9FY9hq9++qNZatpsVo7QG4ia3uTPlQwBD/ACLtbkcDcDzg8Uafr7XtjqF1Jp1zD9jkKiDG6aQeWrj5ezHdjbn6+x/X6AbFFZGmarfz6jJY6tp0VlN5IniMNz5ysmcEElVIYHGRgjngnmqmteJrnTLy7S206K4t9PgS4vJJLry3CMW/1abTvOEbglATgAk5wAdFRWNLqerya3LaadptnLbQeX5s9xetE43cnagiYHA9WGfao9Y1fWtMuFaHS7G4s3mjhRzfuszF2C/6sQkcEn+LoMkigDdorLudZa38QWemizlZLksGuWO1FIRmAH944XnsMjntSahrYs9WsrCGDz3ncec3mbfIQ5CsRg5JIIA46Mc8YIHfyNWisG71++tL/c+k40xbqO1a5knKyl3YIGSLbhk3MoyWB+8QCAMxz+J7mLVpI106NrCG9jsZZzdYm81wuCsW0grl15LA4ycEAZFrt/X9XQbHRUVj2upavd6tNHHptmunwztCbhr5vNOB1EflY68ffqKfV9atdbtLW40uxNtd3DRRyxX7tIFCs28oYQBwvI39SBk0b28w7+Ru0Vhtrt/HqUQm0nytOmuTapcPPibfyAxiK42EjAO7PIO3FblHS4dbBRRRQAUUUUAFFFFABRRRQAUUUUAFFFFABTZP9W30NOpsn+rb6GgDgb3/AJCFx/11b+dQVPe/8hC4/wCurfzqCgC9O6LY6bvOCBKQPX5hxWhBJuhViMZ96qfZ0ntdNL/wLLgevzCr6RgRjI29sVx1PjZvDY1NK/5a+vH9a0aztJGPNH0/rWjXRT+FGc/iPKdY/wCQ5ff9fMn/AKEap1c1j/kOX3/XzJ/6Eap19HD4UfMT+JhRRRVEBRRRQAUUUUAFFFFABRRRQAUUUUAFFFFABRRRQAUUUUAFFFFABRRRQAUUUUAFFFFABRRRQAUUUUAFFFFABRRRQAUUUUAFFFFABRRRQAUUUUAFFFFABRRRQAUUUUAFFFFABRRRQAUDv70UU2ua6Hdp3RrpA08aSWLQgbP3kJHJOMZ45zxU7tb26qJsjcOWAJwRjj6nNYkcjxNvjYow/iBrd05hq6JC2xXQ5Jx1Pbr1rwMVhJ071InrYfEKa5ZD4LM/aSZTuyQwTd2wc/0rQtrhuVVGVQdoZhj8MVA9vc28jFzG4ChUYZ55pUbzvkZtrAgEHrn1rzJy5kd0YuLLZsbWVRI1vE7HkkoOaT+zLX/n2h45/wBWKsRDYirnoPzpeQeTkVkrm5UisLdXZpLWBY1GB+7GTTZLV47jZZFIsncyhAAfxq4STkDB6cnpSANgNjLdzQ2MdHuwPM2rt4wvSnKDvJOBzRGp2nzepOcZp3A7cd8UgA58xuPlwMGndF55+lN49KcrHoR171L2EDnJyoHAph5PHentlT0prDAyeBQhCKhAO45HpUu3g4OKjRzg5XPpjvQJfm6cd6pFFC8Uf2hH87ksCOOnSsnXIRGonRfMumG2JI+duT9764rTvrhVuzI8bCCOMmSRxhVHse5rnJUvNRSSWBBpenAhg7/KzD1/GtkYtDNMlEdzI93cS3EWCDHImBn/APXTpNIv72zJtYlSOSXczO23jjjB7Vu2tvZwRoqKG8nruHDBgDk0+4unbU1gkWNYAnyx7vmY/wCHSrk4NWW44KSeuxDHpUGlxNPOsc12wUKoyQMH+EdehrN1c51Sbzyoh2KvLHAOCRn1q/q13cLEqIwtSQTkMOQO2fxz+FVLTTZbqFRcOZY2OSTyT75/pU69TZI6DSpvNsInweFxgrjIq8syA9MAdTVSLEEfliPYqjjJ6ipfMijJMjKF759KLlsp38Ml91BRCMe5qTRrL7FZhA5dsneT602a+eWZYLWNsN3PQVYj/wBDgx95icnHeqEZmv207zQT2ygiN9zHIB9D1/pSBbaOaMLG7M3IKxllB+tVdbg1LUbjajSx26gbREcc9yauQ2xFlDDHcSIEBBbH3jmgEOvhdPe2yRoFt4vnc+pqta2iQ3X2i4k/dKrBWbqTmrDWNwtype8G7HEb9xSw2Hn3Eb3dwrKoIKKOM0xkekXXn3dx5I/0fOFPrVuaAsjmFUaVUbBY98dKmS3gsyEj2oOwB61FPL9ngMqYkPoDzTuIhstLWPyRK+ZFXcQOcmpprJobhZmlYhei561Hb6lH9tIDLkAA89K0JnAZQ45J+UnvS3A5rVr2/iKLbWgZ3X75OcH6dM/WpNKElvpzG4UmbGME8nsMmtS5VdhZQCSPSohGPOCrGMsMsfpUjCxu5UutlyihSoxzndx2qn4gDIkTFlERkHyk9T/nFaIhS38y6f52VSRub7vsKybaM6tcRz3blkySsZHC0XEdhoAI0ODPPL/+hGtGqelIE02NVGAC2P8Avo1crtjsjne4UUUUxHlXxLRZPGdmrjINmuR/wOSsGxuNR0W48/RrySE/xJn5W+oPB/Gt/wCJH/I7WX/Xmv8A6HJWFXyGdY/EYPGRdKWnLt03Z9NlWDo4rDSVRdd+uyOz0X4mwSMtv4gtzay9POjBKH6jqP1ruba6gvLdZ7SaOaJvuvGwYH8RXiMkaSrtkUMPep/D1zc6T4p06OxuZI4rm5jjljDfKylgCCO/Brvy3O6eMmqU42n+D/r+mceOymeFi6kXeP4ntUilo2VW2sQQG9D61wuieGJ7NraKy0NdFu7e3kiu9SWSM/bWKFQQVYu+Xw+ZApGPc13lFe+1e/meNc4TRvDEtsqw6XoC+HJIrGS2nuUljIunKhVYbCWcBgW3yBW9vmbE/h/QpNMvo5dJ8MxaJ9ns3hmBmjVL6T5dnMe4sAVY+Y4DjdwpywHaUVV9b/1/Wov6/r7jm9Itbl/Ekt8mivosDQuLlXeLN5MzKRJiNmB2hWG5sMd+MVaijvtNj126gsWuppbgzWsCyqpnxDGoG4nC5ZSOfrW1RS6fh+oHOaHLexrd3N7oOpJfvHvlmma2BnI+7FGFmbaoydoJA5JLFiSaWu6Xe3Oo3Mv9iyajNPEo0+6+0In9mttwSSWDJ8x3F4gzEcH7qg9hRQ9R3Zx+t6NNe3pUeHzPft5Yg1pLiNRbkYzJywdGGD8qKQwCgnBIXcntJ7vxHbSTR4s7GMyxsSPnnbK565G1N3UYPme1alFMRm6jaTz6xpE8Sbo7aeR5WyBtBidR9eSBxWJeaD4iGpNcWep6dIk1+s5EunuZI0HCqW88AhRxgKOpPc11tFLqn/XcVtGu/wDwxzT3Wo3HiAfbvDmoSW1vPttpEltjEO3nMDMGJ64G3IHYmqVzpF+2tSMukvJfSXYki1vz0CwQbg3l8t5gAUFfLVSjE5J+ZiOyooWg3qcjLpDz+JIp4fDrWd2l35smrrcIVaIEkoDu8w7hgGMqEBJOSQCdqC0nm8SXN/dR7I4Ihb2mSDlWw0j8HuQq4OD+7961KKFogerucxbXGpXXiITar4d1ALFMyWknm2xhgTkeaf3u8sw77cqDtA+8W3bi0mmvYJ49QubeOLO+3jWMpN/vFkLD/gLCrVFAPUKKKKACiiigAooooAKKKKACiiigAooooAKbJ/q2+hp1Nk/1bfQ0AcDe/wDIQuP+urfzqCp73/kIXH/XVv51BQBt2wzZ2P0k/wDQqnMibQpOep47VUjkMdhYlV3HbJx/wIUqRIpV53Zc8lO1cVX42bR2N3R2BEuCTwvP51pVk6G6M1x5eeNvb61rV00vgRnLc8p1j/kOX3/XzJ/6Eap1c1j/AJDl9/18yf8AoRqnX0cPhR8zP4mFFFFUQFFFFABRRRQAUUUUAFFFFABRRRQAUUUUAFFFFABRRRQAUUUUAFFFFABRRRQAUUUUAFFFFABRRRQAUUUUAFFFFABRRRQAUUUUAFFFFABRRRQAUUUUAFFFFABRRRQAUUUUAFFFFABRRRQAVLb3MltMssTHcp/yKiopOKlFxew03F3Okg1+G6dEuoSGYgBs8CrE8Msbt5LYjyck8jPXrXL28ZknREHLHArtI0Y25SYhT5e0gV89jqFOi4uJ7OErSraMiW58yHCfeGM47CnxXSvHjbyOo9aprEtlvcNhGUswKgNxQkokffA2UyN3HIrzkrq528zWjNCKU/MJCCc8heoqdW6oemKy0CxMJdpO7ldh69hzUlvdmSOQxkFxkYJ4qWjRSLzglT8204HaiKcNCN4wTnr9aSOQSryM4NQzQBX8yT5sD5cdjUlFrg/L1J6EdKeqncu3t1qGKVXAbAA9jUu8A5yOfegCTZkYPrTChzyeO4o35XCHvS8lhn8amwhkhKDI5x2FMPn7hhl91p7Lz3xQsagj19asZn30HmzH7ZETC+AqRjJOOcn29qyvEN1JujgEJ/fOsJOc71z0x2roLiOR8iKYpx2AyaxpdOnabzYrZVdTjzZXySfUelWmQyHUruWBGjnEaRYCrHG2Wx2z6c1GlzAkSYZri7uXKsc48sDGR+tW44r28bbdyKY3OFGeuOp6Y9vwps+lQRXcEyxKio2WO7G49iR7f1q7kpaj7mSOe/VnQhYl8tUK9Sev8hWjHdQwrGqr32j09f6VkvHLczm6l8tYI87iTgHHTH51ZtLJ76z3OcIxOfL4DD0+lB0FW/1mGbVFtEczO5ChYVJC4Ock1qoblpibiBViC8ZbOamsdMt9PhxGix989xVeS7lmuNtsP3Cnr3Y0AOOpRrqJtowN4XPA4H1NTwt5y+exG08KAePrVK1093jk+1OfNlBDMvBIq95SWtkkMAwiKFGewoAjup1t5YgctydyAZJ9DUcsm6bdFjaoG3HJ9+KhuXQXMW99rS8BQPvD3oTT0gmeWIEFh1WmMbOu8kLuO7qTVhYvJhjFsFjkZvm3jimpCyQ4OS3bNU0a8WRmvIoyu4eXtbk/hTAsXlzFBI8bom+IAmUnjk1WnEErKysHC8gD1zVy5Nhp8KvfMod24TOSTjNPQQXMEcjQHJPy8dOaBHK2sd4NTQMqAKWyQOee5rtpRC8cTyLuKjh89DWWIzHqU0z4by9oXjGPxq5byxXayRNxtbII9KYyGe7ithHGQXaQ4UDt9acpPnDIIyM496RNLWGbzNzO3PJOallZVYfePQHipYiG/sUvLXZPkxjkgd8VmPdx2XkhSVEwO1COQBjmugEiIhcnAxxmsW3tBqGsTXUgysZ2If8AZ6/zJpAdbo7btJhPru/9CNXqp6UNumxgdNzf+hGrldsfhRzvcKKKKoR5V8THEfjKzd+FFmuT/wADeua+32/98/8AfJr3C70uwv2Vr6xtrllGFM0KuQPbIqv/AMI5of8A0BtP/wDAVP8ACvJxuU0MbUVSq3dK2n/DHpYTMq2Eg4U0rN31/wCHPF/t9v8A3z/3yam0qdJ/Fej+Uc4vIs8f7a17F/wjmh/9AbT/APwFT/CpIdD0m2mWa30uyilQ5V47dFZT7ECssLkuGwlZVqbd13a9OxeIzWviaTpTSs/67l4gEYIyDXIWmi6FY+Jr3UNN02y06HS7VopJbO2SNmkcB3ztXJ2oF/7+H0rr6gtrK3tIZIoI8JJI8jhmLbmYksSTnuenboOK9prc8s4XQ7JNBlt7u7s00xZtNlL3NsQ0l4wVXMk4B4lADEcydW+cZwz9Bt4fC9xDe6hZQaUh02R5ZLchjd7NjGSfniUDccZk+837w9+p0/wzpOmTNJaWz5MZiVZZ5JViQ9UjV2IjXgfKoA4AxwKdpvh3TNJuTcWUMgk2eWhluJJREmc7Iw7ERrwPlXA+VeOBim9dP63/AMxev9bHL+H9U0nWdevvI1yzfUdTsVL/AGK9SSSHl8ImCeUUjoMZy2Oat2kek+HDf67p9vFY6NBZkSPHhftjg58z0OOQHJyxY9gCelvNLtL+O4S6jZhcwfZ5SsjIWj54ypBH3jyOag0zQbPSZWktJb9iy7NtzqNxcKB7LI7AfUDNL+vzB67/ANbf5HP+ENU0u78QaiLbV9Pv765t4Z5/st0suWzICFwT8qgqv0xnrS+I9LiXXLjWr3w1YavbQW0Raa5KGSJULs3lKynLAEHBKA4611MthbytcMwdXuYxFI8crIxUZxgqQVI3HkYPNUrzwzpd/dLPdQys3y70FzKsc23GPMQMFk6D74PSjqrB0MjxHoGiavqllE+lWD6jeyLLJdPaoZlhi2ljuIz/AHEz1G/jpVzVbRV8X6HdmSVnaaSNUZvkQeRITgepPU9eB6VsizgF+17sP2hohEWLE4UEnAHQcnqOTxnoKWa0gnuLeeVN0lsxeJskbSVKn68EjmjoJq/4HE+IvEuiTa8sN9rOn240q9t1WCa6RHMu9S7lSc7VQ4B939Aa0tT0SwvNcjks4hcau08Vyb5zl7OFWHyq45VWCsoQfe3MTxuNdLcW0V0ipOu5VdZFGSMMpDA8e4FZf/CK6b/aMl6j6hHNLN50gj1S5RGfjkoJAvYDGMYGKI6W/rt/l+gO72/rc5m7sUk1y51n7FG0cOqRgaqSPtUQVkRokH/PLO5Sdy/eb9233muz6ZDp3iifV77w1YXKTX0e3UmKNcxbljjQqpUnaG6/MCM5ANbsvhrSptUF/JbuZfMEpQTyCFpB0dog2xmGBhipIIBzwKU+G9LbVFvzDJ5qyeaI/tEnkiT+/wCVu8vdzndtznnOaFpb+u3+Q5a3/ruZF34e0S48aWhtNKsIry3Y6hdXMdtGJSTkIC2N3zNubOf+WfvVtbRYPiAs3mSyPPYSk+Y2QoEkQCqOgHX8SSa2YbOCC5uLiJCJbgqZWLE5wMDGegwOgwOp6k0ptIGvkvCn79I2iV8nhSQSMdOqj8qFo18/xVhS1T+X4O/+ZycGmxaT4lN/eeGbBmub51TVFKNcozsQhI25CYIXIfIz93GTXZVlReG9Lg1QX8cEnnK7SIhuJGijds5ZIi2xWOTkhQfmb1OdWhaRSG92wooooAKKKKACiiigAooooAKKKKACiiigApsn+rb6GnU2T/Vt9DQBwN7/AMhC4/66t/OoKnvf+Qhcf9dW/nUFAGzAQLGxyO0n/oVPaREb5sjPeo4s/wBn2OPST/0IVBeFmKEH5kJ49a4qvxsu7UdDf0GQSCchSPu8+vWtesTw2CFuN3+z/Wtuuil8CIvfU8p1j/kOX3/XzJ/6Eap1c1j/AJDl9/18yf8AoRqnX0kPhR83P4mFFFFUQFFFFABRRRQAUUUUAFFFFABRRRQAUUUUAFFFFABRRRQAUUUUAFFFFABRRRQAUUUUAFFFFABRRRQAUUUUAFFFFABRRRQAUUUUAFFFFABRRRQAUUUUAFFFFABRRRQAUUUUAFFFFABRRRQAUUUUAPikaKVXU4I9q0RetMVPnmNUOSGJJPrWXS5/OuathoVmmzelXlT2OqtpraZfJYpLtTIkYZqk+nkX7SG5/dzNlEXp75FHhvJ87gEAcDFadxE00RkU8qC2MDgeg4r5yvT9lUcUe1Sl7SCZmi2ktgskCtJ1Tg4HHtSwSIhd7bhi+TF6Y7D0q1OzTW58tmRlbO5Bk81DAVMgVkZIogFAA6nHOT+lZGiualrcrIqbk8tnGSD2qzu3pgrkA1k28aNcP5TlWxyucjJ9PpVh2uIJlA4jCntkE5rNo3T0JfsqQ3HmBmAPOO1TlFkj+b5jjtxTLe9huoRh1znBBOKJFeJt6ZZccjPSkUOW3RcDeR/s561MieWpG/d6Z7VDbB5I1eRMHGRkVNtbHT8KQh2MgD86XaF5HpSKDkk56elOJGTnGO1JARySLb2rzv8Aw8c1jHULmS9kF3CYIHT5STkMAO3861ri3a4VQMnB5UHAI96ynubSzJju45DI7YwUZgB0BGM44rSKuQyBWNjZgW6O6SkMkjuT1x60t7vi065muPJEYwxLgnr1H8qs3Go20VwltjzFC527Dx6ZOOKqzx/2iixmACLO7BYkZ/z65qlcpJFaHdq1xH5R3W4UZcEhdvoPU+9dRCoQBRjAGBiqttb+RCFAVcDkKMCrIZV474/KhmvQGT7wY5+tMWEL90YHpTgCPVs96Uk7evPemhEM25I3kjyXC4AFRi5aa3y67B33DpU+TIOnP8qdDbpnDcbup96YMoYjV45JmCsPuA85FW/N3ZHJGM8U/wDsiKO484MSeuCcgVFdyw2bkbWLPzgDNAFWXUY2EiFzGYxkkUWswmhSUcnOFOO3rVeGyM3myzZ2uxyDW1bw2zWq+WFG3jAPFUgI5NItpZ4ppooyynILKC3506Z5DLJFBsVdo2HHQ1WaO7DSF5cDPAHpSKzoPOkVgin8xTAyNTlu2KWmzDFxuA5DDPv2NX9Gt1tp5VGW5wSadaI91YOJP3U0m4KW+Zkz0Oa1ILSONPkznjJPc0ABcbC2e+KqyI0jgs/yDnjvWgTbtuRME989jWJdRXVlDIgcvnJ8zGO/QD6VIkRXl2ZZTAgyF4496vWsRtrMvtJbGdoqjpcLFd8+QxPVupq/fXIjiMKsPMODtz27H+dIZsaIxfSImbqWc/8Aj5q/Wb4fZm0OEucks/J/32rSrtj8KOd7hRRRVCCionu7eO4S3kniSaQZSNnAZh7DqaloAKKKKACiisvTfEVhq9wYrEXjYBIkksJ4omAOOJHQKfwJzR5AalFVY9TtJtUm06KbddQIskkYU/KG6c4xn2znkHuKSPVbKbUrmwjnDXNoivOmDiMNyMnpnAzjOQCCeooAt0Vlad4l0rVZZI7O5YlI/NDSwSRLJH/z0RnUCRP9pSRyOeRUmma7p+sNItjLIWQBsSwSRFlPR13qNynHDDIPrQBo0VU0/VLLVY5ZNOuFuI4pDEzpnG4AHg9xgjkcUXOqWVne2tnc3CpcXjFYIsEs5AJJwOgwOp46DqRQBboqrfanaab9n+2zCI3MywRDaSXdug4/n0FVbvxHpdjqC2VzcOspZVZlhdo4yxwoeQKVQnIwGIzketAGpRWXd+JNLsdSFjc3DrNlFZhBI0cZc4UPIFKIScYDEE5HqKG8R6eNYfTFF5JcxyLHIYrCd40ZlDANIqFBwwPJ4zzRuBqUVkXHifTrXUBZ3C36SNMsIc6bceUXYgKPN2bMEkDOcVcbVLJdWTTDcKb14jMIQCSEBAyew68Z6846GjcC3RVWfU7S21C1sZ5gtzd7vJj2kltoyenTj1qqPEeltqw04XD+eXMQbyX8oyAZKCXbsLgA/LuzweOKANSistfEmlvq39mrcP8AaPMMQYwSCJpAMlBLt2FwAflDZ4PHBrUo8wCiiigAooooAKKKKACiiigAooooAKKKKACmyf6tvoadTZP9W30NAHA3v/IQuP8Arq386gqe9/5CFx/11b+dQUAagP8AoOnjGd3mD/x4VYUADGN2T37VHEP+JfYkEAhZMZ/3hUgJydwGBzXDW+Nmi2NHw8XLXJYKFO3bj/gVbVZWiAfvyAByuMDHHNatdNL4EQ1ZnlOsf8hy+/6+ZP8A0I1Tq5rH/Icvv+vmT/0I1Tr6SHwo+an8TCiiiqICiiigAooooAKKKKACiiigAooooAKKKKACiiigAooooAKKKKACiiigAooooAKKKKACiiigAooooAKKKKACiiigAooooAKKKKACiiigAooooAKKKKACiiigAooooAKKKKACiiigAooooAKKKKACgUUUW6gdJ4dMUVpIzSqshOcE9BW4gH3gBg/yrk9DjV53Mh/dgYPHU+ldNHL8vK7FPocjFfL46HLXZ7+ElekiG9hdMtB8mTyVPSsY3LQiGEqA8wLyJnJPHTHrW8svmrtcKQeciqtxYRsjONwWT5mZG5HsPSuWLOiSMmO4NuF8sBVUncXfLfXPateDV7dzIrTqwXHynGcY61ly2cJuQpZ2gCqRyGYgc7fapRp8AklmWYkzIF2sOevQEdDnnOO9NrQS0NeKxs5G8xFKsw7dv/r1LJbSIpZbhmVBz5nOf5VQs5xCojJCnB+TJJ47+wp6XzypIzKVxlVGegx1NRymqaMiLx5Yy6nHb+XJEu/a0smMD9fWuhi1zT52CwXMcozhipzjjNfKnxH8Q6po3iZV0y7aBZIssAoIJ3H1BqXw78U4rTTk/tR5jeDhnjjGGGeDx3rqdGPQLux9RXF6Zv8AR44y7O+0BjgY65qxBdQTBADg8fLnpkV88D46wNKjNcz5UbQTbqcA9a6XRPitDd3XlWd3b3dwyk4xtbHfpWboMV31PV9Q1Y7WW0k2mM/MWXhj6e31rGl1S5uJBFYjMqv882MoB3x61dhg/tFonWR1hxuKkZLFuc571eGnxxgeUQOBkAYqE0tAtd6mI+ksJGbzHJk5lXd985/lWxZxeRbKOw4x1zViKzjViTnPXmpvLGBgc1PMaqwkZVFwWzk80BlOdnNSx4D58sHjBpwKB8KoBp9QLCiP7KNww2KrMyghcYHrUryllG7A/Comx3/KrY0MZlwPWlHA4HWo9oZyXGM9BS7yrCMDNIZIXkJIUg4GMVTu/NJA2H5Rg571NEkkcjknJb9KUsS2GzwOnrQBnvbTzIfKmKxgYdF6mrmnRSRwgHCqB909R9aXeikBeGY+lQ3OofZsIjhpn+4hH3gCM/zpoRdlUbT5uDn0qG7TzGRFD4Az7CpxL5lqScKSOKp3UKSRhWlMfqw70xkC3KQXCrkEkhQV55Jq1caqiowU5dW6CsaKODTrvZvLujBgxGck1pyW6rC0qhY+M885phYklMkUy/ZQC7HcxJ6ZrRWKJ03XRBGOSTWLDEI5c+aSTxVya+ESLvjJXGGfsoHegTRZuE6eSvAGRjnNc1aK9/8AaWu2yxlKgg8gDtxU662b2yuBBgBiQDggL2HPc0ul2LW0AjTnvn396hiOq0RQukRBRgAvgf8AAzV+qGigjSIsnJ3PnH++av12x+FGD3CiiiqEeQ/FuYweJLeReq2SEc4/5aPVLw58UNRsNkN2/wBtgHGyZsOPo/f8c1Z+MX/Iei/68k/9GPXmFeNjsbUw1dKOqtt82fY5JkuHzLBTlNtSUrJr0XT+vU+ldD8X6RrwC2lx5dwetvN8r/h6/hW5XyvBfzQEYbcB0yen416R4J+IOpvqNpp9zIbuCaZIf33Lx7jjIbv+Ofwrqw2OpYj3Vo+x5WZZHi8vTnNXh3X69v61PXydqknOAM8DNcTo+qNBdJaaDrS6+I7aQzaeqRobYqvyDIAMbFvlKyknJJG3aRXb0V3WPDOH0m81S01ORT4d1H7a1jJK7TzW2JZixbqszYBPyj0GBwBml0a8ktNTuI9Z0e9tYhp/mXtzevblD80jOzBJWO05IAwcAY4FdvRR/wAH9f8AMP6/L/L8Thn1HS/FVnfyaRqljcXg02eCzsbW6jeRI2C5LKpJySqDHReB1JrSsdQsNf8AE1rPpM8V1a22nzRXPlkEIzvEVjYdmAR8qeR3HNdPRVdf68/8w1MHRZLex/t6SV4ra2gvmLMxCJGohi5J6AAU7WY4DqWi3MaRmSS9RTKoGWURSlRnuBuJH1PrW5RR28rfgJKya73/ABOI8RXWpR6pNPNoGoXEUdzaxWksMtt5ezzo2Y4aUMGZgF5GPlXpyam1TxDoFzqs2iTarp2m4lRr8TXMUcsr4UiJVJySRtDP2GFXJyU7GihaKxTZwGuXUCatqsMl8tteNPE0Oj/9BTCptbH32yRtzGQBs+cMARVy+1BLLxJIuneIFGoXF7HnRWiTMwKojEgjzMBVLB1IUYydwBrs6KS0sIxrjGp+KILXG6HTVFzLzwZWBWMfgu9vxU025hii8Zac8UaI0sFy0jKoBdv3IyfU4AH0ArbooWgHDyXepx+JrOa98P6j5s2pMqSiW2MYiWKVUC/vd2MEucjOS3sKsQ6/oGr69FYW+r6bbxWd22y1W4jWa6uQxz8mchQxJ6ZdufujL9hRTWlht3ucBBdQHWooUvlN8uquz6D/AM8wZGzPt++DtbzNxJjOeFyQw7W4kv1vYFtba2ktWz58slwyOnptQIQ34stWqKS0VhPV3CiiigAooooAKKKKACiiigAooooAKKKKACmyf6tvoadTZP8AVt9DQBwN7/yELj/rq386gqe9/wCQhcf9dW/nUFAGvGobT7HnB2yY5/2hTpOGwnze+aSJd1jY56BZf/QhU2MY2Abscse1cNX42aJaGrouMTc8/LkenWtSsvRQB5w7/Ln9a1K6aXwImW55TrH/ACHL7/r5k/8AQjVOrmsf8hy+/wCvmT/0I1Tr6SHwo+Zn8TCiiiqICiiigAooooAKKKKACiiigAooooAKKKKACiiigAooooAKKKKACiiigAooooAKKKKACiiigAooooAKKKKACiiigAooooAKKKKACiiigAooooAKKKKACiiigAooooAKKKKACiiigAooooAKKKKACiij60D7Gnou43DqDlNuTmt8W8jqWEgBbnINcxaXxtI2VQNzMMsRkAZrfgv2kaNtv7o8ZVeB9a+dzCMnU57aHs4SUVT5blmSSZFCAqwAOT3Ap8Uxmj2SDhRgH+9UTshmDLsKN95j976VWk1WGxBkvZYwmCVI4OOwx3rzrX2O7bcL22uo7djaS7ZCduCOBWZfaldafZkpEkkqopeb5slvQjFS3XiSyk2nzJYw+3GY24461cUmSyVVuYuuXPTcPartZXZNzPnv75Yo5JPKeWZdqorEN834Z7fpT4rlpbVrcoDIwy65zkjpzRLZSXN3LLKg3mIIH8wH5R/dA78mpJLi3tIxGf3RZdigocsR9P60yWfL/wAWRjxPCDwfI/8AZjXCV3fxZOfFEJ/6Y/8AsxrhK7DoWwVf0PUm0jW7W9UkCKQF8d17j8qoUUDPsPwrrpvfDiLBljGg8ts9VblSB7VsHV5rUYnIcqgJdAVyfQev4V418HfFbTWEdnM43wYgkJGcp/Cf6fhXsFxFPK1u8QVBGwI3rnoK5qkUpGTuadlrJncpLGYhkBQ5G5s/yrWVkcEKQSOoB6VyscAiu2W4Z7i/AVmKHYgGTwO1a0HmJHuERTA6u24jn1rGUV0HFs1gCCMPkN604DPU4waq211HPOYhu3oM81ZPzD19KRsMmYsQF557U8HD5yAcUi7Q4IB44xQ4B+tUguVncrMBkkt83PNTooDE5GAMmkCA/Pt5xge1MkjLoygkBuODg0rjHCZmjzCUbqcsT+lRLdMkiIYiw6lgenrT4kKQmNIwOMKCevrVK7JjuLeMEli+GWNTxwOuKYE02owK7Ku53RSdiDn6c1StJYrhyyxKs6gPIX6p7cd60BprI8kiDLuO/UH1qrLbizhZY0XzZWAlb+/weapDFS7gkdzFJujTjcpyM5ourxZUhhTBMjYweCB607+zoRbRqV8tA3ITjJ9TTmt4ftXnLIu6GMgA9jimArW6QjczKQPmyRVWa88/935RKMaJ7gzgwN8oI2k+tJaxgvIq9AcGgoc0ZRd5IUAcVXkudzKrMWH8R7NWjshmkVXDdeKJtNSXMYXhuMjtTEyhMYogp2b1IyFGMClunnktlFs7Ipzux6mr8OgLHGY2ZpFJzknp9KfFpotZtuTJF1+Y5waLE3NLwtCYPDdtGckgyZJ/32Na9UdGlSbSo3i+7ucD8HIq9XXHZHO9wooopiPHvjDzr0WP+fJP/Rj15htPofyr6Q8QeC9N8SXkd1fSXMcscflgwuoyMk85B9TWT/wqrQ/+frUP+/if/EV5mMy9YqanzWsrbH0uU588soypKnzXd97dEuz7Hgu0+h/Kuj8EAjxPp2Rj/TYP/QxXq/8AwqrQ/wDn61D/AL+J/wDEVYsPhto2nahBeRT3sklvIsiLJIu3IORnCjvWeGyxYeqqnNe3l/wTozLiR4/Cyw7pct7a3vs79jriQBk8AVzHh/xZbaxqN25uZooHybKOa1eJJIo/vSrIygPuJz8rHChTgHNdM6CSNkcZVgQR7Vztr4XuQlva6nqSXdhZRtFaxR23lSbShjzI+4hiEJHyqgyc46Y9bXWx8mR+HPFtrrMl1PJczQxyAzWsNxaPAv2dePMVnUeZnIYlSQAyjju7w34mTXmuSk8sM04aWzt7mzkiAhGFDruC+aCSGJUkDeo46l8Phq7mCxa1qiXttDbvbwJFbeS2112lpG3EM23jKhByTt6YktdC1IXKy6lrKzG3geC0a2tBE0e7ALuWLh3AUYwFXr8pyMN2/r+vQRDpFzfR+Ibmyl1O41BFhZnF7bLblJAwH7rCLvjIJy3z4wPmOam0i51ie11iO4mtpb+C4McI2lYUJhjYLx8xUMx5PJ9ugmsNIv11ddQ1jUYbyWGFoLdbe1MAVWZSxbLtuY7F5GAMHjmpG0q5it9W+wXy29zfyGSKZod4gby1QHbn5sbc9utHT5fr/kHUq6O1/Brt3Y3GqS6pDFCjSSSwohglJzsBRVBBXDbTlgMEnDCsrxPrGoWmr3KWupy2ptraOW3gigjeKVyWyLl2UmJDtABJjH3sMxGF2NI0vWdNspLaTUNNdRGfJMWnyIVkJyXctOxfJJJ5BJJOaj1DQL+5muvsWqx2sOoIFvUa08xj8uwtE28BCV4+YOOAcdcv0HpqUtR1Mw+KHjvPEF/p1uhhVIYLWNoCW/56SNE2zcSFGWXPbmrGvwalFfWrafr19DLd3UcUdoI7cxBR80hyYi+NiufvdcDIyKnv9D1C7DWceqxx6TKFWW3e0DShAACiSbgApA53IzctgjjGh/ZxbXRqMku4R2/kwxbcbCWy7ZzznCDpxtPrS0F0KV/dajB4n0uJZoksLh3jaNVy8hETtkk9ACq4A98ntUWo6ndtr1rb2Evl20FwiXbbA3ms4OIwT0wMMcYPzJz1Fad5p/2rULC58zZ9jlaTbtzv3RsmM54+9n8KybvwTptzdC4jm1GBzdfaZFj1K5VGYkk4QSBVyT2FHVf11FrZ/wBdBupHWrXU4bldTJ828jih0yKJDHJCSA7MxXfvClnyGCjaowed1C51jUF8USRpqci+XfxQLZiCM2rRME3b5tpKy/OxCb1Y4XCEHLakek67Frc16NW054pJOEk06QyJFn/Vq4nAH128nkg9KSbw5dyXEkEepomlTXP2mW2NtmYtu3lVl3YClhkgoTgkBhxgjpa/9bDfX+u5TtdT3eKpYr3xBfxE3bRQ2X2WMWzYXhPNMWd5wW2+Zu9sVYuYNSg8U2ENvr19Mk8kk81rLHb+UkCjkAiIP95kA+bOMnJwatS6PqV1qEf2zVY5tOinFwsH2QLMxB3KrSbtpUNgjCA/KMk85u22nmHVr2/ll82S4CIg248qNRwvU5+ZnOeOoHahbK4PdmTO2r2uu2bSan5jXVyy/wBmxwoYltxnL7tu8MBsJYtty20Dla6OufsNH1y01ee7l1bT7iO4l3SbtOcTGME7Yw/n4AUHA+XGckgliT0FHQHuFFFFABRRRQAUUUUAFFFFABRRRQAUUUUAFNk/1bfQ06myf6tvoaAOBvf+Qhcf9dW/nUFT3v8AyELj/rq386goA2YP+PGx+kn/AKEKnbBU5IGKqhZDp1gYtuR5nX/ep6Rs0Yz8xJ+auKr8bNY7G1op5m+i/wBa1Ky9FUL52M9FH861K6KXwIiW55TrH/Icvv8Ar5k/9CNU6uax/wAhy+/6+ZP/AEI1Tr6SHwo+Zn8TCiiiqICiiigAooooAKKKKACiiigAooooAKKKKACiiigAooooAKKKKACiiigAooooAKKKKACiiigAooooAKKKKACiiigAooooAKKKKACiiigAooooAKKKKACiiigAooooAKKKKACiiigAooooAKKKKACiiigAqxDePbwvEFBVh3OMVXoqJwjNWZUZOLuiZLl4lIj+XPU1XiRYpzKBuY/3jkU6is/q9JaJFutUvdstyXv2jAuoVkUADGMYxUywaE7CeVHWQ4BAY4FZ2aKwqYKlPY2jiqkdy5d2OmRuJ9PvJ4G7hCSap3l9e2tq0tvfGaOIdZFTdzx0xnvRSMoZSGAIPY1n/Z0LaMtY2V9UeAfFaGVtatbko3ltDtL443bicfrXA19Rax4dtr+1dPKSRWHMTLkH6e9eE+NvB6eGZIZLaV3hmYrtccoR71xVKcoO0j2KNaNSN4nJ0UUVmbnU/D7V00vxKizymOG4Hlk5wN3bNfXnh27h1HRY7hPl5+YHsw4I/rXw7EJDMghz5m4bNvXPavqb4b3OpS2UcMqtbymJXmjc7iGHHb65rKrG8bkvRnpjW4aTDhcZyxHf3qOOW0ug0VvcLJjIIQ5IP/1qgeykkVZJZpBKAACGwp/Csq4spLWIkstoqn5mck+efoOmM/rXIrC1N8SwRO0UdxGJgp3k/e4xzj8aLW5jFtnzgyxgbnB+XHrXP2cdskVxNLcl94/eSRr8pHdQe54H5VWudaZLGeDTVKwkKiY5C9/Trx+tVYXOzr4byCaUxpIrsePlOccZ5pPtcBYATKd3C4OQa4O/a7trOK2sp/mfaQw6u2PmUn8a0YJU0yxigzJ9p3AKWTJQg5Jx6e9Ow1M6yOdHX924YZwWFPD7sZ4P61zNjeRNOVSTegPzMDgD/Crdpq0cjsZ2wFJBAcMSfYVPKyuc39y+WpYfeOOBVc2cUNzvjLB27k+lQrexNPHg9F4iJww+opl5d+XkSskJydu5txP4VQcyNVJc4BOCRnNQNHDI/PzH1rIh1O4ZQyxPMmMACMg9fWrjyPbEEIxTIG4+p9vSnsUpJl6SEmEIBv3t19KpWkKy306+T8iHbu9TTnvxBG4dsYPHvToJvNHmxNgZ5Pqadyhklp5jP9oRRMr5THTHaqggu4yFBCFskcA5981uqquBvw1RX0avGhT7yHggfnQCbMny2lWG4WYIi84JGK0Z72KJoULAmRvlwOtZ8enTfvFkmLxE/IoONo9KhBaSSK33iN4WP3jk4zTGzo4wVjYt9wDOabJGs8JTO3eOo6ipbWSN49qsGA4I9DSQyxvI6cZU4oM2S6JarZaRDbxklYywBPU/MTV+q9j/AMei4/vN/wChGrFdcdkZPcKKKKYgooooAKKKKACiiigAooooAKKKKACiiigAooooAKKKKACiiigAooooAKKKKACiiigAooooAKKKKACiiigAooooAKKKKACmyf6tvoadTZP9W30NAHA3v/IQuP8Arq386gqe9/5CFx/11b+dQUAbVv8A8eNj9JP/AEKpJnKAFQSc8KO5qODP2Gx2jJ2yf+hCiVvmXHGWwK4qvxs2j8Js6M2fOB6/KTjoOtalZmjDHnds7ePzrTropfAjOW55TrH/ACHL7/r5k/8AQjVOrmsf8hy+/wCvmT/0I1Tr6SHwo+Zn8TCiiiqICiiigAooooAKKKKACiiigAooooAKKKKACiiigAooooAKKKKACiiigAooooAKKKKACiiigAooooAKKKKACiiigAooooAKKKKACiiigAooooAKKKKACiiigAooooAKKKKACiiigAooooAKKKKACiiigAoop0YDNhm2ihuyGldjTwKKmlSEY8lyW6FTViPR76Rdywnb2ORzWcqsYq8nYv2cpP3Vco0VNPay20u2VD8vX0/OrsdhBLbxzDcqsDuAOSD9KipiIxjz9C4UJSlbqZn1B+tJ1q9cWAj2tG4bjLBuCPwqGaKBIwYJ/MbuoXGKarQn8InSnDcgHvXK+KdCi1KzuLeWMtBcIQX258tumfr3rWGqTm78kW/O7GO9abKHGGAI6YI61nUjDERtHobQlPCyvLqfMWqeCdc0tnLWUk8KthZYRvyPXA5H4ioPD/hi/wDEVw0dmoSOP78r52r7fWvpeXSbaTJAKE91PT8KXRtIt9OvhPIUzu3ABMfN6mvPnhqkelz0442lJb2OA0n4L27+RcRpOXjKuHkkCbz1yB6V7T4W0qPSNNC3axrduSWKnJC9gTVKe6ljkTE6SL3GM8UkuoPLJlpsK3DbUwT+RrllQrTj8I/rNO+51W6E8JIp4zmqs8ZnkEcVwGHVk65ptjbxSxK6yNISuGyePyq0EEMZ8pVUdBgV58ouDszqi1KN0Ylz4ehlhVbXfBKvzDB4B5H9arRaPrVtBDCkxkVT83z498/XpXTqcgYySalIAJ2kHaOafMw5UYJtr2DbEomkjdlZncBmzkZznoAOlZ99Frl3NK6rFEdwCspwSo5GePWur3SMCSNv9RTdgbDHk9zijnsHKjj9O8N6tHMJJbv7zFpCR8xH1rXvPDtrfJl8o/8AfU8mth9yAsELAdh3p8SsVyEIx/CMc0uZsfKjkpPDzabiRRO8m4bXzuHXqc0RWl+9+lxc3MNox3LGQvzMT0NdkWjfK5VwQcjrnFZt5ZpxN5ayMDxGRkKMdOeB+FUpEOBRhuovNFpFqzTXsed6FBt/HFLd3rpaQwzurzyOSvy/KAOeTnisG8tZmNwxjitW2kBoFYO3tgHH4mqdlZyT3gNzcShvlb5+PbA9P61WjQo6M6O3vYppxLLKpZgRleF/CtWzLNFhVdwTnJHFYVpY29s7Sm3MpDALnkfeA/Hgk1s2+rKiOwViscjIuBg4HbFM6Fc0YRKYN8nDDJ2jtVhGRVUSgZ6Gs6O+XbjfweRjk/jSX8kkiRpEQBG6scHkjOaYzS/cpIPm+YdR2qGbSrW6nFwyAuQPmFY73Stqg2zAopII981cF55Tf6z5ST0PTv8AjQBNbWF5YXjvEQ1s3O0nkGnXHnwXizW6ZV+H5rJGr3XlSM8T7M4UL95qv29xIdPN7dwurbeIF5JIzimKx0unHdYofdv/AEI1ZrN8PTNcaHBK4wWLkg9vnbitKuuOyMHuFFFFMR5j8S/FOoeHPEFvLaX0tvBHarIyLypJdhkr0PQVa8N/Fiw1GJF1VViJ4+0QfMh+o6r+v4Vy/wAdP+Pw/wDXgn/o1q8Rtrqe0l8y2laNvVT1+vrXHWxPsZpNaH0mWZKswwsqkZWknby2X9fofattdQXlus9pNHNE33XjYMD+IqWvlbw38Rr/AEe4DCaS3b+J4uVb/eQ8GvavCfxRtdclgtb2NVmmcRpNAcozHgAjqp/P8K3p1oVF7rPKxmXYnBStWjZd+n3neyypBC8srBI41LMx6ADkmuF0LxBo+s+LIrqHWrGS81CzmVIobtGkiTchjj25OG2hmI9S3YV3lV57G3uZDJMjFzC8O5XZSEbG4Ag8dBz1GK063/rZnB0sc5pGg2MOsvNoUX2aBLeS3ub2M/PeTEr8zHH7xlIbLtn5mIH8WK8OlW+ktfal4Ztkght9PmjkmUZa/nGCrseshUq3znJJduetbNn4T0uxheG3bUfKaEweVJqlzIioRjCq0hC8dCMEdiKl0zw5YaRJus3vyAnliO41G4nQL6BJHZR064pv+vx/z/qwRdtWc7LZ6d4eEEum5s0utLuHu5rYAyTbVQiZj/HICx+cnq5year2Gi3Fi11p9nZ2+i319pTiBbOQhJ2UqDLIw5WUF1HG7G4kO/bq7Hw3pWnecLa2JWaMxFJpnlVYz/yzRXJCJ/sqAvA44FO0zQNP0mZ5bOOYyMoTfPcyTFU67FLsdq/7K4HTijq3/XX/ADF0S/rp/kc94TihXxFdppfh9tAtrWARXcOYgss7bWU4iZgSqZyxwxDjNV/F/iHRpNSbT9Q1axthpssErQz3SRvJKXUj5SQSqqd3TGSD1Wuwj0y1hsZbSFXiimLs5SV1clySzbwdwOSeQcjtUs1rDcWwgmUvGCpwWOcqQRz16gUa6DOZ1vR9P1W682zVL3VrkRy2t0zBvsEYxiSNgPkU4JAHLsSM4B25mu2SXGsanqoso50sp4vM1FyBcWIRUZlgHdcElvmT7zcSfdPTT+FdNuNRmvmfUI552DyeRqlzErEAAfIkgXoAOlSXXhrSrzUTe3EDmVipkVZ5FjlK/dMkYYI5GBywJ4HoKFpYDC1fTYrTxBc65feGbDUYEkif7bKUa4hVVUAxqVOdrZJG5T6bjxVjWfD2i3/iawVdJsPt7TC9uLsWyecEiIK/PjOS+0deQGrVuPDel3WpC+mgkMu9ZGQXEixO6/ddog2xmGB8xUn5V9Bi8lnBHfTXiJi4mRI3csTlVyVGOgxubp60LS39f1qD1Ma4s1i8e2N0ZZZJJrW4ADtlY1HlfKo7ZOST1JPXAAGFqPibQrzxZaPda1p8Taffm3hgku0V1bY4kcqW45wgyM9ccNXbvaQyXkV06ZmhVkRsngNjPHT+EflSzW8Vw0TTLuML+YnJGGwRn8iaOq8gezRzU+hWT+I4pdPiEupxXYuLrUZMGSGM8+TuAyQVIUR9AvzHnG7Kgso11yHWhZxiKTVXU6sP+Pp8u0YiYf8APHOFB3HgL+7H3x00HhXTba+N3A+opIZjOUGqXPllydxJj8zZgk9MY9qlTw3pceqG/S3cTeYZQnnyGESHq4i3bA55O4LnJJzkmiOlv67f5A9b/wBd/wDP+rGDZ6nfv4hk1q906E6bLcf2daTC5JlhXzNhYx7cYeQDJD5wE44NdRcajDbXsFrIly0lxnY0drJIgx/edVKp/wACIqqnhvS49UN+lu4m8wyhPPkMIkPVxFu2BzydwXOSTnJNalC2SDqFFFFABRRRQAUUUUAFFFFABRRRQAUUUUAFNk/1bfQ06myf6tvoaAOBvf8AkIXH/XVv51BU97/yELj/AK6t/OoKANq3BNhZc4G2TP8A30KZcuse3BAVCGJJqCaaaPTLFYEDMyy5yenzCqEM11Ik63KKqhsDd/FkDp+VcVT42PmaVjqvDzSvcXjPjy8IE+vzZ/pW5WD4Ycv9rJVhyvJ6Hr0rerpp/AhbnlOsf8hy+/6+ZP8A0I1Tq5rH/Icvv+vmT/0I1Tr6OHwo+bn8TCiiiqICiiigAooooAKKKKACiiigAooooAKKKKACiiigAooooAKKKKACiiigAooooAKKKKACiiigAooooAKKKKACiiigAooooAKKKKACiiigAooooAKKKKACiiigAooooAKKKKACiiigAooooAKKKKACiiigAo/WiigYf0rUs9bmtbQw9cDCn0rLorGrRhVXLJGlOrKErou3mpSXSbD93HPuaqrK8YIjcgGmUURoQjHlsJ1ZuTYpZmO5jknuetJRRWqSirJEuUnuwooopkhRRRQAe4oooosug9WbGgXXl3DQEkB+fxrpmGfvelcfpLQR3nm3MmwRjcOM5ropdUgWESI29M9elfPY+kvbLk6nt4Op7lmy8Pl6dvSo5YgxBDMpHOQar22r2lxJ5e8BgOM8Zq6QTkY9zXmzhODtM74yU9iJ1kMOEfce5oguHKjKYO7B3cU8DOAWxz/CKpSCSBvMG1wOoY4H1qbXB6GgxyTv2quMMTxT+FjAH04rOhkZ5WgvgpCqG4P3Se1SpOqQBIAwRcBdw64qnGwRdwkSK2aI5Kv9xccfWpY3V4/3gJOSACPSnhEeMPKA5X5hnpUMEzXxkyCkOAFZTzn1B/T8KkevQhubKNV86TID8bPU1nyaJbidZJWZZJZOFDdcDr+Gasz6bOHLPdyupHdckD0+tZdxeShvMil8yX/VgMeIh246ljWkSbu5rad5DFo4ZMleCp6qP6U66s4o2X7KyCcksPmyFPdvriub8L3V2+tPHdJ5e3evTBZs5/oa7KMwMSrKBJ3XNVsaJnMvBqNqxNsY1t0j28j5pGPU1pLG9wHD3EIc4G1CDzj2q9d2bzRlEO0E4YDris+Wymt/LSNI/K3A5CncPxp/FsUU5beL7ckcrLJIx+byegH9K1Y9LtbmaNmkcJDx5QPGffvVWOVY1lSNoYjkl2K5JGepq1a3NrDbGcTIgzzzgUwL0+2P5YlXaoxwucGqC6w012bS2Q7gcM7DgDvUcutQm4EVtLCzSKSfnGR9araQokuJ/s7mRN2WlxgE+goQHZ6Uix6aioAFDPgD/fNXKqaX/wAg6PPq3/oRq3XXHY53uFFFFMR4n8dP+Pw/9eCf+jWrwuvqXx54Du/FmoRzW8tsIhAInjnZlzhi2eAfX9K47/hRdx6ab/3+l/8Aia4cThpVZJpn1WS51Qy+hKnUi2276W7LzPC67z4V/wDIyWn/AF/2/wD6HXcf8KLuPTTf+/0v/wATWt4c+E17oetWl0stjHFFOksgikdmbac4GVqKGFnTqKTaOnNM/wAPjMJKhCMk3be3Rp9z1asbRNS1fU1W4vNNs7WylQtE8d80sp54yhiUDj0Y4962DnadoBOOATiuNsNDn/tQy6bojeHZkgkjmvGljlFyxXCcKxaRVPzAybGAAAA3ED0NbnxhvWWti+1y6sYoP3ECfLc+ZkSOGKuoGOinjOeoYY45ba68LrVb+2S1Y29pGGWdG3GYgsHCqB2K7euSQRjgE5Fl4f8AEdpdeUNV09YFsGt45odOdWVyThvmnbJydxJ6+x5p+maTr+j6g0sk1je2sFgIo4bWzaF5WUsQoZ52AOSMseDntyaOn3/r/wAAOr+X6f8ABLMPia6gmca9pi6fG1nJewlLjzX8tCu9ZF2qEcb14BYdfm45s6frN5JefZdY09LGaSA3MCxTmfegIDA/IuHG5cqNw5GCazILe+1qz1CDU9FvrG8vbV4jd3D27RxgjiNRHK7YBOenOCT2FXdPTUNQ12DUNR06TThZ2sluEkljfzXkZCzLsY/IPLGM4JzyBiq6/wBef/AD+vyLmiau+rxXTyWclm0FwYfLkYFsbFYEgdDhunOPWkv9Zay1iwsUspZVupNj3B+WOPKuRg4+ZjsPA6DkkZALdPgubA6zO9s8plu2nhjjZd0q+Ug4yQASVI5Ip+p2093PpUkURxBdiWUEgFF8tx688sBxmjt8v+CJXs7+f/AG6vrf9mXFpBHb/aJLiZFcB9vlRs6pvPBzyygDv+BNQalrt/YXMrx6T5mn2zolxcST+W53Yy0abSHUbhkll6EDJFZ2s+H/ABBLe3V1puo6ewuLm2cJPp7NJGkbqQu/zlBUHc2NoJ3MOpqW9n1SfXRHfeHr+7sbV0MBt5LYRSuAD5rh5g3yn7q44I3cnbtUdd/62KfUm1DxNc2epXKRadHLZWcsMVzM91sl3SbceXHtIcfOvVlycgAkc2Y9T1e41y6trXTbM2NrOsMlxLfMshzGjkrGIiDjfjlxnHasfV9Iv7jV7srpT3N1LIrafqwnRRYLtUEcsHXlWJCKQ4IDdSA/U9Ha78QLJF4dZL37VHKutLcR4iRcA4O7zASq7SgXac8kjJoXS/8AWwPr/X9f1oaGoavrNhqdtEdLsJLS5ukt4pBqD+cwPJby/JxwoZiN/RTzVo6y3/CTR6ULKURtE7m5f5VLLsO1Rj5uHGW6A8cnOF+y3Fx4l+1TpttrWDZb8j55HPzt17AKBn1alubSaTxHp90iZhhgnR2yOCxjxx1/hP5ULYXUZda35Gv2emRW/m+exE0u/AhOx2UYxyTsbjjA57jMDa7fx6lEJtJ8rTprk2qXDz4m38gMYiuNhIwDuzyDtxWafD/iG31a1mi1LTpoTqL3UxbT3EgUxuoy3n4bClUGF4+U4wCDPbXGpXXiITar4d1ALFMyWknm2xhgTkeaf3u8sw77cqDtA+8WF0G+pLH4muX1ZIzp0Y0+S9exSf7V++Mqg5Ji24C5U8hicYbbjp0VcbDpF+NbVm0p1v1vDI+ueem2S33lvK+95hG0hfLK7ARuB4BPZUL4UJ7hRRRQAUUUUAFFFFABRRRQAUUUUAFFFFABTZP9W30NOpsn+rb6GgDgb3/kIXH/AF1b+dQVPe/8hC4/66t/OoKALl1ci3sNNBbG8Sjp/tD/ABqqZ5JLiARAMik5Pp9at3Nml1Y6aZSQsfmk4Gc/MKmkUQxmOIbcj5iR/OuKr8bF5mz4cl8z7QCwJUIDgjjr6Vt1z/hZ1Y3axmMqChJQY+Y5z/SugrppfAgTujynWP8AkOX3/XzJ/wChGqdXNY/5Dl9/18yf+hGqdfRw+FHzk/iYUUUVRAUUUUAFFFFABRRRQAUUUUAFFFFABRRRQAUUUUAFFFFABRRRQAUUUUAFFFFABRRRQAUUUUAFFFFABRRRQAUUUUAFFFFABRRRQAUUUUAFFFFABRRRQAUUUUAFFFFABRRRQAUUUUAFFFFABRRRQAUUUUAFFFFABRRRQAUUUUAFFFFABRRRQAUUUUAFFFPjglmBMSMwXrt7UOSW40m9hgpxkZkCMx2jtTcY6jH4UUmlLULuI5XaN1dDtI5Bx0rptO1uOeMR3JIkAwPeuXoHtXPiMPCsrNG1HESpO6O+3IqbnYBScDiormFXhbacEqcEdB9a5Oz1CSIrHISyZHXt711kcsNxAEQ7l25PvXz2Iw06Ej3KOIjWRz2oYs55GikuJLiQbMs+VIz0Axwa0bOSRTHFM6gkfMCcsp+tJqAZ7doYdqvJgLIQT171Rd7W0vCJC7TMuwNtPA+np71itVct6M34ZYvMMZDHnq3U04yxxTLGD8wP3F6L6ZqnZ3RZxFOmG+9Hk9Vq5KwhEkkUO93wTjjPHGaza1NUyK7mdVJiJ9SCP88VnS+UIjNdeWArHcUTO49uf89a1DF5wXzPlOcnH8hUaWENvFKCWcSNuJfv7VSE1cwni+zanZ3cBPlzSYwO5/8A1ZrXhEqapcygZOCcnsOwH44qrcSJBqECpCDEuduBwpxVafxFN5zQRQKpZtvnZO36+2OtUmWtDZ0y6M8RVn3FRy3rzVxzsjLEZ74rmdMN1p8bNLIMM4JLAYPsMdq37q+W3svtG0upxkL2HehRfMlHqEmormexlXumw30oV/MGTyEOAMetPXRdPFp5DktGGJYk96da6xZ3lxJGVaMucLnvVe/0fUJZESOfy4d2T2963qU5U9JihVjV+AnttM0mKV3hskaXGNzDk8Vc8oWsSJbRrGrHkAVHbW8dnGhuLgPJjHzcVPJIlxHtaQKR91geayNbG3ojF9IiLddz5/77NX6zfD0Qh0OGMNuAaTnGM/O1aVdkdkcz3CiiimIKKKKACiiigAooooAKKKKACiiigAooooAKKKKACiiigAooooAKKKKACiiigAooooAKKKKACiiigAooooAKKKKACiiigApsn+rb6GnU2T/Vt9DQBwN7/wAhC4/66t/OoKnvf+Qhcf8AXVv51BQBoTuE0iy+XJxIc+mGHNZtyb+eEfZSiqzgnA7fWr124Gm6epySwlwoGc/MOfwpqSRSSm2QgMuB8vbv/WuSr8TZnJ+9Y2vCdqLb7WQ24vsz7EZro6xPDcXlrcHfvDbefzrbrel8CLWiPKdY/wCQ5ff9fMn/AKEap1c1j/kOX3/XzJ/6Eap19HD4UfOT+JhRRRVEBRRRQAUUUUAFFFFABRRRQAUUUUAFFFFABRRRQAUUUUAFFFFABRRRQAUUUUAFFFFABRRRQAUUUUAFFFFABRRRQAUUUUAFFFFABRRRQAUUUUAFFFFABRRRQAUUUUAFFFFABRRRQAUUUUAFFFFABRRRQAUUUUAFFFFABRRRQMKKKwNQ+1Q3jMS4VjlSDxWVWt7NXtc2o0FVdr2N+iqGl3ctzC3nDlTgNjrV+rhNTjzRInBwk4sKKKKozCnJK8edjshPdTim0UNKSsO7Tujags4rzTY5GVGnwRndtz7mseSMxuQcexB4IppGetKSWPzEnsM9q5qVOpCbbehvOpCcUraiUUUV0mGwZq3Y6hLa3MZ3kop+YHpiqlFROnGouWQ4zcHzI6uzv7VmUqWOV4JH6ZNVRYXD6p9rd0zKpEY6hV7Z96x7K6NrchiAyE4ZfWuthUPHmJvlc53Z6CvnMXhnQldbHuYasqq1KptfL2SB90ixlSd3X2/OqyT6gtiTcSQpuJzIx6AH29BWrMVhRS5ALnGR3qHy1+zkRLuPqTnr1rjTudbVirHrdrHZmWV3yThAVIYjtQ9zDLGZZJpTIy425IUDpyB9aoahZweYsqzvasjhVWMbd59wetX9ItID5/mBS6HbuUnac/WmxJ3Ktw37twVeTyV2qgbgtx1z14z1qkbKZ1jjQrb3LJuYs27rxg/pWlqVo6sptjI8a8bIcdT3/DOareHYHTWJpJ0MYkTChm3E47sT34pouJTXR54tPFwblp4Hk+baPlQg9dvp7VesL9rzTBa2ytIX+Us642j+9iunMaQ2jRRQrsfO7PSqlnokdtdGWBcBuik8CtYuzuU4qUbM5C6s5tPnCTDBz8rL0rotG1+B7QQ37EOp+8ec1uX2lRXtm0cyb3C/KR6155PE0E7xSDDIcHNexTdPGQ5Zbo8Wop4OfNHZnX3unRXrebbSbyV4G/IWoY9MlihJLbmwOSax9Auni1JI+Ssh29eldjnbnevFeXiKXsp8p6eHrurAt6Dj+xodvTc/T/fatGqumADT0wMDLcD/AHjVqtY7Ip7hRRRTEcZ4u8czeF9dt7UWsU1u8IkkLMVblioAPQdPTvWvofi/SNeAW0uPLuD1t5vlf8PX8K8o/aB/5a/9eEf/AKNavENI8YanpRVTJ9phXokh5H0bqKylUUJWZ30MFOvSc4PVPY+4qK8B8GfG6T93b3U32gdPIumxIP8Adfv+Ofwr2PQ/F2k6+AtpceXcEc28vyv+Hr+FaJpq6OSpTnTlyzVmbZzg469q5eObW7HVkjl1A6lcSWkk9xZLEgit2H+r2MFDAFgVAcsWwSMbTXTuGKMEIVscEjIB+lYWg6RrWlyYv9VsLyOQl53j094pppCMbmczMOwGAuAAAMAAAte5GiMPSfEs0tyiafry6/dzWcs89j5cam1kVQQuEAaMbjs2SFm6c5Vsu0rxHLLemPTNfTxFNJYy3EtqEjBtpV27VwgBQEsV2Sbm4HPDZ6my0z7NqN5fTy+fcXRChtu0RxLnZGB6DLEnuWPQYALHTPst9eXk8vn3N24y+zbsjXOyMDJ4GSc9yzHjOA3r/X9f11Ft/X9f0zmtD1s6hqsdjZ+Kf7Wa6tJJLgRxwh7BxtAKhV+TliNkoY5A54bOhplvqZ1jUrVtfv7q1hhWLzZo7cPHO3zErsiUfKpQ/MGB3dOK1bHTPst7e3k0vn3N24y+zaEjXOyMDJ4GSc9yzHjOAuk6cdM04QNN50zO8ssxUjfIzFmOMnAyeBngYFAGboSX6a5qUU2sXepWdsqRA3SQqRMRubHlxpwFZPXknpimeKLfUkQTaZrt/aTzyJBb20Udu0e8n7x3xM2AMsfm6KcVpWGmzabov2WC4Rrsh3a4kiJVpWJZnKbs43Enbu6cZp8mnNPq1rezzBhaxMqRBCB5jYBfr6AgDtuPPNHVB3Keo3OpQeI9KjSaJLGeVo3QLl5D5Ujckj5QCq4xyefoYtY1S6XU7e306Xy44LiAXb7A27zHCiLnocEse4G3+9WneWH2u9sLjzNn2OZpdu3O/MbJj2+9n8KydS8FabqE8k6zahbyzXKXEvlajcojMpUn5FkCgkKBkDjg9qFugewmuNq9rcfa4dT8oGeOKz0+KFHW5zjcHJXfnG85VlChdxyAazr/AFnUIvE0qJqkkXlXsEEVosEZtXjbZu82UjKSne21d6k4TCNn5tSTRtcGvS6hbatp/lsAkUdzp0krwR4GUVxOo5IyTtyTjOQqgFx4cvJbi4hi1NI9Kup/Pntjbbpd2QWVZdwAUkcgox5bDDja46Nf12B7aFNdSP8Awl08N74gv7ZVu1igtFtY/szfu0IRpTESGYk4HmAntVjVLfUotdsRZa9f5urkM1oY7cxJCvzP/wAst+MYX72cuOatXWkale3yrcarE2mCdZjb/ZB5xKtuCeZu27dwH8G7Axu71dj0/brc2oyy72aFYYk248pQSW78ljjPT7o9KS6A+pSFzqK+Mktp5YhZSWsrxQouTlWiG5mPOfmYYHGMdT0ik1S6n8T2kdrLs09JntpRsB8+QRMxwewUqBx33A9K05LDfrcGoeZjybeSHy9vXeyHOfbZ+tZA8E6bHqFpdWs2oQ/Z7hpzF/aVyyMzBs4UybRy2Txg8g8E0LZX8/z/AMgYye51Cz8WWcDatcTfaZSHtZLNY7ZYtrkbJCuTINo+XzGJ+Y7AvK9NWI2j6nPqULX2rRz2FvN58cItAkzMM7Q8gbaVBPQIp4XJPOdG40uwu72C8urG2murbPkTyQqzxZ67WIyv4ULYHuWqKKKACiiigAooooAKKKKACiiigAooooAKbJ/q2+hp1Nk/1bfQ0AcDe/8AIQuP+urfzqCp73/kIXH/AF1b+dQUAP1id4NJ00pJJGWEoyi5/iHU9hWXacITNcCQs2Sy9OenvV7XIXex0mREaTy0uDs/hzuXBb8qxra2uIr1g8iy3MqpM0aD7uRjaB26flXLUtzNHPNS5ro9D8LOWW5HylVCBSv/AAL/AD+NdBXMeDEKR3eZA/3OnQferp62pfAjdbHlOsf8hy+/6+ZP/QjVOrmsf8hy+/6+ZP8A0I1Tr6OHwo+cn8TCiiiqICiiigAooooAKKKKACiiigAooooAKKKKACiiigAooooAKKKKACiiigAooooAKKKKACiiigAooooAKKKKACiiigAooooAKKKKACiiigAooooAKKKKACiiigAooooAKKKKACiiigAooooAKKKKACiiigAooooAKKKKACiiigApCAeCAR6EUtFG402thFAUYUAD2paKKPIOtwooooEFFFT20KXAdG4fHye59KUmojV27EFFKyspIYYI6j0pKFaWqCV4uzCiiimIKKKKADrW74fvtpNq7NyMoKwqns52t7uOVf4TzXNiaaqU2jehU5KiZ2VwU2qsgJLHIwM4qrOjR4lh3HGcqverHlrcRncTsJ4PelQoIWTYQqAgse9fKbOx9FdNXMuG1a/mFxcREC2YgK3HzYHNPjieIBt3lDOWYdDnPGPrVq3uxPvCR7cDBlzlfpVNS0sksyPlIzsiJX5W9e/UetWtSXoQAS/2xHbMWRpFJBGcMf8AOaeLC/8AtaTxXLRhG2rFIudwzyc0j3LtceUh2TKv3icnB46/jmn2k15FbCOzzdGQEGV2+4c+lOxdN3Ng3JghYStuwhZj0HFXdOuFngBi+cDqc9K5WOHVb3zo5riNVcbcKmQvuea17G0fR9PCGTzAqj5hxz61Zqb2JGXBBU/WuV1/w7M0rXdt8+eXTv8AhW9pmpfbnuFK58htu8DAY98VebD9D271tTrSovmictWlGquWZy+g6OLeEXFyv71uVB/hFbBG8jdyAMVMwAByKagBHI/CuOvWlVqc0i6VONKPLEvaZ/yD0z/eb/0I1bqrpv8Ax4J/vN/6EatV3w+BA9woooqxHhn7QP8Ay1/68I//AEa1fOVfU/xf8Maj4ivlis7S5lhltFjMsEJk2kSMccfUV5L/AMKX1b/n31P/AMAHrmrU5Sd0e3l+Lo0KTjUdnc8yr1X4PX1zc67aR3E7yrFfW4Tec7QX5Gar/wDCl9W/599T/wDAB6634ffD7VvDviK0LWV80bXcMjvLatGqBWyTk+1TSpzjK7NcbjMPWouMXd+h9DVVGp2Z1VtNEw+1pD57R4PypnGSen4ZzViVmSF2jjMjqpKoCAWPpk8VxGlXl3b65Adb0O9tWls7iW9uLiS2aMEtGWPyysdihQo4zjbx1I6utv62Z8/0Ok0/xLpWqXLwWdyzOqGVTJC8ayoDgvGzKBIoyPmUkcjnkUum+I9L1ed4rGd2ZU81TJBJGsqZxvjZ1AkTp8ykjkc8isPTPEHhzWrp74avpjW9rZyCGyjuI3KQcF5JFBJAwo+X+EdeThY4NS0vxSLuXSNWsJrwadNBZWdtdRs8SOBl2CkkElU4/hwO5NN6f16/194RszoLDxHpepNKLW4bESeaWlheJXj/AOeiM4AdP9pcryOeRTbHxPpOoRzvBctGkEXnO1zBJAPK5/eDzFXcnB+YZHvXOzapaausDaHHHqD2Wl3C3FsgyYyyoBBIo5ViVPycH5D6UzS4bLWrubT7bWTrUE2mvDNdxspaxOVCxAjgZyTh9z/u/mZuMHVr+uouif8AXT+v0Oq0zXrDV3dLN5hIihzHcW0kDlT0YLIqkr/tDI96m1DU7PS44pL+YRLNMsMfyli7scAAAE+/sASeAa57QnvpdRvda17U7SWzsY3tYLiO3+zxsoIMsjbnbgMgXOQPlY4wQaq+JbvUPt09wdDvru0i8hLSa3lt/LbMiMzYaVWyThR8vGOuGNGmgzor3xHpen362d1O6ykqGKwSOkW44XzHVSseT03EZou/Eml2OpCxubh1myiswgkaOMucKHkClEJOMBiCcj1FYWra/wCH7m8uNFu9T07SmlKNqKz3MUczkquIsZ5YrtBbnAwFOeVo65dQJq2qxPfrbXjTxPDpH/QUwqbWx99skbcxkAbPnDAEULoB1c/iKwg1U6cwvJLgFQ3k2E8qIW6bpFQqvryRjvTLvxPptjfC0ulv43MqQiT+zbgxFmICjzQmzksBnOMmsPWNRSw124+weIFh1OSaPZo7Qrm6O1Vxgjey4HDoQqkMTkKQNm7K6n4mt7HG6HT1F5N6GQ5WJfww7exC0LoDL7apZLqyaYbhTevEZhCASQgIGT2HXjPXnHQ0XWp2dne2lpczBLi8Zlgj2klyoyeg4A9TgZIHUis+5hii8Zac8UaI0sFy0jKoBdv3IyfU4AH0ArDvbzU4/EUU934e1GRm1ARwSJLbGPyVVwu3MwbJyWOQPTsKOqQPRNnR/wDCR6X/AGsNO89/PMnlbvIk8rzMZ2ebt2b8fw7s+1C+JNLfVv7NW4f7R5hiDGCQRNIBkoJduwuAD8obPB44NYg13w7qmtppkOr6ZbR2t7uNstzGstzchycbM5AD8njLN7fez4LqA61FCl8pvl1V2fQf+eYMjZn2/fB2t5m4kxnPC5IYEdbf12/r7gel/wCu/wDwPx7HcG9txqAsd+bkxGbYFJwgOMk9BknjPXBx0OJ68/0++lh8STSjXHl1e61HyrjRWjj+S3ViisBt8xVWPDht2wknj5q9AoWqTDrYKKKKACiiigAooooAKKKKACiiigAooooAKbJ/q2+hp1Nk/wBW30NAHA3v/IQuP+urfzqCp73/AJCFx/11b+dQUAa6KrafYq4yCJOP+BCqk1lGkrSbjGNvLDjgc1M0nlWGnvx0lHP+8KsiBZlw3zKRyCMhvauGr/EZpFaCeBFxFesJmkEjK4DLgoMsMe/SutrJ0OPyzcDGFG0KB2HNa1dVL4EZ7HlOsf8AIcvv+vmT/wBCNU6uax/yHL7/AK+ZP/QjVOvo4fCj5ufxMKKKKogKKKKACiiigAooooAKKKKACiiigAooooAKKKKACiiigAooooAKKKKACiiigAooooAKKKKACiiigAooooAKKKKACiiigAooooAKKKKACiiigAooooAKKKKACiiigAooooAKKKKACiiigAooooAKKKKACiiigAooooAKKKKACiiigAooooAKKKKACnRytDMkifeU5HtTaO1Jq6sxp2dzRvGhvlE8a7JTw/oT61nYxQCdpGeD1o71nSpuD30NKk1JLuFFFFamQUUUUAFOjUvIqg4JPem0dTgcZPapkm4scbXO4gAS2i5BKoASD3xUTNLJcOqnCDpzgMcdD7VV0+7iSNLcksSBlievFaM2MAbQTjAxXydWMoTdz6anKMoKxSltGhg+W4MQXoqYG4n3qtbWYhEVuTJMkaNIrcFVOf581ekMDYkkIldWyMdOOuPXrUE155K+XAigzd9wwo/DqealMbRUA2yM9qqrNN9/d1VRySaSV/s7eXYyJ5sgbhs/eI5P4Lk067iKslvEVDSZGTwenU06HTUilZi5GAPlBzz602xRumN04tbXiwg7kCgSM3QnHat9ngcGNnDAYyPaskoqzW8xOV3hXHXJPA4qdGj+zyfaEG4ZDDPOKE7nQjU0yeAQiK3A2A9ccmrlw+EyvWqViIY0KQx7DjOCc1cCF1yxpyb5dCWiHtk96afk96cwG7FGP4R29649eoi9pv8AyD0/3m/9CNWqq6b/AMeCf7zf+hGrVetT+Behm9woooqxBRWfe69penX8VnfXscE8y7kWQ4BGcZz0HI71oAhgCDkHkEd6ACiiigAooooAKKKKACiiigAooooAKKKKACiiigAooooAKKKKACiiigAooooAKKKKACiiigAooooAKKKKACiiigApsn+rb6GnU2T/AFbfQ0AcDe/8hC4/66t/OoKnvf8AkIXH/XVv51BQBoSyImnaeske8N5g5HA+YVZtpQWZIwuVAPJOKjEbS2NgqLk4l69B8w5p/wBmjtUkbJMrgBmyTn/CuGr8bNFojc0cY87jBO09frWnWVoRBjmC9iBj861a6aXwIiW55TrH/Icvv+vmT/0I1Tq5rH/Icvv+vmT/ANCNU6+kh8KPmp/EwoooqiAooooAKKKKACiiigAooooAKKKKACiiigAooooAKKKKACiiigAooooAKKKKACiiigAooooAKKKKACiiigAooooAKKKKACiiigAooooAKKKKACiiigAooooAKKKKACiiigAooooAKKKKACiiigAooooAKKKKACiiigAooooAKKKKACiiigAooooAKKKKACiiigAooooAKKKKACiiik9holt2JuEXcQSfzrt4t4gj3Bd235q4aFtk6MegYV3EcgkAk6gplcda8XNIpNNHr5e7ppszr+SOy3XA82SZQQkcabhz14FQxBryG2u5Ua3j3bvJMRYt6Zx0rWCys7KoVIynJx82T3qubiKPZC12CRKEBzuYnFeOrnp21Irk3AlXbDuMhCu5GcD6fnVvZHFjau5jgc1BLdEyJGsbKXbqP7o9vripkZ0lJlZSnZR60DsIYt23LYG4E8UzUkZbU+UNzs/I7kVZMm6URx8kc4x2qKYPIpTcFPQn2pxKuVtIuo7q3huHmxHGmS4PDduvpW358xi3QLuIGB6Gud1eyeDRVg00mGKDGEHdR2q/4c1YajYmTnaMYJ9a1Qy1BO+xRN8spzkenNNeOQNnJ5ouj5bCU5wuTxRZ3guFxICufuk1nKN9QNjSv+QbHn+83/oRq5VTTARp6AnJ3Nz/AMCNW67ofCjB7hRRRVCPEPj3qM+kzNfWu3zYbGNl3jIP71hz+dcN4H+O8liY7e5m+ydjFOS8DfQ9U/Qe5rrv2jv+PO4/7B8f/o5q+WaRaSaPvHw/8R9H1qONbiRbKZwMb2Bjf6P0/PFdeCGAIOQeQR3r89dG8TaroMg+wXLCLOTC/wA0bfh2+owa9/8Ag/8AE3U9Xvre0TfFF9pigmgdt8ZDnGVzyvf/AOvQJxsfRdRC7tzJNGJ4t8ADSrvGYwRkFh2yAetS1gaPZwWXivWI7WMRq0NvI3JJZmaYkknkkmmRctWXijQNSkePTtc027eNDI6wXcblUHViAeAPWn6d4k0PWLhoNJ1nT76ZV3mO2ukkYLnGcKSccjn3qDTtupeILzUusVqGsbc+4IMzD6sFX/tmarLKl1caxrMqSSwW0MlpAidWVMmUr7s42/8AbMUm7K/l/X6FJXdv6/rc1rHWNM1OaeLTdRtLuS2bbOlvOshiPIwwB4PB6+hqxHPDLJLHFKjvCwWRVYEoSAQCOxwQfoRXCWs02gw2V1K1neSQaHM1jHanaEiQRthyB+8HCjzFCD0QZqa21LVPC2m3MF5Pp+pzNp0+prPbxNFlwQWMmWbKsXGGG3hSMcVT0dv66/5MS1/r+u52sc8MzypDKkjQtskVWBKNgHB9Dgg49CKgutV06xu7e1vb+1t7i6O2CGaZUeY+ignLdR09awvDAv8ASbtNG1K7stQaW3a8+02sLRMWL/MXBds7i2QwwOGGBiodV+zbPF/2/bu+yJ1+95PlHZjHP+s8zHfOaT0VxrV2OuqK6u7extZLm9nit7eIbpJZnCKg9STwKrTXd1Z6XDKLC5v7jaoeG3aIPnHJ+d1Xr703VfsQhtp7+FpXhmWS3hHLNNghQBnBPJPPAxu4xkD0EtVck/tjTf7K/tT+0LT+z9u77X56+VjOM784xnjrSHWdLXSf7UbUrQafjd9rM6+TjOM78468detYk+iXlvYC+T7EbuO/bUXt53MduMoVK7wCRgHdv2nLAnAzxnWNlqNzo6+Ingsbadr9tTWzuJWWFY/J8rJk2ZViv7zds6kggZJBprf+v61+4Nf6/r+rnWSa1pcOlLqcupWaaewBF206iIgnAO/OOTx1pl14g0aysYL291axt7S4x5M8tyiRy5GRtYnB454rlbW21FdHi8TzW+n20y3EuoNZ3MrpFFG8e3PmbCVfA3E7P4nBAzkaekXNzo/g2bU9RtEt7q6ke5WxjziN5W+SLoMsSygnAyzHijXX+vl+f3B2/r+un3mlJ4o0CGwhvpdc02O0nYrFcNdxiOQjqFbOCR7VdtNRsr+xW9sby3ubRgSJ4ZVeMgHB+YHHGD+VZuP+EZ8KYA8+5Qe/7+4kb/2aRvwzV7SbAaXpUFoHMjRr+8kbrI55Zj7liT+NHcCDT/Euhavcm30nWtPvpwpcxW10kjBfXCknHIq/HcQTTSxRTRvJCwWVFYExkgEBh2OCDz2NZOn7dS8QXmpdYrUNY259wQZmH1YKv/bM1U01LfQ7rxCbO1kaOApKIYVLvI3lbjjqWZjn1JJpNpJMdnex0C3UD3T2yTxtcRqHeIOC6qcgEjqAcHB9jUNjq2naoZhpmoWt4YG2Si3mWTy29GwTg8dDXH6Le6fdapfQ6hHepJfWG++lnsLi1XJL7su6LtVVwoYkcKO9aV1bxfYtQ1h7VobGLTHtobaNfLkkiAySf7o4woxlQSTycA1Su/63/r8egt3Zf1t/n/Vzbs9b0rUY55NP1OzuktjidoLhXEX+8QeOh6+lQ23ifQb23uLiz1vTbiG1XfPJFdxssK+rEHCjg9a5uOB7a4e31K7sWebRJFhuIcRRQQqVAEnry4w42qcNhF5zt6Rd6jBqz6Tqb2U+y2WeN7RWQxLnaEdWY56cOMbsN8oxzVv6+/8AyFfS/wDXT/Mvabr2kayZBo+q2V+YseYLW4SXZnpnaTjoatwXEFyrNbTRzKjtGxjYMFZThlOO4PBHasfRYk1SO91aTcU1L5ISrFT9nXITBHIzlnBH9+qFjcDQfC+qNptm7i3vZo4ILeBpNvz7V+RATtGcnA6A1N9beV/y/wAyrfnb8/8AI6M6hZhLlzdwBbTP2ljKMQ4Xcd/Py/KQeexzSWGo2Oq2oudLvLe9tySBLbyrIhI6jIJFcp4cu9HMmpWcizLH9ohcvqNhJbrLMQmGPmoo3tIcgdckEdq1PD4kj1rWYrt4J70PC089tH5cbEphRsJYqwUDOWYkFTkAgChHQUUUUgCiiigApsn+rb6GnU2T/Vt9DQBwN7/yELj/AK6t/OoKnvf+Qhcf9dW/nUFAG1btixsevST/ANCqxNEtxEY3DeuFOM/Wq9su6ysf92T/ANCFW8rECTyDXDV+Nm0fhLmiAAzjoflyvp1rWrJ0Rg8lycYb5cg+nOK1q6aXwIykrM8p1j/kOX3/AF8yf+hGqdXNY/5Dl9/18yf+hGqdfSQ+FHzU/iYUUUVRAUUUUAFFFFABRRRQAUUUUAFFFFABRRRQAUUUUAFFFFABRRRQAUUUUAFFFFABRRRQAUUUUAFFFFABRRRQAUUUUAFFFFABRRRQAUUUUAFFFFABRRRQAUUUUAFFFFABRRRQAUUUUAFFFFABRRRQAUUUUAFFFFABRRRQAUUUUAFFFFABRRRQAUUUUAFFFFABRRRQAUUUUAFFFFABSd+KWigAY5Oea6vRr1ZtN2nh4/lJ/qK5SnxTSQtmJip7c8GuTFUPbQstzpw9b2U7s6xpGkPkuSAOu4DkemKatxa2zndGqKnRiOM+g96htmW506OYACUnaz56eppskcyvOWmfy1IWMEgbif8APWvmpxcJOLPehLmipGolxHLgxKu/BO5hxVYwrJdHysSM2CzY+Vfqai0/ckrzTw+WhwFkL5yBx/Wrj3APMRAyp24xgntzUGtyTLvtbcExzsHeoRHi5BJJOeF7LSlo1dVDZdRylOV9wOWGGORgUMRDqc0ENi7XDqoKnG48E4qh8PcPoLOcDMjY9uau6hp0GowBJ1DMgOwnnGe+O9VPD16kN7LaCJEAzwi46HHariy0zo5oUm+Ukge1Y+qafJFPvs3xnGVBx0rfUkfN1B74qjqgYR+bENxU9u1XcZd8OTNcaDBI3UtIOfZ2H9K1KyvDLM3h+Auu0lpOCP8Apo1atdUdkYPcKKKKoR4V+0LbT3kc0FrE80z2EYVEGSf3rdq+av8AhFde/wCgRef9+TX3rq3hnSNcnSbVLMTyIuxW8xlIGc4+Uj1NUP8AhX3hj/oGf+TEv/xVIpOx8M/8Irr3/QIvP+/Jr1P4I6XfaZ4hiGoWk1sZL+2KiVCu7D84r6T/AOFfeGP+gZ/5MS//ABVTWngjw9Y3kV1bacEmhYOjGaRsEdDgtiiwOVzepiwxLM8yxoJZAA7hRuYDOAT3xk/mafRTJGQwRW0Qit4kijBJCIoUAk5PA9SSaIYIraFYreJIo1+6iKFA/AU+igCnY6PpmmTTy6bp1paSXLbp3t4FjMp5OWIHJ5PX1NFho+m6V5v9l6daWXnNul+zQLH5h9W2gZPPerlFAGfa6Bo9lZz2llpNjb21znz4YrZESXIwdygYbjjmpLjSNNu7i2nutPtZ5rQ5tpJIFZoen3CRleg6elXKKACqeo6RpusQLDq+n2t/Ejb1S6gWVVbGMgMDzyauUUAUbXRNKstPksLLTLO3s5Ml7eK3VI3zwcqBg5q1NBFcwNDcRJLE4w0cihlYe4NSUUAMmgiuIjHcRJLGSCVdQwyDkHB9CAaJYIpwoniSQI4dQ6g7WHIIz3HrT6KAGSwRT7POiSTy2DpvUHaw6Eeh96a9tBJcxXEkEbzwhhHKyAsgbG4A9RnAz64qWigBkMEVtEIreJIowSQiKFAJOTwPUkmhYY0keRI1V5CC7BQC2BgZPfin0UAQXFla3ccqXVtDOk0flSrJGGDp/dOeo5PB9aq6d4d0TR5mm0jR7CwlddrPa2qRMw64JUDitGigClY6NpmlrMum6daWYnO6YW8Cx+YfVsAZ6nrRYaLpelW8lvpem2dlDKcyRW8Cxq5xjJCgA8cVdooAbFEkMKRQoscaKFREGAoHQAdhSRwxwhhDGsYZi7bVAyx6k+9PooAhls7aeKeOe3ikjuBtmR0BEoxjDA9eOOe1MsNOsdKtRbaXZ29lbgkiK3iWNAT1OAAKs0UAFFFFABRRRQAU2T/Vt9DTqbJ/q2+hoA4G9/5CFx/11b+dQVPe/wDIQuP+urfzqCgDbtmxY2Q7kSf+hVZkTcBg81RTf/Z9h5ec4k6f7wrQThRu5NcNX42bQ2LWhxtHJc7gBnbjH41r1Q0w5838P61frppfAjOW55TrH/Icvv8Ar5k/9CNU6uax/wAhy+/6+ZP/AEI1Tr6SHwo+Zn8TCiiiqICiiigAooooAKKKKACiiigAooooAKKKKACiiigAooooAKKKKACiiigAooooAKKKKACiiigAooooAKKKKACiiigAooooAKKKKACiiigAooooAKKKKACiiigAooooAKKKKACiiigAooooAKKKKACiiigAooooAKKKKACiiigAooooAKKKKACiiigAooooAKKKKACiiigAooooAKKKKACiiimB0Hh9A1rJubC7q0rgItvMpKtIuCvy5AJ6cVyUN1NAGWJyAwIIrd0m5drNI2k3Nnqx5x/n1r57G4aanzpaHtYWvFx5HuaMsccFqpumLsq8ADHPfgU6DyZEzEowoO0E+tUhJdTPK1pAr7iUE7ycD3x+lAil/wCW80IG4M3lKQSy84JJ6cV5nS56HUtIFYYkQRFeOTyfembgrKvzMSSVxxj61o+Us0YYYBI4OKr+QkKhAMkj7x60LUdiKF13KASc/K2DkDHH86xr/wD0PXIGtxtj2EuB/Ec/zNbwICv5YAA6+1YGsB5Li34xHGw3Ed/QVUSonZ2cu61Vic5XJpzbfQfQ1m2s3lWIRQNxXI5wDSw3JEzNISTwp9B/nNaXRVtTb03H2BNowNz4/wC+jVqqmmENp6EcDc3/AKEat11x2Rg9wooopiOM8X+OpfC+u29r9milt3hEkhZirZLFQAeg6enetfQ/F+ka8AtpceXcHrbzfK/4ev4V5D+0b/x53H/YPj/9HNXgOhePNY0QojS/bLdekczHK/7rdR+o9qVylFtH3xRXz14G+PQm8u2uZ/OPA+z3bbZB/uv/ABfQ5PsK9q0PxdpOvgLaXHl3BHNvL8r/AIev4UxWsbdFBIAJPAHWueXXdXu4RfaXoaXGmn5kZ7zy7iZP7yRFCpBHK7nUnvtoEdDRWfBrdldW8MltIXM9qbqJGRlJQYznI4OWAwefbip9NvP7R0m0vdnl/aYEl2Zzt3KDjPfrR/X9fcxXX9f15lmiiigYUUUUAFFFFABRRRQAUUUUAFFFFABRRRQAUUUUAFFFFABRRRQAUUUUAFFFFABRRRQAU2T/AFbfQ06myf6tvoaAOBvf+Qhcf9dW/nUFT3v/ACELj/rq386goA2Iyf7NssdcSY/76qeMsUx371DFtGnWZc4AWT/0IVIozu2nH9a4qvxs3h8Jr6MxPnA9tv8AWtOsnRAVa4DHJ+U/zrWrppfAjKfxHlOsf8hy+/6+ZP8A0I1Tq5rH/Icvv+vmT/0I1Tr6OHwo+Zn8TCiiiqICiiigAooooAKKKKACiiigAooooAKKKKACiiigAooooAKKKKACiiigAooooAKKKKACiiigAooooAKKKKACiiigAooooAKKKKACiiigAooooAKKKKACiiigAooooAKKKKACiiigAooooAKKKKACiiigAooooAKKKKACiiigAooooAKKKKACiiigAooooAKKKKACiiigAooooAKKKKACiiigAp4LRkGMkejUwdamt3PmojDcpblfWoqNcmqLgve0Z0li7/2VC6L5spOFQnaCf8MZphRmmmnvI3DRnCxxHcAAR/WrMF5BAI7BiY5TjCsPfoKVGeFspbTMHYqcHkZ6lvavk6ms2+h9LTXupFi2lUQsysZPmxheoqSQqAGbChck5NUbWFrZm2IYI9xZy3JYmp/NiKlmIbkKAe5rM1IzKRuQZIXknoKa7w4V325A4yPbmpz+8TDAc9c8VBMoRPkUv8uAiDJIz700HLYgtrsXMyjf0zjbwvXpj1ovo/sPlzq7AvN3OfvAcfpVe10ySKb7TKxXblEiyCepq7qC/aLNAcb1kU/XFWi0dNoxzpMRHq//AKEavVmeHn8zRImH9+Qf+RGrTrtjsjnluwooopiPBf2jf+PO4/7B8f8A6OavlqvsP4y+FNQ8T3At7S1upIZrNYzLBAZNpEjNjA/CvGv+FCar/c1T/wAFzUmjSMklqeQ17P8AAzUby81q3iu7mSZIL+2Ee9s7QW5GeuOKrf8AChNV/uap/wCC5q7T4a/DXVvCniG2JtL6SOS8hkd5bRo1QI2Scn2pJDlJNH0XIgkjZG6MCDXN2dxrukafFpKaE97JboIYL2O4iS3dQMK0m5vMU4HzBUf2JrpqKoyOLXwmljrOmXLaTDqFwljLBLfpFErRzEqQ53NuAPzgbdxGcdOafpXg8aTY2P8AZNnFp16+mPb3dxHjcZSqbWcg5chgx3HOOeea7Gijo1/XX/MOt/66f5HnOj+Er60h1MR2V9bzT6fNDKZ2sUS6mYYBBgjDPzuO+QqRnp8zY7rS9OttLsEgtLaO3B+eQIoG9yPmZj/ExPVjkmrlFO4rBRRRSGFFFFABRRRQAUUUUAFFFFABRRRQAUUUUAFFFFABRRRQAUUUUAFFFFABRRRQAU2T/Vt9DTqbJ/q2+hoA4G9/5CFx/wBdW/nUFT3v/IQuP+urfzqCgDYjiEul2it/dk/9CFSwoPL6gkdMU22YJp9mzDICycf8CqO1ZzHuKMpyTtYY4zXFV+Nm0Njd0frN6/Ln9a06zdIAzMQMEhc/rWlXTS+BGcviPKdY/wCQ5ff9fMn/AKEap1c1j/kOX3/XzJ/6Eap19HD4UfMz+JhRRRVEBRRRQAUUUUAFFFFABRRRQAUUUUAFFFFABRRRQAUUUUAFFFFABRRRQAUUUUAFFFFABRRRQAUUUUAFFFFABRRRQAUUUUAFFFFABRRRQAUUUUAFFFFABRRRQAUUUUAFFFFABRRRQAUUUUAFFFFABRRRQAUUUUAFFFFABRRRQAUUUUAFFFFABRRRQAUUUUAFFFFABRRRQAUUUUAFFFFABRRRQAVLbOkdwjyjKqckZqKilJXVhp2dzoDBFdI1xdXE0iyAbFxtC89QRzV+0gAt1UTSMqfMA7HB9s1zthfvazpuOY+hB9PauiMoeUm2J8pU3luwPX86+YxOHdCTb2Z9Bh68asVbcyb26MMmNQ1BYombMccKMxIHUZx3q1Lqum+ULxMFGYhXYkDjrx1/SrEpVbN0dFeYAqjEdTULaNa+WktzG3nbukfAH4VynVZlp7hDHH8wDyEKFz1NWyoC7TxgbQVrBu4pbSfMTzvNJ8kcaoGKc8tz0+prRt1vZAoKKF5J8wgHr049qCr3EkENra3CkGPB65LEH8MkVVtbkaivmDmHswGNzdwO+OnP1qyIQySWgUwRgkyStxuJ54JqrFaQ2Ss7SNIxBWFc/L1zxjvzVIaep13h0KugwKgwoLgD/gbVp1meHc/2DBu5OX6/77Vp13R2RjLdhRRRTEFFFFABRRRQAUUUUAFFFFABRRRQAUUUUAFFFFABRRRQAUUUUAFFFFABRRRQAUUUUAFFFFABRRRQAUUUUAFFFFABRRRQAU2T/Vt9DTqbJ/q2+hoA5mfQfOuJJftO3exbHl9Mn60z/hHP+nr/AMh//Xq7rGs2Og6eb7VZWhtlYK0ixPIFJ6Z2g4HbJ4yQO4rO0fxx4e1/UBZaRfNc3BUvtW2lACjqSSoAHbk9SB1NABeRmwm0+3yZFCTZYcc5Ujj8aitjJLKzNvG7DHd69OPbir+rRh7u1ZsYVX/9lqCMmOTbt+Vx97PSuKr8bNY7G1pAwsvHp/WtKs7SPuyZ68f1rRrppfAiJbnlOsf8hy+/6+ZP/QjVOrmsf8hy+/6+ZP8A0I1Tr6OHwo+Zn8TCiiiqICiiigAooooAKKKKACiiigAooooAKKKKACiiigAooooAKKKKACiiigAooooAKKKKACiiigAooooAKKKKACiiigAooooAKKKKACiiigAooooAKKKKACiiigAooooAKKKKACiiigAooooAKKKKACiiigAooooAKKKKACiiigAooooAKKKKACiiigAooooAKKKKACiiigAooooAKKKKACiiigAooooAK1NMuROBaXDYBGI2zjBrLpQSrAjqDkVhWoxq02mbUKjpyujtrbbGDGxGVOcnqfelGXlJgRQxblvT1+tQW6tNDFO5YEx7SVYgj6U4efPblVBWMrwMcnn9K+UlG0nHsfSxlzRTGOk6ZNuRMZHAlmdsbR32j+lWxsVQNwCheoNULhC7RhLUqsf3Gb+Hjk4NKIJmgSF4TtKgO7MMjjrQUaC/Ow53KR35Fc9eHT5NbtktmDT+YfNCv0x7VvQqIAkeSBt2gk/h/SsTVjDp2rRTRJ8xYvJtXllGMZ9cZP51SFc7XR1CaVEF6Zf/ANCNXq5+01aaG0jS3s1lQ5IYzbepz0wfWq1z4xmt7oQf2YHbGWxcfdHuNtdcZxsS4ts6misWPXLp4w/9nKoI4zP/APY1laj42u9PufKbRlcFchvtWM/+OVrBOo7RM6klTXNLY6+iuF/4WLc/9ARf/Av/AOwo/wCFi3P/AEBF/wDAv/7Ct/q9Xsc/1qj/ADHdUVwv/Cxbn/oCL/4F/wD2FH/Cxbn/AKAi/wDgX/8AYUfV6vYPrVH+Y7qiuF/4WLc/9ARf/Av/AOwo/wCFi3P/AEBF/wDAv/7Cj6vV7B9ao/zHdUVwv/Cxbn/oCL/4Gf8A2FH/AAsW5/6Ai/8AgZ/9hS+r1ewfWqP8x3VFcL/wsW5/6Ai/+Bf/ANhR/wALFuf+gIv/AIGf/YU/q1XsH1qj/Md1RXF2vj65ubqOEaMqlzjP2vOP/HK2v7bvP+gav/gR/wDY1hUTpO09DenONVXhqbVFYo1u9PXTFH/bx/8AY0069eg4/sxf/Aj/AOxrL2ke5pyyNyisB/EV4hH/ABK1IP8A08//AGNOXXrxummp/wCBH/2NHtYdw5WbtFYLeIL1VJ/sxD/28/8A2NNTxDfPJtOlIMcZFznn0+7R7WHcOVnQUVhDXr0njTE/8Cf/ALGmnxDeJC0kmlhQM/8ALx1/8do9rDuHKzfornovEt1JFv8A7MVSOoNx0/8AHaYvie9abYNJXGOD9p/+xpe1h3DlZ0lFc+PEV7kg6WgI/wCnnt6/dqJ/FF4smwaUjH2uu3/fFP2sO4rHS0Vz0fiW5kzjTVGOD/pH/wBjULeLLpbhYW0uPcxwB9q5/wDQKPaw7hY6eisL/hILn/oHp/4Ef/Y1WtvFV5cvKF0hQqOVDfas7vf7lHtYdwszpqKwf+Ehuu2mr/4Ef/Y04a9eH/mGr/4Ef/Y0e1h3Hys3KKw/7dvP+gav/gR/9jTD4gvh10pf/An/AOxo9rDuHKzforn/APhIr3P/ACCh/wCBH/2NNk8T3ETIr6dGHkzsX7Ty3/jtHtYdw5WdFTZP9W30Nc6PFF5ty2kqvrm5/wDsam/t67kjP/EtUZH/AD8f/Y0e1h3DlZbmhjuIXhnjWWKRSjo6gqykYIIPUGsvw94X0rwvbTQaPb+UJpDJIzNuZuThcnnCg4A/mSSY5tbvopNo0tT05+0Ef+y0n9vXXzf8S5cKM5+0f/Y0e0h3EN8RzSRXdj5a5UiTcTnj7uP50+KPlST82MVmT6hPrE1tIbWOAxllB8zzODjJHA9K05JRCYN5Ygn5mz+FctRpybRpDY2dJ/5bevy5/WtKs/Sh/rj64/rWhXTS+BES3PKdY/5Dl9/18yf+hGqddveeF7K4vp5nluA0kjOQGXGSc+lZc2l+G7fUk0+41hIr2TGy2e6jWRs9MKRk5r3I4imopHhSwtRybOcorsf+ERsP+e1z/wB9L/8AE0f8IjYf89rn/vpf/iar6xTJ+q1DjqK7H/hEbD/ntc/99L/8TR/wiNh/z2uf++l/+Jo+sUw+q1DjqK7H/hEbD/ntc/8AfS//ABNNXwppz52XE7bTg4dTg+nSj6xTD6rUOQorsf8AhEbD/ntc/wDfS/8AxNUb/TPDelSRx6prMdk8vMa3F1HGX+gYDNH1mmH1Woc5RXYjwjYHpNcf99L/APE1UstG8P6lJMmnaqLt4G2yrBcRuYz6MAODwetH1mmH1WoczRXT2eiaDqEkyWGp/ant32TLDcRuY29GwODx0NTp4Y0uQOY7uZxGxV9sinaR1B44NH1mmH1WocjRXT2GiaDqkLS6Zqf2yNW2s9vcRyAN6EgHmp08MaXJLJHHdTPJEQJEWRSUJGRkY44o+s0w+q1DkaK69PCmmyLmO4nYZIyrqeQcEdPWnf8ACI2H/Pa5/wC+l/8AiaPrFMPqtQ46iux/4RGw/wCe1z/30v8A8TR/wiNh/wA9rn/vpf8A4mj6xTD6rUOOorsf+ERsP+e1z/30v/xNNXwpprMyrcTkocMA6/KcZ549DR9Yph9VqHIUV0d/pvhrSpo4tU1mOykkGUS4uo4y46cAgZq8PCNgek1x/wB9L/8AE0fWaYfVahx1Fdj/AMIjYf8APa5/76X/AOJo/wCERsP+e1z/AN9L/wDE0fWKYfVahx1Fdj/wiNh/z2uf++l/+Jo/4RGw/wCe1z/30v8A8TR9Yph9VqHHUV2P/CI2H/Pa5/76X/4mmp4U02WNXjuJ3RhlWV1II/Kj6xTD6rUOQorsf+ERsP8Antc/99L/APE1DdeHNHsbV7m9vZLaCMZeWaVEVR7kjAo+sUw+q1DlKK6y28N6Re2yXNneyXEEgyksUqMrD1BAwal/4RGw/wCe1z/30v8A8TR9Yph9VqHHUV2P/CI2H/Pa5/76X/4mj/hEbD/ntc/99L/8TR9Yph9VqHHUV2P/AAiNh/z2uf8Avpf/AImj/hEbD/ntc/8AfS//ABNH1imH1WocdRXY/wDCI2H/AD2uf++l/wDiaP8AhEbD/ntc/wDfS/8AxNH1imH1WocdRXXv4U02Nd0lxOoyBlnUck4Hb1p3/CI2H/Pa5/76X/4mj6xTD6rUOOorsf8AhEbD/ntc/wDfS/8AxNN/4RXTfN8v7RP5m3ds3rnHrjHSj6xTD6rUOQorsf8AhEbD/ntc/wDfS/8AxNH/AAiNh/z2uf8Avpf/AImj6xTD6rUOOorsf+ERsP8Antc/99L/APE0f8IjYf8APa5/76X/AOJo+sUw+q1DjqK7H/hEbD/ntc/99L/8TR/wiNh/z2uf++l/+Jo+sUw+q1DjqK7H/hEbD/ntc/8AfS//ABNH/CI2H/Pa5/76X/4mj6xTD6rUOOorsf8AhEbD/ntc/wDfS/8AxNH/AAiNh/z2uf8Avpf/AImj6xTD6rUOOorsf+ERsP8Antc/99L/APE0f8IjYf8APa5/76X/AOJo+sUw+q1DjqK7H/hEbD/ntc/99L/8TR/wiNh/z2uf++l/+Jo+sUw+q1DjqK7H/hEbD/ntc/8AfS//ABNH/CI2H/Pa5/76X/4mj6xTD6rUOOorsf8AhEbD/ntc/wDfS/8AxNH/AAiNh/z2uf8Avpf/AImj6xTD6rUOOorsf+ERsP8Antc/99L/APE0f8IjYf8APa5/76X/AOJo+sUw+q1DjqK7H/hEbD/ntc/99L/8TR/wiNh/z2uf++l/+Jo+sUw+q1DjqK7H/hEbD/ntc/8AfS//ABNH/CI2H/Pa5/76X/4mj6xTD6rUOOorsf8AhEbD/ntc/wDfS/8AxNH/AAiNh/z2uf8Avpf/AImj6xTD6rUOOorsf+ERsP8Antc/99L/APE0f8IjYf8APa5/76X/AOJo+sUw+q1DjqK7H/hEbD/ntc/99L/8TR/wiNh/z2uf++l/+Jo+sUw+q1DjqK7H/hEbD/ntc/8AfS//ABNH/CI2H/Pa5/76X/4mj6xTD6rUOOorsf8AhEbD/ntc/wDfS/8AxNH/AAiNh/z2uf8Avpf/AImj6xTD6rUOOorsf+ERsP8Antc/99L/APE0f8IjYf8APa5/76X/AOJo+sUw+q1DjqK7H/hEbD/ntc/99L/8TR/wiNh/z2uf++l/+Jo+sUw+q1DjqK7H/hEbD/ntc/8AfS//ABNH/CI2H/Pa5/76X/4mj6xTD6rUOOorsf8AhEbD/ntc/wDfS/8AxNH/AAiNh/z2uf8Avpf/AImj6xTD6rUOOpVG5gM4yetdh/wiNh/z2uf++l/+Jo/4RGw/57XP/fS//E0niKbVhrDVEya0nglULE6kIACBT5PMWTMYIJGODj8aSz8PW1lMJIp7nryC4wf0rVaxgmBwzgnjqOK+fr0Gp3jqe1Rm+XUxGjeWWMbJNo4yW5PuaWaXdMIYmxKeAA3HPWtxdOjHWSQ/XH+FM/sm1WTzVGHAIyAP8KxVKRtzIx9/2VmyU/drgsTznr/Ws7U4/tMcbwmMTAgsHTh1PUfpXSLpFqiMHMkhkJZiSDn9KadDtGkd2Mh3ADBI+UDsOKr2cidLnGQa4kF8BbSyvbK5jjhEeBjuSTXWXdjFeWu6ErEZAMkICSPSqb+DrN75pRcXSr1ESuoQe+NtdBDaRCBUDOQBwTiqUJFKSOcv702sEqRlQIVB3P0Qep9elUbx01jSI5rKPzGUg7gOcfSuin0GzuHcSmRwxBKluD+n6VLZaJa2e8xF8vjPIwAOgHHFa03KnLmRNRRqR5WebMpVsEEHuDRXeah4Ysrm581nmVj12EAfyqp/wiNh/wA9bn/vpf8A4mvbhioON3ueHPCTUrR2OOorsf8AhEbD/ntc/wDfS/8AxNH/AAiNh/z2uf8Avpf/AImr+sUyPqtQ46iux/4RGw/57XP/AH0v/wATR/wiNh/z2uf++l/+Jo+sUw+q1DjqK7H/AIRGw/57XP8A30v/AMTR/wAIjYf89rn/AL6X/wCJo+sUw+q1DjqK7H/hEbD/AJ7XP/fS/wDxNH/CI2H/AD2uf++l/wDiaPrFMPqtQwtBWOW+WORfmB3qff8A/VXZgkk8Y56+tVNO8M2dpdedHJOWA/iYf4VsfYYx/E/5142MftKl47HsYOLpU7Mp4wO9RSr8hNaP2KP+8/50hsY+5f8AOuL2crHZzoyJAdgC4z6mlgzuw+MitM6dCepf8x/hSHTYuzyA+oI/wpeykTzIyw2JJFdgwZiRx0FTRIEBOalbQ4GlSQzThkbcNrAA+x4qwtjHuJ3SAemRj+VHspBzIqduKZLlo2C4JxwD0NaQsYv7z/mKGsIj/E4/EUvZSDmRzPkTpcECRmDcuWPGauxJwxHXsMda1DpEDY+eQfiP8KeNNiA4d/rkf4UeykHMjIlCxhcD5pMjPf8AzzVK7tzAEmhwOcOx5O305966JtLt2cMS+QPUf4UNpcL8MXYehx/hT9lIl2OWjM6agsry5t24KEYwan1IkQqyFRIrgr82OM8/pW2NFtWXYTJxzndz/KmahoFve2fkGSWNeMlCMnHPcUKlK4uhl28wnAUcl+GAOdvrU8caQhgp2Kp3EqOtXrPQLS0BMRk59SP8KS7t9OsIZbu+uVtoVH7yWaRURB7k8Cj2UrhfQxNNu43WVvNaTfI7Zfr1rUjcbeQQD6Uml2mi6jCbnR7+K8hDFTJbTJIgPcZGRn2q9HpUKscyzMfcj/Ch0pFcxlXd9HC6LuAOCcdzVZLqe6mzGdqqAygHq2OhrYu9AtbpSXeUNjAZCu4D0BxTbXQ7e3Iw8xyP4mBP54p+ylYm+pSillMY88YfHQUssfmbW2hmX+JhyPxrX/sqEZPmScnPUf4U86fFs2hnAPXpz+lT7KZXMjnb+6eK5jt4Su5ky2T91c/zrRgCjbvOentSnSdMbzb5rjcjJlpTIpUAd89BV2OwgaMFZHK44OR/hT9lIOYxLq8KQs8uI1DHAY59hyP5VTa+IWR0iDAgCMA/e/wrfutEhuojEzylDz1HH6Vly3HhfT7tbG5160trxSFMMt7GkmT0yp78jtT9nInqRaXZXALvdhQVwsZHpj0q1f2r3USRIyoA4JbPYVsxadHGmPMkJ7kkf4U46dCTks5/Ef4UvZyLUkGk8CTHTC/1rRqrZ2yW5kKFjuxnJq1XXTTUUmZyd2Ztxu3S7PvZOM+tYejf2cfDJ84QiPa328Tbcebj955meM5znP8AKuke1dpGIK4Jz1rPn8Mabdail/c6bYTXkeNlzJArSLjphiMjFdFzCzMa51PUfMvbmzuNPis9PbbJDPGxeXChs+YHAjyDx8revfALnUtUku737Fc6bbw2IV5EuUZndSgbBIdRGOo3EN9OOdu48OWN1fxX11YWU13DjyriSFWkj/3WIyPwqCXwpY3WoNeX9nZ3cwlEkLzwK7QkKo+UkEjlQeMUXCxTGrXDFYhGizXPlvbK4P3GGWzzyVwxOMdqjjur2cGa9WzeD7aIoYxCSy7ZSu8sWxnAGAAMEZyc4GsNFuG1g31xcRuscZjt41Qr5YONxJydxOB2GB+dWv7NG0Lsi2ht4GP4s5z0655zRcLHKzaxqqQ/2ik+miza6W3Fs6MJFPmiMkyb8FuvybBzxnjly3OqWl5c3CPafYBfCIwtExlfcVXcH3ALgt02nOOozxafwZJNr7X876Y6lwxkGnAXRAIIUz7uV4A+7nAxnvW6dMVlKtHCVLByCvBYHOenXIHNFwsYmlHWZUuTe31nKVuSqbLNk2oG5B/eHJI6Ht3BrnwLQ6jdfaW1IXJf5/sG/cJtzf63Zxt27Nvm/u9v412n/CP2XnyzfYrPzZnWSWTyl3SMv3WJxyR2J6Uy/wDDGm6rJHJqmm2N68XEbXECyFPoWBxQFmZ+hfZv7Nm+y7f7N8w/Zumzytozt7bM7sdsdOMVXmj+12dxfWUPlRQ2ckNoUQBnBAOR6L8o2j8emK6OTT/NhaKVY3jdSrIwyGB7EY6VRsPCek6VOZ9L0nTrKVl2mS3tkjYj0yoHFO4WZmwizOq6WNO8vyzYvjyj/wAsfk29O2en407TILO1ttVhlSGOzW5ZWWTGzaY0znPHPfNa9noFpp8kz2FnaWr3D75mhiCGRvVsDk89TU404AOAkQEhy+B944xk8c8Ci6CzMOwSaPxDeLeSwTTNAhUwIY9kYZ9qspLHPJ+bODzgDHNIwvbaxqeqWqFpIbhVnjUcyxeUhI9yvUfiO9dFp+gWelQNDpdlaWUTNuMdtEI1J9cKBzVhdP2M7Isas5y5AwWOMZPHPAFF0FmchLq15FpEQ8PxrdXFzPPIm2NZB5YkOWw0sakfMP4x16GpbPUtU1OWzu0ntY7CexM0lq9tvcnof3gkx39CMZ69a37jw1p93apbXWnWM9vG/mJFJArKrcncARgHk8+9Pk0G0lkgkls7V3ts+QzRAmLIwdpxxn2pXCxhLe6jcNHb6XLp9itvaxSyCeBpAwYHhQrrsUbcZ+b6ccjalq98I30xrG3T7IlyxniabcSW+UYZeDjhv0OeNq88NafqIhGoafZXQt/9T58Cv5f+7kcdB09Kt/2f8xbbHuZdpOOSPTp05P50XCxx2q+J9Rt1gudPs/MtUgS4u/kRtgYZC7mlTbx3CyfToDvWJzf6if8Apsv/AKKSrE3hrT7maGa40+xllt12QvJArNGvTCkjgewq2tgUZigjUscsQMZOMc/gBRcLHO6WxFjfmzgt5tU89xcxzy+Xubcdu9grEDZjbweMVm3PiDVzDYW+gaUqs9os7qiRyrGucbFDTQ8DH3hntwM10+oeFtM1eRJNV0ywvnjG1GubdZCo9AWBxUl74dsdSiji1Gxs7uOE7o0nhVwh9QCOKLhYw11LVdRaOOwksbCRbaO4mFyhuN2/PC7JFAA2/eyw56UR6rqOpvGumy2Nptt0uJTOjTCQMWGEIZML8v3znOelbd/4csdUEY1OwsrwRHMYuIVk2H1GQcVQ13wrPrEsDK2lusPRNQ04XQQ/3k+ZSp/McDj1LhYp6fq2pammmPEbKNLi2+0TsA0g4YDahyMggnDH06HOKrad4i1K41horq1CWlxDJNZyeWi7lXHOfNZmBDDrGmK6iz0dbO2hij2sYo9gcj5iO/QdzzUMXhuxtpJ5bOys7aa4yZJYoVVnY9yQMk80XCxjadqmpSHT7m8uNOnttRAEcVqrBoyULZDliJBx2Veue1RaLc6nbw6cl69o9rdRFIoo4WDxYQsCzliGyB2VcZ71uad4YsdMczWtnZxXToEluY4VR5cf3iBk9O5q4NMUCMCOECL/AFYC/c4xxxxxxRcLHN293qN4tvaaRJp9h5drFM4ltmlBDZAVEV02gbeuT6YrQ1WHzRaFJbdbuKbfbrPwsjhTlcZz90tyM464OMVavfDOnalFFHqOnWN3HD/qkngVxH/ugjj8Knu9Fgv7RrW+tra5t2xuhmjDocdPlIxRcLM55dTuGhW3soLKxv57toZXbM0IkCbmIxsMhIGOdp4OemCp1XUQosfOsTfG5+z/AGoRt5IPl78+XuznHG3f757VuN4dsW0waa1jZmxA2i1MK+VjOcbMY6+1H/CPWX9mf2b9hs/sONv2XyV8rGc42Yx19qLhYx7m9utKhluL9La9ureyklMkEPk78EfKNzNtHTOSemayk1jxPLp98LiGGwmWAzwTS28ZAAPTYly5bj+L5QPQ5xXX2mh22nwpDYWtraxICFSGMIqgnJAAHHPNR2vhrT7KGeKy0+xt47gkzJFAqLLnruAHP40XCxmvfX9ofsl01vNdyKnkPHEY0ck4b5SzH5fvYz0P41r9uaqweHDBfwyRm3is7SMpaWsMOxYieGPBweOBgDAJ65q7b6YbaMojA7nZyWPJJOT296dxWMS21OSDTbdk0qUw/ZPOMlv5axIQudgXduzxxhSOetRJe6tBYLf3d3p88EzQ+WlvbuuxXdQcyGQh8Buu1fXHaujSwMUapGI0RRhVXgAVRh8K6XbyXL2+l6fE92CLhkt1UzA9Q+B82felcdjJ1nUs22oxxSW+bN7ckyPtVGLg4c9hjB+hqO41jVNHt7z+0Ws9RmitxPGLSMwY+YLhg8jADJyG3AcN0xmt+28P2Vla/ZrOys7e34/dRRKq8HI4Ax15osfD1lpkEkOm2NnaRStueO3hWNXOMZIA5OKLhY5iz13XY7a4XV7OKCcNEsUkixxKPMbaCyJPKcA85yueg9auaa18vieeHU7mzuJks0bdbRtFgF26oWYjp13c88DFbNp4bsLCzktLHT7K2tpc+ZDDCqI+Rg5UDB4p1h4estLj2aZY2dmh/ht4VjH6AUBYkoqf7JJ6r+dH2ST1X86d0KzIKKn+ySeq/nR9kk9V/Oi6CzIKKn+ySeq/nR9kk9V/Oi6CzIKKn+ySeq/nR9kk9V/Oi6CzIKKn+ySeq/nR9kk9V/Oi6CzIKKn+ySeq/nR9kk9V/Oi6CzIKKn+ySeq/nR9kk9V/Oi6CzIKKn+ySeq/nR9kk9V/Oi6CzIKKn+ySeq/nR9kk9V/Oi6CzIKKn+ySeq/nR9kk9V/Oi6CzIKKn+ySeq/nR9kk9V/Oi6CzIKKn+ySeq/nR9kk9V/Oi6CzIKKn+ySeq/nR9kk9V/Oi6CzIKKn+ySeq/nR9kk9V/Oi6CzIKKn+ySeq/nR9kk9V/Oi6CzIKKn+ySeq/nR9kk9V/Oi6CzIKKn+ySeq/nR9kk9V/Oi6CzIKKn+ySeq/nR9kk9V/Oi6CzIKKn+ySeq/nR9kk9V/Oi6CzIKKn+ySeq/nR9kk9V/Oi6CzIKKn+ySeq/nR9kk9V/Oi6CzIKKn+ySeq/nR9kk9V/Oi6CzIKdGcSCpfsknqv50C0kB6r+dJ2sNJ3JGUkcHBoGAOOak8s47UCNsdq5zcj4HXimnBp/kNzkjk5pVgI75/GgCCTpnpj1ogbcxH4/SpWt2bOSMUqQNG3y7cfWgBjqELN3xxQM+tTNGSDjGccUxIGHUgmiwyG47VDVqS3dwMFaZ9kk9V/Ot4vQwktSCip/sknqv50fZJPVfzqromzIKKn+ySeq/nR9kk9V/Oi6CzIKKn+ySeq/nR9kk9V/Oi6CzIKKn+ySeq/nR9kk9V/Oi6CzGwHD49asVEtrIrAhl/Op9h9qxnvc1hsJSGn7D7UhjPtUWLGClxQsLDqRT9h9qAI8UuKd5Z9qBGQO2aAGBQKPen7D7Unltk5IxQA2gU7yj2xSiMj0pAMY4xnucUHO044pxiJPUUvln1FAECjafX1NOZvl46/yqQREZ5pskLsmFIFMBrNhMjn29axfEgnbRv3EiRzG4g2NIhdVbzVwSoIJHtkfWt0QtxkjimS2gnXbKqOuQ2GGeQcg/gRmgRzEseq6Zeo73tjLqeqSLbi4Nq0cESoruP3fmFnY/MPvj9MFT4hvNPWT+0/s0qWlz5FzcQIyq2Y96kKSdpyQpUluo57V0V3ptvqFq9rf28F1byffhmQOjfUEYNMj0ayisUsYrK1js0xtt1iURrg5GFxgc80Ac+vie8isZ2ubSNrqxt5ZruCM4xgAxqCTxuB6n0NU7fxLr0VpfS6np8cbRWb3VuWWKMEDoCEuJSwP975R+ddkllGlxJMscQllADuFAZgOgJ74yaq2/h3SrOG4istMsraO5/16Q26oJf94AfN170Ac5qet+JLW6hsLK1hurpojcySQ26FAm4gKFkuYzkd3BPb5Rmra6zquqNDFp72OnuLOO6lF0n2ndvzwpjkUYG374LDkcVt32h6fqsUcWq2FpexxNuRbmFZAp9QGHBpNQ0LT9U8kajp9ndiA7ohcQLJ5Z9VyOPwoGc9DIZfhjLLmMltPkYlG3Kcqeh7j3qWz1DWLf7DDc3WmXK6hC32b7PA6+SQm4FiZD5i9ASNnb146NdPiW2Nv5UXkspUxhBtIPbHTFVYfD9hYNczaTYWVndXAPmTR26qXPYttALc89aBFXStVl1W4CLGESKEfaQRysxONgOe21s/Vao20WstrGoNZX1jFZC9+eGWyeSQ/ImcOJVA9vlOPetfR9Im060ZbiaOa5mkMs8qIUDufRcnAAAAGTwByaiu/CWiX14by80XTLi6YgtPLaI7kjodxGe1AGXH4ivl1u4hna2FsTKtsq27tv2KTnzlZkJyCDGQjDB645lsr68uX0OfU47GSS9LSJ5ULA24MJbAYscnsWwMjtWuNB09b6S/TT7Jb6VNklyIF8x144LYyRwOParAsI18nZFEPIGIvkH7vjHy+nHHFAE8XU1JTI0K5z3p9UtgP//Z\"/>"
      ],
      "text/plain": [
       "<IPython.core.display.Image object>"
      ]
     },
     "execution_count": 44,
     "metadata": {},
     "output_type": "execute_result"
    }
   ],
   "source": [
    "map1 = gis.map('California, USA')\n",
    "map1.legend.enabled = True\n",
    "map1"
   ]
  },
  {
   "cell_type": "code",
   "execution_count": 41,
   "metadata": {},
   "outputs": [
    {
     "data": {
      "text/plain": [
       "True"
      ]
     },
     "execution_count": 41,
     "metadata": {},
     "output_type": "execute_result"
    }
   ],
   "source": [
    "overlap_rows.spatial.plot(map_widget=map1)"
   ]
  },
  {
   "cell_type": "code",
   "execution_count": null,
   "metadata": {},
   "outputs": [],
   "source": [
    "smm = map1.content.renderer(0).smart_mapping()\n",
    "smm.class_breaks_renderer(break_type=\"color\", classification_method='natural-breaks', num_classes=7, field=\"ACRES\")"
   ]
  },
  {
   "cell_type": "markdown",
   "metadata": {},
   "source": [
    "Besides viewing the top 20 impacted counties in the notebook's map widget, we can also save it as a web map, or then export the web map to a PDF output again."
   ]
  },
  {
   "cell_type": "code",
   "execution_count": 42,
   "metadata": {},
   "outputs": [
    {
     "data": {
      "text/html": [
       "<div class=\"item_container\" style=\"height: auto; overflow: hidden; border: 1px solid #cfcfcf; border-radius: 2px; background: #f6fafa; line-height: 1.21429em; padding: 10px;\">\n",
       "                    <div class=\"item_left\" style=\"width: 210px; float: left;\">\n",
       "                       <a href='https://geosaurus.maps.arcgis.com/home/item.html?id=80e0253445e44811b9f483d8d472fe1c' target='_blank'>\n",
       "                        <img src='http://static.arcgis.com/images/desktopapp.png' class=\"itemThumbnail\">\n",
       "                       </a>\n",
       "                    </div>\n",
       "\n",
       "                    <div class=\"item_right\"     style=\"float: none; width: auto; overflow: hidden;\">\n",
       "                        <a href='https://geosaurus.maps.arcgis.com/home/item.html?id=80e0253445e44811b9f483d8d472fe1c' target='_blank'><b>Top 20 largest Wildfires in California Till April 2023</b>\n",
       "                        </a>\n",
       "                        <br/>read pdf and export pdf<img src='https://geosaurus.maps.arcgis.com/home/js/jsapi/esri/css/images/item_type_icons/maps16.png' style=\"vertical-align:middle;\">Web Map by arcgis_python\n",
       "                        <br/>Last Modified: April 11, 2023\n",
       "                        <br/>0 comments, 0 views\n",
       "                    </div>\n",
       "                </div>\n",
       "                "
      ],
      "text/plain": [
       "<Item title:\"Top 20 largest Wildfires in California Till April 2023\" type:Web Map owner:arcgis_python>"
      ]
     },
     "execution_count": 42,
     "metadata": {},
     "output_type": "execute_result"
    }
   ],
   "source": [
    "item_properties = {\n",
    "    \"title\": \"Top 20 largest Wildfires in California Till April 2023\",\n",
    "    \"tags\" : \"wildfire\",\n",
    "    \"snippet\": \"read pdf and export pdf\",\n",
    "    \"description\": \"test description\"\n",
    "}\n",
    "item = map1.save(item_properties)\n",
    "item"
   ]
  },
  {
   "cell_type": "markdown",
   "metadata": {},
   "source": [
    "## Step 6. Export to PDF"
   ]
  },
  {
   "cell_type": "markdown",
   "metadata": {},
   "source": [
    "Finally, we used <a href=\"https://developers.arcgis.com/python/latest/api-reference/arcgis.map.toc.html#arcgis.map.Map.print\">`print`</a> method to create a PDF output of the web map item <a href=\"#References\">[3]</a>."
   ]
  },
  {
   "cell_type": "code",
   "execution_count": 29,
   "metadata": {},
   "outputs": [
    {
     "data": {
      "text/plain": [
       "'https://utility.arcgisonline.com/arcgis/rest/directories/arcgisoutput/Utilities/PrintingTools_GPServer/x_____xl3SfXO9Y8JofGGdEpHmfWw..x_____x_ags_7bdbaffa-e78b-11ea-96b8-22000bb3a270.pdf'"
      ]
     },
     "execution_count": 29,
     "metadata": {},
     "output_type": "execute_result"
    }
   ],
   "source": [
    "res = map1.print(file_format='PDF', layout_template='MAP_ONLY')\n",
    "res.url"
   ]
  },
  {
   "cell_type": "markdown",
   "metadata": {},
   "source": [
    "The `res.url` shown above points to the URL address of the exported map which displays the top 20 most impacted counties in California by wildfire. If interested in creating more fun maps from the PDF files provided by **CAL FIRE**, you can repeat the previously done workflow with two other links stored in variable `pdf_url_list`."
   ]
  },
  {
   "cell_type": "markdown",
   "metadata": {},
   "source": [
    "## References\n",
    "\n",
    "[1] https://www.fire.ca.gov/stats-events/\n",
    "\n",
    "[2] https://enterprise.arcgis.com/en/server/latest/create-web-apps/windows/exportwebmap-specification.htm\n",
    "\n",
    "[3] https://developers.arcgis.com/python/latest/api-reference/arcgis.map.toc.html#arcgis.map.Map.print"
   ]
  }
 ],
 "metadata": {
  "esriNotebookRuntime": {
   "notebookRuntimeName": "ArcGIS Notebook Python 3 Standard",
   "notebookRuntimeVersion": "4.0"
  },
  "kernelspec": {
   "display_name": "Python 3 (ipykernel)",
   "language": "python",
   "name": "python3"
  },
  "language_info": {
   "codemirror_mode": {
    "name": "ipython",
    "version": 3
   },
   "file_extension": ".py",
   "mimetype": "text/x-python",
   "name": "python",
   "nbconvert_exporter": "python",
   "pygments_lexer": "ipython3",
   "version": "3.12.7"
  },
  "toc": {
   "base_numbering": 1,
   "nav_menu": {},
   "number_sections": false,
   "sideBar": true,
   "skip_h1_title": true,
   "title_cell": "Table of Contents",
   "title_sidebar": "Contents",
   "toc_cell": true,
   "toc_position": {},
   "toc_section_display": true,
   "toc_window_display": false
  },
  "varInspector": {
   "cols": {
    "lenName": 16,
    "lenType": 16,
    "lenVar": 40
   },
   "kernels_config": {
    "python": {
     "delete_cmd_postfix": "",
     "delete_cmd_prefix": "del ",
     "library": "var_list.py",
     "varRefreshCmd": "print(var_dic_list())"
    },
    "r": {
     "delete_cmd_postfix": ") ",
     "delete_cmd_prefix": "rm(",
     "library": "var_list.r",
     "varRefreshCmd": "cat(var_dic_list()) "
    }
   },
   "types_to_exclude": [
    "module",
    "function",
    "builtin_function_or_method",
    "instance",
    "_Feature"
   ],
   "window_display": false
  }
 },
 "nbformat": 4,
 "nbformat_minor": 4
}
