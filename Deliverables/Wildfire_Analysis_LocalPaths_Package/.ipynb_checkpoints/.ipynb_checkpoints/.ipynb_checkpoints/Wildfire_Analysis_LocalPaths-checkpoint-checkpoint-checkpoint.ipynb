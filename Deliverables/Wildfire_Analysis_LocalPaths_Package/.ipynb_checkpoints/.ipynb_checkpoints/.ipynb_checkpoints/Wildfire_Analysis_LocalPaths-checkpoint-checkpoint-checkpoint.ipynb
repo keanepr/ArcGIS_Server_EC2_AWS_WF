{
 "cells": [
  {
   "cell_type": "markdown",
   "id": "71aa27a3",
   "metadata": {},
   "source": [
    "# Wildfire Analysis: Fire Area vs. Distance to Nearest Fire Station\n",
    "This notebook analyzes fire perimeters in San Diego County to test the hypothesis:\n",
    "_Fires farther from fire stations tend to burn more area._"
   ]
  },
  {
   "cell_type": "code",
   "execution_count": 2,
   "id": "fad8359b",
   "metadata": {},
   "outputs": [],
   "source": [
    "import geopandas as gpd\n",
    "import pandas as pd\n",
    "import matplotlib.pyplot as plt\n",
    "import seaborn as sns\n",
    "from shapely.geometry import shape\n",
    "import fiona\n",
    "from scipy.stats import pearsonr"
   ]
  },
  {
   "cell_type": "code",
   "execution_count": 41,
   "id": "3ba868a4",
   "metadata": {},
   "outputs": [],
   "source": [
    "# Step 1: Set and project fire perimeters first\n",
    "fire_perimeters = gpd.read_file('California_Fire_Perimeters_2017.shp')\n",
    "\n",
    "# Only assign CRS if it's missing\n",
    "if fire_perimeters.crs is None:\n",
    "    fire_perimeters = fire_perimeters.set_crs('EPSG:4326')\n",
    "\n",
    "# Project perimeters to UTM 11N for San Diego\n",
    "fire_perimeters_proj = fire_perimeters.to_crs('EPSG:32611')\n",
    "\n",
    "# Step 2: Calculate centroids and area (km²) from projected perimeters\n",
    "fire_perimeters_proj['geometry_centroid'] = fire_perimeters_proj.geometry.centroid\n",
    "fire_perimeters_proj['area_km2'] = fire_perimeters_proj.geometry.area / 1e6\n",
    "\n",
    "# Step 3: Build the fire_centroids_proj GeoDataFrame directly\n",
    "fire_centroids_proj = gpd.GeoDataFrame({\n",
    "    'FIRE_NAME': fire_perimeters_proj['FIRE_NAME'],\n",
    "    'YEAR_': fire_perimeters_proj['YEAR_'],\n",
    "    'area_km2': fire_perimeters_proj['area_km2'],\n",
    "    'geometry': fire_perimeters_proj['geometry_centroid']\n",
    "}, crs='EPSG:32611')\n"
   ]
  },
  {
   "cell_type": "code",
   "execution_count": 4,
   "id": "c5b63ef2",
   "metadata": {},
   "outputs": [],
   "source": [
    "fire_centroids = gpd.GeoDataFrame({\n",
    "    'FIRE_NAME': fire_names,\n",
    "    'YEAR_': years,\n",
    "    'area_km2': areas_km2,\n",
    "    'geometry': centroids\n",
    "}, crs='EPSG:4326')"
   ]
  },
  {
   "cell_type": "code",
   "execution_count": 51,
   "id": "508d77f6",
   "metadata": {},
   "outputs": [],
   "source": [
    "# Reproject fire stations\n",
    "fire_stations.set_crs('EPSG:4326', inplace=True)\n",
    "fire_stations_proj = fire_stations.to_crs('EPSG:32611')\n",
    "\n",
    "# ✅ Final clean recalculation after all CRS/geometry fixes\n",
    "fire_centroids_proj['nearest_dist_km'] = fire_centroids_proj.geometry.apply(\n",
    "    lambda pt: fire_stations_proj.distance(pt).min() / 1000  # meters to km\n",
    ")"
   ]
  },
  {
   "cell_type": "code",
   "execution_count": 53,
   "id": "54d40c49",
   "metadata": {},
   "outputs": [],
   "source": [
    "analysis_df = fire_centroids_proj[['FIRE_NAME', 'YEAR_', 'area_km2', 'nearest_dist_km']]\n",
    "corr, p_value = pearsonr(analysis_df['nearest_dist_km'], analysis_df['area_km2'])"
   ]
  },
  {
   "cell_type": "code",
   "execution_count": 25,
   "id": "02b18ee9-d6f9-4f61-b99f-80a2e12a979c",
   "metadata": {},
   "outputs": [
    {
     "data": {
      "text/plain": [
       "True    307\n",
       "Name: count, dtype: int64"
      ]
     },
     "execution_count": 25,
     "metadata": {},
     "output_type": "execute_result"
    }
   ],
   "source": [
    "fire_stations_proj.is_valid.value_counts()"
   ]
  },
  {
   "cell_type": "code",
   "execution_count": 27,
   "id": "0cc250b0-ee61-4767-ae6d-53d5b0c3375d",
   "metadata": {},
   "outputs": [
    {
     "data": {
      "text/html": [
       "<div>\n",
       "<style scoped>\n",
       "    .dataframe tbody tr th:only-of-type {\n",
       "        vertical-align: middle;\n",
       "    }\n",
       "\n",
       "    .dataframe tbody tr th {\n",
       "        vertical-align: top;\n",
       "    }\n",
       "\n",
       "    .dataframe thead th {\n",
       "        text-align: right;\n",
       "    }\n",
       "</style>\n",
       "<table border=\"1\" class=\"dataframe\">\n",
       "  <thead>\n",
       "    <tr style=\"text-align: right;\">\n",
       "      <th></th>\n",
       "      <th>objectid</th>\n",
       "      <th>stat_name</th>\n",
       "      <th>stat_type</th>\n",
       "      <th>seed</th>\n",
       "      <th>dist_name</th>\n",
       "      <th>juris</th>\n",
       "      <th>dispatch</th>\n",
       "      <th>phone_num</th>\n",
       "      <th>sta_num</th>\n",
       "      <th>submappage</th>\n",
       "      <th>sdfdpggrid</th>\n",
       "      <th>designator</th>\n",
       "      <th>assets_ava</th>\n",
       "      <th>address</th>\n",
       "      <th>symbol</th>\n",
       "      <th>battalion</th>\n",
       "      <th>geometry</th>\n",
       "    </tr>\n",
       "  </thead>\n",
       "  <tbody>\n",
       "    <tr>\n",
       "      <th>0</th>\n",
       "      <td>1</td>\n",
       "      <td>USFS Oak Grove Fire Station 31</td>\n",
       "      <td>Seasonal</td>\n",
       "      <td>Y</td>\n",
       "      <td>USFS</td>\n",
       "      <td>CN</td>\n",
       "      <td>CNF</td>\n",
       "      <td>(619) 767-9744</td>\n",
       "      <td>31</td>\n",
       "      <td>7843-B2</td>\n",
       "      <td>None</td>\n",
       "      <td>CNF</td>\n",
       "      <td>EMT</td>\n",
       "      <td>37560 Highway 79, Warner Springs, CA, 92086, USA</td>\n",
       "      <td>FSL</td>\n",
       "      <td>5</td>\n",
       "      <td>POINT (5.19e+05 3.69e+06)</td>\n",
       "    </tr>\n",
       "    <tr>\n",
       "      <th>1</th>\n",
       "      <td>2</td>\n",
       "      <td>USFS Palomar Fire Station 36</td>\n",
       "      <td>Seasonal</td>\n",
       "      <td>Y</td>\n",
       "      <td>USFS</td>\n",
       "      <td>CN</td>\n",
       "      <td>CNF</td>\n",
       "      <td>(760) 742-3491</td>\n",
       "      <td>36</td>\n",
       "      <td>7639-A2</td>\n",
       "      <td>None</td>\n",
       "      <td>CNF</td>\n",
       "      <td>EMT</td>\n",
       "      <td>None</td>\n",
       "      <td>FSL</td>\n",
       "      <td>7</td>\n",
       "      <td>POINT (5.12e+05 3.69e+06)</td>\n",
       "    </tr>\n",
       "    <tr>\n",
       "      <th>2</th>\n",
       "      <td>3</td>\n",
       "      <td>USFS Cottonwood Fire Station 44</td>\n",
       "      <td>Seasonal</td>\n",
       "      <td>Y</td>\n",
       "      <td>USFS</td>\n",
       "      <td>CN</td>\n",
       "      <td>CNF</td>\n",
       "      <td>(619) 473-9835</td>\n",
       "      <td>44</td>\n",
       "      <td>2058-B2</td>\n",
       "      <td>None</td>\n",
       "      <td>CNF</td>\n",
       "      <td>EMT</td>\n",
       "      <td>3971 Buckman Springs Rd, Pine Valley, CA, 9196...</td>\n",
       "      <td>FSL</td>\n",
       "      <td>4</td>\n",
       "      <td>POINT (5.48e+05 3.62e+06)</td>\n",
       "    </tr>\n",
       "  </tbody>\n",
       "</table>\n",
       "</div>"
      ],
      "text/plain": [
       "   objectid                        stat_name stat_type seed dist_name juris  \\\n",
       "0         1   USFS Oak Grove Fire Station 31  Seasonal    Y      USFS    CN   \n",
       "1         2     USFS Palomar Fire Station 36  Seasonal    Y      USFS    CN   \n",
       "2         3  USFS Cottonwood Fire Station 44  Seasonal    Y      USFS    CN   \n",
       "\n",
       "  dispatch       phone_num  sta_num submappage sdfdpggrid designator  \\\n",
       "0      CNF  (619) 767-9744       31    7843-B2       None        CNF   \n",
       "1      CNF  (760) 742-3491       36    7639-A2       None        CNF   \n",
       "2      CNF  (619) 473-9835       44    2058-B2       None        CNF   \n",
       "\n",
       "  assets_ava                                            address symbol  \\\n",
       "0        EMT   37560 Highway 79, Warner Springs, CA, 92086, USA    FSL   \n",
       "1        EMT                                               None    FSL   \n",
       "2        EMT  3971 Buckman Springs Rd, Pine Valley, CA, 9196...    FSL   \n",
       "\n",
       "   battalion                   geometry  \n",
       "0          5  POINT (5.19e+05 3.69e+06)  \n",
       "1          7  POINT (5.12e+05 3.69e+06)  \n",
       "2          4  POINT (5.48e+05 3.62e+06)  "
      ]
     },
     "execution_count": 27,
     "metadata": {},
     "output_type": "execute_result"
    }
   ],
   "source": [
    "fire_stations_proj.head(3)"
   ]
  },
  {
   "cell_type": "code",
   "execution_count": 29,
   "id": "6862cd58-4b9e-4b19-948f-084b37f7d972",
   "metadata": {},
   "outputs": [
    {
     "name": "stdout",
     "output_type": "stream",
     "text": [
      "EPSG:4326\n",
      "EPSG:32611\n"
     ]
    }
   ],
   "source": [
    "print(fire_stations.crs)\n",
    "print(fire_stations_proj.crs)"
   ]
  },
  {
   "cell_type": "code",
   "execution_count": 31,
   "id": "fe31205f-3b08-4b82-bdf5-171756eee9ba",
   "metadata": {},
   "outputs": [
    {
     "data": {
      "text/plain": [
       "False    608\n",
       "Name: count, dtype: int64"
      ]
     },
     "execution_count": 31,
     "metadata": {},
     "output_type": "execute_result"
    }
   ],
   "source": [
    "fire_centroids_proj.is_valid.value_counts()"
   ]
  },
  {
   "cell_type": "code",
   "execution_count": 33,
   "id": "2468843c-5777-433b-aae4-b65ef7723f38",
   "metadata": {},
   "outputs": [
    {
     "data": {
      "text/plain": [
       "True    608\n",
       "Name: count, dtype: int64"
      ]
     },
     "execution_count": 33,
     "metadata": {},
     "output_type": "execute_result"
    }
   ],
   "source": [
    "fire_centroids.is_valid.value_counts()"
   ]
  },
  {
   "cell_type": "code",
   "execution_count": 37,
   "id": "120180ca-c7f8-4987-83c7-ee91f6171704",
   "metadata": {},
   "outputs": [
    {
     "data": {
      "text/plain": [
       "False    608\n",
       "Name: count, dtype: int64"
      ]
     },
     "execution_count": 37,
     "metadata": {},
     "output_type": "execute_result"
    }
   ],
   "source": [
    "fire_centroids_proj.is_valid.value_counts()"
   ]
  },
  {
   "cell_type": "code",
   "execution_count": 43,
   "id": "0f5e596b-8b66-42c1-9906-bc360a625d4c",
   "metadata": {},
   "outputs": [
    {
     "data": {
      "text/plain": [
       "True    608\n",
       "Name: count, dtype: int64"
      ]
     },
     "execution_count": 43,
     "metadata": {},
     "output_type": "execute_result"
    }
   ],
   "source": [
    "fire_centroids_proj.is_valid.value_counts()"
   ]
  },
  {
   "cell_type": "code",
   "execution_count": 13,
   "id": "dbdbecf5-df3a-423b-a021-a17eff3b2c59",
   "metadata": {},
   "outputs": [
    {
     "data": {
      "text/plain": [
       "608"
      ]
     },
     "execution_count": 13,
     "metadata": {},
     "output_type": "execute_result"
    }
   ],
   "source": [
    "len(fire_centroids_proj)"
   ]
  },
  {
   "cell_type": "code",
   "execution_count": 15,
   "id": "3b36537c-d28d-418a-99e0-7c44860d4dd3",
   "metadata": {},
   "outputs": [
    {
     "data": {
      "text/plain": [
       "nearest_dist_km\n",
       "1.797693e+305    608\n",
       "Name: count, dtype: int64"
      ]
     },
     "execution_count": 15,
     "metadata": {},
     "output_type": "execute_result"
    }
   ],
   "source": [
    "fire_centroids_proj['nearest_dist_km'].value_counts()"
   ]
  },
  {
   "cell_type": "code",
   "execution_count": 17,
   "id": "1a69a6a5-db6d-4993-8e59-7ccce4187eb7",
   "metadata": {},
   "outputs": [
    {
     "data": {
      "text/plain": [
       "count     608.000000\n",
       "mean       15.373824\n",
       "std        89.832058\n",
       "min         0.000008\n",
       "25%         0.057752\n",
       "50%         0.185527\n",
       "75%         0.910724\n",
       "max      1681.105895\n",
       "Name: area_km2, dtype: float64"
      ]
     },
     "execution_count": 17,
     "metadata": {},
     "output_type": "execute_result"
    }
   ],
   "source": [
    "fire_centroids_proj['area_km2'].describe()"
   ]
  },
  {
   "cell_type": "code",
   "execution_count": 45,
   "id": "1a058bb9",
   "metadata": {},
   "outputs": [],
   "source": [
    "top_area = analysis_df.nlargest(5, 'area_km2')\n",
    "top_dist = analysis_df.nlargest(5, 'nearest_dist_km')\n",
    "highlight_fires = pd.concat([top_area, top_dist]).drop_duplicates()"
   ]
  },
  {
   "cell_type": "code",
   "execution_count": 57,
   "id": "71e997cf-0926-4f5a-8982-4071231ddd26",
   "metadata": {},
   "outputs": [],
   "source": [
    "plt.close('all')"
   ]
  },
  {
   "cell_type": "code",
   "execution_count": 63,
   "id": "c6e42056",
   "metadata": {},
   "outputs": [
    {
     "data": {
      "image/png": "[encoded data removed]",
      "text/plain": [
       "<Figure size 1200x700 with 1 Axes>"
      ]
     },
     "metadata": {},
     "output_type": "display_data"
    }
   ],
   "source": [
    "import matplotlib.pyplot as plt\n",
    "import seaborn as sns\n",
    "\n",
    "plt.figure(figsize=(12, 7))\n",
    "ax = sns.scatterplot(\n",
    "    data=analysis_df,\n",
    "    x='nearest_dist_km',\n",
    "    y='area_km2',\n",
    "    hue='YEAR_',\n",
    "    palette='viridis',\n",
    "    legend=False\n",
    ")\n",
    "\n",
    "# Add labels for large fires\n",
    "for _, row in highlight_fires.iterrows():\n",
    "    ax.annotate(\n",
    "        row['FIRE_NAME'],\n",
    "        (row['nearest_dist_km'], row['area_km2']),\n",
    "        textcoords=\"offset points\",\n",
    "        xytext=(5, 5),\n",
    "        ha='left',\n",
    "        fontsize=9\n",
    "    )\n",
    "\n",
    "plt.title(f'Fire Area vs. Distance to Nearest Station\\n(Pearson r = {corr:.2f}, p = {p_value:.3f})')\n",
    "plt.xlabel('Distance to Nearest Fire Station (km)')\n",
    "plt.ylabel('Fire Area (km²)')\n",
    "plt.grid(True)\n",
    "# Optional: Label top 5 largest fires\n",
    "highlight_fires = analysis_df.sort_values(by='area_km2', ascending=False).head(5)\n",
    "\n",
    "for _, row in highlight_fires.iterrows():\n",
    "    ax.annotate(row['FIRE_NAME'],\n",
    "                xy=(row['nearest_dist_km'], row['area_km2']),\n",
    "                xytext=(5, 5),\n",
    "                textcoords='offset points',\n",
    "                fontsize=9,\n",
    "                weight='bold')\n",
    "plt.tight_layout()  # ✅ Prevents layout overflow\n",
    "plt.show()\n"
   ]
  },
  {
   "cell_type": "markdown",
   "id": "64d451c9",
   "metadata": {},
   "source": [
    "## Conclusion\n",
    "This notebook demonstrates a moderate positive correlation between distance to fire stations and fire area burned. Results may inform planning for new fire station locations or early detection systems in remote zones."
   ]
  }
 ],
 "metadata": {
  "kernelspec": {
   "display_name": "Python 3 (ipykernel)",
   "language": "python",
   "name": "python3"
  },
  "language": "python",
  "language_info": {
   "codemirror_mode": {
    "name": "ipython",
    "version": 3
   },
   "file_extension": ".py",
   "mimetype": "text/x-python",
   "name": "python",
   "nbconvert_exporter": "python",
   "pygments_lexer": "ipython3",
   "version": "3.12.4"
  }
 },
 "nbformat": 4,
 "nbformat_minor": 5
}
